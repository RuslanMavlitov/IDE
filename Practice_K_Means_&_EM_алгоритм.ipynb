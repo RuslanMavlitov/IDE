{
  "nbformat": 4,
  "nbformat_minor": 0,
  "metadata": {
    "colab": {
      "provenance": [],
      "collapsed_sections": [],
      "authorship_tag": "ABX9TyPcumW4fo1ARhenw9SF8QPo",
      "include_colab_link": true
    },
    "kernelspec": {
      "name": "python3",
      "display_name": "Python 3"
    },
    "language_info": {
      "name": "python"
    }
  },
  "cells": [
    {
      "cell_type": "markdown",
      "metadata": {
        "id": "view-in-github",
        "colab_type": "text"
      },
      "source": [
        "<a href=\"https://colab.research.google.com/github/RuslanMavlitov/IDE/blob/master/Practice_K_Means_%26_EM_%D0%B0%D0%BB%D0%B3%D0%BE%D1%80%D0%B8%D1%82%D0%BC.ipynb\" target=\"_parent\"><img src=\"https://colab.research.google.com/assets/colab-badge.svg\" alt=\"Open In Colab\"/></a>"
      ]
    },
    {
      "cell_type": "code",
      "execution_count": 2,
      "metadata": {
        "id": "0wryV0esm2WD"
      },
      "outputs": [],
      "source": [
        "import pandas as pd\n",
        "import matplotlib.pyplot as plt\n",
        "import seaborn as sns\n",
        "import numpy as np\n",
        "from sklearn.cluster import KMeans\n",
        "from sklearn.mixture import GaussianMixture\n",
        "from sklearn import metrics"
      ]
    },
    {
      "cell_type": "code",
      "source": [
        "df = pd.read_csv('/content/sample_data/snsdata.zip')\n",
        "df.head()"
      ],
      "metadata": {
        "colab": {
          "base_uri": "https://localhost:8080/",
          "height": 299
        },
        "id": "wDOk3okSm5ws",
        "outputId": "7f0e8ca2-06f5-417c-961f-38a91aa3f373"
      },
      "execution_count": 3,
      "outputs": [
        {
          "output_type": "execute_result",
          "data": {
            "text/plain": [
              "   gradyear gender     age  friends  basketball  football  soccer  softball  \\\n",
              "0      2006      M  18.982        7           0         0       0         0   \n",
              "1      2006      F  18.801        0           0         1       0         0   \n",
              "2      2006      M  18.335       69           0         1       0         0   \n",
              "3      2006      F  18.875        0           0         0       0         0   \n",
              "4      2006    NaN  18.995       10           0         0       0         0   \n",
              "\n",
              "   volleyball  swimming  ...  blonde  mall  shopping  clothes  hollister  \\\n",
              "0           0         0  ...       0     0         0        0          0   \n",
              "1           0         0  ...       0     1         0        0          0   \n",
              "2           0         0  ...       0     0         0        0          0   \n",
              "3           0         0  ...       0     0         0        0          0   \n",
              "4           0         0  ...       0     0         2        0          0   \n",
              "\n",
              "   abercrombie  die  death  drunk  drugs  \n",
              "0            0    0      0      0      0  \n",
              "1            0    0      0      0      0  \n",
              "2            0    0      1      0      0  \n",
              "3            0    0      0      0      0  \n",
              "4            0    0      0      1      1  \n",
              "\n",
              "[5 rows x 40 columns]"
            ],
            "text/html": [
              "\n",
              "  <div id=\"df-c2875e8d-d9d4-4e6b-9cdb-e29b20b01285\">\n",
              "    <div class=\"colab-df-container\">\n",
              "      <div>\n",
              "<style scoped>\n",
              "    .dataframe tbody tr th:only-of-type {\n",
              "        vertical-align: middle;\n",
              "    }\n",
              "\n",
              "    .dataframe tbody tr th {\n",
              "        vertical-align: top;\n",
              "    }\n",
              "\n",
              "    .dataframe thead th {\n",
              "        text-align: right;\n",
              "    }\n",
              "</style>\n",
              "<table border=\"1\" class=\"dataframe\">\n",
              "  <thead>\n",
              "    <tr style=\"text-align: right;\">\n",
              "      <th></th>\n",
              "      <th>gradyear</th>\n",
              "      <th>gender</th>\n",
              "      <th>age</th>\n",
              "      <th>friends</th>\n",
              "      <th>basketball</th>\n",
              "      <th>football</th>\n",
              "      <th>soccer</th>\n",
              "      <th>softball</th>\n",
              "      <th>volleyball</th>\n",
              "      <th>swimming</th>\n",
              "      <th>...</th>\n",
              "      <th>blonde</th>\n",
              "      <th>mall</th>\n",
              "      <th>shopping</th>\n",
              "      <th>clothes</th>\n",
              "      <th>hollister</th>\n",
              "      <th>abercrombie</th>\n",
              "      <th>die</th>\n",
              "      <th>death</th>\n",
              "      <th>drunk</th>\n",
              "      <th>drugs</th>\n",
              "    </tr>\n",
              "  </thead>\n",
              "  <tbody>\n",
              "    <tr>\n",
              "      <th>0</th>\n",
              "      <td>2006</td>\n",
              "      <td>M</td>\n",
              "      <td>18.982</td>\n",
              "      <td>7</td>\n",
              "      <td>0</td>\n",
              "      <td>0</td>\n",
              "      <td>0</td>\n",
              "      <td>0</td>\n",
              "      <td>0</td>\n",
              "      <td>0</td>\n",
              "      <td>...</td>\n",
              "      <td>0</td>\n",
              "      <td>0</td>\n",
              "      <td>0</td>\n",
              "      <td>0</td>\n",
              "      <td>0</td>\n",
              "      <td>0</td>\n",
              "      <td>0</td>\n",
              "      <td>0</td>\n",
              "      <td>0</td>\n",
              "      <td>0</td>\n",
              "    </tr>\n",
              "    <tr>\n",
              "      <th>1</th>\n",
              "      <td>2006</td>\n",
              "      <td>F</td>\n",
              "      <td>18.801</td>\n",
              "      <td>0</td>\n",
              "      <td>0</td>\n",
              "      <td>1</td>\n",
              "      <td>0</td>\n",
              "      <td>0</td>\n",
              "      <td>0</td>\n",
              "      <td>0</td>\n",
              "      <td>...</td>\n",
              "      <td>0</td>\n",
              "      <td>1</td>\n",
              "      <td>0</td>\n",
              "      <td>0</td>\n",
              "      <td>0</td>\n",
              "      <td>0</td>\n",
              "      <td>0</td>\n",
              "      <td>0</td>\n",
              "      <td>0</td>\n",
              "      <td>0</td>\n",
              "    </tr>\n",
              "    <tr>\n",
              "      <th>2</th>\n",
              "      <td>2006</td>\n",
              "      <td>M</td>\n",
              "      <td>18.335</td>\n",
              "      <td>69</td>\n",
              "      <td>0</td>\n",
              "      <td>1</td>\n",
              "      <td>0</td>\n",
              "      <td>0</td>\n",
              "      <td>0</td>\n",
              "      <td>0</td>\n",
              "      <td>...</td>\n",
              "      <td>0</td>\n",
              "      <td>0</td>\n",
              "      <td>0</td>\n",
              "      <td>0</td>\n",
              "      <td>0</td>\n",
              "      <td>0</td>\n",
              "      <td>0</td>\n",
              "      <td>1</td>\n",
              "      <td>0</td>\n",
              "      <td>0</td>\n",
              "    </tr>\n",
              "    <tr>\n",
              "      <th>3</th>\n",
              "      <td>2006</td>\n",
              "      <td>F</td>\n",
              "      <td>18.875</td>\n",
              "      <td>0</td>\n",
              "      <td>0</td>\n",
              "      <td>0</td>\n",
              "      <td>0</td>\n",
              "      <td>0</td>\n",
              "      <td>0</td>\n",
              "      <td>0</td>\n",
              "      <td>...</td>\n",
              "      <td>0</td>\n",
              "      <td>0</td>\n",
              "      <td>0</td>\n",
              "      <td>0</td>\n",
              "      <td>0</td>\n",
              "      <td>0</td>\n",
              "      <td>0</td>\n",
              "      <td>0</td>\n",
              "      <td>0</td>\n",
              "      <td>0</td>\n",
              "    </tr>\n",
              "    <tr>\n",
              "      <th>4</th>\n",
              "      <td>2006</td>\n",
              "      <td>NaN</td>\n",
              "      <td>18.995</td>\n",
              "      <td>10</td>\n",
              "      <td>0</td>\n",
              "      <td>0</td>\n",
              "      <td>0</td>\n",
              "      <td>0</td>\n",
              "      <td>0</td>\n",
              "      <td>0</td>\n",
              "      <td>...</td>\n",
              "      <td>0</td>\n",
              "      <td>0</td>\n",
              "      <td>2</td>\n",
              "      <td>0</td>\n",
              "      <td>0</td>\n",
              "      <td>0</td>\n",
              "      <td>0</td>\n",
              "      <td>0</td>\n",
              "      <td>1</td>\n",
              "      <td>1</td>\n",
              "    </tr>\n",
              "  </tbody>\n",
              "</table>\n",
              "<p>5 rows × 40 columns</p>\n",
              "</div>\n",
              "      <button class=\"colab-df-convert\" onclick=\"convertToInteractive('df-c2875e8d-d9d4-4e6b-9cdb-e29b20b01285')\"\n",
              "              title=\"Convert this dataframe to an interactive table.\"\n",
              "              style=\"display:none;\">\n",
              "        \n",
              "  <svg xmlns=\"http://www.w3.org/2000/svg\" height=\"24px\"viewBox=\"0 0 24 24\"\n",
              "       width=\"24px\">\n",
              "    <path d=\"M0 0h24v24H0V0z\" fill=\"none\"/>\n",
              "    <path d=\"M18.56 5.44l.94 2.06.94-2.06 2.06-.94-2.06-.94-.94-2.06-.94 2.06-2.06.94zm-11 1L8.5 8.5l.94-2.06 2.06-.94-2.06-.94L8.5 2.5l-.94 2.06-2.06.94zm10 10l.94 2.06.94-2.06 2.06-.94-2.06-.94-.94-2.06-.94 2.06-2.06.94z\"/><path d=\"M17.41 7.96l-1.37-1.37c-.4-.4-.92-.59-1.43-.59-.52 0-1.04.2-1.43.59L10.3 9.45l-7.72 7.72c-.78.78-.78 2.05 0 2.83L4 21.41c.39.39.9.59 1.41.59.51 0 1.02-.2 1.41-.59l7.78-7.78 2.81-2.81c.8-.78.8-2.07 0-2.86zM5.41 20L4 18.59l7.72-7.72 1.47 1.35L5.41 20z\"/>\n",
              "  </svg>\n",
              "      </button>\n",
              "      \n",
              "  <style>\n",
              "    .colab-df-container {\n",
              "      display:flex;\n",
              "      flex-wrap:wrap;\n",
              "      gap: 12px;\n",
              "    }\n",
              "\n",
              "    .colab-df-convert {\n",
              "      background-color: #E8F0FE;\n",
              "      border: none;\n",
              "      border-radius: 50%;\n",
              "      cursor: pointer;\n",
              "      display: none;\n",
              "      fill: #1967D2;\n",
              "      height: 32px;\n",
              "      padding: 0 0 0 0;\n",
              "      width: 32px;\n",
              "    }\n",
              "\n",
              "    .colab-df-convert:hover {\n",
              "      background-color: #E2EBFA;\n",
              "      box-shadow: 0px 1px 2px rgba(60, 64, 67, 0.3), 0px 1px 3px 1px rgba(60, 64, 67, 0.15);\n",
              "      fill: #174EA6;\n",
              "    }\n",
              "\n",
              "    [theme=dark] .colab-df-convert {\n",
              "      background-color: #3B4455;\n",
              "      fill: #D2E3FC;\n",
              "    }\n",
              "\n",
              "    [theme=dark] .colab-df-convert:hover {\n",
              "      background-color: #434B5C;\n",
              "      box-shadow: 0px 1px 3px 1px rgba(0, 0, 0, 0.15);\n",
              "      filter: drop-shadow(0px 1px 2px rgba(0, 0, 0, 0.3));\n",
              "      fill: #FFFFFF;\n",
              "    }\n",
              "  </style>\n",
              "\n",
              "      <script>\n",
              "        const buttonEl =\n",
              "          document.querySelector('#df-c2875e8d-d9d4-4e6b-9cdb-e29b20b01285 button.colab-df-convert');\n",
              "        buttonEl.style.display =\n",
              "          google.colab.kernel.accessAllowed ? 'block' : 'none';\n",
              "\n",
              "        async function convertToInteractive(key) {\n",
              "          const element = document.querySelector('#df-c2875e8d-d9d4-4e6b-9cdb-e29b20b01285');\n",
              "          const dataTable =\n",
              "            await google.colab.kernel.invokeFunction('convertToInteractive',\n",
              "                                                     [key], {});\n",
              "          if (!dataTable) return;\n",
              "\n",
              "          const docLinkHtml = 'Like what you see? Visit the ' +\n",
              "            '<a target=\"_blank\" href=https://colab.research.google.com/notebooks/data_table.ipynb>data table notebook</a>'\n",
              "            + ' to learn more about interactive tables.';\n",
              "          element.innerHTML = '';\n",
              "          dataTable['output_type'] = 'display_data';\n",
              "          await google.colab.output.renderOutput(dataTable, element);\n",
              "          const docLink = document.createElement('div');\n",
              "          docLink.innerHTML = docLinkHtml;\n",
              "          element.appendChild(docLink);\n",
              "        }\n",
              "      </script>\n",
              "    </div>\n",
              "  </div>\n",
              "  "
            ]
          },
          "metadata": {},
          "execution_count": 3
        }
      ]
    },
    {
      "cell_type": "markdown",
      "source": [
        "gradyear — год выпуска;\n",
        "\n",
        "gender — пол;\n",
        "\n",
        "age — возраст;\n",
        "\n",
        "friends — число друзей в социальной сети;\n",
        "\n",
        "basketball, football, soccer, softball, volleyball, swimming, cheerleading, baseball, tennis, sports, cute, sex, sexy, hot, kissed, dance, band, marching, music, rock, god, church, jesus, bible, hair, dress, blonde, mall, shopping, clothes, hollister, abercrombiedie, death, drunk, drugs (переменные с пятой по сороковую) — частота встречаемости соответствующих слов в сообщениях подростка."
      ],
      "metadata": {
        "id": "R4vtjwqenIVy"
      }
    },
    {
      "cell_type": "code",
      "source": [
        "df.info()"
      ],
      "metadata": {
        "colab": {
          "base_uri": "https://localhost:8080/"
        },
        "id": "QEL28GK9m5zy",
        "outputId": "f609d44a-4aae-4394-ef60-b0874c395c30"
      },
      "execution_count": 4,
      "outputs": [
        {
          "output_type": "stream",
          "name": "stdout",
          "text": [
            "<class 'pandas.core.frame.DataFrame'>\n",
            "RangeIndex: 30000 entries, 0 to 29999\n",
            "Data columns (total 40 columns):\n",
            " #   Column        Non-Null Count  Dtype  \n",
            "---  ------        --------------  -----  \n",
            " 0   gradyear      30000 non-null  int64  \n",
            " 1   gender        27276 non-null  object \n",
            " 2   age           24914 non-null  float64\n",
            " 3   friends       30000 non-null  int64  \n",
            " 4   basketball    30000 non-null  int64  \n",
            " 5   football      30000 non-null  int64  \n",
            " 6   soccer        30000 non-null  int64  \n",
            " 7   softball      30000 non-null  int64  \n",
            " 8   volleyball    30000 non-null  int64  \n",
            " 9   swimming      30000 non-null  int64  \n",
            " 10  cheerleading  30000 non-null  int64  \n",
            " 11  baseball      30000 non-null  int64  \n",
            " 12  tennis        30000 non-null  int64  \n",
            " 13  sports        30000 non-null  int64  \n",
            " 14  cute          30000 non-null  int64  \n",
            " 15  sex           30000 non-null  int64  \n",
            " 16  sexy          30000 non-null  int64  \n",
            " 17  hot           30000 non-null  int64  \n",
            " 18  kissed        30000 non-null  int64  \n",
            " 19  dance         30000 non-null  int64  \n",
            " 20  band          30000 non-null  int64  \n",
            " 21  marching      30000 non-null  int64  \n",
            " 22  music         30000 non-null  int64  \n",
            " 23  rock          30000 non-null  int64  \n",
            " 24  god           30000 non-null  int64  \n",
            " 25  church        30000 non-null  int64  \n",
            " 26  jesus         30000 non-null  int64  \n",
            " 27  bible         30000 non-null  int64  \n",
            " 28  hair          30000 non-null  int64  \n",
            " 29  dress         30000 non-null  int64  \n",
            " 30  blonde        30000 non-null  int64  \n",
            " 31  mall          30000 non-null  int64  \n",
            " 32  shopping      30000 non-null  int64  \n",
            " 33  clothes       30000 non-null  int64  \n",
            " 34  hollister     30000 non-null  int64  \n",
            " 35  abercrombie   30000 non-null  int64  \n",
            " 36  die           30000 non-null  int64  \n",
            " 37  death         30000 non-null  int64  \n",
            " 38  drunk         30000 non-null  int64  \n",
            " 39  drugs         30000 non-null  int64  \n",
            "dtypes: float64(1), int64(38), object(1)\n",
            "memory usage: 9.2+ MB\n"
          ]
        }
      ]
    },
    {
      "cell_type": "markdown",
      "source": [
        "##Задание 4.1\n",
        "Мы будем реализовывать алгоритм только на признаках, которые заключают в себе ключевые слова, встречающиеся в сообщениях подростка. Удалите все остальные признаки. Какова размерность вашего текущего набора данных?"
      ],
      "metadata": {
        "id": "3k0lv6CKqU0G"
      }
    },
    {
      "cell_type": "code",
      "source": [
        "df = df.iloc[:, 4:]\n",
        "df.shape"
      ],
      "metadata": {
        "colab": {
          "base_uri": "https://localhost:8080/"
        },
        "id": "mNk6kvwCm58c",
        "outputId": "aaf3bcbd-f896-46eb-cfbe-4ae112292859"
      },
      "execution_count": 5,
      "outputs": [
        {
          "output_type": "execute_result",
          "data": {
            "text/plain": [
              "(30000, 36)"
            ]
          },
          "metadata": {},
          "execution_count": 5
        }
      ]
    },
    {
      "cell_type": "markdown",
      "source": [
        "##Задание 4.2\n",
        "\n",
        "Теперь нормализуйте данные с помощью StandardScaler(). Для получившейся матрицы нормализованных признаков выведите самое первое значение в самой первой строке (X_norm[0][0]). Ответ округлите до двух знаков после точки-разделителя."
      ],
      "metadata": {
        "id": "Oku4osLyDYLv"
      }
    },
    {
      "cell_type": "code",
      "source": [
        "from sklearn.preprocessing import StandardScaler\n",
        "\n",
        "scaler = StandardScaler()\n",
        "X_norm = scaler.fit_transform(df)\n",
        "X_norm[0][0]"
      ],
      "metadata": {
        "colab": {
          "base_uri": "https://localhost:8080/"
        },
        "id": "xNJfGufBDTwC",
        "outputId": "ec1d7897-5fb4-4cdc-f0d8-4fb6fc9211d0"
      },
      "execution_count": 6,
      "outputs": [
        {
          "output_type": "execute_result",
          "data": {
            "text/plain": [
              "-0.3322172643985876"
            ]
          },
          "metadata": {},
          "execution_count": 6
        }
      ]
    },
    {
      "cell_type": "markdown",
      "source": [
        "##Задание 4.3\n",
        "\n",
        "Реализуйте алгоритм k-means c девятью кластерами. В качестве значения параметра random_state возьмите число 42. Выведите получившееся значение инерции (model.inertia_). Ответ округлите до двух знаков после точки-разделителя."
      ],
      "metadata": {
        "id": "L2vdqyStEWWz"
      }
    },
    {
      "cell_type": "code",
      "source": [
        "kmeans = KMeans(n_clusters=9, random_state=42)\n",
        "kmeans.fit(X_norm)\n",
        "kmeans.inertia_"
      ],
      "metadata": {
        "colab": {
          "base_uri": "https://localhost:8080/"
        },
        "id": "HQq5tNsNDT0A",
        "outputId": "12ee964e-bb7d-4926-b06b-f3d663697393"
      },
      "execution_count": 8,
      "outputs": [
        {
          "output_type": "execute_result",
          "data": {
            "text/plain": [
              "857169.1033997971"
            ]
          },
          "metadata": {},
          "execution_count": 8
        }
      ]
    },
    {
      "cell_type": "markdown",
      "source": [
        "##Задание 4.4\n",
        "\n",
        "Сколько подростков относится к наиболее многочисленному кластеру?"
      ],
      "metadata": {
        "id": "VF_oZkMbFNH_"
      }
    },
    {
      "cell_type": "code",
      "source": [
        "df['labels'] = kmeans.labels_"
      ],
      "metadata": {
        "id": "7btug9ziDT3w"
      },
      "execution_count": 11,
      "outputs": []
    },
    {
      "cell_type": "code",
      "source": [
        "df['labels'].value_counts()"
      ],
      "metadata": {
        "colab": {
          "base_uri": "https://localhost:8080/"
        },
        "id": "IejfkQj5DT62",
        "outputId": "ba8d7ba6-1b21-468a-d9d7-c3b502b4b57b"
      },
      "execution_count": 12,
      "outputs": [
        {
          "output_type": "execute_result",
          "data": {
            "text/plain": [
              "0    19659\n",
              "3     4490\n",
              "7     2098\n",
              "1      930\n",
              "4      851\n",
              "6      762\n",
              "8      716\n",
              "5      493\n",
              "2        1\n",
              "Name: labels, dtype: int64"
            ]
          },
          "metadata": {},
          "execution_count": 12
        }
      ]
    },
    {
      "cell_type": "markdown",
      "source": [
        "##Задание 4.5\n",
        "\n",
        "1. Мы выделили девять кластеров, но, возможно, это далеко не оптимальное количество. Давайте попробуем применить разные методы для нахождения числа кластеров. Будем выбирать количество кластеров из диапазона от 3 до 9.\n",
        "\n",
        "Для начала примените метод локтя. Каким в этом случае будет оптимальное число кластеров? Если оно не идентифицируется однозначно, запишите количество кластеров с наименьшей инерцией."
      ],
      "metadata": {
        "id": "ZYM-TZQXGzGj"
      }
    },
    {
      "cell_type": "code",
      "source": [
        "def get_inertia(cluster_num, X):\n",
        "    k_means =  KMeans(n_clusters=cluster_num, random_state=42)\n",
        "    k_means.fit(X)\n",
        "    inertia = k_means.inertia_\n",
        "    return inertia\n",
        " \n",
        "inertia = []\n",
        "for cluster_num in range(3, 10):\n",
        "    inertia.append(get_inertia(cluster_num, X_norm))\n",
        " \n",
        "plt.xlabel(\"cluster\", fontsize=12)\n",
        "plt.ylabel(\"inertia\", fontsize=12)\n",
        "plt.plot([i for i in range(3, 10)], inertia, 'xb-');"
      ],
      "metadata": {
        "colab": {
          "base_uri": "https://localhost:8080/",
          "height": 310
        },
        "id": "eWQSSDxnDT-X",
        "outputId": "9e18bbe3-7358-49e3-8bd5-23e0e3fb052a"
      },
      "execution_count": 13,
      "outputs": [
        {
          "output_type": "execute_result",
          "data": {
            "text/plain": [
              "[<matplotlib.lines.Line2D at 0x7f06fe4cad90>]"
            ]
          },
          "metadata": {},
          "execution_count": 13
        },
        {
          "output_type": "display_data",
          "data": {
            "text/plain": [
              "<Figure size 432x288 with 1 Axes>"
            ],
            "image/png": "[encoded data removed]"
          },
          "metadata": {
            "needs_background": "light"
          }
        }
      ]
    },
    {
      "cell_type": "markdown",
      "source": [
        "Инерция при переборе гипперпараметра \"n_clusters\" от 3 до 9 уменьшалась линейно, без перегибов. Нужно увеличиваать количество кластеров дальше, или попробовать \"коэффициент силуэта\"."
      ],
      "metadata": {
        "id": "LKLWRDYpHl0w"
      }
    },
    {
      "cell_type": "markdown",
      "source": [
        "2. Теперь попробуйте подобрать оптимальное количество кластеров с помощью коэффициента силуэта. Каким оно будет?"
      ],
      "metadata": {
        "id": "BXcDMzSrHLyk"
      }
    },
    {
      "cell_type": "code",
      "source": [
        "def get_silhouette(cluster_num, df):\n",
        "    k_means =  KMeans(n_clusters=cluster_num, random_state=42)\n",
        "    k_means.fit(df)\n",
        "    silhouette = silhouette_score(df, k_means.labels_, metric='euclidean')\n",
        "    return silhouette\n",
        "\n",
        "from sklearn.metrics import silhouette_score\n",
        "\n",
        "silhouettes = []\n",
        "for i in range(2, 10):\n",
        "    silhouettes.append(get_silhouette(i ,X_norm))\n",
        "    \n",
        "plt.xlabel(\"cluster\", fontsize=12)\n",
        "plt.ylabel(\"silhouette\", fontsize=12)\n",
        "plt.plot([i for i in range(2, 10)], silhouettes, 'xb-')"
      ],
      "metadata": {
        "colab": {
          "base_uri": "https://localhost:8080/",
          "height": 299
        },
        "id": "EQsXgsqDDUDG",
        "outputId": "440f1f4a-4183-4026-e825-74795c0cc023"
      },
      "execution_count": 14,
      "outputs": [
        {
          "output_type": "execute_result",
          "data": {
            "text/plain": [
              "[<matplotlib.lines.Line2D at 0x7f06fadd7790>]"
            ]
          },
          "metadata": {},
          "execution_count": 14
        },
        {
          "output_type": "display_data",
          "data": {
            "text/plain": [
              "<Figure size 432x288 with 1 Axes>"
            ],
            "image/png": "[encoded data removed]"
          },
          "metadata": {
            "needs_background": "light"
          }
        }
      ]
    },
    {
      "cell_type": "markdown",
      "source": [
        "##Задание 4.6\n",
        "\n",
        "Опираясь на коэффициент силуэта, реализуйте сегментацию подростков на выбранном количестве кластеров.\n",
        "\n",
        "Отметьте ключевые слова, характерные для каждого из трёх выделенных кластеров:"
      ],
      "metadata": {
        "id": "DJqOt6caKNgL"
      }
    },
    {
      "cell_type": "code",
      "source": [
        "kmeans = KMeans(n_clusters=3, random_state=42)\n",
        "kmeans.fit(X_norm)\n",
        "df['labels'] = kmeans.labels_\n",
        "\n",
        "for label, group in df.groupby('labels'):\n",
        "    means = group.iloc[:,:-1].mean().sort_values(ascending=False)\n",
        "    print(means.head(10))"
      ],
      "metadata": {
        "colab": {
          "base_uri": "https://localhost:8080/"
        },
        "id": "7nEx1y6Fm5_A",
        "outputId": "ae4327c3-7bdc-41ec-f377-76dbb8dba88d"
      },
      "execution_count": 18,
      "outputs": [
        {
          "output_type": "stream",
          "name": "stdout",
          "text": [
            "music         1.055406\n",
            "dance         0.998484\n",
            "shopping      0.939205\n",
            "god           0.886325\n",
            "cute          0.798417\n",
            "hair          0.736948\n",
            "church        0.670428\n",
            "basketball    0.661839\n",
            "mall          0.658976\n",
            "football      0.590603\n",
            "dtype: float64\n",
            "hair      3.223894\n",
            "sex       2.430088\n",
            "music     2.262832\n",
            "kissed    1.575221\n",
            "die       1.211504\n",
            "rock      1.115044\n",
            "god       0.998230\n",
            "band      0.973451\n",
            "drugs     0.955752\n",
            "dance     0.951327\n",
            "dtype: float64\n",
            "music       0.580455\n",
            "god         0.330019\n",
            "dance       0.250785\n",
            "band        0.243328\n",
            "hair        0.203122\n",
            "shopping    0.190563\n",
            "cute        0.180490\n",
            "rock        0.164486\n",
            "soccer      0.152189\n",
            "football    0.151361\n",
            "dtype: float64\n"
          ]
        }
      ]
    },
    {
      "cell_type": "markdown",
      "source": [
        "##Задание 4.7\n",
        "\n",
        "Итак, с k-means мы потренировались — теперь перейдём к EM-алгоритму.\n",
        "\n",
        "Реализуйте EM-алгоритм (GaussianMixture) для такого же количества кластеров, как и в предыдущем задании. В качестве значения параметра random_state возьмите число 42.\n",
        "\n",
        "Сколько подростков алгоритм отнёс к самому многочисленному кластеру?"
      ],
      "metadata": {
        "id": "llzydpVDr9u4"
      }
    },
    {
      "cell_type": "code",
      "source": [
        "model = GaussianMixture(n_components=3, random_state=42)\n",
        "predictions = model.fit_predict(X_norm)\n",
        "np.unique(predictions, return_counts=True)"
      ],
      "metadata": {
        "colab": {
          "base_uri": "https://localhost:8080/"
        },
        "outputId": "4630210c-bcb2-4a66-c7e6-8bb1750dee6a",
        "id": "lgyFjV6gr7AL"
      },
      "execution_count": 19,
      "outputs": [
        {
          "output_type": "execute_result",
          "data": {
            "text/plain": [
              "(array([0, 1, 2]), array([23426,  6573,     1]))"
            ]
          },
          "metadata": {},
          "execution_count": 19
        }
      ]
    },
    {
      "cell_type": "markdown",
      "source": [
        "##Задание 4.8\n",
        "\n",
        "В одном из кластеров оказался всего один человек. Давайте узнаем, что это за подросток и чем он(а) интересуется.\n",
        "\n",
        "Отметьте три слова, которые чаще всего встречаются в сообщениях этого подростка:"
      ],
      "metadata": {
        "id": "ZaF1h-Agr7AL"
      }
    },
    {
      "cell_type": "code",
      "source": [
        "a = np.where(predictions == 2)\n",
        "b = df.iloc[a]\n",
        "b.max()"
      ],
      "metadata": {
        "colab": {
          "base_uri": "https://localhost:8080/"
        },
        "outputId": "7f61664f-67f1-4fab-ffa5-c70edebfd0bd",
        "id": "aWas252Zr7AM"
      },
      "execution_count": 24,
      "outputs": [
        {
          "output_type": "execute_result",
          "data": {
            "text/plain": [
              "basketball        0\n",
              "football          2\n",
              "soccer            0\n",
              "softball          0\n",
              "volleyball        0\n",
              "swimming          1\n",
              "cheerleading      0\n",
              "baseball          0\n",
              "tennis            0\n",
              "sports            0\n",
              "cute              1\n",
              "sex              22\n",
              "sexy              1\n",
              "hot               0\n",
              "kissed            0\n",
              "dance             1\n",
              "band              1\n",
              "marching          0\n",
              "music             0\n",
              "rock              1\n",
              "god              10\n",
              "church            0\n",
              "jesus             1\n",
              "bible             0\n",
              "hair             12\n",
              "dress             2\n",
              "blonde          327\n",
              "mall              0\n",
              "shopping          0\n",
              "clothes           1\n",
              "hollister         0\n",
              "abercrombie       0\n",
              "die               6\n",
              "death             6\n",
              "drunk             6\n",
              "drugs             0\n",
              "labels            1\n",
              "dtype: int64"
            ]
          },
          "metadata": {},
          "execution_count": 24
        }
      ]
    },
    {
      "cell_type": "code",
      "source": [],
      "metadata": {
        "id": "LzFTFcVXMvsS"
      },
      "execution_count": null,
      "outputs": []
    }
  ]
}