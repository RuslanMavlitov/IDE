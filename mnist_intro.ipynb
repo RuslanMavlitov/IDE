{
  "nbformat": 4,
  "nbformat_minor": 0,
  "metadata": {
    "colab": {
      "provenance": [],
      "collapsed_sections": [],
      "include_colab_link": true
    },
    "kernelspec": {
      "name": "python3",
      "display_name": "Python 3"
    }
  },
  "cells": [
    {
      "cell_type": "markdown",
      "metadata": {
        "id": "view-in-github",
        "colab_type": "text"
      },
      "source": [
        "<a href=\"https://colab.research.google.com/github/RuslanMavlitov/IDE/blob/master/mnist_intro.ipynb\" target=\"_parent\"><img src=\"https://colab.research.google.com/assets/colab-badge.svg\" alt=\"Open In Colab\"/></a>"
      ]
    },
    {
      "metadata": {
        "id": "iJRLGIMdOVRK"
      },
      "cell_type": "markdown",
      "source": [
        "# MNIST: мотивация использовать нейросети"
      ]
    },
    {
      "metadata": {
        "id": "NPDfQS-kNO1v"
      },
      "cell_type": "code",
      "source": [
        "import tensorflow as tf  # пока что используем этот пакет только для скачки данных :)\n",
        "import numpy as np\n",
        "import sklearn\n",
        "import matplotlib.pyplot as plt"
      ],
      "execution_count": 1,
      "outputs": []
    },
    {
      "metadata": {
        "id": "5ynJ91PONjLN",
        "colab": {
          "base_uri": "https://localhost:8080/"
        },
        "outputId": "8a1aa536-4a41-4810-a969-57941d6cb38c"
      },
      "cell_type": "code",
      "source": [
        "# скачиваем данные\n",
        "(x_train, y_train), (x_val, y_val) = tf.keras.datasets.mnist.load_data()"
      ],
      "execution_count": 2,
      "outputs": [
        {
          "output_type": "stream",
          "name": "stdout",
          "text": [
            "Downloading data from https://storage.googleapis.com/tensorflow/tf-keras-datasets/mnist.npz\n",
            "11490434/11490434 [==============================] - 1s 0us/step\n"
          ]
        }
      ]
    },
    {
      "metadata": {
        "id": "gFOePELMN8KM",
        "outputId": "c7cb4f79-84d7-402b-89eb-e63125a85468",
        "colab": {
          "base_uri": "https://localhost:8080/"
        }
      },
      "cell_type": "code",
      "source": [
        "# что за данные\n",
        "print(x_train.shape)\n",
        "print(x_val.shape)\n",
        "print (y_train[:10])\n",
        "print (y_val[:10])"
      ],
      "execution_count": 3,
      "outputs": [
        {
          "output_type": "stream",
          "name": "stdout",
          "text": [
            "(60000, 28, 28)\n",
            "(10000, 28, 28)\n",
            "[5 0 4 1 9 2 1 3 1 4]\n",
            "[7 2 1 0 4 1 4 9 5 9]\n"
          ]
        }
      ]
    },
    {
      "metadata": {
        "id": "S_1_CbatN_Kt",
        "outputId": "fc321f7d-5866-48ed-cbfb-895f749fd3fd",
        "colab": {
          "base_uri": "https://localhost:8080/",
          "height": 582
        }
      },
      "cell_type": "code",
      "source": [
        "# нарисуем картинку\n",
        "x_train_image = np.tile(x_train[5, :, :].reshape((28, 28))[:, :, np.newaxis], (1, 1, 3))\n",
        "print(\"Пример кусочка картинки (пиксели со значениями от 0 до 255):\")\n",
        "plt.imshow(x_train_image[15:20, 5:10], cmap=\"Greys\")\n",
        "plt.show()\n",
        "print(\"Пример картинки:\")\n",
        "plt.imshow(x_train_image, cmap=\"Greys\")\n",
        "plt.show()\n",
        "print(\"y_train [shape %s] 10 примеров:\\n\" % (str(y_train.shape)), y_train[:10])"
      ],
      "execution_count": 4,
      "outputs": [
        {
          "output_type": "stream",
          "name": "stdout",
          "text": [
            "Пример кусочка картинки (пиксели со значениями от 0 до 255):\n"
          ]
        },
        {
          "output_type": "display_data",
          "data": {
            "text/plain": [
              "<Figure size 432x288 with 1 Axes>"
            ],
            "image/png": "[encoded data removed]"
          },
          "metadata": {
            "needs_background": "light"
          }
        },
        {
          "output_type": "stream",
          "name": "stdout",
          "text": [
            "Пример картинки:\n"
          ]
        },
        {
          "output_type": "display_data",
          "data": {
            "text/plain": [
              "<Figure size 432x288 with 1 Axes>"
            ],
            "image/png": "[encoded data removed]"
          },
          "metadata": {
            "needs_background": "light"
          }
        },
        {
          "output_type": "stream",
          "name": "stdout",
          "text": [
            "y_train [shape (60000,)] 10 примеров:\n",
            " [5 0 4 1 9 2 1 3 1 4]\n"
          ]
        }
      ]
    },
    {
      "metadata": {
        "id": "wZ_4gaiqOPlR"
      },
      "cell_type": "markdown",
      "source": [
        "# Линейная модель\n",
        "\n",
        "Линейная модель не умеет работать с двумерным входом, поэтому предлагается превратить картинку 28x28 в вектор длины 28*28=784, выписав ее построчно!\n",
        "\n",
        "<img src=\"https://camo.githubusercontent.com/f663cd4f29335972950dded4d422c07aeee8af55/68747470733a2f2f63646e2d696d616765732d312e6d656469756d2e636f6d2f6d61782f313630302f312a34473067737539327250684e2d636f397076315035414032782e706e67\" width=\"400\">\n"
      ]
    },
    {
      "metadata": {
        "id": "VqB1Agb4OSwn",
        "outputId": "ca98d5cf-384e-4b82-ceca-46022354cdd1",
        "colab": {
          "base_uri": "https://localhost:8080/"
        }
      },
      "cell_type": "code",
      "source": [
        "x_train_flat = x_train.reshape(-1, 28*28).astype(float)\n",
        "print(x_train_flat.shape)\n",
        "\n",
        "x_val_flat = x_val.reshape(-1, 28*28).astype(float)\n",
        "print(x_val_flat.shape)"
      ],
      "execution_count": 5,
      "outputs": [
        {
          "output_type": "stream",
          "name": "stdout",
          "text": [
            "(60000, 784)\n",
            "(10000, 784)\n"
          ]
        }
      ]
    },
    {
      "metadata": {
        "id": "0D5Yh8npubt9"
      },
      "cell_type": "code",
      "source": [
        "from sklearn.preprocessing import StandardScaler\n",
        "scaler = StandardScaler()\n",
        "x_train_flat = scaler.fit_transform(x_train_flat)\n",
        "x_val_flat = scaler.transform(x_val_flat)"
      ],
      "execution_count": 6,
      "outputs": []
    },
    {
      "metadata": {
        "id": "PPfvt_z8uzzA",
        "colab": {
          "base_uri": "https://localhost:8080/"
        },
        "outputId": "d00ec8e5-1ad5-4924-c6f3-5429a85bbbb6"
      },
      "cell_type": "code",
      "source": [
        "# кусочек фичей\n",
        "x_train_flat[0, ::20]"
      ],
      "execution_count": 7,
      "outputs": [
        {
          "output_type": "execute_result",
          "data": {
            "text/plain": [
              "array([ 0.        ,  0.        , -0.03059266, -0.00852241, -0.01408835,\n",
              "       -0.2625969 , -0.16124756,  0.        ,  1.71565971,  0.74933951,\n",
              "       -0.11300485, -0.19700703,  1.12192712,  0.27021375, -0.00577281,\n",
              "       -0.70132425,  1.64634567, -0.1273685 , -0.15382451, -0.19833719,\n",
              "       -0.70732309, -0.00477028, -0.60978718, -0.9194134 , -0.17786005,\n",
              "       -0.16833376,  0.65022085, -0.63188648,  0.        , -0.48806277,\n",
              "        1.17394853, -0.14774138, -0.07003976, -0.61257571,  3.52099754,\n",
              "        0.        , -0.09396514, -0.1826269 , -0.00579016,  0.        ])"
            ]
          },
          "metadata": {},
          "execution_count": 7
        }
      ]
    },
    {
      "metadata": {
        "id": "TOfQsfBHPh0Z",
        "outputId": "ee827372-a5d6-40ec-9084-6249d77b7fd7",
        "colab": {
          "base_uri": "https://localhost:8080/"
        }
      },
      "cell_type": "code",
      "source": [
        "%%time\n",
        "# обучаем линейную модель, обучается градиентными методами оптимизации\n",
        "from sklearn.linear_model import LogisticRegression\n",
        "clf = LogisticRegression(multi_class=\"multinomial\", solver=\"lbfgs\")\n",
        "clf.fit(x_train_flat, y_train)"
      ],
      "execution_count": 8,
      "outputs": [
        {
          "output_type": "stream",
          "name": "stdout",
          "text": [
            "CPU times: user 1min 14s, sys: 7.47 s, total: 1min 22s\n",
            "Wall time: 42.6 s\n"
          ]
        },
        {
          "output_type": "stream",
          "name": "stderr",
          "text": [
            "/usr/local/lib/python3.7/dist-packages/sklearn/linear_model/_logistic.py:818: ConvergenceWarning: lbfgs failed to converge (status=1):\n",
            "STOP: TOTAL NO. of ITERATIONS REACHED LIMIT.\n",
            "\n",
            "Increase the number of iterations (max_iter) or scale the data as shown in:\n",
            "    https://scikit-learn.org/stable/modules/preprocessing.html\n",
            "Please also refer to the documentation for alternative solver options:\n",
            "    https://scikit-learn.org/stable/modules/linear_model.html#logistic-regression\n",
            "  extra_warning_msg=_LOGISTIC_SOLVER_CONVERGENCE_MSG,\n"
          ]
        },
        {
          "output_type": "execute_result",
          "data": {
            "text/plain": [
              "LogisticRegression(multi_class='multinomial')"
            ]
          },
          "metadata": {},
          "execution_count": 8
        }
      ]
    },
    {
      "metadata": {
        "id": "VAo61IJMQF1t",
        "outputId": "c6a1568a-bf9f-4462-e6ac-06b55df69c82",
        "colab": {
          "base_uri": "https://localhost:8080/"
        }
      },
      "cell_type": "code",
      "source": [
        "# не так плохо работает!\n",
        "from sklearn.metrics import accuracy_score\n",
        "accuracy_score(y_val, clf.predict(x_val_flat))"
      ],
      "execution_count": 9,
      "outputs": [
        {
          "output_type": "execute_result",
          "data": {
            "text/plain": [
              "0.9246"
            ]
          },
          "metadata": {},
          "execution_count": 9
        }
      ]
    },
    {
      "metadata": {
        "id": "1FWx3v7iQajc"
      },
      "cell_type": "markdown",
      "source": [
        "# Градиентный бустинг\n",
        "\n",
        "<img src=\"https://www.researchgate.net/profile/Maria_Peraita-Adrados/publication/326379229/figure/fig5/AS:647978477948928@1531501516288/A-simple-example-of-visualizing-gradient-boosting_W640.jpg\" width=\"300\">\n",
        "\n",
        "Над деревьями делают бустинг и это алгоритм №1 на Kaggle! Проверим в нашей задаче!"
      ]
    },
    {
      "metadata": {
        "id": "_0Dy7dGNQwlW",
        "outputId": "05667bf4-3b99-4507-a466-d92b1343c7e5",
        "colab": {
          "base_uri": "https://localhost:8080/"
        }
      },
      "cell_type": "code",
      "source": [
        "%%time\n",
        "# очень долго работает (потому что алгоритм переборный)!\n",
        "from sklearn.ensemble import GradientBoostingClassifier\n",
        "clf = GradientBoostingClassifier(learning_rate=0.3, n_estimators=10, verbose=1, subsample=0.5)\n",
        "clf.fit(x_train_flat, y_train)"
      ],
      "execution_count": 10,
      "outputs": [
        {
          "output_type": "stream",
          "name": "stdout",
          "text": [
            "      Iter       Train Loss      OOB Improve   Remaining Time \n",
            "         1           1.3664           0.9323            3.15m\n",
            "         2           1.0442           0.3137            2.64m\n",
            "         3           0.8561           0.1862            2.23m\n",
            "         4           0.7259           0.1256            1.88m\n",
            "         5           0.6346           0.0858            1.57m\n",
            "         6           0.5601           0.0689            1.25m\n",
            "         7           0.5130           0.0495           55.70s\n",
            "         8           0.4753           0.0355           36.97s\n",
            "         9           0.4376           0.0352           18.40s\n",
            "        10           0.4078           0.0287            0.00s\n",
            "CPU times: user 3min 1s, sys: 336 ms, total: 3min 1s\n",
            "Wall time: 3min 3s\n"
          ]
        },
        {
          "output_type": "execute_result",
          "data": {
            "text/plain": [
              "GradientBoostingClassifier(learning_rate=0.3, n_estimators=10, subsample=0.5,\n",
              "                           verbose=1)"
            ]
          },
          "metadata": {},
          "execution_count": 10
        }
      ]
    },
    {
      "metadata": {
        "id": "lLYqL37qQ9ux",
        "outputId": "9ab1809f-4c0c-42ca-ab47-2650080b3fe1",
        "colab": {
          "base_uri": "https://localhost:8080/"
        }
      },
      "cell_type": "code",
      "source": [
        "# качество так себе, а если картинка будет 300x300 это будет еще и вечность работать!\n",
        "accuracy_score(y_val, clf.predict(x_val_flat))"
      ],
      "execution_count": 11,
      "outputs": [
        {
          "output_type": "execute_result",
          "data": {
            "text/plain": [
              "0.8929"
            ]
          },
          "metadata": {},
          "execution_count": 11
        }
      ]
    },
    {
      "metadata": {
        "id": "n8jUd6IORgQh"
      },
      "cell_type": "markdown",
      "source": [
        "# Нейросети\n",
        "\n",
        "Соберем сложную функцию как комбинацию простых линейных моделей (например, логистических регрессий):\n",
        "\n",
        "<img src=\"https://cdn-images-1.medium.com/max/1600/1*Gh5PS4R_A5drl5ebd_gNrg@2x.png\" width=\"300\">\n",
        "\n",
        "Для оптимизации всех параметров нам не нужен перебор, мы можем честно посчитать производную потерь по каждому параметру и чуточку их подвинуть! Это работает очень быстро!\n"
      ]
    },
    {
      "metadata": {
        "id": "sJHszdc1Ri1m",
        "outputId": "f5da85b0-01c3-43e7-88cb-8b2bad102fce",
        "colab": {
          "base_uri": "https://localhost:8080/"
        }
      },
      "cell_type": "code",
      "source": [
        "%%time\n",
        "from sklearn.neural_network import MLPClassifier  # многослойный персептрон (просто много полносвязных слоев)\n",
        "clf = MLPClassifier(max_iter=10, random_state=0)\n",
        "clf.fit(x_train_flat, y_train)"
      ],
      "execution_count": 12,
      "outputs": [
        {
          "output_type": "stream",
          "name": "stdout",
          "text": [
            "CPU times: user 28.8 s, sys: 12.4 s, total: 41.1 s\n",
            "Wall time: 21.1 s\n"
          ]
        },
        {
          "output_type": "stream",
          "name": "stderr",
          "text": [
            "/usr/local/lib/python3.7/dist-packages/sklearn/neural_network/_multilayer_perceptron.py:696: ConvergenceWarning: Stochastic Optimizer: Maximum iterations (10) reached and the optimization hasn't converged yet.\n",
            "  ConvergenceWarning,\n"
          ]
        },
        {
          "output_type": "execute_result",
          "data": {
            "text/plain": [
              "MLPClassifier(max_iter=10, random_state=0)"
            ]
          },
          "metadata": {},
          "execution_count": 12
        }
      ]
    },
    {
      "metadata": {
        "id": "E44ErFPpSDIy",
        "outputId": "f4f2a2fd-b77d-44fa-fdb6-4193325e615c",
        "colab": {
          "base_uri": "https://localhost:8080/"
        }
      },
      "cell_type": "code",
      "source": [
        "# качество выше линейной модели, скорость на высоте!\n",
        "# будем копать в сторону нейросетей!\n",
        "accuracy_score(y_val, clf.predict(x_val_flat))"
      ],
      "execution_count": 13,
      "outputs": [
        {
          "output_type": "execute_result",
          "data": {
            "text/plain": [
              "0.9742"
            ]
          },
          "metadata": {},
          "execution_count": 13
        }
      ]
    },
    {
      "metadata": {
        "id": "e3p6CJJXW9f4"
      },
      "cell_type": "code",
      "source": [],
      "execution_count": null,
      "outputs": []
    }
  ]
}