{
  "cells": [
    {
      "cell_type": "markdown",
      "metadata": {
        "id": "view-in-github",
        "colab_type": "text"
      },
      "source": [
        "<a href=\"https://colab.research.google.com/github/RuslanMavlitov/IDE/blob/master/X_R_learners.ipynb\" target=\"_parent\"><img src=\"https://colab.research.google.com/assets/colab-badge.svg\" alt=\"Open In Colab\"/></a>"
      ]
    },
    {
      "cell_type": "markdown",
      "metadata": {
        "id": "nQBgNrO67A6t"
      },
      "source": [
        "# <center> X-learner, R-learner. Принципы работы. Практика"
      ]
    },
    {
      "cell_type": "markdown",
      "metadata": {
        "id": "VCrzkknd7A6x"
      },
      "source": [
        "Итак, давайте поработаем с X- и R- learner`ами c помощью библиотеки [CausalML](https://github.com/uber/causalml).\n",
        "\n",
        "**Примечание:**\n",
        "\n",
        "*В библиотеке scikit-uplift реализации X- и R- learner'ов отсутствуют.*\n"
      ]
    },
    {
      "cell_type": "markdown",
      "metadata": {
        "id": "IkWgKXbP7A6y"
      },
      "source": [
        "\n",
        "Для начала установим библиотеку (если вы не сделали этого ранее):"
      ]
    },
    {
      "cell_type": "code",
      "source": [
        "!git clone https://github.com/uber/causalml.git\n",
        "!cd causalml\n",
        "!pip install -r /content/causalml/requirements.txt\n",
        "!pip install causalml"
      ],
      "metadata": {
        "colab": {
          "base_uri": "https://localhost:8080/",
          "height": 1000
        },
        "id": "I0STiuSCdzby",
        "outputId": "6ceaea21-c5e5-43bb-e70c-93b9beb2b4f2"
      },
      "execution_count": 2,
      "outputs": [
        {
          "output_type": "stream",
          "name": "stdout",
          "text": [
            "Cloning into 'causalml'...\n",
            "remote: Enumerating objects: 3476, done.\u001b[K\n",
            "remote: Counting objects: 100% (348/348), done.\u001b[K\n",
            "remote: Compressing objects: 100% (200/200), done.\u001b[K\n",
            "remote: Total 3476 (delta 206), reused 260 (delta 148), pack-reused 3128\u001b[K\n",
            "Receiving objects: 100% (3476/3476), 61.85 MiB | 27.35 MiB/s, done.\n",
            "Resolving deltas: 100% (2149/2149), done.\n",
            "Looking in indexes: https://pypi.org/simple, https://us-python.pkg.dev/colab-wheels/public/simple/\n",
            "Requirement already satisfied: setuptools>=41.0.0 in /usr/local/lib/python3.10/dist-packages (from -r /content/causalml/requirements.txt (line 1)) (67.7.2)\n",
            "Collecting forestci==0.6 (from -r /content/causalml/requirements.txt (line 2))\n",
            "  Downloading forestci-0.6-py3-none-any.whl (12 kB)\n",
            "Collecting pathos==0.2.9 (from -r /content/causalml/requirements.txt (line 3))\n",
            "  Downloading pathos-0.2.9-py3-none-any.whl (76 kB)\n",
            "\u001b[2K     \u001b[90m━━━━━━━━━━━━━━━━━━━━━━━━━━━━━━━━━━━━━━━━\u001b[0m \u001b[32m76.9/76.9 kB\u001b[0m \u001b[31m7.5 MB/s\u001b[0m eta \u001b[36m0:00:00\u001b[0m\n",
            "\u001b[?25hRequirement already satisfied: pip>=10.0 in /usr/local/lib/python3.10/dist-packages (from -r /content/causalml/requirements.txt (line 4)) (23.1.2)\n",
            "Requirement already satisfied: numpy>=1.18.5 in /usr/local/lib/python3.10/dist-packages (from -r /content/causalml/requirements.txt (line 5)) (1.22.4)\n",
            "Requirement already satisfied: scipy>=1.4.1 in /usr/local/lib/python3.10/dist-packages (from -r /content/causalml/requirements.txt (line 6)) (1.10.1)\n",
            "Requirement already satisfied: matplotlib in /usr/local/lib/python3.10/dist-packages (from -r /content/causalml/requirements.txt (line 7)) (3.7.1)\n",
            "Requirement already satisfied: pandas>=0.24.1 in /usr/local/lib/python3.10/dist-packages (from -r /content/causalml/requirements.txt (line 8)) (1.5.3)\n",
            "Collecting scikit-learn<=1.0.2 (from -r /content/causalml/requirements.txt (line 9))\n",
            "  Downloading scikit_learn-1.0.2-cp310-cp310-manylinux_2_17_x86_64.manylinux2014_x86_64.whl (26.5 MB)\n",
            "\u001b[2K     \u001b[90m━━━━━━━━━━━━━━━━━━━━━━━━━━━━━━━━━━━━━━━━\u001b[0m \u001b[32m26.5/26.5 MB\u001b[0m \u001b[31m55.5 MB/s\u001b[0m eta \u001b[36m0:00:00\u001b[0m\n",
            "\u001b[?25hRequirement already satisfied: statsmodels>=0.9.0 in /usr/local/lib/python3.10/dist-packages (from -r /content/causalml/requirements.txt (line 10)) (0.13.5)\n",
            "Requirement already satisfied: seaborn in /usr/local/lib/python3.10/dist-packages (from -r /content/causalml/requirements.txt (line 11)) (0.12.2)\n",
            "Requirement already satisfied: Cython>=0.28.0 in /usr/local/lib/python3.10/dist-packages (from -r /content/causalml/requirements.txt (line 12)) (0.29.34)\n",
            "Requirement already satisfied: xgboost in /usr/local/lib/python3.10/dist-packages (from -r /content/causalml/requirements.txt (line 13)) (1.7.5)\n",
            "Requirement already satisfied: pydotplus in /usr/local/lib/python3.10/dist-packages (from -r /content/causalml/requirements.txt (line 14)) (2.0.2)\n",
            "Requirement already satisfied: tqdm in /usr/local/lib/python3.10/dist-packages (from -r /content/causalml/requirements.txt (line 15)) (4.65.0)\n",
            "Collecting shap (from -r /content/causalml/requirements.txt (line 16))\n",
            "  Downloading shap-0.41.0-cp310-cp310-manylinux_2_12_x86_64.manylinux2010_x86_64.whl (572 kB)\n",
            "\u001b[2K     \u001b[90m━━━━━━━━━━━━━━━━━━━━━━━━━━━━━━━━━━━━━━\u001b[0m \u001b[32m572.6/572.6 kB\u001b[0m \u001b[31m45.7 MB/s\u001b[0m eta \u001b[36m0:00:00\u001b[0m\n",
            "\u001b[?25hCollecting dill (from -r /content/causalml/requirements.txt (line 17))\n",
            "  Downloading dill-0.3.6-py3-none-any.whl (110 kB)\n",
            "\u001b[2K     \u001b[90m━━━━━━━━━━━━━━━━━━━━━━━━━━━━━━━━━━━━━━\u001b[0m \u001b[32m110.5/110.5 kB\u001b[0m \u001b[31m13.8 MB/s\u001b[0m eta \u001b[36m0:00:00\u001b[0m\n",
            "\u001b[?25hRequirement already satisfied: lightgbm in /usr/local/lib/python3.10/dist-packages (from -r /content/causalml/requirements.txt (line 18)) (3.3.5)\n",
            "Collecting pygam (from -r /content/causalml/requirements.txt (line 19))\n",
            "  Downloading pygam-0.9.0-py3-none-any.whl (522 kB)\n",
            "\u001b[2K     \u001b[90m━━━━━━━━━━━━━━━━━━━━━━━━━━━━━━━━━━━━━━\u001b[0m \u001b[32m522.2/522.2 kB\u001b[0m \u001b[31m46.9 MB/s\u001b[0m eta \u001b[36m0:00:00\u001b[0m\n",
            "\u001b[?25hRequirement already satisfied: packaging in /usr/local/lib/python3.10/dist-packages (from -r /content/causalml/requirements.txt (line 20)) (23.1)\n",
            "Requirement already satisfied: torch in /usr/local/lib/python3.10/dist-packages (from -r /content/causalml/requirements.txt (line 21)) (2.0.1+cu118)\n",
            "Collecting pyro-ppl (from -r /content/causalml/requirements.txt (line 22))\n",
            "  Downloading pyro_ppl-1.8.5-py3-none-any.whl (732 kB)\n",
            "\u001b[2K     \u001b[90m━━━━━━━━━━━━━━━━━━━━━━━━━━━━━━━━━━━━━━\u001b[0m \u001b[32m732.5/732.5 kB\u001b[0m \u001b[31m56.6 MB/s\u001b[0m eta \u001b[36m0:00:00\u001b[0m\n",
            "\u001b[?25hRequirement already satisfied: graphviz in /usr/local/lib/python3.10/dist-packages (from -r /content/causalml/requirements.txt (line 23)) (0.20.1)\n",
            "Collecting ppft>=1.7.6.5 (from pathos==0.2.9->-r /content/causalml/requirements.txt (line 3))\n",
            "  Downloading ppft-1.7.6.6-py3-none-any.whl (52 kB)\n",
            "\u001b[2K     \u001b[90m━━━━━━━━━━━━━━━━━━━━━━━━━━━━━━━━━━━━━━━━\u001b[0m \u001b[32m52.8/52.8 kB\u001b[0m \u001b[31m6.9 MB/s\u001b[0m eta \u001b[36m0:00:00\u001b[0m\n",
            "\u001b[?25hCollecting pox>=0.3.1 (from pathos==0.2.9->-r /content/causalml/requirements.txt (line 3))\n",
            "  Downloading pox-0.3.2-py3-none-any.whl (29 kB)\n",
            "Collecting multiprocess>=0.70.13 (from pathos==0.2.9->-r /content/causalml/requirements.txt (line 3))\n",
            "  Downloading multiprocess-0.70.14-py310-none-any.whl (134 kB)\n",
            "\u001b[2K     \u001b[90m━━━━━━━━━━━━━━━━━━━━━━━━━━━━━━━━━━━━━━\u001b[0m \u001b[32m134.3/134.3 kB\u001b[0m \u001b[31m16.6 MB/s\u001b[0m eta \u001b[36m0:00:00\u001b[0m\n",
            "\u001b[?25hRequirement already satisfied: contourpy>=1.0.1 in /usr/local/lib/python3.10/dist-packages (from matplotlib->-r /content/causalml/requirements.txt (line 7)) (1.0.7)\n",
            "Requirement already satisfied: cycler>=0.10 in /usr/local/lib/python3.10/dist-packages (from matplotlib->-r /content/causalml/requirements.txt (line 7)) (0.11.0)\n",
            "Requirement already satisfied: fonttools>=4.22.0 in /usr/local/lib/python3.10/dist-packages (from matplotlib->-r /content/causalml/requirements.txt (line 7)) (4.39.3)\n",
            "Requirement already satisfied: kiwisolver>=1.0.1 in /usr/local/lib/python3.10/dist-packages (from matplotlib->-r /content/causalml/requirements.txt (line 7)) (1.4.4)\n",
            "Requirement already satisfied: pillow>=6.2.0 in /usr/local/lib/python3.10/dist-packages (from matplotlib->-r /content/causalml/requirements.txt (line 7)) (8.4.0)\n",
            "Requirement already satisfied: pyparsing>=2.3.1 in /usr/local/lib/python3.10/dist-packages (from matplotlib->-r /content/causalml/requirements.txt (line 7)) (3.0.9)\n",
            "Requirement already satisfied: python-dateutil>=2.7 in /usr/local/lib/python3.10/dist-packages (from matplotlib->-r /content/causalml/requirements.txt (line 7)) (2.8.2)\n",
            "Requirement already satisfied: pytz>=2020.1 in /usr/local/lib/python3.10/dist-packages (from pandas>=0.24.1->-r /content/causalml/requirements.txt (line 8)) (2022.7.1)\n",
            "Requirement already satisfied: joblib>=0.11 in /usr/local/lib/python3.10/dist-packages (from scikit-learn<=1.0.2->-r /content/causalml/requirements.txt (line 9)) (1.2.0)\n",
            "Requirement already satisfied: threadpoolctl>=2.0.0 in /usr/local/lib/python3.10/dist-packages (from scikit-learn<=1.0.2->-r /content/causalml/requirements.txt (line 9)) (3.1.0)\n",
            "Requirement already satisfied: patsy>=0.5.2 in /usr/local/lib/python3.10/dist-packages (from statsmodels>=0.9.0->-r /content/causalml/requirements.txt (line 10)) (0.5.3)\n",
            "Collecting slicer==0.0.7 (from shap->-r /content/causalml/requirements.txt (line 16))\n",
            "  Downloading slicer-0.0.7-py3-none-any.whl (14 kB)\n",
            "Requirement already satisfied: numba in /usr/local/lib/python3.10/dist-packages (from shap->-r /content/causalml/requirements.txt (line 16)) (0.56.4)\n",
            "Requirement already satisfied: cloudpickle in /usr/local/lib/python3.10/dist-packages (from shap->-r /content/causalml/requirements.txt (line 16)) (2.2.1)\n",
            "Requirement already satisfied: wheel in /usr/local/lib/python3.10/dist-packages (from lightgbm->-r /content/causalml/requirements.txt (line 18)) (0.40.0)\n",
            "Collecting numpy>=1.18.5 (from -r /content/causalml/requirements.txt (line 5))\n",
            "  Downloading numpy-1.24.3-cp310-cp310-manylinux_2_17_x86_64.manylinux2014_x86_64.whl (17.3 MB)\n",
            "\u001b[2K     \u001b[90m━━━━━━━━━━━━━━━━━━━━━━━━━━━━━━━━━━━━━━━━\u001b[0m \u001b[32m17.3/17.3 MB\u001b[0m \u001b[31m83.7 MB/s\u001b[0m eta \u001b[36m0:00:00\u001b[0m\n",
            "\u001b[?25hRequirement already satisfied: progressbar2<5.0.0,>=4.2.0 in /usr/local/lib/python3.10/dist-packages (from pygam->-r /content/causalml/requirements.txt (line 19)) (4.2.0)\n",
            "Requirement already satisfied: filelock in /usr/local/lib/python3.10/dist-packages (from torch->-r /content/causalml/requirements.txt (line 21)) (3.12.0)\n",
            "Requirement already satisfied: typing-extensions in /usr/local/lib/python3.10/dist-packages (from torch->-r /content/causalml/requirements.txt (line 21)) (4.5.0)\n",
            "Requirement already satisfied: sympy in /usr/local/lib/python3.10/dist-packages (from torch->-r /content/causalml/requirements.txt (line 21)) (1.11.1)\n",
            "Requirement already satisfied: networkx in /usr/local/lib/python3.10/dist-packages (from torch->-r /content/causalml/requirements.txt (line 21)) (3.1)\n",
            "Requirement already satisfied: jinja2 in /usr/local/lib/python3.10/dist-packages (from torch->-r /content/causalml/requirements.txt (line 21)) (3.1.2)\n",
            "Requirement already satisfied: triton==2.0.0 in /usr/local/lib/python3.10/dist-packages (from torch->-r /content/causalml/requirements.txt (line 21)) (2.0.0)\n",
            "Requirement already satisfied: cmake in /usr/local/lib/python3.10/dist-packages (from triton==2.0.0->torch->-r /content/causalml/requirements.txt (line 21)) (3.25.2)\n",
            "Requirement already satisfied: lit in /usr/local/lib/python3.10/dist-packages (from triton==2.0.0->torch->-r /content/causalml/requirements.txt (line 21)) (16.0.5)\n",
            "Requirement already satisfied: opt-einsum>=2.3.2 in /usr/local/lib/python3.10/dist-packages (from pyro-ppl->-r /content/causalml/requirements.txt (line 22)) (3.3.0)\n",
            "Collecting pyro-api>=0.1.1 (from pyro-ppl->-r /content/causalml/requirements.txt (line 22))\n",
            "  Downloading pyro_api-0.1.2-py3-none-any.whl (11 kB)\n",
            "Requirement already satisfied: six in /usr/local/lib/python3.10/dist-packages (from patsy>=0.5.2->statsmodels>=0.9.0->-r /content/causalml/requirements.txt (line 10)) (1.16.0)\n",
            "Requirement already satisfied: python-utils>=3.0.0 in /usr/local/lib/python3.10/dist-packages (from progressbar2<5.0.0,>=4.2.0->pygam->-r /content/causalml/requirements.txt (line 19)) (3.5.2)\n",
            "Requirement already satisfied: MarkupSafe>=2.0 in /usr/local/lib/python3.10/dist-packages (from jinja2->torch->-r /content/causalml/requirements.txt (line 21)) (2.1.2)\n",
            "Requirement already satisfied: llvmlite<0.40,>=0.39.0dev0 in /usr/local/lib/python3.10/dist-packages (from numba->shap->-r /content/causalml/requirements.txt (line 16)) (0.39.1)\n",
            "INFO: pip is looking at multiple versions of numba to determine which version is compatible with other requirements. This could take a while.\n",
            "Collecting numba (from shap->-r /content/causalml/requirements.txt (line 16))\n",
            "  Downloading numba-0.57.0-cp310-cp310-manylinux2014_x86_64.manylinux_2_17_x86_64.whl (3.6 MB)\n",
            "\u001b[2K     \u001b[90m━━━━━━━━━━━━━━━━━━━━━━━━━━━━━━━━━━━━━━━━\u001b[0m \u001b[32m3.6/3.6 MB\u001b[0m \u001b[31m86.0 MB/s\u001b[0m eta \u001b[36m0:00:00\u001b[0m\n",
            "\u001b[?25hCollecting llvmlite<0.41,>=0.40.0dev0 (from numba->shap->-r /content/causalml/requirements.txt (line 16))\n",
            "  Downloading llvmlite-0.40.0-cp310-cp310-manylinux_2_17_x86_64.manylinux2014_x86_64.whl (42.1 MB)\n",
            "\u001b[2K     \u001b[90m━━━━━━━━━━━━━━━━━━━━━━━━━━━━━━━━━━━━━━━━\u001b[0m \u001b[32m42.1/42.1 MB\u001b[0m \u001b[31m17.7 MB/s\u001b[0m eta \u001b[36m0:00:00\u001b[0m\n",
            "\u001b[?25hRequirement already satisfied: mpmath>=0.19 in /usr/local/lib/python3.10/dist-packages (from sympy->torch->-r /content/causalml/requirements.txt (line 21)) (1.3.0)\n",
            "Installing collected packages: pyro-api, slicer, ppft, pox, numpy, llvmlite, dill, numba, multiprocess, scikit-learn, pygam, pathos, shap, forestci, pyro-ppl\n",
            "  Attempting uninstall: numpy\n",
            "    Found existing installation: numpy 1.22.4\n",
            "    Uninstalling numpy-1.22.4:\n",
            "      Successfully uninstalled numpy-1.22.4\n",
            "  Attempting uninstall: llvmlite\n",
            "    Found existing installation: llvmlite 0.39.1\n",
            "    Uninstalling llvmlite-0.39.1:\n",
            "      Successfully uninstalled llvmlite-0.39.1\n",
            "  Attempting uninstall: numba\n",
            "    Found existing installation: numba 0.56.4\n",
            "    Uninstalling numba-0.56.4:\n",
            "      Successfully uninstalled numba-0.56.4\n",
            "  Attempting uninstall: scikit-learn\n",
            "    Found existing installation: scikit-learn 1.2.2\n",
            "    Uninstalling scikit-learn-1.2.2:\n",
            "      Successfully uninstalled scikit-learn-1.2.2\n",
            "\u001b[31mERROR: pip's dependency resolver does not currently take into account all the packages that are installed. This behaviour is the source of the following dependency conflicts.\n",
            "tensorflow 2.12.0 requires numpy<1.24,>=1.22, but you have numpy 1.24.3 which is incompatible.\u001b[0m\u001b[31m\n",
            "\u001b[0mSuccessfully installed dill-0.3.6 forestci-0.6 llvmlite-0.40.0 multiprocess-0.70.14 numba-0.57.0 numpy-1.24.3 pathos-0.2.9 pox-0.3.2 ppft-1.7.6.6 pygam-0.9.0 pyro-api-0.1.2 pyro-ppl-1.8.5 scikit-learn-1.0.2 shap-0.41.0 slicer-0.0.7\n"
          ]
        },
        {
          "output_type": "display_data",
          "data": {
            "application/vnd.colab-display-data+json": {
              "pip_warning": {
                "packages": [
                  "numpy",
                  "sklearn"
                ]
              }
            }
          },
          "metadata": {}
        },
        {
          "output_type": "stream",
          "name": "stdout",
          "text": [
            "Looking in indexes: https://pypi.org/simple, https://us-python.pkg.dev/colab-wheels/public/simple/\n",
            "Collecting causalml\n",
            "  Downloading causalml-0.13.0.tar.gz (535 kB)\n",
            "\u001b[2K     \u001b[90m━━━━━━━━━━━━━━━━━━━━━━━━━━━━━━━━━━━━━━\u001b[0m \u001b[32m535.9/535.9 kB\u001b[0m \u001b[31m22.5 MB/s\u001b[0m eta \u001b[36m0:00:00\u001b[0m\n",
            "\u001b[?25h  Preparing metadata (setup.py) ... \u001b[?25l\u001b[?25hdone\n",
            "Requirement already satisfied: setuptools>=41.0.0 in /usr/local/lib/python3.10/dist-packages (from causalml) (67.7.2)\n",
            "Requirement already satisfied: forestci==0.6 in /usr/local/lib/python3.10/dist-packages (from causalml) (0.6)\n",
            "Requirement already satisfied: pathos==0.2.9 in /usr/local/lib/python3.10/dist-packages (from causalml) (0.2.9)\n",
            "Requirement already satisfied: pip>=10.0 in /usr/local/lib/python3.10/dist-packages (from causalml) (23.1.2)\n",
            "Requirement already satisfied: numpy>=1.18.5 in /usr/local/lib/python3.10/dist-packages (from causalml) (1.24.3)\n",
            "Requirement already satisfied: scipy>=1.4.1 in /usr/local/lib/python3.10/dist-packages (from causalml) (1.10.1)\n",
            "Requirement already satisfied: matplotlib in /usr/local/lib/python3.10/dist-packages (from causalml) (3.7.1)\n",
            "Requirement already satisfied: pandas>=0.24.1 in /usr/local/lib/python3.10/dist-packages (from causalml) (1.5.3)\n",
            "Requirement already satisfied: scikit-learn==1.0.2 in /usr/local/lib/python3.10/dist-packages (from causalml) (1.0.2)\n",
            "Requirement already satisfied: statsmodels>=0.9.0 in /usr/local/lib/python3.10/dist-packages (from causalml) (0.13.5)\n",
            "Requirement already satisfied: seaborn in /usr/local/lib/python3.10/dist-packages (from causalml) (0.12.2)\n",
            "Requirement already satisfied: Cython>=0.28.0 in /usr/local/lib/python3.10/dist-packages (from causalml) (0.29.34)\n",
            "Requirement already satisfied: xgboost in /usr/local/lib/python3.10/dist-packages (from causalml) (1.7.5)\n",
            "Requirement already satisfied: pydotplus in /usr/local/lib/python3.10/dist-packages (from causalml) (2.0.2)\n",
            "Requirement already satisfied: tqdm in /usr/local/lib/python3.10/dist-packages (from causalml) (4.65.0)\n",
            "Requirement already satisfied: shap in /usr/local/lib/python3.10/dist-packages (from causalml) (0.41.0)\n",
            "Requirement already satisfied: dill in /usr/local/lib/python3.10/dist-packages (from causalml) (0.3.6)\n",
            "Requirement already satisfied: lightgbm in /usr/local/lib/python3.10/dist-packages (from causalml) (3.3.5)\n",
            "Requirement already satisfied: pygam in /usr/local/lib/python3.10/dist-packages (from causalml) (0.9.0)\n",
            "Requirement already satisfied: packaging in /usr/local/lib/python3.10/dist-packages (from causalml) (23.1)\n",
            "Requirement already satisfied: torch in /usr/local/lib/python3.10/dist-packages (from causalml) (2.0.1+cu118)\n",
            "Requirement already satisfied: pyro-ppl in /usr/local/lib/python3.10/dist-packages (from causalml) (1.8.5)\n",
            "Requirement already satisfied: graphviz in /usr/local/lib/python3.10/dist-packages (from causalml) (0.20.1)\n",
            "Requirement already satisfied: ppft>=1.7.6.5 in /usr/local/lib/python3.10/dist-packages (from pathos==0.2.9->causalml) (1.7.6.6)\n",
            "Requirement already satisfied: pox>=0.3.1 in /usr/local/lib/python3.10/dist-packages (from pathos==0.2.9->causalml) (0.3.2)\n",
            "Requirement already satisfied: multiprocess>=0.70.13 in /usr/local/lib/python3.10/dist-packages (from pathos==0.2.9->causalml) (0.70.14)\n",
            "Requirement already satisfied: joblib>=0.11 in /usr/local/lib/python3.10/dist-packages (from scikit-learn==1.0.2->causalml) (1.2.0)\n",
            "Requirement already satisfied: threadpoolctl>=2.0.0 in /usr/local/lib/python3.10/dist-packages (from scikit-learn==1.0.2->causalml) (3.1.0)\n",
            "Requirement already satisfied: python-dateutil>=2.8.1 in /usr/local/lib/python3.10/dist-packages (from pandas>=0.24.1->causalml) (2.8.2)\n",
            "Requirement already satisfied: pytz>=2020.1 in /usr/local/lib/python3.10/dist-packages (from pandas>=0.24.1->causalml) (2022.7.1)\n",
            "Requirement already satisfied: patsy>=0.5.2 in /usr/local/lib/python3.10/dist-packages (from statsmodels>=0.9.0->causalml) (0.5.3)\n",
            "Requirement already satisfied: wheel in /usr/local/lib/python3.10/dist-packages (from lightgbm->causalml) (0.40.0)\n",
            "Requirement already satisfied: contourpy>=1.0.1 in /usr/local/lib/python3.10/dist-packages (from matplotlib->causalml) (1.0.7)\n",
            "Requirement already satisfied: cycler>=0.10 in /usr/local/lib/python3.10/dist-packages (from matplotlib->causalml) (0.11.0)\n",
            "Requirement already satisfied: fonttools>=4.22.0 in /usr/local/lib/python3.10/dist-packages (from matplotlib->causalml) (4.39.3)\n",
            "Requirement already satisfied: kiwisolver>=1.0.1 in /usr/local/lib/python3.10/dist-packages (from matplotlib->causalml) (1.4.4)\n",
            "Requirement already satisfied: pillow>=6.2.0 in /usr/local/lib/python3.10/dist-packages (from matplotlib->causalml) (8.4.0)\n",
            "Requirement already satisfied: pyparsing>=2.3.1 in /usr/local/lib/python3.10/dist-packages (from matplotlib->causalml) (3.0.9)\n",
            "Requirement already satisfied: progressbar2<5.0.0,>=4.2.0 in /usr/local/lib/python3.10/dist-packages (from pygam->causalml) (4.2.0)\n",
            "Requirement already satisfied: opt-einsum>=2.3.2 in /usr/local/lib/python3.10/dist-packages (from pyro-ppl->causalml) (3.3.0)\n",
            "Requirement already satisfied: pyro-api>=0.1.1 in /usr/local/lib/python3.10/dist-packages (from pyro-ppl->causalml) (0.1.2)\n",
            "Requirement already satisfied: filelock in /usr/local/lib/python3.10/dist-packages (from torch->causalml) (3.12.0)\n",
            "Requirement already satisfied: typing-extensions in /usr/local/lib/python3.10/dist-packages (from torch->causalml) (4.5.0)\n",
            "Requirement already satisfied: sympy in /usr/local/lib/python3.10/dist-packages (from torch->causalml) (1.11.1)\n",
            "Requirement already satisfied: networkx in /usr/local/lib/python3.10/dist-packages (from torch->causalml) (3.1)\n",
            "Requirement already satisfied: jinja2 in /usr/local/lib/python3.10/dist-packages (from torch->causalml) (3.1.2)\n",
            "Requirement already satisfied: triton==2.0.0 in /usr/local/lib/python3.10/dist-packages (from torch->causalml) (2.0.0)\n",
            "Requirement already satisfied: cmake in /usr/local/lib/python3.10/dist-packages (from triton==2.0.0->torch->causalml) (3.25.2)\n",
            "Requirement already satisfied: lit in /usr/local/lib/python3.10/dist-packages (from triton==2.0.0->torch->causalml) (16.0.5)\n",
            "Requirement already satisfied: slicer==0.0.7 in /usr/local/lib/python3.10/dist-packages (from shap->causalml) (0.0.7)\n",
            "Requirement already satisfied: numba in /usr/local/lib/python3.10/dist-packages (from shap->causalml) (0.57.0)\n",
            "Requirement already satisfied: cloudpickle in /usr/local/lib/python3.10/dist-packages (from shap->causalml) (2.2.1)\n",
            "Requirement already satisfied: six in /usr/local/lib/python3.10/dist-packages (from patsy>=0.5.2->statsmodels>=0.9.0->causalml) (1.16.0)\n",
            "Requirement already satisfied: python-utils>=3.0.0 in /usr/local/lib/python3.10/dist-packages (from progressbar2<5.0.0,>=4.2.0->pygam->causalml) (3.5.2)\n",
            "Requirement already satisfied: MarkupSafe>=2.0 in /usr/local/lib/python3.10/dist-packages (from jinja2->torch->causalml) (2.1.2)\n",
            "Requirement already satisfied: llvmlite<0.41,>=0.40.0dev0 in /usr/local/lib/python3.10/dist-packages (from numba->shap->causalml) (0.40.0)\n",
            "Requirement already satisfied: mpmath>=0.19 in /usr/local/lib/python3.10/dist-packages (from sympy->torch->causalml) (1.3.0)\n",
            "Building wheels for collected packages: causalml\n",
            "  Building wheel for causalml (setup.py) ... \u001b[?25l\u001b[?25hdone\n",
            "  Created wheel for causalml: filename=causalml-0.13.0-cp310-cp310-linux_x86_64.whl size=1745467 sha256=1446e8334b62934171471a5aebdc63613c1b5b2320becdbe84f4ea779af0ff3d\n",
            "  Stored in directory: /root/.cache/pip/wheels/52/7f/f2/8f4793418bc69b5106a3a3a54ea12df4fb6630a20d0b471a82\n",
            "Successfully built causalml\n",
            "Installing collected packages: causalml\n",
            "Successfully installed causalml-0.13.0\n"
          ]
        }
      ]
    },
    {
      "cell_type": "code",
      "execution_count": 3,
      "metadata": {
        "id": "PHw8T1xH7A6y",
        "colab": {
          "base_uri": "https://localhost:8080/"
        },
        "outputId": "9c5ffc91-325a-485e-8cd4-b84e1b92ed7e"
      },
      "outputs": [
        {
          "output_type": "stream",
          "name": "stdout",
          "text": [
            "Looking in indexes: https://pypi.org/simple, https://us-python.pkg.dev/colab-wheels/public/simple/\n",
            "Collecting catboost\n",
            "  Downloading catboost-1.2-cp310-cp310-manylinux2014_x86_64.whl (98.6 MB)\n",
            "\u001b[2K     \u001b[90m━━━━━━━━━━━━━━━━━━━━━━━━━━━━━━━━━━━━━━━━\u001b[0m \u001b[32m98.6/98.6 MB\u001b[0m \u001b[31m8.5 MB/s\u001b[0m eta \u001b[36m0:00:00\u001b[0m\n",
            "\u001b[?25hRequirement already satisfied: graphviz in /usr/local/lib/python3.10/dist-packages (from catboost) (0.20.1)\n",
            "Requirement already satisfied: matplotlib in /usr/local/lib/python3.10/dist-packages (from catboost) (3.7.1)\n",
            "Requirement already satisfied: numpy>=1.16.0 in /usr/local/lib/python3.10/dist-packages (from catboost) (1.24.3)\n",
            "Requirement already satisfied: pandas>=0.24 in /usr/local/lib/python3.10/dist-packages (from catboost) (1.5.3)\n",
            "Requirement already satisfied: scipy in /usr/local/lib/python3.10/dist-packages (from catboost) (1.10.1)\n",
            "Requirement already satisfied: plotly in /usr/local/lib/python3.10/dist-packages (from catboost) (5.13.1)\n",
            "Requirement already satisfied: six in /usr/local/lib/python3.10/dist-packages (from catboost) (1.16.0)\n",
            "Requirement already satisfied: python-dateutil>=2.8.1 in /usr/local/lib/python3.10/dist-packages (from pandas>=0.24->catboost) (2.8.2)\n",
            "Requirement already satisfied: pytz>=2020.1 in /usr/local/lib/python3.10/dist-packages (from pandas>=0.24->catboost) (2022.7.1)\n",
            "Requirement already satisfied: contourpy>=1.0.1 in /usr/local/lib/python3.10/dist-packages (from matplotlib->catboost) (1.0.7)\n",
            "Requirement already satisfied: cycler>=0.10 in /usr/local/lib/python3.10/dist-packages (from matplotlib->catboost) (0.11.0)\n",
            "Requirement already satisfied: fonttools>=4.22.0 in /usr/local/lib/python3.10/dist-packages (from matplotlib->catboost) (4.39.3)\n",
            "Requirement already satisfied: kiwisolver>=1.0.1 in /usr/local/lib/python3.10/dist-packages (from matplotlib->catboost) (1.4.4)\n",
            "Requirement already satisfied: packaging>=20.0 in /usr/local/lib/python3.10/dist-packages (from matplotlib->catboost) (23.1)\n",
            "Requirement already satisfied: pillow>=6.2.0 in /usr/local/lib/python3.10/dist-packages (from matplotlib->catboost) (8.4.0)\n",
            "Requirement already satisfied: pyparsing>=2.3.1 in /usr/local/lib/python3.10/dist-packages (from matplotlib->catboost) (3.0.9)\n",
            "Requirement already satisfied: tenacity>=6.2.0 in /usr/local/lib/python3.10/dist-packages (from plotly->catboost) (8.2.2)\n",
            "Installing collected packages: catboost\n",
            "Successfully installed catboost-1.2\n"
          ]
        }
      ],
      "source": [
        "!pip install catboost"
      ]
    },
    {
      "cell_type": "markdown",
      "metadata": {
        "id": "1E5r-mGv7A6z"
      },
      "source": [
        "Импортируем необходимые библиотеки и загрузим семпл данных"
      ]
    },
    {
      "cell_type": "code",
      "execution_count": 1,
      "metadata": {
        "colab": {
          "base_uri": "https://localhost:8080/",
          "height": 882
        },
        "id": "x7jkepao7A6z",
        "outputId": "a6396e8d-3bc3-4a4e-c13f-e817277ddda7"
      },
      "outputs": [
        {
          "output_type": "stream",
          "name": "stderr",
          "text": [
            "/usr/local/lib/python3.10/dist-packages/shap/utils/_clustering.py:35: NumbaDeprecationWarning: The 'nopython' keyword argument was not supplied to the 'numba.jit' decorator. The implicit default value for this argument is currently False, but it will be changed to True in Numba 0.59.0. See https://numba.readthedocs.io/en/stable/reference/deprecation.html#deprecation-of-object-mode-fall-back-behaviour-when-using-jit for details.\n",
            "  def _pt_shuffle_rec(i, indexes, index_mask, partition_tree, M, pos):\n",
            "/usr/local/lib/python3.10/dist-packages/shap/utils/_clustering.py:54: NumbaDeprecationWarning: The 'nopython' keyword argument was not supplied to the 'numba.jit' decorator. The implicit default value for this argument is currently False, but it will be changed to True in Numba 0.59.0. See https://numba.readthedocs.io/en/stable/reference/deprecation.html#deprecation-of-object-mode-fall-back-behaviour-when-using-jit for details.\n",
            "  def delta_minimization_order(all_masks, max_swap_size=100, num_passes=2):\n",
            "/usr/local/lib/python3.10/dist-packages/shap/utils/_clustering.py:63: NumbaDeprecationWarning: The 'nopython' keyword argument was not supplied to the 'numba.jit' decorator. The implicit default value for this argument is currently False, but it will be changed to True in Numba 0.59.0. See https://numba.readthedocs.io/en/stable/reference/deprecation.html#deprecation-of-object-mode-fall-back-behaviour-when-using-jit for details.\n",
            "  def _reverse_window(order, start, length):\n",
            "/usr/local/lib/python3.10/dist-packages/shap/utils/_clustering.py:69: NumbaDeprecationWarning: The 'nopython' keyword argument was not supplied to the 'numba.jit' decorator. The implicit default value for this argument is currently False, but it will be changed to True in Numba 0.59.0. See https://numba.readthedocs.io/en/stable/reference/deprecation.html#deprecation-of-object-mode-fall-back-behaviour-when-using-jit for details.\n",
            "  def _reverse_window_score_gain(masks, order, start, length):\n",
            "/usr/local/lib/python3.10/dist-packages/shap/utils/_clustering.py:77: NumbaDeprecationWarning: The 'nopython' keyword argument was not supplied to the 'numba.jit' decorator. The implicit default value for this argument is currently False, but it will be changed to True in Numba 0.59.0. See https://numba.readthedocs.io/en/stable/reference/deprecation.html#deprecation-of-object-mode-fall-back-behaviour-when-using-jit for details.\n",
            "  def _mask_delta_score(m1, m2):\n",
            "/usr/local/lib/python3.10/dist-packages/shap/links.py:5: NumbaDeprecationWarning: The 'nopython' keyword argument was not supplied to the 'numba.jit' decorator. The implicit default value for this argument is currently False, but it will be changed to True in Numba 0.59.0. See https://numba.readthedocs.io/en/stable/reference/deprecation.html#deprecation-of-object-mode-fall-back-behaviour-when-using-jit for details.\n",
            "  def identity(x):\n",
            "/usr/local/lib/python3.10/dist-packages/shap/links.py:10: NumbaDeprecationWarning: The 'nopython' keyword argument was not supplied to the 'numba.jit' decorator. The implicit default value for this argument is currently False, but it will be changed to True in Numba 0.59.0. See https://numba.readthedocs.io/en/stable/reference/deprecation.html#deprecation-of-object-mode-fall-back-behaviour-when-using-jit for details.\n",
            "  def _identity_inverse(x):\n",
            "/usr/local/lib/python3.10/dist-packages/shap/links.py:15: NumbaDeprecationWarning: The 'nopython' keyword argument was not supplied to the 'numba.jit' decorator. The implicit default value for this argument is currently False, but it will be changed to True in Numba 0.59.0. See https://numba.readthedocs.io/en/stable/reference/deprecation.html#deprecation-of-object-mode-fall-back-behaviour-when-using-jit for details.\n",
            "  def logit(x):\n",
            "/usr/local/lib/python3.10/dist-packages/shap/links.py:20: NumbaDeprecationWarning: The 'nopython' keyword argument was not supplied to the 'numba.jit' decorator. The implicit default value for this argument is currently False, but it will be changed to True in Numba 0.59.0. See https://numba.readthedocs.io/en/stable/reference/deprecation.html#deprecation-of-object-mode-fall-back-behaviour-when-using-jit for details.\n",
            "  def _logit_inverse(x):\n",
            "/usr/local/lib/python3.10/dist-packages/shap/utils/_masked_model.py:363: NumbaDeprecationWarning: The 'nopython' keyword argument was not supplied to the 'numba.jit' decorator. The implicit default value for this argument is currently False, but it will be changed to True in Numba 0.59.0. See https://numba.readthedocs.io/en/stable/reference/deprecation.html#deprecation-of-object-mode-fall-back-behaviour-when-using-jit for details.\n",
            "  def _build_fixed_single_output(averaged_outs, last_outs, outputs, batch_positions, varying_rows, num_varying_rows, link, linearizing_weights):\n",
            "/usr/local/lib/python3.10/dist-packages/shap/utils/_masked_model.py:385: NumbaDeprecationWarning: The 'nopython' keyword argument was not supplied to the 'numba.jit' decorator. The implicit default value for this argument is currently False, but it will be changed to True in Numba 0.59.0. See https://numba.readthedocs.io/en/stable/reference/deprecation.html#deprecation-of-object-mode-fall-back-behaviour-when-using-jit for details.\n",
            "  def _build_fixed_multi_output(averaged_outs, last_outs, outputs, batch_positions, varying_rows, num_varying_rows, link, linearizing_weights):\n",
            "/usr/local/lib/python3.10/dist-packages/shap/utils/_masked_model.py:428: NumbaDeprecationWarning: The 'nopython' keyword argument was not supplied to the 'numba.jit' decorator. The implicit default value for this argument is currently False, but it will be changed to True in Numba 0.59.0. See https://numba.readthedocs.io/en/stable/reference/deprecation.html#deprecation-of-object-mode-fall-back-behaviour-when-using-jit for details.\n",
            "  def _init_masks(cluster_matrix, M, indices_row_pos, indptr):\n",
            "/usr/local/lib/python3.10/dist-packages/shap/utils/_masked_model.py:439: NumbaDeprecationWarning: The 'nopython' keyword argument was not supplied to the 'numba.jit' decorator. The implicit default value for this argument is currently False, but it will be changed to True in Numba 0.59.0. See https://numba.readthedocs.io/en/stable/reference/deprecation.html#deprecation-of-object-mode-fall-back-behaviour-when-using-jit for details.\n",
            "  def _rec_fill_masks(cluster_matrix, indices_row_pos, indptr, indices, M, ind):\n",
            "/usr/local/lib/python3.10/dist-packages/shap/maskers/_tabular.py:186: NumbaDeprecationWarning: The 'nopython' keyword argument was not supplied to the 'numba.jit' decorator. The implicit default value for this argument is currently False, but it will be changed to True in Numba 0.59.0. See https://numba.readthedocs.io/en/stable/reference/deprecation.html#deprecation-of-object-mode-fall-back-behaviour-when-using-jit for details.\n",
            "  def _single_delta_mask(dind, masked_inputs, last_mask, data, x, noop_code):\n",
            "/usr/local/lib/python3.10/dist-packages/shap/maskers/_tabular.py:197: NumbaDeprecationWarning: The 'nopython' keyword argument was not supplied to the 'numba.jit' decorator. The implicit default value for this argument is currently False, but it will be changed to True in Numba 0.59.0. See https://numba.readthedocs.io/en/stable/reference/deprecation.html#deprecation-of-object-mode-fall-back-behaviour-when-using-jit for details.\n",
            "  def _delta_masking(masks, x, curr_delta_inds, varying_rows_out,\n",
            "/usr/local/lib/python3.10/dist-packages/shap/maskers/_image.py:175: NumbaDeprecationWarning: The 'nopython' keyword argument was not supplied to the 'numba.jit' decorator. The implicit default value for this argument is currently False, but it will be changed to True in Numba 0.59.0. See https://numba.readthedocs.io/en/stable/reference/deprecation.html#deprecation-of-object-mode-fall-back-behaviour-when-using-jit for details.\n",
            "  def _jit_build_partition_tree(xmin, xmax, ymin, ymax, zmin, zmax, total_ywidth, total_zwidth, M, clustering, q):\n",
            "/usr/local/lib/python3.10/dist-packages/shap/explainers/_partition.py:676: NumbaDeprecationWarning: The 'nopython' keyword argument was not supplied to the 'numba.jit' decorator. The implicit default value for this argument is currently False, but it will be changed to True in Numba 0.59.0. See https://numba.readthedocs.io/en/stable/reference/deprecation.html#deprecation-of-object-mode-fall-back-behaviour-when-using-jit for details.\n",
            "  def lower_credit(i, value, M, values, clustering):\n",
            "The 'nopython' keyword argument was not supplied to the 'numba.jit' decorator. The implicit default value for this argument is currently False, but it will be changed to True in Numba 0.59.0. See https://numba.readthedocs.io/en/stable/reference/deprecation.html#deprecation-of-object-mode-fall-back-behaviour-when-using-jit for details.\n",
            "The 'nopython' keyword argument was not supplied to the 'numba.jit' decorator. The implicit default value for this argument is currently False, but it will be changed to True in Numba 0.59.0. See https://numba.readthedocs.io/en/stable/reference/deprecation.html#deprecation-of-object-mode-fall-back-behaviour-when-using-jit for details.\n"
          ]
        },
        {
          "output_type": "execute_result",
          "data": {
            "text/plain": [
              "   recency  history  used_discount  used_bogo   zip_code  is_referral channel  \\\n",
              "0       10   142.44              1          0  Surburban            0   Phone   \n",
              "1        6   329.08              1          1      Rural            1     Web   \n",
              "2        7   180.65              0          1  Surburban            1     Web   \n",
              "3        9   675.83              1          0      Rural            1     Web   \n",
              "4        2    45.34              1          0      Urban            0     Web   \n",
              "\n",
              "         treatment  target_class  \n",
              "0  Buy One Get One             2  \n",
              "1         No Offer             0  \n",
              "2  Buy One Get One             2  \n",
              "3         Discount             2  \n",
              "4  Buy One Get One             2  "
            ],
            "text/html": [
              "\n",
              "  <div id=\"df-12a02d7d-cf73-45d8-91fc-6044011a7fbf\">\n",
              "    <div class=\"colab-df-container\">\n",
              "      <div>\n",
              "<style scoped>\n",
              "    .dataframe tbody tr th:only-of-type {\n",
              "        vertical-align: middle;\n",
              "    }\n",
              "\n",
              "    .dataframe tbody tr th {\n",
              "        vertical-align: top;\n",
              "    }\n",
              "\n",
              "    .dataframe thead th {\n",
              "        text-align: right;\n",
              "    }\n",
              "</style>\n",
              "<table border=\"1\" class=\"dataframe\">\n",
              "  <thead>\n",
              "    <tr style=\"text-align: right;\">\n",
              "      <th></th>\n",
              "      <th>recency</th>\n",
              "      <th>history</th>\n",
              "      <th>used_discount</th>\n",
              "      <th>used_bogo</th>\n",
              "      <th>zip_code</th>\n",
              "      <th>is_referral</th>\n",
              "      <th>channel</th>\n",
              "      <th>treatment</th>\n",
              "      <th>target_class</th>\n",
              "    </tr>\n",
              "  </thead>\n",
              "  <tbody>\n",
              "    <tr>\n",
              "      <th>0</th>\n",
              "      <td>10</td>\n",
              "      <td>142.44</td>\n",
              "      <td>1</td>\n",
              "      <td>0</td>\n",
              "      <td>Surburban</td>\n",
              "      <td>0</td>\n",
              "      <td>Phone</td>\n",
              "      <td>Buy One Get One</td>\n",
              "      <td>2</td>\n",
              "    </tr>\n",
              "    <tr>\n",
              "      <th>1</th>\n",
              "      <td>6</td>\n",
              "      <td>329.08</td>\n",
              "      <td>1</td>\n",
              "      <td>1</td>\n",
              "      <td>Rural</td>\n",
              "      <td>1</td>\n",
              "      <td>Web</td>\n",
              "      <td>No Offer</td>\n",
              "      <td>0</td>\n",
              "    </tr>\n",
              "    <tr>\n",
              "      <th>2</th>\n",
              "      <td>7</td>\n",
              "      <td>180.65</td>\n",
              "      <td>0</td>\n",
              "      <td>1</td>\n",
              "      <td>Surburban</td>\n",
              "      <td>1</td>\n",
              "      <td>Web</td>\n",
              "      <td>Buy One Get One</td>\n",
              "      <td>2</td>\n",
              "    </tr>\n",
              "    <tr>\n",
              "      <th>3</th>\n",
              "      <td>9</td>\n",
              "      <td>675.83</td>\n",
              "      <td>1</td>\n",
              "      <td>0</td>\n",
              "      <td>Rural</td>\n",
              "      <td>1</td>\n",
              "      <td>Web</td>\n",
              "      <td>Discount</td>\n",
              "      <td>2</td>\n",
              "    </tr>\n",
              "    <tr>\n",
              "      <th>4</th>\n",
              "      <td>2</td>\n",
              "      <td>45.34</td>\n",
              "      <td>1</td>\n",
              "      <td>0</td>\n",
              "      <td>Urban</td>\n",
              "      <td>0</td>\n",
              "      <td>Web</td>\n",
              "      <td>Buy One Get One</td>\n",
              "      <td>2</td>\n",
              "    </tr>\n",
              "  </tbody>\n",
              "</table>\n",
              "</div>\n",
              "      <button class=\"colab-df-convert\" onclick=\"convertToInteractive('df-12a02d7d-cf73-45d8-91fc-6044011a7fbf')\"\n",
              "              title=\"Convert this dataframe to an interactive table.\"\n",
              "              style=\"display:none;\">\n",
              "        \n",
              "  <svg xmlns=\"http://www.w3.org/2000/svg\" height=\"24px\"viewBox=\"0 0 24 24\"\n",
              "       width=\"24px\">\n",
              "    <path d=\"M0 0h24v24H0V0z\" fill=\"none\"/>\n",
              "    <path d=\"M18.56 5.44l.94 2.06.94-2.06 2.06-.94-2.06-.94-.94-2.06-.94 2.06-2.06.94zm-11 1L8.5 8.5l.94-2.06 2.06-.94-2.06-.94L8.5 2.5l-.94 2.06-2.06.94zm10 10l.94 2.06.94-2.06 2.06-.94-2.06-.94-.94-2.06-.94 2.06-2.06.94z\"/><path d=\"M17.41 7.96l-1.37-1.37c-.4-.4-.92-.59-1.43-.59-.52 0-1.04.2-1.43.59L10.3 9.45l-7.72 7.72c-.78.78-.78 2.05 0 2.83L4 21.41c.39.39.9.59 1.41.59.51 0 1.02-.2 1.41-.59l7.78-7.78 2.81-2.81c.8-.78.8-2.07 0-2.86zM5.41 20L4 18.59l7.72-7.72 1.47 1.35L5.41 20z\"/>\n",
              "  </svg>\n",
              "      </button>\n",
              "      \n",
              "  <style>\n",
              "    .colab-df-container {\n",
              "      display:flex;\n",
              "      flex-wrap:wrap;\n",
              "      gap: 12px;\n",
              "    }\n",
              "\n",
              "    .colab-df-convert {\n",
              "      background-color: #E8F0FE;\n",
              "      border: none;\n",
              "      border-radius: 50%;\n",
              "      cursor: pointer;\n",
              "      display: none;\n",
              "      fill: #1967D2;\n",
              "      height: 32px;\n",
              "      padding: 0 0 0 0;\n",
              "      width: 32px;\n",
              "    }\n",
              "\n",
              "    .colab-df-convert:hover {\n",
              "      background-color: #E2EBFA;\n",
              "      box-shadow: 0px 1px 2px rgba(60, 64, 67, 0.3), 0px 1px 3px 1px rgba(60, 64, 67, 0.15);\n",
              "      fill: #174EA6;\n",
              "    }\n",
              "\n",
              "    [theme=dark] .colab-df-convert {\n",
              "      background-color: #3B4455;\n",
              "      fill: #D2E3FC;\n",
              "    }\n",
              "\n",
              "    [theme=dark] .colab-df-convert:hover {\n",
              "      background-color: #434B5C;\n",
              "      box-shadow: 0px 1px 3px 1px rgba(0, 0, 0, 0.15);\n",
              "      filter: drop-shadow(0px 1px 2px rgba(0, 0, 0, 0.3));\n",
              "      fill: #FFFFFF;\n",
              "    }\n",
              "  </style>\n",
              "\n",
              "      <script>\n",
              "        const buttonEl =\n",
              "          document.querySelector('#df-12a02d7d-cf73-45d8-91fc-6044011a7fbf button.colab-df-convert');\n",
              "        buttonEl.style.display =\n",
              "          google.colab.kernel.accessAllowed ? 'block' : 'none';\n",
              "\n",
              "        async function convertToInteractive(key) {\n",
              "          const element = document.querySelector('#df-12a02d7d-cf73-45d8-91fc-6044011a7fbf');\n",
              "          const dataTable =\n",
              "            await google.colab.kernel.invokeFunction('convertToInteractive',\n",
              "                                                     [key], {});\n",
              "          if (!dataTable) return;\n",
              "\n",
              "          const docLinkHtml = 'Like what you see? Visit the ' +\n",
              "            '<a target=\"_blank\" href=https://colab.research.google.com/notebooks/data_table.ipynb>data table notebook</a>'\n",
              "            + ' to learn more about interactive tables.';\n",
              "          element.innerHTML = '';\n",
              "          dataTable['output_type'] = 'display_data';\n",
              "          await google.colab.output.renderOutput(dataTable, element);\n",
              "          const docLink = document.createElement('div');\n",
              "          docLink.innerHTML = docLinkHtml;\n",
              "          element.appendChild(docLink);\n",
              "        }\n",
              "      </script>\n",
              "    </div>\n",
              "  </div>\n",
              "  "
            ]
          },
          "metadata": {},
          "execution_count": 1
        }
      ],
      "source": [
        "import numpy as np \n",
        "import pandas as pd \n",
        "import matplotlib.pyplot as plt\n",
        "import seaborn as sns\n",
        "from sklearn.model_selection import train_test_split\n",
        "from sklearn.linear_model import LogisticRegression, LinearRegression\n",
        "\n",
        "# Импортируем X- и R-learner`ы (BaseXClassifier и BaseRClassifier) из библиотеки CausalML\n",
        "# Нам нужны именно Classifier, так как мы будем решать задачу классификации\n",
        "# Аналогичные реализации (Regressor) есть и для задач регрессии\n",
        "from causalml.inference.meta import BaseXClassifier, BaseRClassifier\n",
        "from catboost import CatBoostClassifier, CatBoostRegressor\n",
        "\n",
        "\n",
        "# Прочитаем файл с данными\n",
        "df = pd.read_csv(\"/content/data.csv\")\n",
        "df.head()"
      ]
    },
    {
      "cell_type": "markdown",
      "metadata": {
        "id": "h_HQ8J_O7A61"
      },
      "source": [
        "**Справка о признаках:**\n",
        "* **recency** - количество месяцев с последней покупки клиента\n",
        "* **history** - общая стоимость исторических покупок\n",
        "* **used_discount** - указывает, пользовался ли клиент скидкой ранее\n",
        "* **used_bogo** - указывает, пользовался ли клиент промоакцией ранее\n",
        "* **zip_code** - класс почтового индекса:\n",
        "    * Suburban - пригородный\n",
        "    * Urban - городской\n",
        "    * Rural - сельский\n",
        "* **is_referral** - указывает, был ли клиент приобретен по реферальному каналу\n",
        "* **channel** - каналы, которые использует клиент:\n",
        "    * Phone - телефон\n",
        "    * Web - интернет\n",
        "    * Multichannel - многоканальный\n",
        "* **treatment** - вид целевого воздействия:\n",
        "    * **Discount** - было оказано целевое воздействие (предложена скидка)\n",
        "    * **Buy One Get One** - было оказано целевое воздействие (предложена промоакция)\n",
        "    * **No Offer** - целевого воздействие не было\n",
        "* **target_class** - класс клиента (вспомогательный признак):\n",
        "    * **0 - Control Non-Responders(CN)** \n",
        "\n",
        "        Это клиенты, которым не было выдвинуто предложение (целевое воздействие) и они ничего не купили ((y=0, c) в наших терминах)\n",
        "    * **1 - Control Responders(CR)**\n",
        "\n",
        "        Это клиенты, совершившие покупку без предложения (целевого воздействия) (y=1, c)\n",
        "    * **2 - Treatment Non-Responders(CN)**\n",
        "\n",
        "        Это клиенты, которым было выдвинуто предложение, но они не совершили покупку (y=0, t)\n",
        "    * **3 - Treatment Responders(CN)** \n",
        "        \n",
        "        Это клиенты, которым было выдвинуто предложение (совершено целевое воздействие) и они совершили покупку (y=1, t)\n",
        "\n",
        "При построении классификатора нас интересует только факт того, совершил ли клиент покупку (класс 1) или нет (класс 0). Поэтому целевая переменная при классификации - конверсия. "
      ]
    },
    {
      "cell_type": "markdown",
      "metadata": {
        "id": "NG0XVuRM7A62"
      },
      "source": [
        "Посмотрим на распределение целевых влияний в данных:\n",
        "\n",
        "* Discount - было оказано целевое влияние (предложена скидка)\n",
        "* Buy One Get One - было оказано целевое влияние (предложена промоакция)\n",
        "* No Offer - целевого влияния не было"
      ]
    },
    {
      "cell_type": "code",
      "execution_count": 2,
      "metadata": {
        "colab": {
          "base_uri": "https://localhost:8080/"
        },
        "id": "JYj6Qf6c7A62",
        "outputId": "1a9d0fa9-3830-49e9-86c9-4ee4657ef37a"
      },
      "outputs": [
        {
          "output_type": "execute_result",
          "data": {
            "text/plain": [
              "Buy One Get One    21387\n",
              "Discount           21307\n",
              "No Offer           21306\n",
              "Name: treatment, dtype: int64"
            ]
          },
          "metadata": {},
          "execution_count": 2
        }
      ],
      "source": [
        "df['treatment'].value_counts()"
      ]
    },
    {
      "cell_type": "markdown",
      "metadata": {
        "id": "W_AByceG7A63"
      },
      "source": [
        "## Предобработка данных"
      ]
    },
    {
      "cell_type": "markdown",
      "metadata": {
        "id": "Mwi0ZkRA7A63"
      },
      "source": [
        "Подготовим данные:\n",
        "* Преобразуем целевую переменную в признак конверсии, которую будем прогнозировать (купил/не купил)\n",
        "* Создадим две отдельные таблицы:\n",
        "    * В первой будем хранить информацию о пользователях, которым была предложена скидка (df_discount)\n",
        "    * Во второй будем хранить информацию о пользователях, которым была предложена промоакция (df_bogo)\n",
        "    \n",
        "    В каждой из таблиц также сохраним данные о пользователях, на которых не было оказано целевое влияние (контрольная выборка).\n",
        "* Также произведем кодировку категориальных признаков."
      ]
    },
    {
      "cell_type": "code",
      "execution_count": 3,
      "metadata": {
        "colab": {
          "base_uri": "https://localhost:8080/"
        },
        "id": "Z98lGPta7A64",
        "outputId": "73566adb-33bb-4a13-a782-a792f695c135"
      },
      "outputs": [
        {
          "output_type": "stream",
          "name": "stdout",
          "text": [
            "(42613, 14)\n",
            "(42693, 14)\n"
          ]
        }
      ],
      "source": [
        "# Новый таргет - бинарная переменная (конверсия): 1 - купил, 0 - не купил\n",
        "df['conversion'] = df['target_class'].map({0: 0, 1: 1, 2: 0, 3: 1})\n",
        "\n",
        "# Разделим данные на две таблицы - данные по скидкам и промоакциям\n",
        "\n",
        "# Выделим пользователей, на которых не было целевого воздействия, и тех, которым мы предлагали скидки\n",
        "df_discount = df.copy().loc[\n",
        "    (df['treatment'] == 'No Offer') |  (df['treatment'] == 'Discount')\n",
        "].reset_index(drop=True)\n",
        "\n",
        "# Выделим пользователей, на которых не было целевого воздействия, и тех, которым мы предлагали промоакции\n",
        "df_bogo = df.copy().loc[\n",
        "    (df['treatment'] == 'No Offer') | (df['treatment'] == 'Buy One Get One')\n",
        "].reset_index(drop=True)\n",
        "\n",
        "# Перекодируем столбец с влиянием: 1 - было влияние, 0 - не было\n",
        "df_discount['treatment'] = df_discount['treatment'].apply(lambda x: 0 if x=='No Offer' else 1)\n",
        "df_bogo['treatment'] = df_bogo['treatment'].apply(lambda x: 0 if x=='No Offer' else 1)\n",
        "\n",
        "# Закодируем оставшиеся категориальные признаки\n",
        "df_discount = pd.get_dummies(df_discount)\n",
        "df_bogo = pd.get_dummies(df_bogo)\n",
        "\n",
        "# Выведем размерности полученных таблиц:\n",
        "print(df_discount.shape)\n",
        "print(df_bogo.shape)"
      ]
    },
    {
      "cell_type": "markdown",
      "metadata": {
        "id": "eKImEhtG7A64"
      },
      "source": [
        "Посмотрим на результаты:"
      ]
    },
    {
      "cell_type": "code",
      "execution_count": 4,
      "metadata": {
        "colab": {
          "base_uri": "https://localhost:8080/",
          "height": 270
        },
        "id": "1_Yg6PmU7A64",
        "outputId": "88c86637-73dc-491e-f28f-ef9b1a5366b0"
      },
      "outputs": [
        {
          "output_type": "execute_result",
          "data": {
            "text/plain": [
              "   recency  history  used_discount  used_bogo  is_referral  treatment  \\\n",
              "0        6   329.08              1          1            1          0   \n",
              "1        9   675.83              1          0            1          1   \n",
              "2        9   675.07              1          1            1          1   \n",
              "3        2   101.64              0          1            0          1   \n",
              "4        4   241.42              0          1            1          0   \n",
              "\n",
              "   target_class  conversion  zip_code_Rural  zip_code_Surburban  \\\n",
              "0             0           0               1                   0   \n",
              "1             2           0               1                   0   \n",
              "2             2           0               1                   0   \n",
              "3             3           1               0                   0   \n",
              "4             0           0               1                   0   \n",
              "\n",
              "   zip_code_Urban  channel_Multichannel  channel_Phone  channel_Web  \n",
              "0               0                     0              0            1  \n",
              "1               0                     0              0            1  \n",
              "2               0                     0              1            0  \n",
              "3               1                     0              0            1  \n",
              "4               0                     1              0            0  "
            ],
            "text/html": [
              "\n",
              "  <div id=\"df-04835f11-0288-495f-b8ed-9bf5fa84a9c8\">\n",
              "    <div class=\"colab-df-container\">\n",
              "      <div>\n",
              "<style scoped>\n",
              "    .dataframe tbody tr th:only-of-type {\n",
              "        vertical-align: middle;\n",
              "    }\n",
              "\n",
              "    .dataframe tbody tr th {\n",
              "        vertical-align: top;\n",
              "    }\n",
              "\n",
              "    .dataframe thead th {\n",
              "        text-align: right;\n",
              "    }\n",
              "</style>\n",
              "<table border=\"1\" class=\"dataframe\">\n",
              "  <thead>\n",
              "    <tr style=\"text-align: right;\">\n",
              "      <th></th>\n",
              "      <th>recency</th>\n",
              "      <th>history</th>\n",
              "      <th>used_discount</th>\n",
              "      <th>used_bogo</th>\n",
              "      <th>is_referral</th>\n",
              "      <th>treatment</th>\n",
              "      <th>target_class</th>\n",
              "      <th>conversion</th>\n",
              "      <th>zip_code_Rural</th>\n",
              "      <th>zip_code_Surburban</th>\n",
              "      <th>zip_code_Urban</th>\n",
              "      <th>channel_Multichannel</th>\n",
              "      <th>channel_Phone</th>\n",
              "      <th>channel_Web</th>\n",
              "    </tr>\n",
              "  </thead>\n",
              "  <tbody>\n",
              "    <tr>\n",
              "      <th>0</th>\n",
              "      <td>6</td>\n",
              "      <td>329.08</td>\n",
              "      <td>1</td>\n",
              "      <td>1</td>\n",
              "      <td>1</td>\n",
              "      <td>0</td>\n",
              "      <td>0</td>\n",
              "      <td>0</td>\n",
              "      <td>1</td>\n",
              "      <td>0</td>\n",
              "      <td>0</td>\n",
              "      <td>0</td>\n",
              "      <td>0</td>\n",
              "      <td>1</td>\n",
              "    </tr>\n",
              "    <tr>\n",
              "      <th>1</th>\n",
              "      <td>9</td>\n",
              "      <td>675.83</td>\n",
              "      <td>1</td>\n",
              "      <td>0</td>\n",
              "      <td>1</td>\n",
              "      <td>1</td>\n",
              "      <td>2</td>\n",
              "      <td>0</td>\n",
              "      <td>1</td>\n",
              "      <td>0</td>\n",
              "      <td>0</td>\n",
              "      <td>0</td>\n",
              "      <td>0</td>\n",
              "      <td>1</td>\n",
              "    </tr>\n",
              "    <tr>\n",
              "      <th>2</th>\n",
              "      <td>9</td>\n",
              "      <td>675.07</td>\n",
              "      <td>1</td>\n",
              "      <td>1</td>\n",
              "      <td>1</td>\n",
              "      <td>1</td>\n",
              "      <td>2</td>\n",
              "      <td>0</td>\n",
              "      <td>1</td>\n",
              "      <td>0</td>\n",
              "      <td>0</td>\n",
              "      <td>0</td>\n",
              "      <td>1</td>\n",
              "      <td>0</td>\n",
              "    </tr>\n",
              "    <tr>\n",
              "      <th>3</th>\n",
              "      <td>2</td>\n",
              "      <td>101.64</td>\n",
              "      <td>0</td>\n",
              "      <td>1</td>\n",
              "      <td>0</td>\n",
              "      <td>1</td>\n",
              "      <td>3</td>\n",
              "      <td>1</td>\n",
              "      <td>0</td>\n",
              "      <td>0</td>\n",
              "      <td>1</td>\n",
              "      <td>0</td>\n",
              "      <td>0</td>\n",
              "      <td>1</td>\n",
              "    </tr>\n",
              "    <tr>\n",
              "      <th>4</th>\n",
              "      <td>4</td>\n",
              "      <td>241.42</td>\n",
              "      <td>0</td>\n",
              "      <td>1</td>\n",
              "      <td>1</td>\n",
              "      <td>0</td>\n",
              "      <td>0</td>\n",
              "      <td>0</td>\n",
              "      <td>1</td>\n",
              "      <td>0</td>\n",
              "      <td>0</td>\n",
              "      <td>1</td>\n",
              "      <td>0</td>\n",
              "      <td>0</td>\n",
              "    </tr>\n",
              "  </tbody>\n",
              "</table>\n",
              "</div>\n",
              "      <button class=\"colab-df-convert\" onclick=\"convertToInteractive('df-04835f11-0288-495f-b8ed-9bf5fa84a9c8')\"\n",
              "              title=\"Convert this dataframe to an interactive table.\"\n",
              "              style=\"display:none;\">\n",
              "        \n",
              "  <svg xmlns=\"http://www.w3.org/2000/svg\" height=\"24px\"viewBox=\"0 0 24 24\"\n",
              "       width=\"24px\">\n",
              "    <path d=\"M0 0h24v24H0V0z\" fill=\"none\"/>\n",
              "    <path d=\"M18.56 5.44l.94 2.06.94-2.06 2.06-.94-2.06-.94-.94-2.06-.94 2.06-2.06.94zm-11 1L8.5 8.5l.94-2.06 2.06-.94-2.06-.94L8.5 2.5l-.94 2.06-2.06.94zm10 10l.94 2.06.94-2.06 2.06-.94-2.06-.94-.94-2.06-.94 2.06-2.06.94z\"/><path d=\"M17.41 7.96l-1.37-1.37c-.4-.4-.92-.59-1.43-.59-.52 0-1.04.2-1.43.59L10.3 9.45l-7.72 7.72c-.78.78-.78 2.05 0 2.83L4 21.41c.39.39.9.59 1.41.59.51 0 1.02-.2 1.41-.59l7.78-7.78 2.81-2.81c.8-.78.8-2.07 0-2.86zM5.41 20L4 18.59l7.72-7.72 1.47 1.35L5.41 20z\"/>\n",
              "  </svg>\n",
              "      </button>\n",
              "      \n",
              "  <style>\n",
              "    .colab-df-container {\n",
              "      display:flex;\n",
              "      flex-wrap:wrap;\n",
              "      gap: 12px;\n",
              "    }\n",
              "\n",
              "    .colab-df-convert {\n",
              "      background-color: #E8F0FE;\n",
              "      border: none;\n",
              "      border-radius: 50%;\n",
              "      cursor: pointer;\n",
              "      display: none;\n",
              "      fill: #1967D2;\n",
              "      height: 32px;\n",
              "      padding: 0 0 0 0;\n",
              "      width: 32px;\n",
              "    }\n",
              "\n",
              "    .colab-df-convert:hover {\n",
              "      background-color: #E2EBFA;\n",
              "      box-shadow: 0px 1px 2px rgba(60, 64, 67, 0.3), 0px 1px 3px 1px rgba(60, 64, 67, 0.15);\n",
              "      fill: #174EA6;\n",
              "    }\n",
              "\n",
              "    [theme=dark] .colab-df-convert {\n",
              "      background-color: #3B4455;\n",
              "      fill: #D2E3FC;\n",
              "    }\n",
              "\n",
              "    [theme=dark] .colab-df-convert:hover {\n",
              "      background-color: #434B5C;\n",
              "      box-shadow: 0px 1px 3px 1px rgba(0, 0, 0, 0.15);\n",
              "      filter: drop-shadow(0px 1px 2px rgba(0, 0, 0, 0.3));\n",
              "      fill: #FFFFFF;\n",
              "    }\n",
              "  </style>\n",
              "\n",
              "      <script>\n",
              "        const buttonEl =\n",
              "          document.querySelector('#df-04835f11-0288-495f-b8ed-9bf5fa84a9c8 button.colab-df-convert');\n",
              "        buttonEl.style.display =\n",
              "          google.colab.kernel.accessAllowed ? 'block' : 'none';\n",
              "\n",
              "        async function convertToInteractive(key) {\n",
              "          const element = document.querySelector('#df-04835f11-0288-495f-b8ed-9bf5fa84a9c8');\n",
              "          const dataTable =\n",
              "            await google.colab.kernel.invokeFunction('convertToInteractive',\n",
              "                                                     [key], {});\n",
              "          if (!dataTable) return;\n",
              "\n",
              "          const docLinkHtml = 'Like what you see? Visit the ' +\n",
              "            '<a target=\"_blank\" href=https://colab.research.google.com/notebooks/data_table.ipynb>data table notebook</a>'\n",
              "            + ' to learn more about interactive tables.';\n",
              "          element.innerHTML = '';\n",
              "          dataTable['output_type'] = 'display_data';\n",
              "          await google.colab.output.renderOutput(dataTable, element);\n",
              "          const docLink = document.createElement('div');\n",
              "          docLink.innerHTML = docLinkHtml;\n",
              "          element.appendChild(docLink);\n",
              "        }\n",
              "      </script>\n",
              "    </div>\n",
              "  </div>\n",
              "  "
            ]
          },
          "metadata": {},
          "execution_count": 4
        }
      ],
      "source": [
        "df_discount.head()"
      ]
    },
    {
      "cell_type": "code",
      "execution_count": 5,
      "metadata": {
        "colab": {
          "base_uri": "https://localhost:8080/",
          "height": 270
        },
        "id": "bzpY_Sl77A65",
        "outputId": "329d0aa8-0810-4d42-e518-22537763cdc7"
      },
      "outputs": [
        {
          "output_type": "execute_result",
          "data": {
            "text/plain": [
              "   recency  history  used_discount  used_bogo  is_referral  treatment  \\\n",
              "0       10   142.44              1          0            0          1   \n",
              "1        6   329.08              1          1            1          0   \n",
              "2        7   180.65              0          1            1          1   \n",
              "3        2    45.34              1          0            0          1   \n",
              "4        6   134.83              0          1            0          1   \n",
              "\n",
              "   target_class  conversion  zip_code_Rural  zip_code_Surburban  \\\n",
              "0             2           0               0                   1   \n",
              "1             0           0               1                   0   \n",
              "2             2           0               0                   1   \n",
              "3             2           0               0                   0   \n",
              "4             3           1               0                   1   \n",
              "\n",
              "   zip_code_Urban  channel_Multichannel  channel_Phone  channel_Web  \n",
              "0               0                     0              1            0  \n",
              "1               0                     0              0            1  \n",
              "2               0                     0              0            1  \n",
              "3               1                     0              0            1  \n",
              "4               0                     0              1            0  "
            ],
            "text/html": [
              "\n",
              "  <div id=\"df-84317a17-9c24-47b9-a34b-7a85866b4bc4\">\n",
              "    <div class=\"colab-df-container\">\n",
              "      <div>\n",
              "<style scoped>\n",
              "    .dataframe tbody tr th:only-of-type {\n",
              "        vertical-align: middle;\n",
              "    }\n",
              "\n",
              "    .dataframe tbody tr th {\n",
              "        vertical-align: top;\n",
              "    }\n",
              "\n",
              "    .dataframe thead th {\n",
              "        text-align: right;\n",
              "    }\n",
              "</style>\n",
              "<table border=\"1\" class=\"dataframe\">\n",
              "  <thead>\n",
              "    <tr style=\"text-align: right;\">\n",
              "      <th></th>\n",
              "      <th>recency</th>\n",
              "      <th>history</th>\n",
              "      <th>used_discount</th>\n",
              "      <th>used_bogo</th>\n",
              "      <th>is_referral</th>\n",
              "      <th>treatment</th>\n",
              "      <th>target_class</th>\n",
              "      <th>conversion</th>\n",
              "      <th>zip_code_Rural</th>\n",
              "      <th>zip_code_Surburban</th>\n",
              "      <th>zip_code_Urban</th>\n",
              "      <th>channel_Multichannel</th>\n",
              "      <th>channel_Phone</th>\n",
              "      <th>channel_Web</th>\n",
              "    </tr>\n",
              "  </thead>\n",
              "  <tbody>\n",
              "    <tr>\n",
              "      <th>0</th>\n",
              "      <td>10</td>\n",
              "      <td>142.44</td>\n",
              "      <td>1</td>\n",
              "      <td>0</td>\n",
              "      <td>0</td>\n",
              "      <td>1</td>\n",
              "      <td>2</td>\n",
              "      <td>0</td>\n",
              "      <td>0</td>\n",
              "      <td>1</td>\n",
              "      <td>0</td>\n",
              "      <td>0</td>\n",
              "      <td>1</td>\n",
              "      <td>0</td>\n",
              "    </tr>\n",
              "    <tr>\n",
              "      <th>1</th>\n",
              "      <td>6</td>\n",
              "      <td>329.08</td>\n",
              "      <td>1</td>\n",
              "      <td>1</td>\n",
              "      <td>1</td>\n",
              "      <td>0</td>\n",
              "      <td>0</td>\n",
              "      <td>0</td>\n",
              "      <td>1</td>\n",
              "      <td>0</td>\n",
              "      <td>0</td>\n",
              "      <td>0</td>\n",
              "      <td>0</td>\n",
              "      <td>1</td>\n",
              "    </tr>\n",
              "    <tr>\n",
              "      <th>2</th>\n",
              "      <td>7</td>\n",
              "      <td>180.65</td>\n",
              "      <td>0</td>\n",
              "      <td>1</td>\n",
              "      <td>1</td>\n",
              "      <td>1</td>\n",
              "      <td>2</td>\n",
              "      <td>0</td>\n",
              "      <td>0</td>\n",
              "      <td>1</td>\n",
              "      <td>0</td>\n",
              "      <td>0</td>\n",
              "      <td>0</td>\n",
              "      <td>1</td>\n",
              "    </tr>\n",
              "    <tr>\n",
              "      <th>3</th>\n",
              "      <td>2</td>\n",
              "      <td>45.34</td>\n",
              "      <td>1</td>\n",
              "      <td>0</td>\n",
              "      <td>0</td>\n",
              "      <td>1</td>\n",
              "      <td>2</td>\n",
              "      <td>0</td>\n",
              "      <td>0</td>\n",
              "      <td>0</td>\n",
              "      <td>1</td>\n",
              "      <td>0</td>\n",
              "      <td>0</td>\n",
              "      <td>1</td>\n",
              "    </tr>\n",
              "    <tr>\n",
              "      <th>4</th>\n",
              "      <td>6</td>\n",
              "      <td>134.83</td>\n",
              "      <td>0</td>\n",
              "      <td>1</td>\n",
              "      <td>0</td>\n",
              "      <td>1</td>\n",
              "      <td>3</td>\n",
              "      <td>1</td>\n",
              "      <td>0</td>\n",
              "      <td>1</td>\n",
              "      <td>0</td>\n",
              "      <td>0</td>\n",
              "      <td>1</td>\n",
              "      <td>0</td>\n",
              "    </tr>\n",
              "  </tbody>\n",
              "</table>\n",
              "</div>\n",
              "      <button class=\"colab-df-convert\" onclick=\"convertToInteractive('df-84317a17-9c24-47b9-a34b-7a85866b4bc4')\"\n",
              "              title=\"Convert this dataframe to an interactive table.\"\n",
              "              style=\"display:none;\">\n",
              "        \n",
              "  <svg xmlns=\"http://www.w3.org/2000/svg\" height=\"24px\"viewBox=\"0 0 24 24\"\n",
              "       width=\"24px\">\n",
              "    <path d=\"M0 0h24v24H0V0z\" fill=\"none\"/>\n",
              "    <path d=\"M18.56 5.44l.94 2.06.94-2.06 2.06-.94-2.06-.94-.94-2.06-.94 2.06-2.06.94zm-11 1L8.5 8.5l.94-2.06 2.06-.94-2.06-.94L8.5 2.5l-.94 2.06-2.06.94zm10 10l.94 2.06.94-2.06 2.06-.94-2.06-.94-.94-2.06-.94 2.06-2.06.94z\"/><path d=\"M17.41 7.96l-1.37-1.37c-.4-.4-.92-.59-1.43-.59-.52 0-1.04.2-1.43.59L10.3 9.45l-7.72 7.72c-.78.78-.78 2.05 0 2.83L4 21.41c.39.39.9.59 1.41.59.51 0 1.02-.2 1.41-.59l7.78-7.78 2.81-2.81c.8-.78.8-2.07 0-2.86zM5.41 20L4 18.59l7.72-7.72 1.47 1.35L5.41 20z\"/>\n",
              "  </svg>\n",
              "      </button>\n",
              "      \n",
              "  <style>\n",
              "    .colab-df-container {\n",
              "      display:flex;\n",
              "      flex-wrap:wrap;\n",
              "      gap: 12px;\n",
              "    }\n",
              "\n",
              "    .colab-df-convert {\n",
              "      background-color: #E8F0FE;\n",
              "      border: none;\n",
              "      border-radius: 50%;\n",
              "      cursor: pointer;\n",
              "      display: none;\n",
              "      fill: #1967D2;\n",
              "      height: 32px;\n",
              "      padding: 0 0 0 0;\n",
              "      width: 32px;\n",
              "    }\n",
              "\n",
              "    .colab-df-convert:hover {\n",
              "      background-color: #E2EBFA;\n",
              "      box-shadow: 0px 1px 2px rgba(60, 64, 67, 0.3), 0px 1px 3px 1px rgba(60, 64, 67, 0.15);\n",
              "      fill: #174EA6;\n",
              "    }\n",
              "\n",
              "    [theme=dark] .colab-df-convert {\n",
              "      background-color: #3B4455;\n",
              "      fill: #D2E3FC;\n",
              "    }\n",
              "\n",
              "    [theme=dark] .colab-df-convert:hover {\n",
              "      background-color: #434B5C;\n",
              "      box-shadow: 0px 1px 3px 1px rgba(0, 0, 0, 0.15);\n",
              "      filter: drop-shadow(0px 1px 2px rgba(0, 0, 0, 0.3));\n",
              "      fill: #FFFFFF;\n",
              "    }\n",
              "  </style>\n",
              "\n",
              "      <script>\n",
              "        const buttonEl =\n",
              "          document.querySelector('#df-84317a17-9c24-47b9-a34b-7a85866b4bc4 button.colab-df-convert');\n",
              "        buttonEl.style.display =\n",
              "          google.colab.kernel.accessAllowed ? 'block' : 'none';\n",
              "\n",
              "        async function convertToInteractive(key) {\n",
              "          const element = document.querySelector('#df-84317a17-9c24-47b9-a34b-7a85866b4bc4');\n",
              "          const dataTable =\n",
              "            await google.colab.kernel.invokeFunction('convertToInteractive',\n",
              "                                                     [key], {});\n",
              "          if (!dataTable) return;\n",
              "\n",
              "          const docLinkHtml = 'Like what you see? Visit the ' +\n",
              "            '<a target=\"_blank\" href=https://colab.research.google.com/notebooks/data_table.ipynb>data table notebook</a>'\n",
              "            + ' to learn more about interactive tables.';\n",
              "          element.innerHTML = '';\n",
              "          dataTable['output_type'] = 'display_data';\n",
              "          await google.colab.output.renderOutput(dataTable, element);\n",
              "          const docLink = document.createElement('div');\n",
              "          docLink.innerHTML = docLinkHtml;\n",
              "          element.appendChild(docLink);\n",
              "        }\n",
              "      </script>\n",
              "    </div>\n",
              "  </div>\n",
              "  "
            ]
          },
          "metadata": {},
          "execution_count": 5
        }
      ],
      "source": [
        "df_bogo.head()"
      ]
    },
    {
      "cell_type": "code",
      "execution_count": 6,
      "metadata": {
        "id": "UaQoVdHk7A65"
      },
      "outputs": [],
      "source": [
        "# Определим колонки с факторами, тритментом и таргетом\n",
        "feature_cols = ['recency', 'history', 'used_discount', 'used_bogo', 'is_referral',\n",
        "                'zip_code_Rural', 'zip_code_Surburban', 'zip_code_Urban',\n",
        "                'channel_Multichannel', 'channel_Phone', 'channel_Web']\n",
        "\n",
        "target_col = 'conversion'\n",
        "treatment_col = 'treatment'"
      ]
    },
    {
      "cell_type": "markdown",
      "metadata": {
        "id": "Q9Hq_5So7A65"
      },
      "source": [
        "## Работаем с данными о скидках"
      ]
    },
    {
      "cell_type": "markdown",
      "metadata": {
        "id": "QnEnDfjl7A65"
      },
      "source": [
        "### Обучающая и тестовая выборка"
      ]
    },
    {
      "cell_type": "markdown",
      "metadata": {
        "id": "GnM8mW6m7A66"
      },
      "source": [
        "Мы будем работать с данными о скидках. Оценить uplift-эффект на данных о результатх промоакций вам предстоит самостоятельно."
      ]
    },
    {
      "cell_type": "markdown",
      "metadata": {
        "id": "hdmQzY7O7A66"
      },
      "source": [
        "Разделим данные на тренировочную и тестовую выборки."
      ]
    },
    {
      "cell_type": "code",
      "execution_count": 7,
      "metadata": {
        "colab": {
          "base_uri": "https://localhost:8080/",
          "height": 306
        },
        "id": "yP22_et77A66",
        "outputId": "56fe0d5a-8999-475f-e52f-873f5d47da8d"
      },
      "outputs": [
        {
          "output_type": "stream",
          "name": "stdout",
          "text": [
            "(29829, 14)\n",
            "(12784, 14)\n"
          ]
        },
        {
          "output_type": "execute_result",
          "data": {
            "text/plain": [
              "       recency  history  used_discount  used_bogo  is_referral  treatment  \\\n",
              "28236        1   616.27              1          0            1          1   \n",
              "37748       11   158.76              0          1            1          0   \n",
              "41505        3   269.60              1          0            1          1   \n",
              "1595         3   458.76              1          0            0          1   \n",
              "31544        7   209.56              0          1            0          1   \n",
              "\n",
              "       target_class  conversion  zip_code_Rural  zip_code_Surburban  \\\n",
              "28236             2           0               0                   0   \n",
              "37748             0           0               0                   0   \n",
              "41505             2           0               0                   0   \n",
              "1595              2           0               1                   0   \n",
              "31544             2           0               0                   0   \n",
              "\n",
              "       zip_code_Urban  channel_Multichannel  channel_Phone  channel_Web  \n",
              "28236               1                     1              0            0  \n",
              "37748               1                     0              0            1  \n",
              "41505               1                     0              1            0  \n",
              "1595                0                     1              0            0  \n",
              "31544               1                     1              0            0  "
            ],
            "text/html": [
              "\n",
              "  <div id=\"df-82cb15b8-e026-4ba3-aee1-863c4c2c9c16\">\n",
              "    <div class=\"colab-df-container\">\n",
              "      <div>\n",
              "<style scoped>\n",
              "    .dataframe tbody tr th:only-of-type {\n",
              "        vertical-align: middle;\n",
              "    }\n",
              "\n",
              "    .dataframe tbody tr th {\n",
              "        vertical-align: top;\n",
              "    }\n",
              "\n",
              "    .dataframe thead th {\n",
              "        text-align: right;\n",
              "    }\n",
              "</style>\n",
              "<table border=\"1\" class=\"dataframe\">\n",
              "  <thead>\n",
              "    <tr style=\"text-align: right;\">\n",
              "      <th></th>\n",
              "      <th>recency</th>\n",
              "      <th>history</th>\n",
              "      <th>used_discount</th>\n",
              "      <th>used_bogo</th>\n",
              "      <th>is_referral</th>\n",
              "      <th>treatment</th>\n",
              "      <th>target_class</th>\n",
              "      <th>conversion</th>\n",
              "      <th>zip_code_Rural</th>\n",
              "      <th>zip_code_Surburban</th>\n",
              "      <th>zip_code_Urban</th>\n",
              "      <th>channel_Multichannel</th>\n",
              "      <th>channel_Phone</th>\n",
              "      <th>channel_Web</th>\n",
              "    </tr>\n",
              "  </thead>\n",
              "  <tbody>\n",
              "    <tr>\n",
              "      <th>28236</th>\n",
              "      <td>1</td>\n",
              "      <td>616.27</td>\n",
              "      <td>1</td>\n",
              "      <td>0</td>\n",
              "      <td>1</td>\n",
              "      <td>1</td>\n",
              "      <td>2</td>\n",
              "      <td>0</td>\n",
              "      <td>0</td>\n",
              "      <td>0</td>\n",
              "      <td>1</td>\n",
              "      <td>1</td>\n",
              "      <td>0</td>\n",
              "      <td>0</td>\n",
              "    </tr>\n",
              "    <tr>\n",
              "      <th>37748</th>\n",
              "      <td>11</td>\n",
              "      <td>158.76</td>\n",
              "      <td>0</td>\n",
              "      <td>1</td>\n",
              "      <td>1</td>\n",
              "      <td>0</td>\n",
              "      <td>0</td>\n",
              "      <td>0</td>\n",
              "      <td>0</td>\n",
              "      <td>0</td>\n",
              "      <td>1</td>\n",
              "      <td>0</td>\n",
              "      <td>0</td>\n",
              "      <td>1</td>\n",
              "    </tr>\n",
              "    <tr>\n",
              "      <th>41505</th>\n",
              "      <td>3</td>\n",
              "      <td>269.60</td>\n",
              "      <td>1</td>\n",
              "      <td>0</td>\n",
              "      <td>1</td>\n",
              "      <td>1</td>\n",
              "      <td>2</td>\n",
              "      <td>0</td>\n",
              "      <td>0</td>\n",
              "      <td>0</td>\n",
              "      <td>1</td>\n",
              "      <td>0</td>\n",
              "      <td>1</td>\n",
              "      <td>0</td>\n",
              "    </tr>\n",
              "    <tr>\n",
              "      <th>1595</th>\n",
              "      <td>3</td>\n",
              "      <td>458.76</td>\n",
              "      <td>1</td>\n",
              "      <td>0</td>\n",
              "      <td>0</td>\n",
              "      <td>1</td>\n",
              "      <td>2</td>\n",
              "      <td>0</td>\n",
              "      <td>1</td>\n",
              "      <td>0</td>\n",
              "      <td>0</td>\n",
              "      <td>1</td>\n",
              "      <td>0</td>\n",
              "      <td>0</td>\n",
              "    </tr>\n",
              "    <tr>\n",
              "      <th>31544</th>\n",
              "      <td>7</td>\n",
              "      <td>209.56</td>\n",
              "      <td>0</td>\n",
              "      <td>1</td>\n",
              "      <td>0</td>\n",
              "      <td>1</td>\n",
              "      <td>2</td>\n",
              "      <td>0</td>\n",
              "      <td>0</td>\n",
              "      <td>0</td>\n",
              "      <td>1</td>\n",
              "      <td>1</td>\n",
              "      <td>0</td>\n",
              "      <td>0</td>\n",
              "    </tr>\n",
              "  </tbody>\n",
              "</table>\n",
              "</div>\n",
              "      <button class=\"colab-df-convert\" onclick=\"convertToInteractive('df-82cb15b8-e026-4ba3-aee1-863c4c2c9c16')\"\n",
              "              title=\"Convert this dataframe to an interactive table.\"\n",
              "              style=\"display:none;\">\n",
              "        \n",
              "  <svg xmlns=\"http://www.w3.org/2000/svg\" height=\"24px\"viewBox=\"0 0 24 24\"\n",
              "       width=\"24px\">\n",
              "    <path d=\"M0 0h24v24H0V0z\" fill=\"none\"/>\n",
              "    <path d=\"M18.56 5.44l.94 2.06.94-2.06 2.06-.94-2.06-.94-.94-2.06-.94 2.06-2.06.94zm-11 1L8.5 8.5l.94-2.06 2.06-.94-2.06-.94L8.5 2.5l-.94 2.06-2.06.94zm10 10l.94 2.06.94-2.06 2.06-.94-2.06-.94-.94-2.06-.94 2.06-2.06.94z\"/><path d=\"M17.41 7.96l-1.37-1.37c-.4-.4-.92-.59-1.43-.59-.52 0-1.04.2-1.43.59L10.3 9.45l-7.72 7.72c-.78.78-.78 2.05 0 2.83L4 21.41c.39.39.9.59 1.41.59.51 0 1.02-.2 1.41-.59l7.78-7.78 2.81-2.81c.8-.78.8-2.07 0-2.86zM5.41 20L4 18.59l7.72-7.72 1.47 1.35L5.41 20z\"/>\n",
              "  </svg>\n",
              "      </button>\n",
              "      \n",
              "  <style>\n",
              "    .colab-df-container {\n",
              "      display:flex;\n",
              "      flex-wrap:wrap;\n",
              "      gap: 12px;\n",
              "    }\n",
              "\n",
              "    .colab-df-convert {\n",
              "      background-color: #E8F0FE;\n",
              "      border: none;\n",
              "      border-radius: 50%;\n",
              "      cursor: pointer;\n",
              "      display: none;\n",
              "      fill: #1967D2;\n",
              "      height: 32px;\n",
              "      padding: 0 0 0 0;\n",
              "      width: 32px;\n",
              "    }\n",
              "\n",
              "    .colab-df-convert:hover {\n",
              "      background-color: #E2EBFA;\n",
              "      box-shadow: 0px 1px 2px rgba(60, 64, 67, 0.3), 0px 1px 3px 1px rgba(60, 64, 67, 0.15);\n",
              "      fill: #174EA6;\n",
              "    }\n",
              "\n",
              "    [theme=dark] .colab-df-convert {\n",
              "      background-color: #3B4455;\n",
              "      fill: #D2E3FC;\n",
              "    }\n",
              "\n",
              "    [theme=dark] .colab-df-convert:hover {\n",
              "      background-color: #434B5C;\n",
              "      box-shadow: 0px 1px 3px 1px rgba(0, 0, 0, 0.15);\n",
              "      filter: drop-shadow(0px 1px 2px rgba(0, 0, 0, 0.3));\n",
              "      fill: #FFFFFF;\n",
              "    }\n",
              "  </style>\n",
              "\n",
              "      <script>\n",
              "        const buttonEl =\n",
              "          document.querySelector('#df-82cb15b8-e026-4ba3-aee1-863c4c2c9c16 button.colab-df-convert');\n",
              "        buttonEl.style.display =\n",
              "          google.colab.kernel.accessAllowed ? 'block' : 'none';\n",
              "\n",
              "        async function convertToInteractive(key) {\n",
              "          const element = document.querySelector('#df-82cb15b8-e026-4ba3-aee1-863c4c2c9c16');\n",
              "          const dataTable =\n",
              "            await google.colab.kernel.invokeFunction('convertToInteractive',\n",
              "                                                     [key], {});\n",
              "          if (!dataTable) return;\n",
              "\n",
              "          const docLinkHtml = 'Like what you see? Visit the ' +\n",
              "            '<a target=\"_blank\" href=https://colab.research.google.com/notebooks/data_table.ipynb>data table notebook</a>'\n",
              "            + ' to learn more about interactive tables.';\n",
              "          element.innerHTML = '';\n",
              "          dataTable['output_type'] = 'display_data';\n",
              "          await google.colab.output.renderOutput(dataTable, element);\n",
              "          const docLink = document.createElement('div');\n",
              "          docLink.innerHTML = docLinkHtml;\n",
              "          element.appendChild(docLink);\n",
              "        }\n",
              "      </script>\n",
              "    </div>\n",
              "  </div>\n",
              "  "
            ]
          },
          "metadata": {},
          "execution_count": 7
        }
      ],
      "source": [
        "df_discount_train, df_discount_test = train_test_split(\n",
        "    df_discount, \n",
        "    stratify=df_discount[[treatment_col, target_col]], \n",
        "    random_state=13, \n",
        "    test_size=0.3\n",
        ")\n",
        "print(df_discount_train.shape)\n",
        "print(df_discount_test.shape)\n",
        "\n",
        "df_discount_train.head()"
      ]
    },
    {
      "cell_type": "markdown",
      "metadata": {
        "id": "lzHNWBSm7A66"
      },
      "source": [
        "### Quni-curve и qini-score"
      ]
    },
    {
      "cell_type": "markdown",
      "metadata": {
        "id": "3hCLplFw7A66"
      },
      "source": [
        "Создаем функцию для построения qini-curve и расчета qini-score"
      ]
    },
    {
      "cell_type": "code",
      "execution_count": 8,
      "metadata": {
        "id": "d4ikK2Sf7A67"
      },
      "outputs": [],
      "source": [
        "# Возьмем функцию для оценки qini-curve с прошлого занятия\n",
        "def qini_df(df, title='train', figsize=(5, 3)):\n",
        "    # Отранжируем выборку по значению uplift в убывающем порядке\n",
        "    ranked = df.sort_values(\"uplift_score\", ascending=False)\n",
        "    \n",
        "    N_c = sum(ranked['target_class'] <= 1)\n",
        "    N_t = sum(ranked['target_class'] >= 2)\n",
        "    \n",
        "    # Посчитаем в отсортированном датафрейме основные показатели, которые используются при расчете qini\n",
        "    ranked['n_c1'] = 0\n",
        "    ranked['n_t1'] = 0\n",
        "    ranked.loc[ranked.target_class == 1,'n_c1'] = 1\n",
        "    ranked.loc[ranked.target_class == 3,'n_t1'] = 1\n",
        "    ranked['n_c1/nc'] = ranked.n_c1.cumsum() / N_c\n",
        "    ranked['n_t1/nt'] = ranked.n_t1.cumsum() / N_t\n",
        "    \n",
        "    # Посчитаем qini curve и рандомную прямую под ней\n",
        "    ranked['uplift'] = round(ranked['n_t1/nt'] - ranked['n_c1/nc'],5)\n",
        "    # Добавим случайную кривую\n",
        "    ranked['random_uplift'] = round(ranked[\"uplift_score\"].rank(pct=True, ascending=False) * ranked['uplift'].iloc[-1],5)\n",
        "    \n",
        "    ranked[\"n\"] = ranked[\"uplift_score\"].rank(pct=True, ascending=False)\n",
        "    \n",
        "    # Немного кода для визуализации\n",
        "    fig = plt.figure(figsize=figsize)\n",
        "    plt.plot(ranked['n'], ranked['uplift'], color='r', label='Model')\n",
        "    plt.plot(ranked['n'], ranked['random_uplift'], color='b', label='RandomModel')\n",
        "    plt.legend()\n",
        "    plt.title('Qini-curve for {} samples'.format(title))\n",
        "    plt.show()\n",
        "    quni_score = (ranked['uplift'] - ranked['random_uplift']).sum()\n",
        "    print('Qini score: {:.3f}'.format(quni_score))"
      ]
    },
    {
      "cell_type": "markdown",
      "metadata": {
        "id": "xZLRQ4S87A67"
      },
      "source": [
        "## Uplift-моделирование с помощью CausalML"
      ]
    },
    {
      "cell_type": "markdown",
      "metadata": {
        "id": "w9-sVqYR7A67"
      },
      "source": [
        "Давайте посмотрим на реализацию S-learner и T-learner из библиотеки [CausalML](https://github.com/uber/causalml) от компании Uber ([документация](https://causalml.readthedocs.io/en/latest/index.html))."
      ]
    },
    {
      "cell_type": "markdown",
      "source": [
        "**Примечание:**\n",
        "\n",
        "Результаты uplift-моделирования могут несколько отличаться в зависимости от версии библиотек. Будьте внимательны."
      ],
      "metadata": {
        "id": "MOabWMqm-Ik4"
      }
    },
    {
      "cell_type": "markdown",
      "metadata": {
        "id": "Z05uh8eq7A67"
      },
      "source": [
        "### X-learner (CausalML)"
      ]
    },
    {
      "cell_type": "markdown",
      "metadata": {
        "id": "HBu0ib2s7A67"
      },
      "source": [
        "Попробуем воспользоваться X-learner`ом."
      ]
    },
    {
      "cell_type": "code",
      "execution_count": 9,
      "metadata": {
        "colab": {
          "base_uri": "https://localhost:8080/",
          "height": 1000
        },
        "id": "wEbcSRIA7A67",
        "outputId": "7ac30b6f-86dc-49ee-fad6-b891b06a3144"
      },
      "outputs": [
        {
          "output_type": "stream",
          "name": "stderr",
          "text": [
            "The max_iter was reached which means the coef_ did not converge\n",
            "The max_iter was reached which means the coef_ did not converge\n",
            "The max_iter was reached which means the coef_ did not converge\n",
            "The max_iter was reached which means the coef_ did not converge\n",
            "The max_iter was reached which means the coef_ did not converge\n",
            "The max_iter was reached which means the coef_ did not converge\n",
            "The max_iter was reached which means the coef_ did not converge\n",
            "The max_iter was reached which means the coef_ did not converge\n",
            "The max_iter was reached which means the coef_ did not converge\n",
            "The max_iter was reached which means the coef_ did not converge\n",
            "The max_iter was reached which means the coef_ did not converge\n",
            "The max_iter was reached which means the coef_ did not converge\n",
            "The max_iter was reached which means the coef_ did not converge\n",
            "The max_iter was reached which means the coef_ did not converge\n",
            "The max_iter was reached which means the coef_ did not converge\n",
            "The max_iter was reached which means the coef_ did not converge\n",
            "The max_iter was reached which means the coef_ did not converge\n",
            "The max_iter was reached which means the coef_ did not converge\n",
            "The max_iter was reached which means the coef_ did not converge\n",
            "The max_iter was reached which means the coef_ did not converge\n",
            "The max_iter was reached which means the coef_ did not converge\n",
            "The max_iter was reached which means the coef_ did not converge\n",
            "The max_iter was reached which means the coef_ did not converge\n",
            "The max_iter was reached which means the coef_ did not converge\n",
            "The max_iter was reached which means the coef_ did not converge\n",
            "The max_iter was reached which means the coef_ did not converge\n",
            "The max_iter was reached which means the coef_ did not converge\n",
            "The max_iter was reached which means the coef_ did not converge\n",
            "The max_iter was reached which means the coef_ did not converge\n",
            "The max_iter was reached which means the coef_ did not converge\n",
            "The max_iter was reached which means the coef_ did not converge\n",
            "The max_iter was reached which means the coef_ did not converge\n",
            "The max_iter was reached which means the coef_ did not converge\n",
            "The max_iter was reached which means the coef_ did not converge\n",
            "The max_iter was reached which means the coef_ did not converge\n",
            "The max_iter was reached which means the coef_ did not converge\n",
            "The max_iter was reached which means the coef_ did not converge\n",
            "The max_iter was reached which means the coef_ did not converge\n",
            "The max_iter was reached which means the coef_ did not converge\n",
            "The max_iter was reached which means the coef_ did not converge\n",
            "The max_iter was reached which means the coef_ did not converge\n",
            "The max_iter was reached which means the coef_ did not converge\n",
            "The max_iter was reached which means the coef_ did not converge\n",
            "The max_iter was reached which means the coef_ did not converge\n",
            "The max_iter was reached which means the coef_ did not converge\n",
            "The max_iter was reached which means the coef_ did not converge\n",
            "The max_iter was reached which means the coef_ did not converge\n",
            "The max_iter was reached which means the coef_ did not converge\n",
            "The max_iter was reached which means the coef_ did not converge\n",
            "The max_iter was reached which means the coef_ did not converge\n",
            "The max_iter was reached which means the coef_ did not converge\n",
            "The max_iter was reached which means the coef_ did not converge\n",
            "The max_iter was reached which means the coef_ did not converge\n",
            "The max_iter was reached which means the coef_ did not converge\n",
            "The max_iter was reached which means the coef_ did not converge\n",
            "The max_iter was reached which means the coef_ did not converge\n",
            "The max_iter was reached which means the coef_ did not converge\n",
            "The max_iter was reached which means the coef_ did not converge\n",
            "The max_iter was reached which means the coef_ did not converge\n",
            "The max_iter was reached which means the coef_ did not converge\n",
            "The max_iter was reached which means the coef_ did not converge\n",
            "The max_iter was reached which means the coef_ did not converge\n",
            "The max_iter was reached which means the coef_ did not converge\n",
            "The max_iter was reached which means the coef_ did not converge\n",
            "The max_iter was reached which means the coef_ did not converge\n"
          ]
        },
        {
          "output_type": "display_data",
          "data": {
            "text/plain": [
              "<Figure size 500x300 with 1 Axes>"
            ],
            "image/png": "[encoded data removed]"
          },
          "metadata": {}
        },
        {
          "output_type": "stream",
          "name": "stdout",
          "text": [
            "Qini score: 129.915\n"
          ]
        },
        {
          "output_type": "display_data",
          "data": {
            "text/plain": [
              "<Figure size 500x300 with 1 Axes>"
            ],
            "image/png": "[encoded data removed]"
          },
          "metadata": {}
        },
        {
          "output_type": "stream",
          "name": "stdout",
          "text": [
            "Qini score: 19.396\n"
          ]
        }
      ],
      "source": [
        "# Давайте по данным построим X-learner\n",
        "\n",
        "# Создадим базовый X-learner\n",
        "x_learner = BaseXClassifier(\n",
        "    outcome_learner=CatBoostClassifier(depth=5, random_seed=13, verbose=0),\n",
        "    effect_learner=LinearRegression()\n",
        ")\n",
        "\n",
        "# Для обучения нам нужны датафрем с факторами, колонка с фактом воздействия\n",
        "x_learner.fit(\n",
        "    X=df_discount_train[feature_cols],\n",
        "    treatment=df_discount_train[treatment_col],\n",
        "    y=df_discount_train[target_col]\n",
        ")\n",
        "\n",
        "# Сделаем предсказание uplift-эффекта на обучающей выборке\n",
        "uplift_vals = x_learner.predict(np.array(df_discount_train[feature_cols].values.copy()))\n",
        "df_discount_train['uplift_score'] = uplift_vals\n",
        "\n",
        "# Сделаем предсказание uplift-эффекта на тестовой выборке\n",
        "uplift_vals = x_learner.predict(np.array(df_discount_test[feature_cols].values.copy()))\n",
        "df_discount_test['uplift_score'] = uplift_vals\n",
        "\n",
        "# Мы получили какие-то значения рамках решения задачи классификации, давайте посмотрим на qini score\n",
        "qini_df(df_discount_train, title='train')\n",
        "qini_df(df_discount_test, title='test')"
      ]
    },
    {
      "cell_type": "markdown",
      "metadata": {
        "id": "EDz2D4CJ7A68"
      },
      "source": [
        "Не будем реализовывать X-learner руками, хотя задача не такая тяжелая. Вы можете посмотреть реализацию в исходном коде [СausalML на github]((https://github.com/uber/causalml)). Можно поуправлять параметрами представленных моделей, взять более тяжелые модели или расширить обучающую выборку, чтобы повысить результаты. Но помните, что усложенение используемых моделей приведет к значительному увеличению времени обучения."
      ]
    },
    {
      "cell_type": "markdown",
      "metadata": {
        "id": "qruAgOKq7A68"
      },
      "source": [
        "### R-learner (CausalML)"
      ]
    },
    {
      "cell_type": "markdown",
      "metadata": {
        "id": "pZj9p31w7A68"
      },
      "source": [
        "Теперь давайте посмотрим на R-learner."
      ]
    },
    {
      "cell_type": "code",
      "execution_count": 10,
      "metadata": {
        "colab": {
          "base_uri": "https://localhost:8080/",
          "height": 1000
        },
        "id": "Nme0RoN57A68",
        "outputId": "e9208715-f2f0-470d-8f94-7fda79649b86"
      },
      "outputs": [
        {
          "output_type": "stream",
          "name": "stderr",
          "text": [
            "The max_iter was reached which means the coef_ did not converge\n",
            "The max_iter was reached which means the coef_ did not converge\n",
            "The max_iter was reached which means the coef_ did not converge\n",
            "The max_iter was reached which means the coef_ did not converge\n",
            "The max_iter was reached which means the coef_ did not converge\n",
            "The max_iter was reached which means the coef_ did not converge\n",
            "The max_iter was reached which means the coef_ did not converge\n",
            "The max_iter was reached which means the coef_ did not converge\n",
            "The max_iter was reached which means the coef_ did not converge\n",
            "The max_iter was reached which means the coef_ did not converge\n",
            "The max_iter was reached which means the coef_ did not converge\n",
            "The max_iter was reached which means the coef_ did not converge\n",
            "The max_iter was reached which means the coef_ did not converge\n",
            "The max_iter was reached which means the coef_ did not converge\n",
            "The max_iter was reached which means the coef_ did not converge\n",
            "The max_iter was reached which means the coef_ did not converge\n",
            "The max_iter was reached which means the coef_ did not converge\n",
            "The max_iter was reached which means the coef_ did not converge\n",
            "The max_iter was reached which means the coef_ did not converge\n",
            "The max_iter was reached which means the coef_ did not converge\n",
            "The max_iter was reached which means the coef_ did not converge\n",
            "The max_iter was reached which means the coef_ did not converge\n",
            "The max_iter was reached which means the coef_ did not converge\n",
            "The max_iter was reached which means the coef_ did not converge\n",
            "The max_iter was reached which means the coef_ did not converge\n",
            "The max_iter was reached which means the coef_ did not converge\n",
            "The max_iter was reached which means the coef_ did not converge\n",
            "The max_iter was reached which means the coef_ did not converge\n",
            "The max_iter was reached which means the coef_ did not converge\n",
            "The max_iter was reached which means the coef_ did not converge\n",
            "The max_iter was reached which means the coef_ did not converge\n",
            "The max_iter was reached which means the coef_ did not converge\n",
            "The max_iter was reached which means the coef_ did not converge\n",
            "The max_iter was reached which means the coef_ did not converge\n",
            "The max_iter was reached which means the coef_ did not converge\n",
            "The max_iter was reached which means the coef_ did not converge\n",
            "The max_iter was reached which means the coef_ did not converge\n",
            "The max_iter was reached which means the coef_ did not converge\n",
            "The max_iter was reached which means the coef_ did not converge\n",
            "The max_iter was reached which means the coef_ did not converge\n",
            "The max_iter was reached which means the coef_ did not converge\n",
            "The max_iter was reached which means the coef_ did not converge\n",
            "The max_iter was reached which means the coef_ did not converge\n",
            "The max_iter was reached which means the coef_ did not converge\n",
            "The max_iter was reached which means the coef_ did not converge\n",
            "The max_iter was reached which means the coef_ did not converge\n",
            "The max_iter was reached which means the coef_ did not converge\n",
            "The max_iter was reached which means the coef_ did not converge\n",
            "The max_iter was reached which means the coef_ did not converge\n",
            "The max_iter was reached which means the coef_ did not converge\n",
            "The max_iter was reached which means the coef_ did not converge\n",
            "The max_iter was reached which means the coef_ did not converge\n",
            "The max_iter was reached which means the coef_ did not converge\n",
            "The max_iter was reached which means the coef_ did not converge\n",
            "The max_iter was reached which means the coef_ did not converge\n",
            "The max_iter was reached which means the coef_ did not converge\n",
            "The max_iter was reached which means the coef_ did not converge\n",
            "The max_iter was reached which means the coef_ did not converge\n",
            "The max_iter was reached which means the coef_ did not converge\n",
            "The max_iter was reached which means the coef_ did not converge\n",
            "The max_iter was reached which means the coef_ did not converge\n",
            "The max_iter was reached which means the coef_ did not converge\n",
            "The max_iter was reached which means the coef_ did not converge\n",
            "The max_iter was reached which means the coef_ did not converge\n",
            "The max_iter was reached which means the coef_ did not converge\n"
          ]
        },
        {
          "output_type": "display_data",
          "data": {
            "text/plain": [
              "<Figure size 500x300 with 1 Axes>"
            ],
            "image/png": "[encoded data removed]"
          },
          "metadata": {}
        },
        {
          "output_type": "stream",
          "name": "stdout",
          "text": [
            "Qini score: 131.817\n"
          ]
        },
        {
          "output_type": "display_data",
          "data": {
            "text/plain": [
              "<Figure size 500x300 with 1 Axes>"
            ],
            "image/png": "[encoded data removed]"
          },
          "metadata": {}
        },
        {
          "output_type": "stream",
          "name": "stdout",
          "text": [
            "Qini score: 15.069\n"
          ]
        }
      ],
      "source": [
        "# Давайте по данным построим R-learner\n",
        "\n",
        "# Создадим базовый R-learner\n",
        "r_learner = BaseRClassifier(\n",
        "    outcome_learner=CatBoostClassifier(depth=5, random_seed=13, verbose=0),\n",
        "    effect_learner=LinearRegression(),\n",
        "    random_state=42\n",
        ")\n",
        "\n",
        "# Для обучения нам нужны датафрем с факторами, колонка с фактом воздействия\n",
        "r_learner.fit(X=df_discount_train[feature_cols],\n",
        "              treatment=df_discount_train[treatment_col],\n",
        "              y=df_discount_train[target_col])\n",
        "\n",
        "# Сделаем предсказание uplift-эффекта на обучающей выборке\n",
        "uplift_vals = r_learner.predict(np.array(df_discount_train[feature_cols].values.copy()))\n",
        "df_discount_train['uplift_score'] = uplift_vals\n",
        "\n",
        "# Сделаем предсказание uplift-эффекта на тестовой выборке\n",
        "uplift_vals = r_learner.predict(np.array(df_discount_test[feature_cols].values.copy()))\n",
        "df_discount_test['uplift_score'] = uplift_vals\n",
        "\n",
        "# Мы получили какие-то значения рамках решения задачи классификации, давайте посмотрим на qini score\n",
        "qini_df(df_discount_train, title='train')\n",
        "qini_df(df_discount_test, title='test')"
      ]
    },
    {
      "cell_type": "markdown",
      "metadata": {
        "id": "v1lNlILM7A68"
      },
      "source": [
        "Итак, что мы видим? на текущей задаче X- и R- Learner`ы при заданных моделях и их параметрах показатели себя не очень хорошо. Но мы использовали только базовые модели, вы можете использовать более сложные предикторы на каждом этапе и подобрать их параметры. Мы уверены в том, что этим навыком вы уже владеете и сможете сделать это самостоятельно!"
      ]
    },
    {
      "cell_type": "markdown",
      "metadata": {
        "id": "hSibctJw7A69"
      },
      "source": [
        "## Работаем с данными о промоакциях "
      ]
    },
    {
      "cell_type": "markdown",
      "metadata": {
        "id": "sU9duzwk7A69"
      },
      "source": [
        "Теперь вам предстоит самостоятельно провести uplift-моделирование с помощью X- и R- Learner`ов на данных о промоакциях. "
      ]
    },
    {
      "cell_type": "markdown",
      "metadata": {
        "id": "bIbzaHnt7A69"
      },
      "source": [
        "### Обучающая и тестовая выборки"
      ]
    },
    {
      "cell_type": "markdown",
      "metadata": {
        "id": "g3kQkazZ7A69"
      },
      "source": [
        "Разделим данные на тренировочную и тестовую выборки."
      ]
    },
    {
      "cell_type": "code",
      "execution_count": 11,
      "metadata": {
        "colab": {
          "base_uri": "https://localhost:8080/",
          "height": 306
        },
        "id": "e8PZPv257A69",
        "outputId": "64a10eb5-63d5-4829-f2c1-33388ab76fe1"
      },
      "outputs": [
        {
          "output_type": "stream",
          "name": "stdout",
          "text": [
            "(29885, 14)\n",
            "(12808, 14)\n"
          ]
        },
        {
          "output_type": "execute_result",
          "data": {
            "text/plain": [
              "       recency  history  used_discount  used_bogo  is_referral  treatment  \\\n",
              "20518        2   167.94              1          0            1          1   \n",
              "34388       11   129.29              1          0            0          1   \n",
              "40663        9   129.61              0          1            1          0   \n",
              "30626        2   333.87              1          0            1          1   \n",
              "16372        4   103.79              1          0            1          1   \n",
              "\n",
              "       target_class  conversion  zip_code_Rural  zip_code_Surburban  \\\n",
              "20518             2           0               0                   1   \n",
              "34388             2           0               0                   1   \n",
              "40663             0           0               1                   0   \n",
              "30626             2           0               0                   1   \n",
              "16372             2           0               0                   0   \n",
              "\n",
              "       zip_code_Urban  channel_Multichannel  channel_Phone  channel_Web  \n",
              "20518               0                     0              0            1  \n",
              "34388               0                     0              1            0  \n",
              "40663               0                     0              0            1  \n",
              "30626               0                     1              0            0  \n",
              "16372               1                     0              0            1  "
            ],
            "text/html": [
              "\n",
              "  <div id=\"df-de4de21f-7af8-4878-873c-97aac7d84cf0\">\n",
              "    <div class=\"colab-df-container\">\n",
              "      <div>\n",
              "<style scoped>\n",
              "    .dataframe tbody tr th:only-of-type {\n",
              "        vertical-align: middle;\n",
              "    }\n",
              "\n",
              "    .dataframe tbody tr th {\n",
              "        vertical-align: top;\n",
              "    }\n",
              "\n",
              "    .dataframe thead th {\n",
              "        text-align: right;\n",
              "    }\n",
              "</style>\n",
              "<table border=\"1\" class=\"dataframe\">\n",
              "  <thead>\n",
              "    <tr style=\"text-align: right;\">\n",
              "      <th></th>\n",
              "      <th>recency</th>\n",
              "      <th>history</th>\n",
              "      <th>used_discount</th>\n",
              "      <th>used_bogo</th>\n",
              "      <th>is_referral</th>\n",
              "      <th>treatment</th>\n",
              "      <th>target_class</th>\n",
              "      <th>conversion</th>\n",
              "      <th>zip_code_Rural</th>\n",
              "      <th>zip_code_Surburban</th>\n",
              "      <th>zip_code_Urban</th>\n",
              "      <th>channel_Multichannel</th>\n",
              "      <th>channel_Phone</th>\n",
              "      <th>channel_Web</th>\n",
              "    </tr>\n",
              "  </thead>\n",
              "  <tbody>\n",
              "    <tr>\n",
              "      <th>20518</th>\n",
              "      <td>2</td>\n",
              "      <td>167.94</td>\n",
              "      <td>1</td>\n",
              "      <td>0</td>\n",
              "      <td>1</td>\n",
              "      <td>1</td>\n",
              "      <td>2</td>\n",
              "      <td>0</td>\n",
              "      <td>0</td>\n",
              "      <td>1</td>\n",
              "      <td>0</td>\n",
              "      <td>0</td>\n",
              "      <td>0</td>\n",
              "      <td>1</td>\n",
              "    </tr>\n",
              "    <tr>\n",
              "      <th>34388</th>\n",
              "      <td>11</td>\n",
              "      <td>129.29</td>\n",
              "      <td>1</td>\n",
              "      <td>0</td>\n",
              "      <td>0</td>\n",
              "      <td>1</td>\n",
              "      <td>2</td>\n",
              "      <td>0</td>\n",
              "      <td>0</td>\n",
              "      <td>1</td>\n",
              "      <td>0</td>\n",
              "      <td>0</td>\n",
              "      <td>1</td>\n",
              "      <td>0</td>\n",
              "    </tr>\n",
              "    <tr>\n",
              "      <th>40663</th>\n",
              "      <td>9</td>\n",
              "      <td>129.61</td>\n",
              "      <td>0</td>\n",
              "      <td>1</td>\n",
              "      <td>1</td>\n",
              "      <td>0</td>\n",
              "      <td>0</td>\n",
              "      <td>0</td>\n",
              "      <td>1</td>\n",
              "      <td>0</td>\n",
              "      <td>0</td>\n",
              "      <td>0</td>\n",
              "      <td>0</td>\n",
              "      <td>1</td>\n",
              "    </tr>\n",
              "    <tr>\n",
              "      <th>30626</th>\n",
              "      <td>2</td>\n",
              "      <td>333.87</td>\n",
              "      <td>1</td>\n",
              "      <td>0</td>\n",
              "      <td>1</td>\n",
              "      <td>1</td>\n",
              "      <td>2</td>\n",
              "      <td>0</td>\n",
              "      <td>0</td>\n",
              "      <td>1</td>\n",
              "      <td>0</td>\n",
              "      <td>1</td>\n",
              "      <td>0</td>\n",
              "      <td>0</td>\n",
              "    </tr>\n",
              "    <tr>\n",
              "      <th>16372</th>\n",
              "      <td>4</td>\n",
              "      <td>103.79</td>\n",
              "      <td>1</td>\n",
              "      <td>0</td>\n",
              "      <td>1</td>\n",
              "      <td>1</td>\n",
              "      <td>2</td>\n",
              "      <td>0</td>\n",
              "      <td>0</td>\n",
              "      <td>0</td>\n",
              "      <td>1</td>\n",
              "      <td>0</td>\n",
              "      <td>0</td>\n",
              "      <td>1</td>\n",
              "    </tr>\n",
              "  </tbody>\n",
              "</table>\n",
              "</div>\n",
              "      <button class=\"colab-df-convert\" onclick=\"convertToInteractive('df-de4de21f-7af8-4878-873c-97aac7d84cf0')\"\n",
              "              title=\"Convert this dataframe to an interactive table.\"\n",
              "              style=\"display:none;\">\n",
              "        \n",
              "  <svg xmlns=\"http://www.w3.org/2000/svg\" height=\"24px\"viewBox=\"0 0 24 24\"\n",
              "       width=\"24px\">\n",
              "    <path d=\"M0 0h24v24H0V0z\" fill=\"none\"/>\n",
              "    <path d=\"M18.56 5.44l.94 2.06.94-2.06 2.06-.94-2.06-.94-.94-2.06-.94 2.06-2.06.94zm-11 1L8.5 8.5l.94-2.06 2.06-.94-2.06-.94L8.5 2.5l-.94 2.06-2.06.94zm10 10l.94 2.06.94-2.06 2.06-.94-2.06-.94-.94-2.06-.94 2.06-2.06.94z\"/><path d=\"M17.41 7.96l-1.37-1.37c-.4-.4-.92-.59-1.43-.59-.52 0-1.04.2-1.43.59L10.3 9.45l-7.72 7.72c-.78.78-.78 2.05 0 2.83L4 21.41c.39.39.9.59 1.41.59.51 0 1.02-.2 1.41-.59l7.78-7.78 2.81-2.81c.8-.78.8-2.07 0-2.86zM5.41 20L4 18.59l7.72-7.72 1.47 1.35L5.41 20z\"/>\n",
              "  </svg>\n",
              "      </button>\n",
              "      \n",
              "  <style>\n",
              "    .colab-df-container {\n",
              "      display:flex;\n",
              "      flex-wrap:wrap;\n",
              "      gap: 12px;\n",
              "    }\n",
              "\n",
              "    .colab-df-convert {\n",
              "      background-color: #E8F0FE;\n",
              "      border: none;\n",
              "      border-radius: 50%;\n",
              "      cursor: pointer;\n",
              "      display: none;\n",
              "      fill: #1967D2;\n",
              "      height: 32px;\n",
              "      padding: 0 0 0 0;\n",
              "      width: 32px;\n",
              "    }\n",
              "\n",
              "    .colab-df-convert:hover {\n",
              "      background-color: #E2EBFA;\n",
              "      box-shadow: 0px 1px 2px rgba(60, 64, 67, 0.3), 0px 1px 3px 1px rgba(60, 64, 67, 0.15);\n",
              "      fill: #174EA6;\n",
              "    }\n",
              "\n",
              "    [theme=dark] .colab-df-convert {\n",
              "      background-color: #3B4455;\n",
              "      fill: #D2E3FC;\n",
              "    }\n",
              "\n",
              "    [theme=dark] .colab-df-convert:hover {\n",
              "      background-color: #434B5C;\n",
              "      box-shadow: 0px 1px 3px 1px rgba(0, 0, 0, 0.15);\n",
              "      filter: drop-shadow(0px 1px 2px rgba(0, 0, 0, 0.3));\n",
              "      fill: #FFFFFF;\n",
              "    }\n",
              "  </style>\n",
              "\n",
              "      <script>\n",
              "        const buttonEl =\n",
              "          document.querySelector('#df-de4de21f-7af8-4878-873c-97aac7d84cf0 button.colab-df-convert');\n",
              "        buttonEl.style.display =\n",
              "          google.colab.kernel.accessAllowed ? 'block' : 'none';\n",
              "\n",
              "        async function convertToInteractive(key) {\n",
              "          const element = document.querySelector('#df-de4de21f-7af8-4878-873c-97aac7d84cf0');\n",
              "          const dataTable =\n",
              "            await google.colab.kernel.invokeFunction('convertToInteractive',\n",
              "                                                     [key], {});\n",
              "          if (!dataTable) return;\n",
              "\n",
              "          const docLinkHtml = 'Like what you see? Visit the ' +\n",
              "            '<a target=\"_blank\" href=https://colab.research.google.com/notebooks/data_table.ipynb>data table notebook</a>'\n",
              "            + ' to learn more about interactive tables.';\n",
              "          element.innerHTML = '';\n",
              "          dataTable['output_type'] = 'display_data';\n",
              "          await google.colab.output.renderOutput(dataTable, element);\n",
              "          const docLink = document.createElement('div');\n",
              "          docLink.innerHTML = docLinkHtml;\n",
              "          element.appendChild(docLink);\n",
              "        }\n",
              "      </script>\n",
              "    </div>\n",
              "  </div>\n",
              "  "
            ]
          },
          "metadata": {},
          "execution_count": 11
        }
      ],
      "source": [
        "df_bogo_train, df_bogo_test = train_test_split(\n",
        "    df_bogo, \n",
        "    stratify=df_bogo[[treatment_col, target_col]], \n",
        "    random_state=13, \n",
        "    test_size=0.3\n",
        ")\n",
        "print(df_bogo_train.shape)\n",
        "print(df_bogo_test.shape)\n",
        "\n",
        "df_bogo_train.head()"
      ]
    },
    {
      "cell_type": "markdown",
      "metadata": {
        "id": "RvrGn7on7A69"
      },
      "source": [
        "### X-learner (CausalML)"
      ]
    },
    {
      "cell_type": "markdown",
      "metadata": {
        "id": "FYUMCIN67A69"
      },
      "source": [
        "**Задание №1**"
      ]
    },
    {
      "cell_type": "markdown",
      "metadata": {
        "id": "RGOE-lug7A6-"
      },
      "source": [
        "Давайте проведем uplift-моделирование на датасете с промо-акциями (df_bogo) с помощью X-learner из библиотеки `CausalML` (BaseXClassifier).\n",
        "\n",
        "В качестве `outcome_learner` используйте модель логистической регрессии (`LogisticRegression`) из библиотеки scikit-learn с параметрами по умолчанию. Параметр random_state установите в значение 13. \n",
        "\n",
        "В качестве `effect_learner` возьмите модель линейной регрессии (`LinearRegression`) из библиотеки scikit-learn с параметрами по умолчанию. \n",
        "\n",
        "Рассчитайте qini-score на тестовой выборке для полученного X-learner. Запишите полученный результат с точностью до 3-его знака после запятой. "
      ]
    },
    {
      "cell_type": "code",
      "execution_count": 12,
      "metadata": {
        "id": "jedbQptl7A6-",
        "colab": {
          "base_uri": "https://localhost:8080/",
          "height": 1000
        },
        "outputId": "8e40561e-f138-47f5-f0bd-c860219852dc"
      },
      "outputs": [
        {
          "output_type": "stream",
          "name": "stderr",
          "text": [
            "The max_iter was reached which means the coef_ did not converge\n",
            "The max_iter was reached which means the coef_ did not converge\n",
            "The max_iter was reached which means the coef_ did not converge\n",
            "The max_iter was reached which means the coef_ did not converge\n",
            "The max_iter was reached which means the coef_ did not converge\n",
            "The max_iter was reached which means the coef_ did not converge\n",
            "The max_iter was reached which means the coef_ did not converge\n",
            "The max_iter was reached which means the coef_ did not converge\n",
            "The max_iter was reached which means the coef_ did not converge\n",
            "The max_iter was reached which means the coef_ did not converge\n",
            "The max_iter was reached which means the coef_ did not converge\n",
            "The max_iter was reached which means the coef_ did not converge\n",
            "The max_iter was reached which means the coef_ did not converge\n",
            "The max_iter was reached which means the coef_ did not converge\n",
            "The max_iter was reached which means the coef_ did not converge\n",
            "The max_iter was reached which means the coef_ did not converge\n",
            "The max_iter was reached which means the coef_ did not converge\n",
            "The max_iter was reached which means the coef_ did not converge\n",
            "The max_iter was reached which means the coef_ did not converge\n",
            "The max_iter was reached which means the coef_ did not converge\n",
            "The max_iter was reached which means the coef_ did not converge\n",
            "The max_iter was reached which means the coef_ did not converge\n",
            "The max_iter was reached which means the coef_ did not converge\n",
            "The max_iter was reached which means the coef_ did not converge\n",
            "The max_iter was reached which means the coef_ did not converge\n",
            "The max_iter was reached which means the coef_ did not converge\n",
            "The max_iter was reached which means the coef_ did not converge\n",
            "The max_iter was reached which means the coef_ did not converge\n",
            "The max_iter was reached which means the coef_ did not converge\n",
            "The max_iter was reached which means the coef_ did not converge\n",
            "The max_iter was reached which means the coef_ did not converge\n",
            "The max_iter was reached which means the coef_ did not converge\n",
            "The max_iter was reached which means the coef_ did not converge\n",
            "The max_iter was reached which means the coef_ did not converge\n",
            "The max_iter was reached which means the coef_ did not converge\n",
            "The max_iter was reached which means the coef_ did not converge\n",
            "The max_iter was reached which means the coef_ did not converge\n",
            "The max_iter was reached which means the coef_ did not converge\n",
            "The max_iter was reached which means the coef_ did not converge\n",
            "The max_iter was reached which means the coef_ did not converge\n",
            "The max_iter was reached which means the coef_ did not converge\n",
            "The max_iter was reached which means the coef_ did not converge\n",
            "The max_iter was reached which means the coef_ did not converge\n",
            "The max_iter was reached which means the coef_ did not converge\n",
            "The max_iter was reached which means the coef_ did not converge\n",
            "The max_iter was reached which means the coef_ did not converge\n",
            "The max_iter was reached which means the coef_ did not converge\n",
            "The max_iter was reached which means the coef_ did not converge\n",
            "The max_iter was reached which means the coef_ did not converge\n",
            "The max_iter was reached which means the coef_ did not converge\n",
            "The max_iter was reached which means the coef_ did not converge\n",
            "The max_iter was reached which means the coef_ did not converge\n",
            "The max_iter was reached which means the coef_ did not converge\n",
            "The max_iter was reached which means the coef_ did not converge\n",
            "The max_iter was reached which means the coef_ did not converge\n",
            "The max_iter was reached which means the coef_ did not converge\n",
            "The max_iter was reached which means the coef_ did not converge\n",
            "The max_iter was reached which means the coef_ did not converge\n",
            "The max_iter was reached which means the coef_ did not converge\n",
            "The max_iter was reached which means the coef_ did not converge\n",
            "The max_iter was reached which means the coef_ did not converge\n",
            "The max_iter was reached which means the coef_ did not converge\n",
            "The max_iter was reached which means the coef_ did not converge\n",
            "The max_iter was reached which means the coef_ did not converge\n",
            "The max_iter was reached which means the coef_ did not converge\n",
            "lbfgs failed to converge (status=1):\n",
            "STOP: TOTAL NO. of ITERATIONS REACHED LIMIT.\n",
            "\n",
            "Increase the number of iterations (max_iter) or scale the data as shown in:\n",
            "    https://scikit-learn.org/stable/modules/preprocessing.html\n",
            "Please also refer to the documentation for alternative solver options:\n",
            "    https://scikit-learn.org/stable/modules/linear_model.html#logistic-regression\n",
            "lbfgs failed to converge (status=1):\n",
            "STOP: TOTAL NO. of ITERATIONS REACHED LIMIT.\n",
            "\n",
            "Increase the number of iterations (max_iter) or scale the data as shown in:\n",
            "    https://scikit-learn.org/stable/modules/preprocessing.html\n",
            "Please also refer to the documentation for alternative solver options:\n",
            "    https://scikit-learn.org/stable/modules/linear_model.html#logistic-regression\n"
          ]
        },
        {
          "output_type": "display_data",
          "data": {
            "text/plain": [
              "<Figure size 500x300 with 1 Axes>"
            ],
            "image/png": "[encoded data removed]"
          },
          "metadata": {}
        },
        {
          "output_type": "stream",
          "name": "stdout",
          "text": [
            "Qini score: 241.528\n"
          ]
        },
        {
          "output_type": "display_data",
          "data": {
            "text/plain": [
              "<Figure size 500x300 with 1 Axes>"
            ],
            "image/png": "[encoded data removed]"
          },
          "metadata": {}
        },
        {
          "output_type": "stream",
          "name": "stdout",
          "text": [
            "Qini score: 133.209\n"
          ]
        }
      ],
      "source": [
        "x_learner = BaseXClassifier(\n",
        "    outcome_learner=LogisticRegression(random_state=13),\n",
        "    effect_learner=LinearRegression()\n",
        ")\n",
        "\n",
        "# Для обучения нам нужны датафрем с факторами, колонка с фактом воздействия\n",
        "x_learner.fit(\n",
        "    X=df_bogo_train[feature_cols],\n",
        "    treatment=df_bogo_train[treatment_col],\n",
        "    y=df_bogo_train[target_col]\n",
        ")\n",
        "\n",
        "# Сделаем предсказание uplift-эффекта на обучающей выборке\n",
        "uplift_vals = x_learner.predict(np.array(df_bogo_train[feature_cols].values.copy()))\n",
        "df_bogo_train['uplift_score'] = uplift_vals\n",
        "\n",
        "# Сделаем предсказание uplift-эффекта на тестовой выборке\n",
        "uplift_vals = x_learner.predict(np.array(df_bogo_test[feature_cols].values.copy()))\n",
        "df_bogo_test['uplift_score'] = uplift_vals\n",
        "\n",
        "# Мы получили какие-то значения рамках решения задачи классификации, давайте посмотрим на qini score\n",
        "qini_df(df_bogo_train, title='train')\n",
        "qini_df(df_bogo_test, title='test')"
      ]
    },
    {
      "cell_type": "markdown",
      "metadata": {
        "id": "YicgXpeT7A6-"
      },
      "source": [
        "### R-learner (CausalML)"
      ]
    },
    {
      "cell_type": "markdown",
      "metadata": {
        "id": "ZVQ1jfk57A6-"
      },
      "source": [
        "**Задание №2**\n",
        "\n",
        "Давайте проведем uplift-моделирование на датасете с промо-акциями (df_bogo) с помощью R-learner из библиотеки `CausalML` (BaseRClassifier).\n",
        "\n",
        "В качестве `outcome_learner` используйте модель логистической регрессии (`LogisticRegression`) из библиотеки scikit-learn с параметрами по умолчанию. Параметр `random_seed` установите в значение 13. \n",
        "\n",
        "В качестве `effect_learner` возьмите модель линейной регрессии (`LinearRegression`) из библиотеки scikit-learn с параметрами по умолчанию. \n",
        "\n",
        "Параметр `random_state` для BaseRClassifier установите в значение 42. \n",
        "\n",
        "Рассчитайте qini-score на тестовой выборке для полученного R-learner. Запишите полученный результат с точностью до 3-его знака после запятой. "
      ]
    },
    {
      "cell_type": "code",
      "execution_count": 13,
      "metadata": {
        "id": "WO6EELv27A6-",
        "colab": {
          "base_uri": "https://localhost:8080/",
          "height": 1000
        },
        "outputId": "01f53c5f-f5bc-4774-ce50-95bcf604888e"
      },
      "outputs": [
        {
          "output_type": "stream",
          "name": "stderr",
          "text": [
            "The max_iter was reached which means the coef_ did not converge\n",
            "The max_iter was reached which means the coef_ did not converge\n",
            "The max_iter was reached which means the coef_ did not converge\n",
            "The max_iter was reached which means the coef_ did not converge\n",
            "The max_iter was reached which means the coef_ did not converge\n",
            "The max_iter was reached which means the coef_ did not converge\n",
            "The max_iter was reached which means the coef_ did not converge\n",
            "The max_iter was reached which means the coef_ did not converge\n",
            "The max_iter was reached which means the coef_ did not converge\n",
            "The max_iter was reached which means the coef_ did not converge\n",
            "The max_iter was reached which means the coef_ did not converge\n",
            "The max_iter was reached which means the coef_ did not converge\n",
            "The max_iter was reached which means the coef_ did not converge\n",
            "The max_iter was reached which means the coef_ did not converge\n",
            "The max_iter was reached which means the coef_ did not converge\n",
            "The max_iter was reached which means the coef_ did not converge\n",
            "The max_iter was reached which means the coef_ did not converge\n",
            "The max_iter was reached which means the coef_ did not converge\n",
            "The max_iter was reached which means the coef_ did not converge\n",
            "The max_iter was reached which means the coef_ did not converge\n",
            "The max_iter was reached which means the coef_ did not converge\n",
            "The max_iter was reached which means the coef_ did not converge\n",
            "The max_iter was reached which means the coef_ did not converge\n",
            "The max_iter was reached which means the coef_ did not converge\n",
            "The max_iter was reached which means the coef_ did not converge\n",
            "The max_iter was reached which means the coef_ did not converge\n",
            "The max_iter was reached which means the coef_ did not converge\n",
            "The max_iter was reached which means the coef_ did not converge\n",
            "The max_iter was reached which means the coef_ did not converge\n",
            "The max_iter was reached which means the coef_ did not converge\n",
            "The max_iter was reached which means the coef_ did not converge\n",
            "The max_iter was reached which means the coef_ did not converge\n",
            "The max_iter was reached which means the coef_ did not converge\n",
            "The max_iter was reached which means the coef_ did not converge\n",
            "The max_iter was reached which means the coef_ did not converge\n",
            "The max_iter was reached which means the coef_ did not converge\n",
            "The max_iter was reached which means the coef_ did not converge\n",
            "The max_iter was reached which means the coef_ did not converge\n",
            "The max_iter was reached which means the coef_ did not converge\n",
            "The max_iter was reached which means the coef_ did not converge\n",
            "The max_iter was reached which means the coef_ did not converge\n",
            "The max_iter was reached which means the coef_ did not converge\n",
            "The max_iter was reached which means the coef_ did not converge\n",
            "The max_iter was reached which means the coef_ did not converge\n",
            "The max_iter was reached which means the coef_ did not converge\n",
            "The max_iter was reached which means the coef_ did not converge\n",
            "The max_iter was reached which means the coef_ did not converge\n",
            "The max_iter was reached which means the coef_ did not converge\n",
            "The max_iter was reached which means the coef_ did not converge\n",
            "The max_iter was reached which means the coef_ did not converge\n",
            "The max_iter was reached which means the coef_ did not converge\n",
            "The max_iter was reached which means the coef_ did not converge\n",
            "The max_iter was reached which means the coef_ did not converge\n",
            "The max_iter was reached which means the coef_ did not converge\n",
            "The max_iter was reached which means the coef_ did not converge\n",
            "The max_iter was reached which means the coef_ did not converge\n",
            "The max_iter was reached which means the coef_ did not converge\n",
            "The max_iter was reached which means the coef_ did not converge\n",
            "The max_iter was reached which means the coef_ did not converge\n",
            "The max_iter was reached which means the coef_ did not converge\n",
            "The max_iter was reached which means the coef_ did not converge\n",
            "The max_iter was reached which means the coef_ did not converge\n",
            "The max_iter was reached which means the coef_ did not converge\n",
            "The max_iter was reached which means the coef_ did not converge\n",
            "The max_iter was reached which means the coef_ did not converge\n"
          ]
        },
        {
          "output_type": "display_data",
          "data": {
            "text/plain": [
              "<Figure size 500x300 with 1 Axes>"
            ],
            "image/png": "[encoded data removed]"
          },
          "metadata": {}
        },
        {
          "output_type": "stream",
          "name": "stdout",
          "text": [
            "Qini score: 241.092\n"
          ]
        },
        {
          "output_type": "display_data",
          "data": {
            "text/plain": [
              "<Figure size 500x300 with 1 Axes>"
            ],
            "image/png": "[encoded data removed]"
          },
          "metadata": {}
        },
        {
          "output_type": "stream",
          "name": "stdout",
          "text": [
            "Qini score: 134.928\n"
          ]
        }
      ],
      "source": [
        "r_learner = BaseRClassifier(\n",
        "    outcome_learner=LogisticRegression(random_state=13),\n",
        "    effect_learner=LinearRegression(),\n",
        "    random_state=42\n",
        ")\n",
        "\n",
        "# Для обучения нам нужны датафрем с факторами, колонка с фактом воздействия\n",
        "r_learner.fit(X=df_bogo_train[feature_cols],\n",
        "              treatment=df_bogo_train[treatment_col],\n",
        "              y=df_bogo_train[target_col])\n",
        "\n",
        "# Сделаем предсказание uplift-эффекта на обучающей выборке\n",
        "uplift_vals = r_learner.predict(np.array(df_bogo_train[feature_cols].values.copy()))\n",
        "df_bogo_train['uplift_score'] = uplift_vals\n",
        "\n",
        "# Сделаем предсказание uplift-эффекта на тестовой выборке\n",
        "uplift_vals = r_learner.predict(np.array(df_bogo_test[feature_cols].values.copy()))\n",
        "df_bogo_test['uplift_score'] = uplift_vals\n",
        "\n",
        "# Мы получили какие-то значения рамках решения задачи классификации, давайте посмотрим на qini score\n",
        "qini_df(df_bogo_train, title='train')\n",
        "qini_df(df_bogo_test, title='test')"
      ]
    }
  ],
  "metadata": {
    "kernelspec": {
      "display_name": "Python 3.10.8 ('base')",
      "language": "python",
      "name": "python3"
    },
    "language_info": {
      "codemirror_mode": {
        "name": "ipython",
        "version": 3
      },
      "file_extension": ".py",
      "mimetype": "text/x-python",
      "name": "python",
      "nbconvert_exporter": "python",
      "pygments_lexer": "ipython3",
      "version": "3.10.8"
    },
    "orig_nbformat": 4,
    "vscode": {
      "interpreter": {
        "hash": "86c56a74836ad344b00594bf6f38fa6a676a207ceefe20d101fbc465800ccb8d"
      }
    },
    "colab": {
      "provenance": [],
      "include_colab_link": true
    }
  },
  "nbformat": 4,
  "nbformat_minor": 0
}