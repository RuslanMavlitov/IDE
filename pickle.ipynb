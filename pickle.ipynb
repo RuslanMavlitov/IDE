{
  "nbformat": 4,
  "nbformat_minor": 0,
  "metadata": {
    "colab": {
      "provenance": [],
      "collapsed_sections": [],
      "authorship_tag": "ABX9TyO6s2MCzmRbLLuNqablhVof",
      "include_colab_link": true
    },
    "kernelspec": {
      "name": "python3",
      "display_name": "Python 3"
    },
    "language_info": {
      "name": "python"
    }
  },
  "cells": [
    {
      "cell_type": "markdown",
      "metadata": {
        "id": "view-in-github",
        "colab_type": "text"
      },
      "source": [
        "<a href=\"https://colab.research.google.com/github/RuslanMavlitov/IDE/blob/master/pickle.ipynb\" target=\"_parent\"><img src=\"https://colab.research.google.com/assets/colab-badge.svg\" alt=\"Open In Colab\"/></a>"
      ]
    },
    {
      "cell_type": "markdown",
      "source": [
        "#PiCKLE"
      ],
      "metadata": {
        "id": "DPe-lUnxGrM5"
      }
    },
    {
      "cell_type": "markdown",
      "source": [
        "##ШАГ №1\n",
        "В качестве модели, прогнозирующей целевую переменную, возьмём простейшую линейную регрессию, и обучим её на исходных данных:"
      ],
      "metadata": {
        "id": "i1BtZ4hwE0lp"
      }
    },
    {
      "cell_type": "code",
      "execution_count": null,
      "metadata": {
        "colab": {
          "base_uri": "https://localhost:8080/"
        },
        "id": "IMQ6-C-5Ecd5",
        "outputId": "913ad025-0f33-4ad1-8c31-eb663949bd5f"
      },
      "outputs": [
        {
          "output_type": "execute_result",
          "data": {
            "text/plain": [
              "LinearRegression()"
            ]
          },
          "metadata": {},
          "execution_count": 1
        }
      ],
      "source": [
        "from sklearn.linear_model import LinearRegression\n",
        "\n",
        "from sklearn.datasets import load_diabetes\n",
        "\n",
        "# Загружаем датасет о диабете\n",
        "X, y = load_diabetes(return_X_y=True)\n",
        "# Инициализируем модель линейной регрессии\n",
        "regressor = LinearRegression()\n",
        "# Обучаем модель\n",
        "regressor.fit(X,y)\n",
        "\n",
        "## LinearRegression(copy_X=True, fit_intercept=True, n_jobs=None, normalize=False)"
      ]
    },
    {
      "cell_type": "markdown",
      "source": [
        "В результате выполнения кода получился объект класса LinearRegression, на который ссылается переменная regressor. При этом атрибуты объекта (веса модели линейной регрессии) были сформированы во время обучения. То есть объект regressor теперь является обученной моделью."
      ],
      "metadata": {
        "id": "vcuc_apgEtCx"
      }
    },
    {
      "cell_type": "markdown",
      "source": [
        "##ШАГ №2"
      ],
      "metadata": {
        "id": "EMVU0uJ6Exc2"
      }
    },
    {
      "cell_type": "markdown",
      "source": [
        "Далее, когда мы получили обученную модель, нам необходимо сериализовать её, превратив объект Python в поток байтов. Для этого импортируем модуль pickle и воспользуемся функцией dumps(), в которую нужно передать объект Python."
      ],
      "metadata": {
        "id": "aM3JrYlPE5E9"
      }
    },
    {
      "cell_type": "code",
      "source": [
        "import pickle\n",
        "\n",
        "# Производим сериализацию обученной модели\n",
        "model = pickle.dumps(regressor)\n",
        "\n",
        "print(type(model))\n",
        "print(type(regressor))\n",
        "## bytes\n",
        "## sklearn.linear_model._base.LinearRegression"
      ],
      "metadata": {
        "colab": {
          "base_uri": "https://localhost:8080/"
        },
        "id": "15PYYps0Ew_d",
        "outputId": "90667bb3-0bdb-480c-dfa4-1bfae47185ff"
      },
      "execution_count": null,
      "outputs": [
        {
          "output_type": "stream",
          "name": "stdout",
          "text": [
            "<class 'bytes'>\n",
            "<class 'sklearn.linear_model._base.LinearRegression'>\n"
          ]
        }
      ]
    },
    {
      "cell_type": "markdown",
      "source": [
        "##ШАГ №3"
      ],
      "metadata": {
        "id": "uOe7veNWFDFJ"
      }
    },
    {
      "cell_type": "markdown",
      "source": [
        "Давайте попробуем восстановить (десериализовать) объект Python. Для этого в модуле pickle есть функция loads(), в которую нужно передать сериализованный объект (поток байтов)."
      ],
      "metadata": {
        "id": "8bUw9GPAFDRV"
      }
    },
    {
      "cell_type": "code",
      "source": [
        "# Производим десериализацию\n",
        "regressor_from_bytes = pickle.loads(model)\n",
        "regressor_from_bytes\n",
        "LinearRegression(copy_X=True, fit_intercept=True, n_jobs=None, normalize=False)"
      ],
      "metadata": {
        "colab": {
          "base_uri": "https://localhost:8080/"
        },
        "id": "hJBfaWTCFICd",
        "outputId": "1ef0d2a4-3034-4d70-9a19-530dd0c30404"
      },
      "execution_count": null,
      "outputs": [
        {
          "output_type": "execute_result",
          "data": {
            "text/plain": [
              "LinearRegression(normalize=False)"
            ]
          },
          "metadata": {},
          "execution_count": 3
        }
      ]
    },
    {
      "cell_type": "markdown",
      "source": [
        "В результате десериализации мы смогли восстановить исходный объект (модель)."
      ],
      "metadata": {
        "id": "IWgpHb1rFOnI"
      }
    },
    {
      "cell_type": "markdown",
      "source": [
        "##ШАГ №4"
      ],
      "metadata": {
        "id": "N57nRHEUFPKh"
      }
    },
    {
      "cell_type": "markdown",
      "source": [
        "Сохраним сериализованный объект прямо в файл. Для этого в pickle есть функция dump() (без s на конце). В неё необходимо передать имя файла или ссылку на открытый файл. Файл назовём myfile, его расширение — .pkl (формат данных pickle):"
      ],
      "metadata": {
        "id": "7kTQTUexFR7N"
      }
    },
    {
      "cell_type": "code",
      "source": [
        "# Производим сериализацию и записываем результат в файл формата pkl\n",
        "with open('myfile.pkl', 'wb') as output:\n",
        "       pickle.dump(regressor, output)"
      ],
      "metadata": {
        "id": "QGThP4SyFTxR"
      },
      "execution_count": null,
      "outputs": []
    },
    {
      "cell_type": "markdown",
      "source": [
        "Теперь у нас есть бинарный файл с готовой моделью, и мы можем передать его, например, ML-инженерам, которые будут заниматься деплоем модели на сервер."
      ],
      "metadata": {
        "id": "MaMNaoGAFbKJ"
      }
    },
    {
      "cell_type": "markdown",
      "source": [
        "##ШАГ №5\n",
        "\n",
        "Посмотрим на код, который восстанавливает (десериализует) обученную модель из файла myfile.pkl. Для этого в pickle есть функция load() (без s на конце). В неё необходимо передать имя файла или ссылку на открытый файл."
      ],
      "metadata": {
        "id": "pBQusmNRFbvR"
      }
    },
    {
      "cell_type": "code",
      "source": [
        "# Производим десериализацию и извлекаем модель из файла формата pkl\n",
        "with open('myfile.pkl', 'rb') as pkl_file:\n",
        "    regressor_from_file = pickle.load(pkl_file)\n",
        "\n",
        "regressor_from_file"
      ],
      "metadata": {
        "colab": {
          "base_uri": "https://localhost:8080/"
        },
        "id": "x21kHmmkFjnZ",
        "outputId": "95367f0c-88fd-4f1f-c5dd-41d08ac76535"
      },
      "execution_count": null,
      "outputs": [
        {
          "output_type": "execute_result",
          "data": {
            "text/plain": [
              "LinearRegression()"
            ]
          },
          "metadata": {},
          "execution_count": 6
        }
      ]
    },
    {
      "cell_type": "markdown",
      "source": [
        "##ШАГ №6\n",
        "Убедимся, что методы и результаты предсказаний обученной модели и модели, загруженной из файла, совпадают:"
      ],
      "metadata": {
        "id": "cBdcmi7RFv2N"
      }
    },
    {
      "cell_type": "code",
      "source": [
        "# Проверяем, что все элементы массивов предсказаний совпадают между собой\n",
        "all(regressor.predict(X) == regressor_from_bytes.predict(X))"
      ],
      "metadata": {
        "colab": {
          "base_uri": "https://localhost:8080/"
        },
        "id": "PPfuBCb3FyoK",
        "outputId": "4bc4db29-ebc4-409a-d407-3d2703b3d19e"
      },
      "execution_count": null,
      "outputs": [
        {
          "output_type": "execute_result",
          "data": {
            "text/plain": [
              "True"
            ]
          },
          "metadata": {},
          "execution_count": 11
        }
      ]
    },
    {
      "cell_type": "code",
      "source": [
        "all(regressor.predict(X) == regressor_from_file.predict(X))"
      ],
      "metadata": {
        "colab": {
          "base_uri": "https://localhost:8080/"
        },
        "id": "jEk4jTTUGBeQ",
        "outputId": "fba2b855-d407-4703-a29f-3fa97bcad6bb"
      },
      "execution_count": null,
      "outputs": [
        {
          "output_type": "execute_result",
          "data": {
            "text/plain": [
              "True"
            ]
          },
          "metadata": {},
          "execution_count": 10
        }
      ]
    },
    {
      "cell_type": "markdown",
      "source": [
        "#PIPELINE"
      ],
      "metadata": {
        "id": "ajmoBo12Gwb5"
      }
    },
    {
      "cell_type": "markdown",
      "source": [
        "Например, мы хотим сериализовать пайплайн, который включает в себя min-max-нормализацию и отбор пяти наиболее важных факторов на основе корреляции Пирсона. Полученные в результате данные отправляются на вход модели линейной регрессии."
      ],
      "metadata": {
        "id": "mLUPdryDG094"
      }
    },
    {
      "cell_type": "code",
      "source": [
        "import pickle\n",
        "\n",
        "from sklearn.linear_model import LinearRegression\n",
        "\n",
        "from sklearn.datasets import load_diabetes\n",
        "\n",
        "from sklearn.feature_selection import SelectKBest, f_regression\n",
        "\n",
        "from sklearn.preprocessing import MinMaxScaler\n",
        "\n",
        "from sklearn.pipeline import Pipeline\n",
        "\n",
        "# Загружаем датасет о диабете\n",
        "X, y = load_diabetes(return_X_y=True)\n",
        "\n",
        "# Создаём пайплайн, который включает нормализацию, отбор признаков и обучение модели\n",
        "pipe = Pipeline([  \n",
        "  ('Scaling', MinMaxScaler()),\n",
        "  ('FeatureSelection', SelectKBest(f_regression, k=5)),\n",
        "  ('Linear', LinearRegression())\n",
        "  ])\n",
        "\n",
        "# Обучаем пайплайн\n",
        "pipe.fit(X, y)"
      ],
      "metadata": {
        "colab": {
          "base_uri": "https://localhost:8080/"
        },
        "id": "G_XZ7Vg2GyBt",
        "outputId": "a9bb33f6-21fb-4986-b8bd-eedf23223e31"
      },
      "execution_count": null,
      "outputs": [
        {
          "output_type": "execute_result",
          "data": {
            "text/plain": [
              "Pipeline(steps=[('Scaling', MinMaxScaler()),\n",
              "                ('FeatureSelection',\n",
              "                 SelectKBest(k=5,\n",
              "                             score_func=<function f_regression at 0x7f907f8943b0>)),\n",
              "                ('Linear', LinearRegression())])"
            ]
          },
          "metadata": {},
          "execution_count": 12
        }
      ]
    },
    {
      "cell_type": "markdown",
      "source": [
        "Пайплайн обучен. Давайте сохраним его в файл с помощью pickle:"
      ],
      "metadata": {
        "id": "FIUE07EAHAwh"
      }
    },
    {
      "cell_type": "code",
      "source": [
        "# Сериализуем pipeline и записываем результат в файл\n",
        "with open('my_pipeline.pkl', 'wb') as output:\n",
        "    pickle.dump(pipe, output)"
      ],
      "metadata": {
        "id": "G1D-HGfrHBBP"
      },
      "execution_count": null,
      "outputs": []
    },
    {
      "cell_type": "markdown",
      "source": [
        "Если сериализация завершилась успешно, то при инференсе модели мы сможем восстановить её из файла:"
      ],
      "metadata": {
        "id": "krAmW8NvHF1D"
      }
    },
    {
      "cell_type": "code",
      "source": [
        "# Десериализуем pipeline из файла\n",
        "with open('my_pipeline.pkl', 'rb') as pkl_file:\n",
        "    loaded_pipe = pickle.load(pkl_file)"
      ],
      "metadata": {
        "id": "gDhcHXMbHCo1"
      },
      "execution_count": null,
      "outputs": []
    },
    {
      "cell_type": "markdown",
      "source": [
        "Проверим, что результаты исходного и десериализованного пайплайнов и идентичны:"
      ],
      "metadata": {
        "id": "KU3Cps8cHMQz"
      }
    },
    {
      "cell_type": "code",
      "source": [
        "# Сравниваем предсказания исходного и восстановленного пайплайнов\n",
        "print(all(pipe.predict(X) == loaded_pipe.predict(X)))"
      ],
      "metadata": {
        "colab": {
          "base_uri": "https://localhost:8080/"
        },
        "id": "SZraiLsHHMo9",
        "outputId": "40268a8f-31e4-43d8-a8df-0935b4652a5e"
      },
      "execution_count": null,
      "outputs": [
        {
          "output_type": "stream",
          "name": "stdout",
          "text": [
            "True\n"
          ]
        }
      ]
    },
    {
      "cell_type": "code",
      "source": [
        "from sklearn.base import TransformerMixin, BaseEstimator\n",
        "\n",
        "\n",
        "class MyTransformer(TransformerMixin, BaseEstimator):\n",
        "    '''Шаблон кастомного трансформера'''\n",
        "\n",
        "\n",
        "    def __init__(self):\n",
        "        '''Здесь прописывается инициализация параметров, не зависящих от данных.'''\n",
        "        pass\n",
        "\n",
        "\n",
        "    def fit(self, X, y=None):\n",
        "        '''\n",
        "        Здесь прописывается «обучение» трансформера.\n",
        "        Вычисляются необходимые для работы трансформера параметры (если они нужны).\n",
        "        '''\n",
        "        return self\n",
        "\n",
        "\n",
        "    def transform(self, X):\n",
        "        '''Здесь прописываются действия с данными.'''\n",
        "        # Создаём новый столбец как произведение первых трёх\n",
        "        new_column = X[:, 0] * X[:, 1] * X[:, 2]\n",
        "        # Для добавления столбца в массив нужно изменить его размер на (n_rows, 1)\n",
        "        new_column = new_column.reshape(X.shape[0], 1)\n",
        "        # Добавляем столбец в матрицу измерений\n",
        "        X = np.append(X, new_column, axis=1)\n",
        "        return X"
      ],
      "metadata": {
        "id": "JCmIaTRKKAPz"
      },
      "execution_count": null,
      "outputs": []
    },
    {
      "cell_type": "code",
      "source": [
        "import numpy as np\n",
        "\n",
        "# Инициализируем объект класса MyTransformer (вызывается метод __init__)\n",
        "custom_transformer = MyTransformer()\n",
        "# Чисто формально вызываем метод fit, но у нас он ничего не делает\n",
        "custom_transformer.fit(X)\n",
        "# Трансформируем исходные данные (вызывается метод transform)\n",
        "X_transformed = custom_transformer.transform(X)\n",
        "print('Shape before transform: {}'.format(X.shape))\n",
        "print('Shape after transform: {}'.format(X_transformed.shape))"
      ],
      "metadata": {
        "colab": {
          "base_uri": "https://localhost:8080/"
        },
        "id": "10Gd8jrVKERo",
        "outputId": "8b48a7f6-b93e-46b7-cd5c-86ef00b6933e"
      },
      "execution_count": null,
      "outputs": [
        {
          "output_type": "stream",
          "name": "stdout",
          "text": [
            "Shape before transform: (442, 10)\n",
            "Shape after transform: (442, 11)\n"
          ]
        }
      ]
    },
    {
      "cell_type": "code",
      "source": [
        "# Создаём пайплайн, который включает Feature Engineering, нормализацию, отбор признаков и обучение модели\n",
        "pipe = Pipeline([  \n",
        "  ('FeatureEngineering', MyTransformer()),\n",
        "  ('Scaling', MinMaxScaler()),\n",
        "  ('FeatureSelection', SelectKBest(f_regression, k=5)),\n",
        "  ('Linear', LinearRegression())\n",
        "  ])\n",
        "\n",
        "# Обучаем пайплайн\n",
        "pipe.fit(X, y)"
      ],
      "metadata": {
        "colab": {
          "base_uri": "https://localhost:8080/"
        },
        "id": "3WhtGSWUKNj2",
        "outputId": "3893dae1-6c45-4696-95bc-8e7ecf258fc1"
      },
      "execution_count": null,
      "outputs": [
        {
          "output_type": "execute_result",
          "data": {
            "text/plain": [
              "Pipeline(steps=[('FeatureEngineering', MyTransformer()),\n",
              "                ('Scaling', MinMaxScaler()),\n",
              "                ('FeatureSelection',\n",
              "                 SelectKBest(k=5,\n",
              "                             score_func=<function f_regression at 0x7f907f8943b0>)),\n",
              "                ('Linear', LinearRegression())])"
            ]
          },
          "metadata": {},
          "execution_count": 20
        }
      ]
    },
    {
      "cell_type": "code",
      "source": [
        "# Сериализуем pipeline и записываем результат в файл\n",
        "with open('my_new_pipeline.pkl', 'wb') as output:\n",
        "    pickle.dump(pipe, output)"
      ],
      "metadata": {
        "id": "IGTqGXEJKS_R"
      },
      "execution_count": null,
      "outputs": []
    },
    {
      "cell_type": "markdown",
      "source": [
        "###Задание 2.5\n",
        "\n",
        "Десериализуйте полученный pipeline с добавленным в него кастомной трансформации из файла. Затем предскажите значение целевой переменной для наблюдения, которое описывается следующим вектором:"
      ],
      "metadata": {
        "id": "UiEwNdbMKXP4"
      }
    },
    {
      "cell_type": "code",
      "source": [
        "features = np.array([[ 0.00538306, -0.04464164,  0.05954058, -0.05616605,  0.02457414, 0.05286081, -0.04340085,  0.05091436, -0.00421986, -0.03007245]])"
      ],
      "metadata": {
        "id": "Q-KhslLdKY81"
      },
      "execution_count": null,
      "outputs": []
    },
    {
      "cell_type": "markdown",
      "source": [
        "Введите предсказанное значение целевой переменной, округлённое до целого числа."
      ],
      "metadata": {
        "id": "puCIuWfdKdYa"
      }
    },
    {
      "cell_type": "code",
      "source": [
        "# Десериализуем pipeline из файла\n",
        "with open('my_new_pipeline.pkl', 'rb') as pkl_file:\n",
        "    new_pipe = pickle.load(pkl_file)"
      ],
      "metadata": {
        "id": "doDezVQ7Kgop"
      },
      "execution_count": null,
      "outputs": []
    },
    {
      "cell_type": "code",
      "source": [
        "round(new_pipe.predict(features)[0])"
      ],
      "metadata": {
        "colab": {
          "base_uri": "https://localhost:8080/"
        },
        "id": "vWiJQ8rxKqBz",
        "outputId": "28be6628-c79b-477e-846a-587dd23c9a5b"
      },
      "execution_count": null,
      "outputs": [
        {
          "output_type": "execute_result",
          "data": {
            "text/plain": [
              "173"
            ]
          },
          "metadata": {},
          "execution_count": 26
        }
      ]
    },
    {
      "cell_type": "markdown",
      "source": [
        "#БИБЛИОТЕКА JOBLIB"
      ],
      "metadata": {
        "id": "YMKQPOztLDEW"
      }
    },
    {
      "cell_type": "markdown",
      "source": [
        "Как мы видим, pickle прекрасно справляется со своей задачей: мы можем сериализовать и восстанавливать любые Python-объекты, включая модели и даже пайплайны. Однако иногда массивы данных, на которых обучаются модели, бывают настолько большими, что после загрузки из pickle невозможно восстановить объект полностью.\n",
        "\n",
        "В таких случаях вместо pickle лучше использовать библиотеку joblib. Этот модуль более эффективен и надёжен для работы с объектами, которые содержат большие массивы данных. Пожалуй, единственный минус этого модуля в том, что он может «консервировать» только в файл, поэтому вы не сможете получить объект в виде бинарной строки и работать с ним. В модуле попросту отсутствуют методы для работы с бинарной строкой. Формат файлов для сохранения — .joblib.\n",
        "\n",
        "В остальном работа с joblib полностью идентична работе с pickle: после обучения модели производим сериализацию с помощью функции dump(), а в коде самого приложения, где нужно использовать модель, выполняем десериализацию с помощью функции load(). В каждую из этих функций необходимо передать путь до файла для записи и чтения соответственно.\n",
        "\n",
        "Для иллюстрации работы сохраним полученную линейную регрессию:"
      ],
      "metadata": {
        "id": "72b8Bf2GLiOE"
      }
    },
    {
      "cell_type": "code",
      "source": [
        "import joblib\n",
        "\n",
        "# Загружаем датасет о диабете\n",
        "X, y = load_diabetes(return_X_y=True)\n",
        "# Обучаем модель линейной регрессии\n",
        "regressor = LinearRegression()\n",
        "regressor.fit(X, y)\n",
        "# Производим сериализацию и сохраняем результат в файл формата .joblib\n",
        "joblib.dump(regressor, 'regr.joblib')\n",
        "\n",
        "## ['regr.joblib']"
      ],
      "metadata": {
        "colab": {
          "base_uri": "https://localhost:8080/"
        },
        "id": "2RifRI43KycD",
        "outputId": "3e9d4427-b8ce-4947-80af-2d386617e103"
      },
      "execution_count": null,
      "outputs": [
        {
          "output_type": "execute_result",
          "data": {
            "text/plain": [
              "['regr.joblib']"
            ]
          },
          "metadata": {},
          "execution_count": 27
        }
      ]
    },
    {
      "cell_type": "markdown",
      "source": [
        "Загрузим файл заново (загрузка может быть произведена в другом файле с кодом):"
      ],
      "metadata": {
        "id": "s96-iPltLlgY"
      }
    },
    {
      "cell_type": "code",
      "source": [
        "# Десериализуем модель из файла\n",
        "clf_from_jobliv = joblib.load('regr.joblib') \n",
        "# Сравниваем предсказания\n",
        "all(regressor.predict(X) == clf_from_jobliv.predict(X))"
      ],
      "metadata": {
        "colab": {
          "base_uri": "https://localhost:8080/"
        },
        "id": "ltL7UlbpLnBQ",
        "outputId": "203757ad-f5fd-4ce3-d79c-2971e27f4993"
      },
      "execution_count": null,
      "outputs": [
        {
          "output_type": "execute_result",
          "data": {
            "text/plain": [
              "True"
            ]
          },
          "metadata": {},
          "execution_count": 28
        }
      ]
    },
    {
      "cell_type": "code",
      "source": [],
      "metadata": {
        "id": "4FBovjTSLxeF"
      },
      "execution_count": null,
      "outputs": []
    },
    {
      "cell_type": "markdown",
      "source": [
        "###Задание 3.1\n",
        "\n",
        "При загрузке вывелся секретный код. Введите его в поле ниже."
      ],
      "metadata": {
        "id": "3NA7sqyfMjVa"
      }
    },
    {
      "cell_type": "code",
      "source": [
        "# Производим десериализацию и извлекаем модель из файла формата pkl\n",
        "with open('sample_data/model.pkl', 'rb') as pkl_file:\n",
        "    model = pickle.load(pkl_file)"
      ],
      "metadata": {
        "colab": {
          "base_uri": "https://localhost:8080/"
        },
        "id": "iS0jhVLRMjgd",
        "outputId": "7594efd7-72ac-42ee-fa94-9ea427aa5c22"
      },
      "execution_count": null,
      "outputs": [
        {
          "output_type": "stream",
          "name": "stdout",
          "text": [
            "secret word: skillfactory\n",
            "how is this possible? answer is here: https://youtu.be/xm-A-h9QkXg\n"
          ]
        }
      ]
    },
    {
      "cell_type": "markdown",
      "source": [
        "###Задание 3.3\n",
        "\n",
        "Теперь необходимо применить модель. Сделайте предсказание для следующего набора фичей: [1, 1, 1, 0.661212487096872]. Введите результат, предварительно округлив его до трёх знаков после точки-разделителя."
      ],
      "metadata": {
        "id": "_myF2H-NNnXn"
      }
    },
    {
      "cell_type": "code",
      "source": [
        "feat = np.array([[1, 1, 1, 0.661212487096872]])"
      ],
      "metadata": {
        "id": "onarf6ilNfDa"
      },
      "execution_count": null,
      "outputs": []
    },
    {
      "cell_type": "code",
      "source": [
        "model.predict(feat)"
      ],
      "metadata": {
        "colab": {
          "base_uri": "https://localhost:8080/"
        },
        "id": "8oG621G8N1Bg",
        "outputId": "35158ebb-a33e-4a1b-8cb1-e3b4225b19cc"
      },
      "execution_count": null,
      "outputs": [
        {
          "output_type": "execute_result",
          "data": {
            "text/plain": [
              "array([0.666])"
            ]
          },
          "metadata": {},
          "execution_count": 34
        }
      ]
    },
    {
      "cell_type": "code",
      "source": [
        "my_dict = {'a': model.a, 'b': model.b}\n",
        "\n",
        "with open('my_dict.pkl', 'wb') as pkl_file:\n",
        "    pickle.dump(my_dict, pkl_file)\n",
        "\n",
        "!python hw1_check_ol.py my_dict.pkl"
      ],
      "metadata": {
        "colab": {
          "base_uri": "https://localhost:8080/"
        },
        "id": "FsQsEbscN457",
        "outputId": "bcd20fc0-796c-4865-efe9-27525d6322cf"
      },
      "execution_count": null,
      "outputs": [
        {
          "output_type": "stream",
          "name": "stdout",
          "text": [
            "('secret code 2:', '3c508')\n"
          ]
        }
      ]
    },
    {
      "cell_type": "markdown",
      "source": [
        "#Сохранение и загрузка моделей: PMML и ONNX-ML"
      ],
      "metadata": {
        "id": "EJ4DG5CjPsxB"
      }
    },
    {
      "cell_type": "code",
      "source": [
        "!pip3 install nyoka"
      ],
      "metadata": {
        "colab": {
          "base_uri": "https://localhost:8080/"
        },
        "id": "0fAyTcl_PvqI",
        "outputId": "10de75a8-8de7-4fd6-aa83-b54702644e3e"
      },
      "execution_count": null,
      "outputs": [
        {
          "output_type": "stream",
          "name": "stdout",
          "text": [
            "Looking in indexes: https://pypi.org/simple, https://us-python.pkg.dev/colab-wheels/public/simple/\n",
            "Collecting nyoka\n",
            "  Downloading nyoka-5.4.0-py3-none-any.whl (303 kB)\n",
            "\u001b[K     |████████████████████████████████| 303 kB 3.0 MB/s \n",
            "\u001b[?25hRequirement already satisfied: lxml in /usr/local/lib/python3.7/dist-packages (from nyoka) (4.9.1)\n",
            "Installing collected packages: nyoka\n",
            "Successfully installed nyoka-5.4.0\n"
          ]
        }
      ]
    },
    {
      "cell_type": "code",
      "source": [
        "from nyoka import skl_to_pmml\n",
        "from sklearn.preprocessing import MinMaxScaler\n",
        "from sklearn.pipeline import Pipeline\n",
        "from sklearn.linear_model import LinearRegression\n",
        "from sklearn.datasets import load_diabetes\n",
        "\n",
        "X, y = load_diabetes(return_X_y=True)\n",
        "cols = load_diabetes()['feature_names']\n",
        "\n",
        "scaler = MinMaxScaler()\n",
        "pipe = Pipeline([  \n",
        "            ('Scaling', MinMaxScaler()),\n",
        "            ('Linear', LinearRegression())\n",
        "        ])\n",
        "# Обучение пайплайна, включающего линейную модель и нормализацию признаков\n",
        "pipe.fit(X, y)\n",
        "# Сохраним пайплайн в формате pmml в файл pipeline.pmml\n",
        "skl_to_pmml(pipeline=pipe, col_names=cols, pmml_f_name=\"pipeline.pmml\")"
      ],
      "metadata": {
        "id": "1hBJWfS-P0mT"
      },
      "execution_count": null,
      "outputs": []
    }
  ]
}