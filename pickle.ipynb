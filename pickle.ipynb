{
  "nbformat": 4,
  "nbformat_minor": 0,
  "metadata": {
    "colab": {
      "provenance": [],
      "collapsed_sections": [],
      "authorship_tag": "ABX9TyPn63adhvvjrRPfD+HD0To6",
      "include_colab_link": true
    },
    "kernelspec": {
      "name": "python3",
      "display_name": "Python 3"
    },
    "language_info": {
      "name": "python"
    }
  },
  "cells": [
    {
      "cell_type": "markdown",
      "metadata": {
        "id": "view-in-github",
        "colab_type": "text"
      },
      "source": [
        "<a href=\"https://colab.research.google.com/github/RuslanMavlitov/IDE/blob/master/pickle.ipynb\" target=\"_parent\"><img src=\"https://colab.research.google.com/assets/colab-badge.svg\" alt=\"Open In Colab\"/></a>"
      ]
    },
    {
      "cell_type": "markdown",
      "source": [
        "##ШАГ №1"
      ],
      "metadata": {
        "id": "i1BtZ4hwE0lp"
      }
    },
    {
      "cell_type": "markdown",
      "source": [
        "В качестве модели, прогнозирующей целевую переменную, возьмём простейшую линейную регрессию, и обучим её на исходных данных:"
      ],
      "metadata": {
        "id": "avnNfMUBEsNm"
      }
    },
    {
      "cell_type": "code",
      "execution_count": 1,
      "metadata": {
        "colab": {
          "base_uri": "https://localhost:8080/"
        },
        "id": "IMQ6-C-5Ecd5",
        "outputId": "913ad025-0f33-4ad1-8c31-eb663949bd5f"
      },
      "outputs": [
        {
          "output_type": "execute_result",
          "data": {
            "text/plain": [
              "LinearRegression()"
            ]
          },
          "metadata": {},
          "execution_count": 1
        }
      ],
      "source": [
        "from sklearn.linear_model import LinearRegression\n",
        "\n",
        "from sklearn.datasets import load_diabetes\n",
        "\n",
        "# Загружаем датасет о диабете\n",
        "X, y = load_diabetes(return_X_y=True)\n",
        "# Инициализируем модель линейной регрессии\n",
        "regressor = LinearRegression()\n",
        "# Обучаем модель\n",
        "regressor.fit(X,y)\n",
        "\n",
        "## LinearRegression(copy_X=True, fit_intercept=True, n_jobs=None, normalize=False)"
      ]
    },
    {
      "cell_type": "markdown",
      "source": [
        "В результате выполнения кода получился объект класса LinearRegression, на который ссылается переменная regressor. При этом атрибуты объекта (веса модели линейной регрессии) были сформированы во время обучения. То есть объект regressor теперь является обученной моделью."
      ],
      "metadata": {
        "id": "vcuc_apgEtCx"
      }
    },
    {
      "cell_type": "markdown",
      "source": [
        "##ШАГ №2"
      ],
      "metadata": {
        "id": "EMVU0uJ6Exc2"
      }
    },
    {
      "cell_type": "markdown",
      "source": [
        "Далее, когда мы получили обученную модель, нам необходимо сериализовать её, превратив объект Python в поток байтов. Для этого импортируем модуль pickle и воспользуемся функцией dumps(), в которую нужно передать объект Python."
      ],
      "metadata": {
        "id": "aM3JrYlPE5E9"
      }
    },
    {
      "cell_type": "code",
      "source": [
        "import pickle\n",
        "\n",
        "# Производим сериализацию обученной модели\n",
        "model = pickle.dumps(regressor)\n",
        "\n",
        "print(type(model))\n",
        "print(type(regressor))\n",
        "## bytes\n",
        "## sklearn.linear_model._base.LinearRegression"
      ],
      "metadata": {
        "colab": {
          "base_uri": "https://localhost:8080/"
        },
        "id": "15PYYps0Ew_d",
        "outputId": "90667bb3-0bdb-480c-dfa4-1bfae47185ff"
      },
      "execution_count": 2,
      "outputs": [
        {
          "output_type": "stream",
          "name": "stdout",
          "text": [
            "<class 'bytes'>\n",
            "<class 'sklearn.linear_model._base.LinearRegression'>\n"
          ]
        }
      ]
    },
    {
      "cell_type": "markdown",
      "source": [
        "##ШАГ №3"
      ],
      "metadata": {
        "id": "uOe7veNWFDFJ"
      }
    },
    {
      "cell_type": "markdown",
      "source": [
        "Давайте попробуем восстановить (десериализовать) объект Python. Для этого в модуле pickle есть функция loads(), в которую нужно передать сериализованный объект (поток байтов)."
      ],
      "metadata": {
        "id": "8bUw9GPAFDRV"
      }
    },
    {
      "cell_type": "code",
      "source": [
        "# Производим десериализацию\n",
        "regressor_from_bytes = pickle.loads(model)\n",
        "regressor_from_bytes\n",
        "LinearRegression(copy_X=True, fit_intercept=True, n_jobs=None, normalize=False)"
      ],
      "metadata": {
        "colab": {
          "base_uri": "https://localhost:8080/"
        },
        "id": "hJBfaWTCFICd",
        "outputId": "1ef0d2a4-3034-4d70-9a19-530dd0c30404"
      },
      "execution_count": 3,
      "outputs": [
        {
          "output_type": "execute_result",
          "data": {
            "text/plain": [
              "LinearRegression(normalize=False)"
            ]
          },
          "metadata": {},
          "execution_count": 3
        }
      ]
    },
    {
      "cell_type": "markdown",
      "source": [
        "В результате десериализации мы смогли восстановить исходный объект (модель)."
      ],
      "metadata": {
        "id": "IWgpHb1rFOnI"
      }
    },
    {
      "cell_type": "markdown",
      "source": [
        "##ШАГ №4"
      ],
      "metadata": {
        "id": "N57nRHEUFPKh"
      }
    },
    {
      "cell_type": "markdown",
      "source": [
        "Сохраним сериализованный объект прямо в файл. Для этого в pickle есть функция dump() (без s на конце). В неё необходимо передать имя файла или ссылку на открытый файл. Файл назовём myfile, его расширение — .pkl (формат данных pickle):"
      ],
      "metadata": {
        "id": "7kTQTUexFR7N"
      }
    },
    {
      "cell_type": "code",
      "source": [
        "# Производим сериализацию и записываем результат в файл формата pkl\n",
        "with open('myfile.pkl', 'wb') as output:\n",
        "       pickle.dump(regressor, output)"
      ],
      "metadata": {
        "id": "QGThP4SyFTxR"
      },
      "execution_count": 4,
      "outputs": []
    },
    {
      "cell_type": "markdown",
      "source": [
        "Теперь у нас есть бинарный файл с готовой моделью, и мы можем передать его, например, ML-инженерам, которые будут заниматься деплоем модели на сервер."
      ],
      "metadata": {
        "id": "MaMNaoGAFbKJ"
      }
    },
    {
      "cell_type": "markdown",
      "source": [
        "##ШАГ №5\n",
        "\n",
        "Посмотрим на код, который восстанавливает (десериализует) обученную модель из файла myfile.pkl. Для этого в pickle есть функция load() (без s на конце). В неё необходимо передать имя файла или ссылку на открытый файл."
      ],
      "metadata": {
        "id": "pBQusmNRFbvR"
      }
    },
    {
      "cell_type": "code",
      "source": [
        "# Производим десериализацию и извлекаем модель из файла формата pkl\n",
        "with open('myfile.pkl', 'rb') as pkl_file:\n",
        "    regressor_from_file = pickle.load(pkl_file)\n",
        "\n",
        "regressor_from_file"
      ],
      "metadata": {
        "colab": {
          "base_uri": "https://localhost:8080/"
        },
        "id": "x21kHmmkFjnZ",
        "outputId": "95367f0c-88fd-4f1f-c5dd-41d08ac76535"
      },
      "execution_count": 6,
      "outputs": [
        {
          "output_type": "execute_result",
          "data": {
            "text/plain": [
              "LinearRegression()"
            ]
          },
          "metadata": {},
          "execution_count": 6
        }
      ]
    },
    {
      "cell_type": "markdown",
      "source": [
        "##ШАГ №6\n",
        "Убедимся, что методы и результаты предсказаний обученной модели и модели, загруженной из файла, совпадают:"
      ],
      "metadata": {
        "id": "cBdcmi7RFv2N"
      }
    },
    {
      "cell_type": "code",
      "source": [
        "# Проверяем, что все элементы массивов предсказаний совпадают между собой\n",
        "all(regressor.predict(X) == regressor_from_bytes.predict(X))"
      ],
      "metadata": {
        "colab": {
          "base_uri": "https://localhost:8080/"
        },
        "id": "PPfuBCb3FyoK",
        "outputId": "4bc4db29-ebc4-409a-d407-3d2703b3d19e"
      },
      "execution_count": 11,
      "outputs": [
        {
          "output_type": "execute_result",
          "data": {
            "text/plain": [
              "True"
            ]
          },
          "metadata": {},
          "execution_count": 11
        }
      ]
    },
    {
      "cell_type": "code",
      "source": [
        "all(regressor.predict(X) == regressor_from_file.predict(X))"
      ],
      "metadata": {
        "colab": {
          "base_uri": "https://localhost:8080/"
        },
        "id": "jEk4jTTUGBeQ",
        "outputId": "fba2b855-d407-4703-a29f-3fa97bcad6bb"
      },
      "execution_count": 10,
      "outputs": [
        {
          "output_type": "execute_result",
          "data": {
            "text/plain": [
              "True"
            ]
          },
          "metadata": {},
          "execution_count": 10
        }
      ]
    }
  ]
}