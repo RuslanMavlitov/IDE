{
  "nbformat": 4,
  "nbformat_minor": 0,
  "metadata": {
    "colab": {
      "provenance": [],
      "collapsed_sections": [],
      "authorship_tag": "ABX9TyNwMbe1BpZR/M8FJ6PkUurd",
      "include_colab_link": true
    },
    "kernelspec": {
      "name": "python3",
      "display_name": "Python 3"
    },
    "language_info": {
      "name": "python"
    }
  },
  "cells": [
    {
      "cell_type": "markdown",
      "metadata": {
        "id": "view-in-github",
        "colab_type": "text"
      },
      "source": [
        "<a href=\"https://colab.research.google.com/github/RuslanMavlitov/IDE/blob/master/MATH%26ML_9.ipynb\" target=\"_parent\"><img src=\"https://colab.research.google.com/assets/colab-badge.svg\" alt=\"Open In Colab\"/></a>"
      ]
    },
    {
      "cell_type": "code",
      "source": [
        "import pandas as pd\n",
        "import matplotlib.pyplot as plt\n",
        "import seaborn as sns\n",
        "import numpy as np\n",
        "from sklearn import tree\n",
        "from sklearn import model_selection\n",
        "from sklearn import metrics"
      ],
      "metadata": {
        "id": "VIu6q8sQXZcj"
      },
      "execution_count": 1,
      "outputs": []
    },
    {
      "cell_type": "code",
      "source": [],
      "metadata": {
        "id": "VOCOM4gBXZfQ"
      },
      "execution_count": null,
      "outputs": []
    },
    {
      "cell_type": "code",
      "source": [
        "data = pd.read_csv('/content/sample_data/wineQualityReds.zip')  "
      ],
      "metadata": {
        "id": "7eL7R4UDJhCT"
      },
      "execution_count": null,
      "outputs": []
    },
    {
      "cell_type": "code",
      "source": [
        "data['quality'] = data['quality'].apply(lambda x: 1 if x >= 6 else 0)"
      ],
      "metadata": {
        "id": "2hfGMP2yJhFQ"
      },
      "execution_count": null,
      "outputs": []
    },
    {
      "cell_type": "code",
      "source": [
        "data['quality'].value_counts()"
      ],
      "metadata": {
        "colab": {
          "base_uri": "https://localhost:8080/"
        },
        "id": "c-FgWK4-JhId",
        "outputId": "a017aa72-03f0-4405-caed-845ec8755d9c"
      },
      "execution_count": null,
      "outputs": [
        {
          "output_type": "execute_result",
          "data": {
            "text/plain": [
              "1    855\n",
              "0    744\n",
              "Name: quality, dtype: int64"
            ]
          },
          "metadata": {},
          "execution_count": 11
        }
      ]
    },
    {
      "cell_type": "code",
      "source": [
        "y = data['quality']\n",
        "X = data.drop('quality', axis=1)"
      ],
      "metadata": {
        "id": "swPmktF7JhLg"
      },
      "execution_count": null,
      "outputs": []
    },
    {
      "cell_type": "code",
      "source": [
        "X_train, X_test, y_train, y_test = model_selection.train_test_split(X, y, test_size=0.3, random_state=42)"
      ],
      "metadata": {
        "id": "kDCUjYcgJhO8"
      },
      "execution_count": null,
      "outputs": []
    },
    {
      "cell_type": "code",
      "source": [
        "from sklearn.linear_model import LogisticRegression\n",
        "\n",
        "lr = LogisticRegression()\n",
        "lr.fit(X_train, y_train)\n",
        "y_pred_lr = lr.predict(X_test)\n",
        "\n",
        "dt = tree.DecisionTreeClassifier(\n",
        "    max_depth=10,\n",
        "    random_state=42\n",
        ")\n",
        "dt.fit(X_train, y_train)\n",
        "y_pred_dt = dt.predict(X_test)\n",
        "\n",
        "f1_lr = metrics.f1_score(y_pred_lr, y_test)\n",
        "f1_dt = metrics.f1_score(y_pred_dt, y_test)\n",
        "print(f1_lr, f1_dt)"
      ],
      "metadata": {
        "colab": {
          "base_uri": "https://localhost:8080/"
        },
        "id": "YNam0LbxMEWT",
        "outputId": "627c500e-dff3-43d2-a07e-6fa5c1e6b12e"
      },
      "execution_count": null,
      "outputs": [
        {
          "output_type": "stream",
          "name": "stdout",
          "text": [
            "0.7390476190476191 0.7601476014760148\n"
          ]
        },
        {
          "output_type": "stream",
          "name": "stderr",
          "text": [
            "/usr/local/lib/python3.7/dist-packages/sklearn/linear_model/_logistic.py:818: ConvergenceWarning: lbfgs failed to converge (status=1):\n",
            "STOP: TOTAL NO. of ITERATIONS REACHED LIMIT.\n",
            "\n",
            "Increase the number of iterations (max_iter) or scale the data as shown in:\n",
            "    https://scikit-learn.org/stable/modules/preprocessing.html\n",
            "Please also refer to the documentation for alternative solver options:\n",
            "    https://scikit-learn.org/stable/modules/linear_model.html#logistic-regression\n",
            "  extra_warning_msg=_LOGISTIC_SOLVER_CONVERGENCE_MSG,\n"
          ]
        }
      ]
    },
    {
      "cell_type": "code",
      "source": [
        "from sklearn.ensemble import BaggingClassifier"
      ],
      "metadata": {
        "id": "0MPt8K72O4p9"
      },
      "execution_count": null,
      "outputs": []
    },
    {
      "cell_type": "code",
      "source": [
        "bc = BaggingClassifier(\n",
        "    base_estimator=dt,\n",
        "    n_estimators=1500,\n",
        "    random_state=42\n",
        ")\n",
        "\n",
        "bc.fit(X_train, y_train)\n",
        "y_pred_bc = bc.predict(X_test)\n",
        "f1_bc = metrics.f1_score(y_pred_bc, y_test)\n",
        "f1_bc"
      ],
      "metadata": {
        "colab": {
          "base_uri": "https://localhost:8080/"
        },
        "id": "8i_P5LbOO4uF",
        "outputId": "68df0caa-da12-4e9b-b4a9-22e6ce50cb13"
      },
      "execution_count": null,
      "outputs": [
        {
          "output_type": "execute_result",
          "data": {
            "text/plain": [
              "0.8239700374531835"
            ]
          },
          "metadata": {},
          "execution_count": 18
        }
      ]
    },
    {
      "cell_type": "code",
      "source": [
        "df.info()"
      ],
      "metadata": {
        "colab": {
          "base_uri": "https://localhost:8080/"
        },
        "id": "4N-1iCGzO4xt",
        "outputId": "10774c4f-d80f-414c-affe-b24a762184f0"
      },
      "execution_count": null,
      "outputs": [
        {
          "output_type": "stream",
          "name": "stdout",
          "text": [
            "<class 'pandas.core.frame.DataFrame'>\n",
            "RangeIndex: 506 entries, 0 to 505\n",
            "Data columns (total 13 columns):\n",
            " #   Column          Non-Null Count  Dtype \n",
            "---  ------          --------------  ----- \n",
            " 0   crim_rate       506 non-null    object\n",
            " 1   zn              506 non-null    object\n",
            " 2   business        506 non-null    object\n",
            " 3   river           506 non-null    int64 \n",
            " 4   nit_oxiden      506 non-null    object\n",
            " 5   rooms           506 non-null    object\n",
            " 6   age             506 non-null    object\n",
            " 7   dist            506 non-null    object\n",
            " 8   highways_index  506 non-null    int64 \n",
            " 9   tax             506 non-null    int64 \n",
            " 10  pup_per_teaс    506 non-null    object\n",
            " 11  lower           506 non-null    object\n",
            " 12  target          506 non-null    object\n",
            "dtypes: int64(3), object(10)\n",
            "memory usage: 51.5+ KB\n"
          ]
        }
      ]
    },
    {
      "cell_type": "code",
      "source": [
        "df = pd.read_csv('/content/sample_data/boston__1_.zip')"
      ],
      "metadata": {
        "id": "pUs44pnyO40o"
      },
      "execution_count": 30,
      "outputs": []
    },
    {
      "cell_type": "code",
      "source": [
        "d = ['crim_rate', 'zn', 'business', 'nit_oxiden', 'rooms', 'age',\n",
        "       'dist', 'pup_per_teaс', 'lower', 'target']"
      ],
      "metadata": {
        "id": "jIbpy8fHQOX-"
      },
      "execution_count": 31,
      "outputs": []
    },
    {
      "cell_type": "code",
      "source": [
        "for col in d:\n",
        "  df[d] = df[d].stack().str.replace(',','.').unstack()\n",
        "\n"
      ],
      "metadata": {
        "id": "XOGw9wbpWbrC"
      },
      "execution_count": 32,
      "outputs": []
    },
    {
      "cell_type": "code",
      "source": [
        "for col in df.columns:\n",
        "  df[col] = df[col].astype('float64')"
      ],
      "metadata": {
        "id": "WWRvp6x9PP0L"
      },
      "execution_count": 34,
      "outputs": []
    },
    {
      "cell_type": "code",
      "source": [
        "y = df['target']\n",
        "X = df.drop('target', axis=1)"
      ],
      "metadata": {
        "id": "Q2LGxgQ8O43S"
      },
      "execution_count": 35,
      "outputs": []
    },
    {
      "cell_type": "code",
      "source": [
        "X_train, X_test, y_train, y_test = model_selection.train_test_split(X, y, test_size=0.3, random_state=13)"
      ],
      "metadata": {
        "id": "pp9EXsVuWL7D"
      },
      "execution_count": 36,
      "outputs": []
    },
    {
      "cell_type": "code",
      "source": [
        "y_train.median()"
      ],
      "metadata": {
        "colab": {
          "base_uri": "https://localhost:8080/"
        },
        "id": "iQLiD7kPWPUt",
        "outputId": "fb7dcc99-ac76-4c39-b759-1d9fa1978a15"
      },
      "execution_count": 20,
      "outputs": [
        {
          "output_type": "execute_result",
          "data": {
            "text/plain": [
              "21.55"
            ]
          },
          "metadata": {},
          "execution_count": 20
        }
      ]
    },
    {
      "cell_type": "code",
      "source": [
        "from sklearn import linear_model\n",
        "lr = linear_model.LinearRegression()\n",
        "lr.fit(X_train, y_train)\n",
        "y_pred_1 = lr.predict(X_test)\n",
        "mae = metrics.mean_absolute_error(y_test, y_pred_1)\n",
        "print(mae)"
      ],
      "metadata": {
        "id": "UM8yNIssWPYR",
        "colab": {
          "base_uri": "https://localhost:8080/"
        },
        "outputId": "85bdb2c1-84c5-4eaf-e233-741f3d1026f1"
      },
      "execution_count": 37,
      "outputs": [
        {
          "output_type": "stream",
          "name": "stdout",
          "text": [
            "3.7222793958561446\n"
          ]
        }
      ]
    },
    {
      "cell_type": "code",
      "source": [
        "dt = tree.DecisionTreeRegressor()\n",
        "dt.fit(X_train, y_train)\n",
        "y_pred_2 = dt.predict(X_test)\n",
        "mae_2 = metrics.mean_absolute_error(y_test, y_pred_2)\n",
        "print(mae_2)"
      ],
      "metadata": {
        "id": "LAIZPkzXWPbq",
        "colab": {
          "base_uri": "https://localhost:8080/"
        },
        "outputId": "2f511834-d36d-4ab9-de54-941fea22a1c3"
      },
      "execution_count": 38,
      "outputs": [
        {
          "output_type": "stream",
          "name": "stdout",
          "text": [
            "2.863157894736842\n"
          ]
        }
      ]
    },
    {
      "cell_type": "code",
      "source": [
        "from sklearn import ensemble\n",
        "rf_1 = ensemble.RandomForestRegressor(random_state=13, n_estimators=3)\n",
        "rf_1.fit(X_train, y_train)\n",
        "y_pred_rf_1 = rf_1.predict(X_test)\n",
        "mae_rf_1 = metrics.mean_absolute_error(y_test, y_pred_rf_1)\n",
        "\n",
        "rf_2 = ensemble.RandomForestRegressor(random_state=13, n_estimators=10)\n",
        "rf_2.fit(X_train, y_train)\n",
        "y_pred_rf_2 = rf_2.predict(X_test)\n",
        "mae_rf_2 = metrics.mean_absolute_error(y_test, y_pred_rf_2)\n",
        "\n",
        "rf_3 = ensemble.RandomForestRegressor(random_state=13, n_estimators=100)\n",
        "rf_3.fit(X_train, y_train)\n",
        "y_pred_rf_3 = rf_3.predict(X_test)\n",
        "mae_rf_3 = metrics.mean_absolute_error(y_test, y_pred_rf_3)\n",
        "\n",
        "rf_4 = ensemble.RandomForestRegressor(random_state=13, n_estimators=500)\n",
        "rf_4.fit(X_train, y_train)\n",
        "y_pred_rf_4 = rf_4.predict(X_test)\n",
        "mae_rf_4 = metrics.mean_absolute_error(y_test, y_pred_rf_4)"
      ],
      "metadata": {
        "id": "JXzFGALdWPez"
      },
      "execution_count": 41,
      "outputs": []
    },
    {
      "cell_type": "code",
      "source": [
        "print(mae_rf_1)\n",
        "print('-'*20)\n",
        "print(mae_rf_2)\n",
        "print('-'*20)\n",
        "print(mae_rf_3)\n",
        "print('-'*20)\n",
        "print(mae_rf_4)\n"
      ],
      "metadata": {
        "id": "BalmG3l7WPhk",
        "colab": {
          "base_uri": "https://localhost:8080/"
        },
        "outputId": "9c3fc5d1-b282-4029-b192-0935d4e3669a"
      },
      "execution_count": 42,
      "outputs": [
        {
          "output_type": "stream",
          "name": "stdout",
          "text": [
            "2.9328947368421057\n",
            "--------------------\n",
            "2.466315789473684\n",
            "--------------------\n",
            "2.2559736842105265\n",
            "--------------------\n",
            "2.2365657894736892\n"
          ]
        }
      ]
    }
  ]
}