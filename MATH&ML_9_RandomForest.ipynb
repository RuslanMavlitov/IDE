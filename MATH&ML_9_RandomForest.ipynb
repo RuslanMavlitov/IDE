{
  "nbformat": 4,
  "nbformat_minor": 0,
  "metadata": {
    "colab": {
      "provenance": [],
      "collapsed_sections": [],
      "authorship_tag": "ABX9TyM6fi9RDhG8luDM4rXb8qce",
      "include_colab_link": true
    },
    "kernelspec": {
      "name": "python3",
      "display_name": "Python 3"
    },
    "language_info": {
      "name": "python"
    }
  },
  "cells": [
    {
      "cell_type": "markdown",
      "metadata": {
        "id": "view-in-github",
        "colab_type": "text"
      },
      "source": [
        "<a href=\"https://colab.research.google.com/github/RuslanMavlitov/IDE/blob/master/MATH%26ML_9_RandomForest.ipynb\" target=\"_parent\"><img src=\"https://colab.research.google.com/assets/colab-badge.svg\" alt=\"Open In Colab\"/></a>"
      ]
    },
    {
      "cell_type": "code",
      "execution_count": 1,
      "metadata": {
        "id": "TzeVfVp0VDHw"
      },
      "outputs": [],
      "source": [
        "import pandas as pd\n",
        "import matplotlib.pyplot as plt\n",
        "import seaborn as sns\n",
        "import numpy as np\n",
        "from sklearn import tree\n",
        "from sklearn import model_selection\n",
        "from sklearn import metrics\n",
        "from sklearn import ensemble"
      ]
    },
    {
      "cell_type": "code",
      "source": [
        "data = pd.read_csv('/content/sample_data/weatherAUS.zip')"
      ],
      "metadata": {
        "id": "fSpTExT9VQi-"
      },
      "execution_count": 17,
      "outputs": []
    },
    {
      "cell_type": "code",
      "source": [
        "data.describe()"
      ],
      "metadata": {
        "colab": {
          "base_uri": "https://localhost:8080/",
          "height": 364
        },
        "id": "PpU1wYK9VepJ",
        "outputId": "246fdbe7-d430-45fe-9625-dfa79c13e0a7"
      },
      "execution_count": 18,
      "outputs": [
        {
          "output_type": "execute_result",
          "data": {
            "text/plain": [
              "             MinTemp        MaxTemp       Rainfall   Evaporation  \\\n",
              "count  143975.000000  144199.000000  142199.000000  82670.000000   \n",
              "mean       12.194034      23.221348       2.360918      5.468232   \n",
              "std         6.398495       7.119049       8.478060      4.193704   \n",
              "min        -8.500000      -4.800000       0.000000      0.000000   \n",
              "25%         7.600000      17.900000       0.000000      2.600000   \n",
              "50%        12.000000      22.600000       0.000000      4.800000   \n",
              "75%        16.900000      28.200000       0.800000      7.400000   \n",
              "max        33.900000      48.100000     371.000000    145.000000   \n",
              "\n",
              "           Sunshine  WindGustSpeed   WindSpeed9am   WindSpeed3pm  \\\n",
              "count  75625.000000  135197.000000  143693.000000  142398.000000   \n",
              "mean       7.611178      40.035230      14.043426      18.662657   \n",
              "std        3.785483      13.607062       8.915375       8.809800   \n",
              "min        0.000000       6.000000       0.000000       0.000000   \n",
              "25%        4.800000      31.000000       7.000000      13.000000   \n",
              "50%        8.400000      39.000000      13.000000      19.000000   \n",
              "75%       10.600000      48.000000      19.000000      24.000000   \n",
              "max       14.500000     135.000000     130.000000      87.000000   \n",
              "\n",
              "         Humidity9am    Humidity3pm   Pressure9am    Pressure3pm  \\\n",
              "count  142806.000000  140953.000000  130395.00000  130432.000000   \n",
              "mean       68.880831      51.539116    1017.64994    1015.255889   \n",
              "std        19.029164      20.795902       7.10653       7.037414   \n",
              "min         0.000000       0.000000     980.50000     977.100000   \n",
              "25%        57.000000      37.000000    1012.90000    1010.400000   \n",
              "50%        70.000000      52.000000    1017.60000    1015.200000   \n",
              "75%        83.000000      66.000000    1022.40000    1020.000000   \n",
              "max       100.000000     100.000000    1041.00000    1039.600000   \n",
              "\n",
              "           Cloud9am      Cloud3pm        Temp9am       Temp3pm  \n",
              "count  89572.000000  86102.000000  143693.000000  141851.00000  \n",
              "mean       4.447461      4.509930      16.990631      21.68339  \n",
              "std        2.887159      2.720357       6.488753       6.93665  \n",
              "min        0.000000      0.000000      -7.200000      -5.40000  \n",
              "25%        1.000000      2.000000      12.300000      16.60000  \n",
              "50%        5.000000      5.000000      16.700000      21.10000  \n",
              "75%        7.000000      7.000000      21.600000      26.40000  \n",
              "max        9.000000      9.000000      40.200000      46.70000  "
            ],
            "text/html": [
              "\n",
              "  <div id=\"df-1cd02b90-1013-4f91-b873-a832c933f533\">\n",
              "    <div class=\"colab-df-container\">\n",
              "      <div>\n",
              "<style scoped>\n",
              "    .dataframe tbody tr th:only-of-type {\n",
              "        vertical-align: middle;\n",
              "    }\n",
              "\n",
              "    .dataframe tbody tr th {\n",
              "        vertical-align: top;\n",
              "    }\n",
              "\n",
              "    .dataframe thead th {\n",
              "        text-align: right;\n",
              "    }\n",
              "</style>\n",
              "<table border=\"1\" class=\"dataframe\">\n",
              "  <thead>\n",
              "    <tr style=\"text-align: right;\">\n",
              "      <th></th>\n",
              "      <th>MinTemp</th>\n",
              "      <th>MaxTemp</th>\n",
              "      <th>Rainfall</th>\n",
              "      <th>Evaporation</th>\n",
              "      <th>Sunshine</th>\n",
              "      <th>WindGustSpeed</th>\n",
              "      <th>WindSpeed9am</th>\n",
              "      <th>WindSpeed3pm</th>\n",
              "      <th>Humidity9am</th>\n",
              "      <th>Humidity3pm</th>\n",
              "      <th>Pressure9am</th>\n",
              "      <th>Pressure3pm</th>\n",
              "      <th>Cloud9am</th>\n",
              "      <th>Cloud3pm</th>\n",
              "      <th>Temp9am</th>\n",
              "      <th>Temp3pm</th>\n",
              "    </tr>\n",
              "  </thead>\n",
              "  <tbody>\n",
              "    <tr>\n",
              "      <th>count</th>\n",
              "      <td>143975.000000</td>\n",
              "      <td>144199.000000</td>\n",
              "      <td>142199.000000</td>\n",
              "      <td>82670.000000</td>\n",
              "      <td>75625.000000</td>\n",
              "      <td>135197.000000</td>\n",
              "      <td>143693.000000</td>\n",
              "      <td>142398.000000</td>\n",
              "      <td>142806.000000</td>\n",
              "      <td>140953.000000</td>\n",
              "      <td>130395.00000</td>\n",
              "      <td>130432.000000</td>\n",
              "      <td>89572.000000</td>\n",
              "      <td>86102.000000</td>\n",
              "      <td>143693.000000</td>\n",
              "      <td>141851.00000</td>\n",
              "    </tr>\n",
              "    <tr>\n",
              "      <th>mean</th>\n",
              "      <td>12.194034</td>\n",
              "      <td>23.221348</td>\n",
              "      <td>2.360918</td>\n",
              "      <td>5.468232</td>\n",
              "      <td>7.611178</td>\n",
              "      <td>40.035230</td>\n",
              "      <td>14.043426</td>\n",
              "      <td>18.662657</td>\n",
              "      <td>68.880831</td>\n",
              "      <td>51.539116</td>\n",
              "      <td>1017.64994</td>\n",
              "      <td>1015.255889</td>\n",
              "      <td>4.447461</td>\n",
              "      <td>4.509930</td>\n",
              "      <td>16.990631</td>\n",
              "      <td>21.68339</td>\n",
              "    </tr>\n",
              "    <tr>\n",
              "      <th>std</th>\n",
              "      <td>6.398495</td>\n",
              "      <td>7.119049</td>\n",
              "      <td>8.478060</td>\n",
              "      <td>4.193704</td>\n",
              "      <td>3.785483</td>\n",
              "      <td>13.607062</td>\n",
              "      <td>8.915375</td>\n",
              "      <td>8.809800</td>\n",
              "      <td>19.029164</td>\n",
              "      <td>20.795902</td>\n",
              "      <td>7.10653</td>\n",
              "      <td>7.037414</td>\n",
              "      <td>2.887159</td>\n",
              "      <td>2.720357</td>\n",
              "      <td>6.488753</td>\n",
              "      <td>6.93665</td>\n",
              "    </tr>\n",
              "    <tr>\n",
              "      <th>min</th>\n",
              "      <td>-8.500000</td>\n",
              "      <td>-4.800000</td>\n",
              "      <td>0.000000</td>\n",
              "      <td>0.000000</td>\n",
              "      <td>0.000000</td>\n",
              "      <td>6.000000</td>\n",
              "      <td>0.000000</td>\n",
              "      <td>0.000000</td>\n",
              "      <td>0.000000</td>\n",
              "      <td>0.000000</td>\n",
              "      <td>980.50000</td>\n",
              "      <td>977.100000</td>\n",
              "      <td>0.000000</td>\n",
              "      <td>0.000000</td>\n",
              "      <td>-7.200000</td>\n",
              "      <td>-5.40000</td>\n",
              "    </tr>\n",
              "    <tr>\n",
              "      <th>25%</th>\n",
              "      <td>7.600000</td>\n",
              "      <td>17.900000</td>\n",
              "      <td>0.000000</td>\n",
              "      <td>2.600000</td>\n",
              "      <td>4.800000</td>\n",
              "      <td>31.000000</td>\n",
              "      <td>7.000000</td>\n",
              "      <td>13.000000</td>\n",
              "      <td>57.000000</td>\n",
              "      <td>37.000000</td>\n",
              "      <td>1012.90000</td>\n",
              "      <td>1010.400000</td>\n",
              "      <td>1.000000</td>\n",
              "      <td>2.000000</td>\n",
              "      <td>12.300000</td>\n",
              "      <td>16.60000</td>\n",
              "    </tr>\n",
              "    <tr>\n",
              "      <th>50%</th>\n",
              "      <td>12.000000</td>\n",
              "      <td>22.600000</td>\n",
              "      <td>0.000000</td>\n",
              "      <td>4.800000</td>\n",
              "      <td>8.400000</td>\n",
              "      <td>39.000000</td>\n",
              "      <td>13.000000</td>\n",
              "      <td>19.000000</td>\n",
              "      <td>70.000000</td>\n",
              "      <td>52.000000</td>\n",
              "      <td>1017.60000</td>\n",
              "      <td>1015.200000</td>\n",
              "      <td>5.000000</td>\n",
              "      <td>5.000000</td>\n",
              "      <td>16.700000</td>\n",
              "      <td>21.10000</td>\n",
              "    </tr>\n",
              "    <tr>\n",
              "      <th>75%</th>\n",
              "      <td>16.900000</td>\n",
              "      <td>28.200000</td>\n",
              "      <td>0.800000</td>\n",
              "      <td>7.400000</td>\n",
              "      <td>10.600000</td>\n",
              "      <td>48.000000</td>\n",
              "      <td>19.000000</td>\n",
              "      <td>24.000000</td>\n",
              "      <td>83.000000</td>\n",
              "      <td>66.000000</td>\n",
              "      <td>1022.40000</td>\n",
              "      <td>1020.000000</td>\n",
              "      <td>7.000000</td>\n",
              "      <td>7.000000</td>\n",
              "      <td>21.600000</td>\n",
              "      <td>26.40000</td>\n",
              "    </tr>\n",
              "    <tr>\n",
              "      <th>max</th>\n",
              "      <td>33.900000</td>\n",
              "      <td>48.100000</td>\n",
              "      <td>371.000000</td>\n",
              "      <td>145.000000</td>\n",
              "      <td>14.500000</td>\n",
              "      <td>135.000000</td>\n",
              "      <td>130.000000</td>\n",
              "      <td>87.000000</td>\n",
              "      <td>100.000000</td>\n",
              "      <td>100.000000</td>\n",
              "      <td>1041.00000</td>\n",
              "      <td>1039.600000</td>\n",
              "      <td>9.000000</td>\n",
              "      <td>9.000000</td>\n",
              "      <td>40.200000</td>\n",
              "      <td>46.70000</td>\n",
              "    </tr>\n",
              "  </tbody>\n",
              "</table>\n",
              "</div>\n",
              "      <button class=\"colab-df-convert\" onclick=\"convertToInteractive('df-1cd02b90-1013-4f91-b873-a832c933f533')\"\n",
              "              title=\"Convert this dataframe to an interactive table.\"\n",
              "              style=\"display:none;\">\n",
              "        \n",
              "  <svg xmlns=\"http://www.w3.org/2000/svg\" height=\"24px\"viewBox=\"0 0 24 24\"\n",
              "       width=\"24px\">\n",
              "    <path d=\"M0 0h24v24H0V0z\" fill=\"none\"/>\n",
              "    <path d=\"M18.56 5.44l.94 2.06.94-2.06 2.06-.94-2.06-.94-.94-2.06-.94 2.06-2.06.94zm-11 1L8.5 8.5l.94-2.06 2.06-.94-2.06-.94L8.5 2.5l-.94 2.06-2.06.94zm10 10l.94 2.06.94-2.06 2.06-.94-2.06-.94-.94-2.06-.94 2.06-2.06.94z\"/><path d=\"M17.41 7.96l-1.37-1.37c-.4-.4-.92-.59-1.43-.59-.52 0-1.04.2-1.43.59L10.3 9.45l-7.72 7.72c-.78.78-.78 2.05 0 2.83L4 21.41c.39.39.9.59 1.41.59.51 0 1.02-.2 1.41-.59l7.78-7.78 2.81-2.81c.8-.78.8-2.07 0-2.86zM5.41 20L4 18.59l7.72-7.72 1.47 1.35L5.41 20z\"/>\n",
              "  </svg>\n",
              "      </button>\n",
              "      \n",
              "  <style>\n",
              "    .colab-df-container {\n",
              "      display:flex;\n",
              "      flex-wrap:wrap;\n",
              "      gap: 12px;\n",
              "    }\n",
              "\n",
              "    .colab-df-convert {\n",
              "      background-color: #E8F0FE;\n",
              "      border: none;\n",
              "      border-radius: 50%;\n",
              "      cursor: pointer;\n",
              "      display: none;\n",
              "      fill: #1967D2;\n",
              "      height: 32px;\n",
              "      padding: 0 0 0 0;\n",
              "      width: 32px;\n",
              "    }\n",
              "\n",
              "    .colab-df-convert:hover {\n",
              "      background-color: #E2EBFA;\n",
              "      box-shadow: 0px 1px 2px rgba(60, 64, 67, 0.3), 0px 1px 3px 1px rgba(60, 64, 67, 0.15);\n",
              "      fill: #174EA6;\n",
              "    }\n",
              "\n",
              "    [theme=dark] .colab-df-convert {\n",
              "      background-color: #3B4455;\n",
              "      fill: #D2E3FC;\n",
              "    }\n",
              "\n",
              "    [theme=dark] .colab-df-convert:hover {\n",
              "      background-color: #434B5C;\n",
              "      box-shadow: 0px 1px 3px 1px rgba(0, 0, 0, 0.15);\n",
              "      filter: drop-shadow(0px 1px 2px rgba(0, 0, 0, 0.3));\n",
              "      fill: #FFFFFF;\n",
              "    }\n",
              "  </style>\n",
              "\n",
              "      <script>\n",
              "        const buttonEl =\n",
              "          document.querySelector('#df-1cd02b90-1013-4f91-b873-a832c933f533 button.colab-df-convert');\n",
              "        buttonEl.style.display =\n",
              "          google.colab.kernel.accessAllowed ? 'block' : 'none';\n",
              "\n",
              "        async function convertToInteractive(key) {\n",
              "          const element = document.querySelector('#df-1cd02b90-1013-4f91-b873-a832c933f533');\n",
              "          const dataTable =\n",
              "            await google.colab.kernel.invokeFunction('convertToInteractive',\n",
              "                                                     [key], {});\n",
              "          if (!dataTable) return;\n",
              "\n",
              "          const docLinkHtml = 'Like what you see? Visit the ' +\n",
              "            '<a target=\"_blank\" href=https://colab.research.google.com/notebooks/data_table.ipynb>data table notebook</a>'\n",
              "            + ' to learn more about interactive tables.';\n",
              "          element.innerHTML = '';\n",
              "          dataTable['output_type'] = 'display_data';\n",
              "          await google.colab.output.renderOutput(dataTable, element);\n",
              "          const docLink = document.createElement('div');\n",
              "          docLink.innerHTML = docLinkHtml;\n",
              "          element.appendChild(docLink);\n",
              "        }\n",
              "      </script>\n",
              "    </div>\n",
              "  </div>\n",
              "  "
            ]
          },
          "metadata": {},
          "execution_count": 18
        }
      ]
    },
    {
      "cell_type": "code",
      "source": [
        "data.info()"
      ],
      "metadata": {
        "colab": {
          "base_uri": "https://localhost:8080/"
        },
        "id": "dGbZVveLVhIZ",
        "outputId": "14122c5a-cbdc-4030-91d2-afe81a42cea7"
      },
      "execution_count": 19,
      "outputs": [
        {
          "output_type": "stream",
          "name": "stdout",
          "text": [
            "<class 'pandas.core.frame.DataFrame'>\n",
            "RangeIndex: 145460 entries, 0 to 145459\n",
            "Data columns (total 23 columns):\n",
            " #   Column         Non-Null Count   Dtype  \n",
            "---  ------         --------------   -----  \n",
            " 0   Date           145460 non-null  object \n",
            " 1   Location       145460 non-null  object \n",
            " 2   MinTemp        143975 non-null  float64\n",
            " 3   MaxTemp        144199 non-null  float64\n",
            " 4   Rainfall       142199 non-null  float64\n",
            " 5   Evaporation    82670 non-null   float64\n",
            " 6   Sunshine       75625 non-null   float64\n",
            " 7   WindGustDir    135134 non-null  object \n",
            " 8   WindGustSpeed  135197 non-null  float64\n",
            " 9   WindDir9am     134894 non-null  object \n",
            " 10  WindDir3pm     141232 non-null  object \n",
            " 11  WindSpeed9am   143693 non-null  float64\n",
            " 12  WindSpeed3pm   142398 non-null  float64\n",
            " 13  Humidity9am    142806 non-null  float64\n",
            " 14  Humidity3pm    140953 non-null  float64\n",
            " 15  Pressure9am    130395 non-null  float64\n",
            " 16  Pressure3pm    130432 non-null  float64\n",
            " 17  Cloud9am       89572 non-null   float64\n",
            " 18  Cloud3pm       86102 non-null   float64\n",
            " 19  Temp9am        143693 non-null  float64\n",
            " 20  Temp3pm        141851 non-null  float64\n",
            " 21  RainToday      142199 non-null  object \n",
            " 22  RainTomorrow   142193 non-null  object \n",
            "dtypes: float64(16), object(7)\n",
            "memory usage: 25.5+ MB\n"
          ]
        }
      ]
    },
    {
      "cell_type": "markdown",
      "source": [
        "##Задание 4.1"
      ],
      "metadata": {
        "id": "kmHwKC5GV8Mx"
      }
    },
    {
      "cell_type": "code",
      "source": [
        "data.isnull().sum().sum()"
      ],
      "metadata": {
        "colab": {
          "base_uri": "https://localhost:8080/"
        },
        "id": "FYN0PjLFVi7y",
        "outputId": "0b014f2b-e4fb-418c-f1e0-8881b8fdb4fd"
      },
      "execution_count": 5,
      "outputs": [
        {
          "output_type": "execute_result",
          "data": {
            "text/plain": [
              "343248"
            ]
          },
          "metadata": {},
          "execution_count": 5
        }
      ]
    },
    {
      "cell_type": "markdown",
      "source": [
        "##Задание 4.2\n",
        "В некоторых признаках пропусков более 40 % — удалите такие признаки. Сколько их было?"
      ],
      "metadata": {
        "id": "keIBWxJeV_nZ"
      }
    },
    {
      "cell_type": "code",
      "source": [
        "data_new = data.dropna(thresh=data.shape[0]*0.6, axis=1)"
      ],
      "metadata": {
        "id": "G6VqOIg6V2e5"
      },
      "execution_count": 57,
      "outputs": []
    },
    {
      "cell_type": "code",
      "source": [
        "print(data.shape[1] - data_new.shape[1])"
      ],
      "metadata": {
        "colab": {
          "base_uri": "https://localhost:8080/"
        },
        "id": "nnFnOH9fY3pa",
        "outputId": "7f509357-1ce2-48b7-b533-720e43aedda4"
      },
      "execution_count": 26,
      "outputs": [
        {
          "output_type": "stream",
          "name": "stdout",
          "text": [
            "3\n"
          ]
        }
      ]
    },
    {
      "cell_type": "markdown",
      "source": [
        "##Задание 4.3\n",
        "Теперь обработаем признаки RainToday и RainTomorrow таким образом, чтобы вместо yes было значение 1, а вместо no — значение 0. Вычислите среднее арифметическое для преобразованного признака RainToday и запишите его в ответ, предварительно округлив до двух знаков после точки-разделителя."
      ],
      "metadata": {
        "id": "PVQybIVXZE4D"
      }
    },
    {
      "cell_type": "code",
      "source": [
        "data_new['RainToday'].value_counts()"
      ],
      "metadata": {
        "colab": {
          "base_uri": "https://localhost:8080/"
        },
        "id": "6HZNKC-iY3r3",
        "outputId": "7dcda5cb-9c17-4929-fb26-d024228a1355"
      },
      "execution_count": 27,
      "outputs": [
        {
          "output_type": "execute_result",
          "data": {
            "text/plain": [
              "No     110319\n",
              "Yes     31880\n",
              "Name: RainToday, dtype: int64"
            ]
          },
          "metadata": {},
          "execution_count": 27
        }
      ]
    },
    {
      "cell_type": "code",
      "source": [
        "data_new['RainToday'] = data_new['RainToday'].apply(lambda x: 1 if x=='Yes' else x)\n",
        "data_new['RainToday'] = data_new['RainToday'].apply(lambda x: 0 if x=='No' else x)\n",
        "data_new['RainToday'].value_counts()"
      ],
      "metadata": {
        "colab": {
          "base_uri": "https://localhost:8080/"
        },
        "id": "z_AYU6EWY3ux",
        "outputId": "5bddc962-0f33-4ff0-b045-4a10bb38fae0"
      },
      "execution_count": 58,
      "outputs": [
        {
          "output_type": "stream",
          "name": "stderr",
          "text": [
            "/usr/local/lib/python3.7/dist-packages/ipykernel_launcher.py:1: SettingWithCopyWarning: \n",
            "A value is trying to be set on a copy of a slice from a DataFrame.\n",
            "Try using .loc[row_indexer,col_indexer] = value instead\n",
            "\n",
            "See the caveats in the documentation: https://pandas.pydata.org/pandas-docs/stable/user_guide/indexing.html#returning-a-view-versus-a-copy\n",
            "  \"\"\"Entry point for launching an IPython kernel.\n",
            "/usr/local/lib/python3.7/dist-packages/ipykernel_launcher.py:2: SettingWithCopyWarning: \n",
            "A value is trying to be set on a copy of a slice from a DataFrame.\n",
            "Try using .loc[row_indexer,col_indexer] = value instead\n",
            "\n",
            "See the caveats in the documentation: https://pandas.pydata.org/pandas-docs/stable/user_guide/indexing.html#returning-a-view-versus-a-copy\n",
            "  \n"
          ]
        },
        {
          "output_type": "execute_result",
          "data": {
            "text/plain": [
              "0.0    110319\n",
              "1.0     31880\n",
              "Name: RainToday, dtype: int64"
            ]
          },
          "metadata": {},
          "execution_count": 58
        }
      ]
    },
    {
      "cell_type": "code",
      "source": [
        "round(data_new['RainToday'].mean(), 2)"
      ],
      "metadata": {
        "colab": {
          "base_uri": "https://localhost:8080/"
        },
        "id": "gRP2w2WwaXIu",
        "outputId": "e2136740-75eb-4046-cb5e-e67df26e58e1"
      },
      "execution_count": 34,
      "outputs": [
        {
          "output_type": "execute_result",
          "data": {
            "text/plain": [
              "0.22"
            ]
          },
          "metadata": {},
          "execution_count": 34
        }
      ]
    },
    {
      "cell_type": "code",
      "source": [
        "data_new['RainTomorrow'].value_counts()"
      ],
      "metadata": {
        "colab": {
          "base_uri": "https://localhost:8080/"
        },
        "id": "U-ee5f2PY3yR",
        "outputId": "f0afa1f3-c6a7-4537-d1be-bdd42bda3eee"
      },
      "execution_count": 29,
      "outputs": [
        {
          "output_type": "execute_result",
          "data": {
            "text/plain": [
              "No     110316\n",
              "Yes     31877\n",
              "Name: RainTomorrow, dtype: int64"
            ]
          },
          "metadata": {},
          "execution_count": 29
        }
      ]
    },
    {
      "cell_type": "code",
      "source": [
        "data_new['RainTomorrow'] = data_new['RainTomorrow'].apply(lambda x: 1 if x=='Yes' else x)\n",
        "data_new['RainTomorrow'] = data_new['RainTomorrow'].apply(lambda x: 0 if x=='No' else x)\n",
        "data_new['RainTomorrow'].value_counts()"
      ],
      "metadata": {
        "colab": {
          "base_uri": "https://localhost:8080/"
        },
        "id": "1bkiXObdaLii",
        "outputId": "b434e8ad-9d85-4a69-d088-f7f25b7ebd73"
      },
      "execution_count": 59,
      "outputs": [
        {
          "output_type": "stream",
          "name": "stderr",
          "text": [
            "/usr/local/lib/python3.7/dist-packages/ipykernel_launcher.py:1: SettingWithCopyWarning: \n",
            "A value is trying to be set on a copy of a slice from a DataFrame.\n",
            "Try using .loc[row_indexer,col_indexer] = value instead\n",
            "\n",
            "See the caveats in the documentation: https://pandas.pydata.org/pandas-docs/stable/user_guide/indexing.html#returning-a-view-versus-a-copy\n",
            "  \"\"\"Entry point for launching an IPython kernel.\n",
            "/usr/local/lib/python3.7/dist-packages/ipykernel_launcher.py:2: SettingWithCopyWarning: \n",
            "A value is trying to be set on a copy of a slice from a DataFrame.\n",
            "Try using .loc[row_indexer,col_indexer] = value instead\n",
            "\n",
            "See the caveats in the documentation: https://pandas.pydata.org/pandas-docs/stable/user_guide/indexing.html#returning-a-view-versus-a-copy\n",
            "  \n"
          ]
        },
        {
          "output_type": "execute_result",
          "data": {
            "text/plain": [
              "0.0    110316\n",
              "1.0     31877\n",
              "Name: RainTomorrow, dtype: int64"
            ]
          },
          "metadata": {},
          "execution_count": 59
        }
      ]
    },
    {
      "cell_type": "markdown",
      "source": [
        "##Задание 4.4\n",
        "Обработайте признак Date таким образом, чтобы выделить в отдельный признак Month (номер месяца). Изначальный признак Date удалите. Определите, в какой месяц выпадает больше всего дождей. В качестве ответа введите порядковый номер месяца."
      ],
      "metadata": {
        "id": "53AbonO7amJX"
      }
    },
    {
      "cell_type": "code",
      "source": [
        "data_new['Month'] = pd.DatetimeIndex(data_new['Date']).month\n",
        "data_new = data_new.drop('Date', axis=1)"
      ],
      "metadata": {
        "colab": {
          "base_uri": "https://localhost:8080/"
        },
        "id": "NwlAkqPgaRGT",
        "outputId": "f0b1c554-74fc-4933-c2af-04a9040d063b"
      },
      "execution_count": 61,
      "outputs": [
        {
          "output_type": "stream",
          "name": "stderr",
          "text": [
            "/usr/local/lib/python3.7/dist-packages/ipykernel_launcher.py:1: SettingWithCopyWarning: \n",
            "A value is trying to be set on a copy of a slice from a DataFrame.\n",
            "Try using .loc[row_indexer,col_indexer] = value instead\n",
            "\n",
            "See the caveats in the documentation: https://pandas.pydata.org/pandas-docs/stable/user_guide/indexing.html#returning-a-view-versus-a-copy\n",
            "  \"\"\"Entry point for launching an IPython kernel.\n"
          ]
        }
      ]
    },
    {
      "cell_type": "code",
      "source": [
        "data_new.groupby(['Month'])['RainToday'].mean().reset_index(name='mean').sort_values(['mean'], ascending=False)"
      ],
      "metadata": {
        "colab": {
          "base_uri": "https://localhost:8080/",
          "height": 426
        },
        "id": "iqbkkReka19N",
        "outputId": "4cd96563-9c0b-4bea-a945-d1ae6f6561af"
      },
      "execution_count": 53,
      "outputs": [
        {
          "output_type": "execute_result",
          "data": {
            "text/plain": [
              "    Month      mean\n",
              "6       7  0.270736\n",
              "5       6  0.263638\n",
              "7       8  0.253167\n",
              "8       9  0.229135\n",
              "4       5  0.222163\n",
              "2       3  0.217135\n",
              "3       4  0.216845\n",
              "11     12  0.213037\n",
              "10     11  0.210843\n",
              "1       2  0.206746\n",
              "9      10  0.196512\n",
              "0       1  0.189484"
            ],
            "text/html": [
              "\n",
              "  <div id=\"df-72a37f5b-f20c-43e3-982d-efaa5447d6f9\">\n",
              "    <div class=\"colab-df-container\">\n",
              "      <div>\n",
              "<style scoped>\n",
              "    .dataframe tbody tr th:only-of-type {\n",
              "        vertical-align: middle;\n",
              "    }\n",
              "\n",
              "    .dataframe tbody tr th {\n",
              "        vertical-align: top;\n",
              "    }\n",
              "\n",
              "    .dataframe thead th {\n",
              "        text-align: right;\n",
              "    }\n",
              "</style>\n",
              "<table border=\"1\" class=\"dataframe\">\n",
              "  <thead>\n",
              "    <tr style=\"text-align: right;\">\n",
              "      <th></th>\n",
              "      <th>Month</th>\n",
              "      <th>mean</th>\n",
              "    </tr>\n",
              "  </thead>\n",
              "  <tbody>\n",
              "    <tr>\n",
              "      <th>6</th>\n",
              "      <td>7</td>\n",
              "      <td>0.270736</td>\n",
              "    </tr>\n",
              "    <tr>\n",
              "      <th>5</th>\n",
              "      <td>6</td>\n",
              "      <td>0.263638</td>\n",
              "    </tr>\n",
              "    <tr>\n",
              "      <th>7</th>\n",
              "      <td>8</td>\n",
              "      <td>0.253167</td>\n",
              "    </tr>\n",
              "    <tr>\n",
              "      <th>8</th>\n",
              "      <td>9</td>\n",
              "      <td>0.229135</td>\n",
              "    </tr>\n",
              "    <tr>\n",
              "      <th>4</th>\n",
              "      <td>5</td>\n",
              "      <td>0.222163</td>\n",
              "    </tr>\n",
              "    <tr>\n",
              "      <th>2</th>\n",
              "      <td>3</td>\n",
              "      <td>0.217135</td>\n",
              "    </tr>\n",
              "    <tr>\n",
              "      <th>3</th>\n",
              "      <td>4</td>\n",
              "      <td>0.216845</td>\n",
              "    </tr>\n",
              "    <tr>\n",
              "      <th>11</th>\n",
              "      <td>12</td>\n",
              "      <td>0.213037</td>\n",
              "    </tr>\n",
              "    <tr>\n",
              "      <th>10</th>\n",
              "      <td>11</td>\n",
              "      <td>0.210843</td>\n",
              "    </tr>\n",
              "    <tr>\n",
              "      <th>1</th>\n",
              "      <td>2</td>\n",
              "      <td>0.206746</td>\n",
              "    </tr>\n",
              "    <tr>\n",
              "      <th>9</th>\n",
              "      <td>10</td>\n",
              "      <td>0.196512</td>\n",
              "    </tr>\n",
              "    <tr>\n",
              "      <th>0</th>\n",
              "      <td>1</td>\n",
              "      <td>0.189484</td>\n",
              "    </tr>\n",
              "  </tbody>\n",
              "</table>\n",
              "</div>\n",
              "      <button class=\"colab-df-convert\" onclick=\"convertToInteractive('df-72a37f5b-f20c-43e3-982d-efaa5447d6f9')\"\n",
              "              title=\"Convert this dataframe to an interactive table.\"\n",
              "              style=\"display:none;\">\n",
              "        \n",
              "  <svg xmlns=\"http://www.w3.org/2000/svg\" height=\"24px\"viewBox=\"0 0 24 24\"\n",
              "       width=\"24px\">\n",
              "    <path d=\"M0 0h24v24H0V0z\" fill=\"none\"/>\n",
              "    <path d=\"M18.56 5.44l.94 2.06.94-2.06 2.06-.94-2.06-.94-.94-2.06-.94 2.06-2.06.94zm-11 1L8.5 8.5l.94-2.06 2.06-.94-2.06-.94L8.5 2.5l-.94 2.06-2.06.94zm10 10l.94 2.06.94-2.06 2.06-.94-2.06-.94-.94-2.06-.94 2.06-2.06.94z\"/><path d=\"M17.41 7.96l-1.37-1.37c-.4-.4-.92-.59-1.43-.59-.52 0-1.04.2-1.43.59L10.3 9.45l-7.72 7.72c-.78.78-.78 2.05 0 2.83L4 21.41c.39.39.9.59 1.41.59.51 0 1.02-.2 1.41-.59l7.78-7.78 2.81-2.81c.8-.78.8-2.07 0-2.86zM5.41 20L4 18.59l7.72-7.72 1.47 1.35L5.41 20z\"/>\n",
              "  </svg>\n",
              "      </button>\n",
              "      \n",
              "  <style>\n",
              "    .colab-df-container {\n",
              "      display:flex;\n",
              "      flex-wrap:wrap;\n",
              "      gap: 12px;\n",
              "    }\n",
              "\n",
              "    .colab-df-convert {\n",
              "      background-color: #E8F0FE;\n",
              "      border: none;\n",
              "      border-radius: 50%;\n",
              "      cursor: pointer;\n",
              "      display: none;\n",
              "      fill: #1967D2;\n",
              "      height: 32px;\n",
              "      padding: 0 0 0 0;\n",
              "      width: 32px;\n",
              "    }\n",
              "\n",
              "    .colab-df-convert:hover {\n",
              "      background-color: #E2EBFA;\n",
              "      box-shadow: 0px 1px 2px rgba(60, 64, 67, 0.3), 0px 1px 3px 1px rgba(60, 64, 67, 0.15);\n",
              "      fill: #174EA6;\n",
              "    }\n",
              "\n",
              "    [theme=dark] .colab-df-convert {\n",
              "      background-color: #3B4455;\n",
              "      fill: #D2E3FC;\n",
              "    }\n",
              "\n",
              "    [theme=dark] .colab-df-convert:hover {\n",
              "      background-color: #434B5C;\n",
              "      box-shadow: 0px 1px 3px 1px rgba(0, 0, 0, 0.15);\n",
              "      filter: drop-shadow(0px 1px 2px rgba(0, 0, 0, 0.3));\n",
              "      fill: #FFFFFF;\n",
              "    }\n",
              "  </style>\n",
              "\n",
              "      <script>\n",
              "        const buttonEl =\n",
              "          document.querySelector('#df-72a37f5b-f20c-43e3-982d-efaa5447d6f9 button.colab-df-convert');\n",
              "        buttonEl.style.display =\n",
              "          google.colab.kernel.accessAllowed ? 'block' : 'none';\n",
              "\n",
              "        async function convertToInteractive(key) {\n",
              "          const element = document.querySelector('#df-72a37f5b-f20c-43e3-982d-efaa5447d6f9');\n",
              "          const dataTable =\n",
              "            await google.colab.kernel.invokeFunction('convertToInteractive',\n",
              "                                                     [key], {});\n",
              "          if (!dataTable) return;\n",
              "\n",
              "          const docLinkHtml = 'Like what you see? Visit the ' +\n",
              "            '<a target=\"_blank\" href=https://colab.research.google.com/notebooks/data_table.ipynb>data table notebook</a>'\n",
              "            + ' to learn more about interactive tables.';\n",
              "          element.innerHTML = '';\n",
              "          dataTable['output_type'] = 'display_data';\n",
              "          await google.colab.output.renderOutput(dataTable, element);\n",
              "          const docLink = document.createElement('div');\n",
              "          docLink.innerHTML = docLinkHtml;\n",
              "          element.appendChild(docLink);\n",
              "        }\n",
              "      </script>\n",
              "    </div>\n",
              "  </div>\n",
              "  "
            ]
          },
          "metadata": {},
          "execution_count": 53
        }
      ]
    },
    {
      "cell_type": "markdown",
      "source": [
        "##Задание 4.5\n",
        "Обработайте оставшиеся категориальные признаки. С помощью метода get_dummies с настройками по умолчанию создайте dummy-переменные для всех категориальных признаков (их пять), которые есть в данных на этот момент.\n",
        "\n",
        "Сколько теперь признаков в данных, если считать целевую переменную?"
      ],
      "metadata": {
        "id": "Ctrxp--YdwlT"
      }
    },
    {
      "cell_type": "code",
      "source": [
        "data_new.columns.to_series().groupby(data_new.dtypes).groups"
      ],
      "metadata": {
        "colab": {
          "base_uri": "https://localhost:8080/"
        },
        "id": "w-UIpHitd5pw",
        "outputId": "4d24da72-90c2-443b-eca3-b5232d96839f"
      },
      "execution_count": 54,
      "outputs": [
        {
          "output_type": "execute_result",
          "data": {
            "text/plain": [
              "{int64: ['Month'], float64: ['MinTemp', 'MaxTemp', 'Rainfall', 'WindGustSpeed', 'WindSpeed9am', 'WindSpeed3pm', 'Humidity9am', 'Humidity3pm', 'Pressure9am', 'Pressure3pm', 'Cloud9am', 'Temp9am', 'Temp3pm', 'RainToday', 'RainTomorrow'], object: ['Location', 'WindGustDir', 'WindDir9am', 'WindDir3pm']}"
            ]
          },
          "metadata": {},
          "execution_count": 54
        }
      ]
    },
    {
      "cell_type": "code",
      "source": [
        "cat_features = ['Month', 'Location', 'WindGustDir', 'WindDir9am', 'WindDir3pm']\n"
      ],
      "metadata": {
        "id": "zzbW36Tbebl5"
      },
      "execution_count": 62,
      "outputs": []
    },
    {
      "cell_type": "code",
      "source": [
        "df = pd.get_dummies(data_new, columns=cat_features)\n",
        "df.shape[1]"
      ],
      "metadata": {
        "colab": {
          "base_uri": "https://localhost:8080/"
        },
        "id": "ZQYqtZE-f5Yn",
        "outputId": "ea45b99b-4e82-4218-f397-9040c7caa16c"
      },
      "execution_count": 63,
      "outputs": [
        {
          "output_type": "execute_result",
          "data": {
            "text/plain": [
              "124"
            ]
          },
          "metadata": {},
          "execution_count": 63
        }
      ]
    },
    {
      "cell_type": "markdown",
      "source": [
        "##Задание 4.6\n",
        "Осталось совсем немного. Удалите все строки, где есть пропуски. Далее разбейте данные на обучающую и тестовую выборки в соотношении 70/30, в качестве значения параметра random_state возьмите число 31.\n",
        "\n",
        "Каково среднее значение целевой переменной на тестовой выборке? Ответ округлите до двух знаков после точки-разделителя."
      ],
      "metadata": {
        "id": "NtEoXPJvgQvG"
      }
    },
    {
      "cell_type": "code",
      "source": [
        "df.dropna(inplace=True)\n",
        "X = df.drop('RainTomorrow', axis = 1)\n",
        "Y = df['RainTomorrow']  \n",
        "X_train, X_test, Y_train, Y_test = model_selection.train_test_split(X, Y, test_size=0.3, random_state = 31)\n",
        "Y_test.mean()"
      ],
      "metadata": {
        "colab": {
          "base_uri": "https://localhost:8080/"
        },
        "id": "TCk30DIGgU6M",
        "outputId": "98fcc979-df5b-4e1d-c375-da7dc714d010"
      },
      "execution_count": 65,
      "outputs": [
        {
          "output_type": "execute_result",
          "data": {
            "text/plain": [
              "0.22770253002811142"
            ]
          },
          "metadata": {},
          "execution_count": 65
        }
      ]
    },
    {
      "cell_type": "markdown",
      "source": [
        "##Задание 4.7\n",
        "\n",
        "Теперь давайте вспомним про бутстреп. Он не понадобится нам для решения этой задачи, но будет полезно реализовать его «вручную».\n",
        "\n",
        "Сделайте оценку стандартного отклонения для среднего значения минимальной температуры для обучающей выборки (то есть для среднего значения по признаку Min_Temp). Для этого сгенерируйте 1000 случайных выборок из наших данных — каждая из них должна быть такого же объёма, как и обучающая выборка. Для генерации выборки используйте np.random.randint(): сгенерируйте необходимое количество индексов и по ним извлеките соответствующие элементы выборки. Случайность фиксируйте с помощью np.random.seed(31).\n",
        "\n",
        "Для каждой выборки вычислите среднее значение, а после найдите стандартное отклонение для этих значений. Ответ округлите до двух знаков после точки-разделителя."
      ],
      "metadata": {
        "id": "n_b5LhcGgV52"
      }
    },
    {
      "cell_type": "code",
      "source": [
        "def gbs(data, n):     \n",
        "    inds = np.random.randint(0, len(data), (n, len(data))) #определяем индексы случайным образом\n",
        "    numbers = data[inds] #выбираем значения по индексам\n",
        "    return numbers\n",
        "target = X_train['MinTemp'].values #выбираем целевую переменную\n",
        "np.random.seed(31) #задаём параметр генератора случайных чисел\n",
        "mean_values = [np.mean(x) for x in gbs(target, 1000)] #получаем все средние значения\n",
        "np.std(mean_values) #находим для них стандартное отклонение"
      ],
      "metadata": {
        "colab": {
          "base_uri": "https://localhost:8080/"
        },
        "id": "exJjK3fUgbFd",
        "outputId": "5e9e6bce-35fb-4adf-dea9-5738290dffa7"
      },
      "execution_count": 66,
      "outputs": [
        {
          "output_type": "execute_result",
          "data": {
            "text/plain": [
              "0.02879072820657669"
            ]
          },
          "metadata": {},
          "execution_count": 66
        }
      ]
    },
    {
      "cell_type": "markdown",
      "source": [
        "##Задание 4.8\n",
        "\n",
        "Теперь можно перейти к обучению прогностических моделей. Начнём с того, что построим простейшую логистическую регрессию (без настройки гиперпараметров). Это будет та модель, с качеством которой мы будем сравнивать результаты, полученные далее, чтобы оценить превосходство случайного леса над простыми методами.\n",
        "\n",
        "В качестве ответа введите значение метрики roc_auc на тестовой выборке. Ответ округлите до двух знаков после точки-разделителя."
      ],
      "metadata": {
        "id": "W5DbfW5ygcBu"
      }
    },
    {
      "cell_type": "code",
      "source": [
        "from sklearn import linear_model\n",
        "lr = linear_model.LogisticRegression()\n",
        "lr.fit(X_train, Y_train)\n",
        "y_pred_train = lr.predict(X_train)\n",
        "y_pred_test = lr.predict(X_test)\n",
        "metrics.roc_auc_score(Y_test, y_pred_test)"
      ],
      "metadata": {
        "colab": {
          "base_uri": "https://localhost:8080/"
        },
        "id": "2X4bMufhgf2L",
        "outputId": "2ef57372-d58d-4632-cba2-76665a4a69ef"
      },
      "execution_count": 69,
      "outputs": [
        {
          "output_type": "stream",
          "name": "stderr",
          "text": [
            "/usr/local/lib/python3.7/dist-packages/sklearn/linear_model/_logistic.py:818: ConvergenceWarning: lbfgs failed to converge (status=1):\n",
            "STOP: TOTAL NO. of ITERATIONS REACHED LIMIT.\n",
            "\n",
            "Increase the number of iterations (max_iter) or scale the data as shown in:\n",
            "    https://scikit-learn.org/stable/modules/preprocessing.html\n",
            "Please also refer to the documentation for alternative solver options:\n",
            "    https://scikit-learn.org/stable/modules/linear_model.html#logistic-regression\n",
            "  extra_warning_msg=_LOGISTIC_SOLVER_CONVERGENCE_MSG,\n"
          ]
        },
        {
          "output_type": "execute_result",
          "data": {
            "text/plain": [
              "0.7261007506246127"
            ]
          },
          "metadata": {},
          "execution_count": 69
        }
      ]
    },
    {
      "cell_type": "markdown",
      "source": [
        "##Задание 4.9\n",
        "\n",
        "Теперь попробуйте обучить на наших данных другой алгоритм — дерево решений. С помощью GridSearchCV сделайте перебор гиперпараметров по следующей сетке:\n",
        "\n",
        "params = {'max_leaf_nodes': list(range(2, 10)), 'min_samples_split': [2, 3, 4], 'max_depth': [5,7,9,11]}\n",
        "\n",
        "Для параметра кросс-валидации cv задайте значение 3. Для решающего дерева определите параметр random_state=42. Остальные параметры оставьте по умолчанию."
      ],
      "metadata": {
        "id": "K9SjCEjqggvj"
      }
    },
    {
      "cell_type": "code",
      "source": [
        "params = {'max_leaf_nodes': list(range(5, 15)), 'min_samples_split': [2, 3, 4], 'max_depth': [5,7,9,11]}\n",
        "grid_search_cv = model_selection.GridSearchCV(tree.DecisionTreeClassifier(random_state=42), params, verbose=3, cv=3)\n",
        "grid_search_cv.fit(X_train, Y_train)\n",
        "grid_search_cv.best_params_"
      ],
      "metadata": {
        "colab": {
          "base_uri": "https://localhost:8080/"
        },
        "id": "op6rQTN_gkKK",
        "outputId": "1d148a30-d5d7-476f-b20c-27372bf59e40"
      },
      "execution_count": 73,
      "outputs": [
        {
          "output_type": "stream",
          "name": "stdout",
          "text": [
            "Fitting 3 folds for each of 120 candidates, totalling 360 fits\n",
            "[CV 1/3] END max_depth=5, max_leaf_nodes=5, min_samples_split=2;, score=0.819 total time=   0.2s\n",
            "[CV 2/3] END max_depth=5, max_leaf_nodes=5, min_samples_split=2;, score=0.820 total time=   0.2s\n",
            "[CV 3/3] END max_depth=5, max_leaf_nodes=5, min_samples_split=2;, score=0.825 total time=   0.2s\n",
            "[CV 1/3] END max_depth=5, max_leaf_nodes=5, min_samples_split=3;, score=0.819 total time=   0.2s\n",
            "[CV 2/3] END max_depth=5, max_leaf_nodes=5, min_samples_split=3;, score=0.820 total time=   0.2s\n",
            "[CV 3/3] END max_depth=5, max_leaf_nodes=5, min_samples_split=3;, score=0.825 total time=   0.2s\n",
            "[CV 1/3] END max_depth=5, max_leaf_nodes=5, min_samples_split=4;, score=0.819 total time=   0.2s\n",
            "[CV 2/3] END max_depth=5, max_leaf_nodes=5, min_samples_split=4;, score=0.820 total time=   0.2s\n",
            "[CV 3/3] END max_depth=5, max_leaf_nodes=5, min_samples_split=4;, score=0.825 total time=   0.2s\n",
            "[CV 1/3] END max_depth=5, max_leaf_nodes=6, min_samples_split=2;, score=0.819 total time=   0.2s\n",
            "[CV 2/3] END max_depth=5, max_leaf_nodes=6, min_samples_split=2;, score=0.820 total time=   0.3s\n",
            "[CV 3/3] END max_depth=5, max_leaf_nodes=6, min_samples_split=2;, score=0.832 total time=   0.2s\n",
            "[CV 1/3] END max_depth=5, max_leaf_nodes=6, min_samples_split=3;, score=0.819 total time=   0.3s\n",
            "[CV 2/3] END max_depth=5, max_leaf_nodes=6, min_samples_split=3;, score=0.820 total time=   0.2s\n",
            "[CV 3/3] END max_depth=5, max_leaf_nodes=6, min_samples_split=3;, score=0.832 total time=   0.2s\n",
            "[CV 1/3] END max_depth=5, max_leaf_nodes=6, min_samples_split=4;, score=0.819 total time=   0.2s\n",
            "[CV 2/3] END max_depth=5, max_leaf_nodes=6, min_samples_split=4;, score=0.820 total time=   0.3s\n",
            "[CV 3/3] END max_depth=5, max_leaf_nodes=6, min_samples_split=4;, score=0.832 total time=   0.2s\n",
            "[CV 1/3] END max_depth=5, max_leaf_nodes=7, min_samples_split=2;, score=0.831 total time=   0.3s\n",
            "[CV 2/3] END max_depth=5, max_leaf_nodes=7, min_samples_split=2;, score=0.834 total time=   0.3s\n",
            "[CV 3/3] END max_depth=5, max_leaf_nodes=7, min_samples_split=2;, score=0.832 total time=   0.3s\n",
            "[CV 1/3] END max_depth=5, max_leaf_nodes=7, min_samples_split=3;, score=0.831 total time=   0.3s\n",
            "[CV 2/3] END max_depth=5, max_leaf_nodes=7, min_samples_split=3;, score=0.834 total time=   0.3s\n",
            "[CV 3/3] END max_depth=5, max_leaf_nodes=7, min_samples_split=3;, score=0.832 total time=   0.3s\n",
            "[CV 1/3] END max_depth=5, max_leaf_nodes=7, min_samples_split=4;, score=0.831 total time=   0.3s\n",
            "[CV 2/3] END max_depth=5, max_leaf_nodes=7, min_samples_split=4;, score=0.834 total time=   0.3s\n",
            "[CV 3/3] END max_depth=5, max_leaf_nodes=7, min_samples_split=4;, score=0.832 total time=   0.3s\n",
            "[CV 1/3] END max_depth=5, max_leaf_nodes=8, min_samples_split=2;, score=0.835 total time=   0.3s\n",
            "[CV 2/3] END max_depth=5, max_leaf_nodes=8, min_samples_split=2;, score=0.840 total time=   0.3s\n",
            "[CV 3/3] END max_depth=5, max_leaf_nodes=8, min_samples_split=2;, score=0.836 total time=   0.3s\n",
            "[CV 1/3] END max_depth=5, max_leaf_nodes=8, min_samples_split=3;, score=0.835 total time=   0.3s\n",
            "[CV 2/3] END max_depth=5, max_leaf_nodes=8, min_samples_split=3;, score=0.840 total time=   0.3s\n",
            "[CV 3/3] END max_depth=5, max_leaf_nodes=8, min_samples_split=3;, score=0.836 total time=   0.3s\n",
            "[CV 1/3] END max_depth=5, max_leaf_nodes=8, min_samples_split=4;, score=0.835 total time=   0.3s\n",
            "[CV 2/3] END max_depth=5, max_leaf_nodes=8, min_samples_split=4;, score=0.840 total time=   0.3s\n",
            "[CV 3/3] END max_depth=5, max_leaf_nodes=8, min_samples_split=4;, score=0.836 total time=   0.3s\n",
            "[CV 1/3] END max_depth=5, max_leaf_nodes=9, min_samples_split=2;, score=0.835 total time=   0.3s\n",
            "[CV 2/3] END max_depth=5, max_leaf_nodes=9, min_samples_split=2;, score=0.840 total time=   0.3s\n",
            "[CV 3/3] END max_depth=5, max_leaf_nodes=9, min_samples_split=2;, score=0.837 total time=   0.3s\n",
            "[CV 1/3] END max_depth=5, max_leaf_nodes=9, min_samples_split=3;, score=0.835 total time=   0.3s\n",
            "[CV 2/3] END max_depth=5, max_leaf_nodes=9, min_samples_split=3;, score=0.840 total time=   0.3s\n",
            "[CV 3/3] END max_depth=5, max_leaf_nodes=9, min_samples_split=3;, score=0.837 total time=   0.3s\n",
            "[CV 1/3] END max_depth=5, max_leaf_nodes=9, min_samples_split=4;, score=0.835 total time=   0.3s\n",
            "[CV 2/3] END max_depth=5, max_leaf_nodes=9, min_samples_split=4;, score=0.840 total time=   0.3s\n",
            "[CV 3/3] END max_depth=5, max_leaf_nodes=9, min_samples_split=4;, score=0.837 total time=   0.3s\n",
            "[CV 1/3] END max_depth=5, max_leaf_nodes=10, min_samples_split=2;, score=0.835 total time=   0.3s\n",
            "[CV 2/3] END max_depth=5, max_leaf_nodes=10, min_samples_split=2;, score=0.840 total time=   0.3s\n",
            "[CV 3/3] END max_depth=5, max_leaf_nodes=10, min_samples_split=2;, score=0.837 total time=   0.3s\n",
            "[CV 1/3] END max_depth=5, max_leaf_nodes=10, min_samples_split=3;, score=0.835 total time=   0.3s\n",
            "[CV 2/3] END max_depth=5, max_leaf_nodes=10, min_samples_split=3;, score=0.840 total time=   0.3s\n",
            "[CV 3/3] END max_depth=5, max_leaf_nodes=10, min_samples_split=3;, score=0.837 total time=   0.3s\n",
            "[CV 1/3] END max_depth=5, max_leaf_nodes=10, min_samples_split=4;, score=0.835 total time=   0.3s\n",
            "[CV 2/3] END max_depth=5, max_leaf_nodes=10, min_samples_split=4;, score=0.840 total time=   0.3s\n",
            "[CV 3/3] END max_depth=5, max_leaf_nodes=10, min_samples_split=4;, score=0.837 total time=   0.3s\n",
            "[CV 1/3] END max_depth=5, max_leaf_nodes=11, min_samples_split=2;, score=0.835 total time=   0.3s\n",
            "[CV 2/3] END max_depth=5, max_leaf_nodes=11, min_samples_split=2;, score=0.840 total time=   0.3s\n",
            "[CV 3/3] END max_depth=5, max_leaf_nodes=11, min_samples_split=2;, score=0.837 total time=   0.3s\n",
            "[CV 1/3] END max_depth=5, max_leaf_nodes=11, min_samples_split=3;, score=0.835 total time=   0.3s\n",
            "[CV 2/3] END max_depth=5, max_leaf_nodes=11, min_samples_split=3;, score=0.840 total time=   0.3s\n",
            "[CV 3/3] END max_depth=5, max_leaf_nodes=11, min_samples_split=3;, score=0.837 total time=   0.3s\n",
            "[CV 1/3] END max_depth=5, max_leaf_nodes=11, min_samples_split=4;, score=0.835 total time=   0.3s\n",
            "[CV 2/3] END max_depth=5, max_leaf_nodes=11, min_samples_split=4;, score=0.840 total time=   0.3s\n",
            "[CV 3/3] END max_depth=5, max_leaf_nodes=11, min_samples_split=4;, score=0.837 total time=   0.3s\n",
            "[CV 1/3] END max_depth=5, max_leaf_nodes=12, min_samples_split=2;, score=0.835 total time=   0.3s\n",
            "[CV 2/3] END max_depth=5, max_leaf_nodes=12, min_samples_split=2;, score=0.840 total time=   0.3s\n",
            "[CV 3/3] END max_depth=5, max_leaf_nodes=12, min_samples_split=2;, score=0.837 total time=   0.3s\n",
            "[CV 1/3] END max_depth=5, max_leaf_nodes=12, min_samples_split=3;, score=0.835 total time=   0.3s\n",
            "[CV 2/3] END max_depth=5, max_leaf_nodes=12, min_samples_split=3;, score=0.840 total time=   0.3s\n",
            "[CV 3/3] END max_depth=5, max_leaf_nodes=12, min_samples_split=3;, score=0.837 total time=   0.3s\n",
            "[CV 1/3] END max_depth=5, max_leaf_nodes=12, min_samples_split=4;, score=0.835 total time=   0.3s\n",
            "[CV 2/3] END max_depth=5, max_leaf_nodes=12, min_samples_split=4;, score=0.840 total time=   0.3s\n",
            "[CV 3/3] END max_depth=5, max_leaf_nodes=12, min_samples_split=4;, score=0.837 total time=   0.3s\n",
            "[CV 1/3] END max_depth=5, max_leaf_nodes=13, min_samples_split=2;, score=0.835 total time=   0.3s\n",
            "[CV 2/3] END max_depth=5, max_leaf_nodes=13, min_samples_split=2;, score=0.840 total time=   0.3s\n",
            "[CV 3/3] END max_depth=5, max_leaf_nodes=13, min_samples_split=2;, score=0.837 total time=   0.3s\n",
            "[CV 1/3] END max_depth=5, max_leaf_nodes=13, min_samples_split=3;, score=0.835 total time=   0.3s\n",
            "[CV 2/3] END max_depth=5, max_leaf_nodes=13, min_samples_split=3;, score=0.840 total time=   0.3s\n",
            "[CV 3/3] END max_depth=5, max_leaf_nodes=13, min_samples_split=3;, score=0.837 total time=   0.3s\n",
            "[CV 1/3] END max_depth=5, max_leaf_nodes=13, min_samples_split=4;, score=0.835 total time=   0.3s\n",
            "[CV 2/3] END max_depth=5, max_leaf_nodes=13, min_samples_split=4;, score=0.840 total time=   0.3s\n",
            "[CV 3/3] END max_depth=5, max_leaf_nodes=13, min_samples_split=4;, score=0.837 total time=   0.3s\n",
            "[CV 1/3] END max_depth=5, max_leaf_nodes=14, min_samples_split=2;, score=0.835 total time=   0.3s\n",
            "[CV 2/3] END max_depth=5, max_leaf_nodes=14, min_samples_split=2;, score=0.840 total time=   0.3s\n",
            "[CV 3/3] END max_depth=5, max_leaf_nodes=14, min_samples_split=2;, score=0.837 total time=   0.3s\n",
            "[CV 1/3] END max_depth=5, max_leaf_nodes=14, min_samples_split=3;, score=0.835 total time=   0.3s\n",
            "[CV 2/3] END max_depth=5, max_leaf_nodes=14, min_samples_split=3;, score=0.840 total time=   0.3s\n",
            "[CV 3/3] END max_depth=5, max_leaf_nodes=14, min_samples_split=3;, score=0.837 total time=   0.3s\n",
            "[CV 1/3] END max_depth=5, max_leaf_nodes=14, min_samples_split=4;, score=0.835 total time=   0.3s\n",
            "[CV 2/3] END max_depth=5, max_leaf_nodes=14, min_samples_split=4;, score=0.840 total time=   0.3s\n",
            "[CV 3/3] END max_depth=5, max_leaf_nodes=14, min_samples_split=4;, score=0.837 total time=   0.3s\n",
            "[CV 1/3] END max_depth=7, max_leaf_nodes=5, min_samples_split=2;, score=0.819 total time=   0.2s\n",
            "[CV 2/3] END max_depth=7, max_leaf_nodes=5, min_samples_split=2;, score=0.820 total time=   0.2s\n",
            "[CV 3/3] END max_depth=7, max_leaf_nodes=5, min_samples_split=2;, score=0.825 total time=   0.2s\n",
            "[CV 1/3] END max_depth=7, max_leaf_nodes=5, min_samples_split=3;, score=0.819 total time=   0.2s\n",
            "[CV 2/3] END max_depth=7, max_leaf_nodes=5, min_samples_split=3;, score=0.820 total time=   0.2s\n",
            "[CV 3/3] END max_depth=7, max_leaf_nodes=5, min_samples_split=3;, score=0.825 total time=   0.2s\n",
            "[CV 1/3] END max_depth=7, max_leaf_nodes=5, min_samples_split=4;, score=0.819 total time=   0.2s\n",
            "[CV 2/3] END max_depth=7, max_leaf_nodes=5, min_samples_split=4;, score=0.820 total time=   0.2s\n",
            "[CV 3/3] END max_depth=7, max_leaf_nodes=5, min_samples_split=4;, score=0.825 total time=   0.2s\n",
            "[CV 1/3] END max_depth=7, max_leaf_nodes=6, min_samples_split=2;, score=0.819 total time=   0.3s\n",
            "[CV 2/3] END max_depth=7, max_leaf_nodes=6, min_samples_split=2;, score=0.820 total time=   0.2s\n",
            "[CV 3/3] END max_depth=7, max_leaf_nodes=6, min_samples_split=2;, score=0.832 total time=   0.2s\n",
            "[CV 1/3] END max_depth=7, max_leaf_nodes=6, min_samples_split=3;, score=0.819 total time=   0.3s\n",
            "[CV 2/3] END max_depth=7, max_leaf_nodes=6, min_samples_split=3;, score=0.820 total time=   0.2s\n",
            "[CV 3/3] END max_depth=7, max_leaf_nodes=6, min_samples_split=3;, score=0.832 total time=   0.2s\n",
            "[CV 1/3] END max_depth=7, max_leaf_nodes=6, min_samples_split=4;, score=0.819 total time=   0.2s\n",
            "[CV 2/3] END max_depth=7, max_leaf_nodes=6, min_samples_split=4;, score=0.820 total time=   0.2s\n",
            "[CV 3/3] END max_depth=7, max_leaf_nodes=6, min_samples_split=4;, score=0.832 total time=   0.2s\n",
            "[CV 1/3] END max_depth=7, max_leaf_nodes=7, min_samples_split=2;, score=0.831 total time=   0.3s\n",
            "[CV 2/3] END max_depth=7, max_leaf_nodes=7, min_samples_split=2;, score=0.834 total time=   0.3s\n",
            "[CV 3/3] END max_depth=7, max_leaf_nodes=7, min_samples_split=2;, score=0.832 total time=   0.3s\n",
            "[CV 1/3] END max_depth=7, max_leaf_nodes=7, min_samples_split=3;, score=0.831 total time=   0.3s\n",
            "[CV 2/3] END max_depth=7, max_leaf_nodes=7, min_samples_split=3;, score=0.834 total time=   0.3s\n",
            "[CV 3/3] END max_depth=7, max_leaf_nodes=7, min_samples_split=3;, score=0.832 total time=   0.3s\n",
            "[CV 1/3] END max_depth=7, max_leaf_nodes=7, min_samples_split=4;, score=0.831 total time=   0.3s\n",
            "[CV 2/3] END max_depth=7, max_leaf_nodes=7, min_samples_split=4;, score=0.834 total time=   0.3s\n",
            "[CV 3/3] END max_depth=7, max_leaf_nodes=7, min_samples_split=4;, score=0.832 total time=   0.3s\n",
            "[CV 1/3] END max_depth=7, max_leaf_nodes=8, min_samples_split=2;, score=0.835 total time=   0.3s\n",
            "[CV 2/3] END max_depth=7, max_leaf_nodes=8, min_samples_split=2;, score=0.840 total time=   0.3s\n",
            "[CV 3/3] END max_depth=7, max_leaf_nodes=8, min_samples_split=2;, score=0.836 total time=   0.3s\n",
            "[CV 1/3] END max_depth=7, max_leaf_nodes=8, min_samples_split=3;, score=0.835 total time=   0.3s\n",
            "[CV 2/3] END max_depth=7, max_leaf_nodes=8, min_samples_split=3;, score=0.840 total time=   0.3s\n",
            "[CV 3/3] END max_depth=7, max_leaf_nodes=8, min_samples_split=3;, score=0.836 total time=   0.3s\n",
            "[CV 1/3] END max_depth=7, max_leaf_nodes=8, min_samples_split=4;, score=0.835 total time=   0.3s\n",
            "[CV 2/3] END max_depth=7, max_leaf_nodes=8, min_samples_split=4;, score=0.840 total time=   0.3s\n",
            "[CV 3/3] END max_depth=7, max_leaf_nodes=8, min_samples_split=4;, score=0.836 total time=   0.3s\n",
            "[CV 1/3] END max_depth=7, max_leaf_nodes=9, min_samples_split=2;, score=0.835 total time=   0.3s\n",
            "[CV 2/3] END max_depth=7, max_leaf_nodes=9, min_samples_split=2;, score=0.840 total time=   0.3s\n",
            "[CV 3/3] END max_depth=7, max_leaf_nodes=9, min_samples_split=2;, score=0.837 total time=   0.3s\n",
            "[CV 1/3] END max_depth=7, max_leaf_nodes=9, min_samples_split=3;, score=0.835 total time=   0.3s\n",
            "[CV 2/3] END max_depth=7, max_leaf_nodes=9, min_samples_split=3;, score=0.840 total time=   0.3s\n",
            "[CV 3/3] END max_depth=7, max_leaf_nodes=9, min_samples_split=3;, score=0.837 total time=   0.3s\n",
            "[CV 1/3] END max_depth=7, max_leaf_nodes=9, min_samples_split=4;, score=0.835 total time=   0.3s\n",
            "[CV 2/3] END max_depth=7, max_leaf_nodes=9, min_samples_split=4;, score=0.840 total time=   0.3s\n",
            "[CV 3/3] END max_depth=7, max_leaf_nodes=9, min_samples_split=4;, score=0.837 total time=   0.3s\n",
            "[CV 1/3] END max_depth=7, max_leaf_nodes=10, min_samples_split=2;, score=0.835 total time=   0.3s\n",
            "[CV 2/3] END max_depth=7, max_leaf_nodes=10, min_samples_split=2;, score=0.840 total time=   0.3s\n",
            "[CV 3/3] END max_depth=7, max_leaf_nodes=10, min_samples_split=2;, score=0.837 total time=   0.3s\n",
            "[CV 1/3] END max_depth=7, max_leaf_nodes=10, min_samples_split=3;, score=0.835 total time=   0.4s\n",
            "[CV 2/3] END max_depth=7, max_leaf_nodes=10, min_samples_split=3;, score=0.840 total time=   0.5s\n",
            "[CV 3/3] END max_depth=7, max_leaf_nodes=10, min_samples_split=3;, score=0.837 total time=   0.6s\n",
            "[CV 1/3] END max_depth=7, max_leaf_nodes=10, min_samples_split=4;, score=0.835 total time=   0.3s\n",
            "[CV 2/3] END max_depth=7, max_leaf_nodes=10, min_samples_split=4;, score=0.840 total time=   0.3s\n",
            "[CV 3/3] END max_depth=7, max_leaf_nodes=10, min_samples_split=4;, score=0.837 total time=   0.3s\n",
            "[CV 1/3] END max_depth=7, max_leaf_nodes=11, min_samples_split=2;, score=0.835 total time=   0.3s\n",
            "[CV 2/3] END max_depth=7, max_leaf_nodes=11, min_samples_split=2;, score=0.840 total time=   0.3s\n",
            "[CV 3/3] END max_depth=7, max_leaf_nodes=11, min_samples_split=2;, score=0.837 total time=   0.3s\n",
            "[CV 1/3] END max_depth=7, max_leaf_nodes=11, min_samples_split=3;, score=0.835 total time=   0.3s\n",
            "[CV 2/3] END max_depth=7, max_leaf_nodes=11, min_samples_split=3;, score=0.840 total time=   0.3s\n",
            "[CV 3/3] END max_depth=7, max_leaf_nodes=11, min_samples_split=3;, score=0.837 total time=   0.3s\n",
            "[CV 1/3] END max_depth=7, max_leaf_nodes=11, min_samples_split=4;, score=0.835 total time=   0.3s\n",
            "[CV 2/3] END max_depth=7, max_leaf_nodes=11, min_samples_split=4;, score=0.840 total time=   0.3s\n",
            "[CV 3/3] END max_depth=7, max_leaf_nodes=11, min_samples_split=4;, score=0.837 total time=   0.3s\n",
            "[CV 1/3] END max_depth=7, max_leaf_nodes=12, min_samples_split=2;, score=0.835 total time=   0.3s\n",
            "[CV 2/3] END max_depth=7, max_leaf_nodes=12, min_samples_split=2;, score=0.840 total time=   0.3s\n",
            "[CV 3/3] END max_depth=7, max_leaf_nodes=12, min_samples_split=2;, score=0.837 total time=   0.3s\n",
            "[CV 1/3] END max_depth=7, max_leaf_nodes=12, min_samples_split=3;, score=0.835 total time=   0.3s\n",
            "[CV 2/3] END max_depth=7, max_leaf_nodes=12, min_samples_split=3;, score=0.840 total time=   0.3s\n",
            "[CV 3/3] END max_depth=7, max_leaf_nodes=12, min_samples_split=3;, score=0.837 total time=   0.3s\n",
            "[CV 1/3] END max_depth=7, max_leaf_nodes=12, min_samples_split=4;, score=0.835 total time=   0.3s\n",
            "[CV 2/3] END max_depth=7, max_leaf_nodes=12, min_samples_split=4;, score=0.840 total time=   0.3s\n",
            "[CV 3/3] END max_depth=7, max_leaf_nodes=12, min_samples_split=4;, score=0.837 total time=   0.3s\n",
            "[CV 1/3] END max_depth=7, max_leaf_nodes=13, min_samples_split=2;, score=0.835 total time=   0.3s\n",
            "[CV 2/3] END max_depth=7, max_leaf_nodes=13, min_samples_split=2;, score=0.840 total time=   0.3s\n",
            "[CV 3/3] END max_depth=7, max_leaf_nodes=13, min_samples_split=2;, score=0.837 total time=   0.3s\n",
            "[CV 1/3] END max_depth=7, max_leaf_nodes=13, min_samples_split=3;, score=0.835 total time=   0.3s\n",
            "[CV 2/3] END max_depth=7, max_leaf_nodes=13, min_samples_split=3;, score=0.840 total time=   0.3s\n",
            "[CV 3/3] END max_depth=7, max_leaf_nodes=13, min_samples_split=3;, score=0.837 total time=   0.3s\n",
            "[CV 1/3] END max_depth=7, max_leaf_nodes=13, min_samples_split=4;, score=0.835 total time=   0.3s\n",
            "[CV 2/3] END max_depth=7, max_leaf_nodes=13, min_samples_split=4;, score=0.840 total time=   0.3s\n",
            "[CV 3/3] END max_depth=7, max_leaf_nodes=13, min_samples_split=4;, score=0.837 total time=   0.3s\n",
            "[CV 1/3] END max_depth=7, max_leaf_nodes=14, min_samples_split=2;, score=0.835 total time=   0.3s\n",
            "[CV 2/3] END max_depth=7, max_leaf_nodes=14, min_samples_split=2;, score=0.840 total time=   0.3s\n",
            "[CV 3/3] END max_depth=7, max_leaf_nodes=14, min_samples_split=2;, score=0.837 total time=   0.3s\n",
            "[CV 1/3] END max_depth=7, max_leaf_nodes=14, min_samples_split=3;, score=0.835 total time=   0.3s\n",
            "[CV 2/3] END max_depth=7, max_leaf_nodes=14, min_samples_split=3;, score=0.840 total time=   0.3s\n",
            "[CV 3/3] END max_depth=7, max_leaf_nodes=14, min_samples_split=3;, score=0.837 total time=   0.3s\n",
            "[CV 1/3] END max_depth=7, max_leaf_nodes=14, min_samples_split=4;, score=0.835 total time=   0.3s\n",
            "[CV 2/3] END max_depth=7, max_leaf_nodes=14, min_samples_split=4;, score=0.840 total time=   0.3s\n",
            "[CV 3/3] END max_depth=7, max_leaf_nodes=14, min_samples_split=4;, score=0.837 total time=   0.3s\n",
            "[CV 1/3] END max_depth=9, max_leaf_nodes=5, min_samples_split=2;, score=0.819 total time=   0.2s\n",
            "[CV 2/3] END max_depth=9, max_leaf_nodes=5, min_samples_split=2;, score=0.820 total time=   0.2s\n",
            "[CV 3/3] END max_depth=9, max_leaf_nodes=5, min_samples_split=2;, score=0.825 total time=   0.2s\n",
            "[CV 1/3] END max_depth=9, max_leaf_nodes=5, min_samples_split=3;, score=0.819 total time=   0.2s\n",
            "[CV 2/3] END max_depth=9, max_leaf_nodes=5, min_samples_split=3;, score=0.820 total time=   0.2s\n",
            "[CV 3/3] END max_depth=9, max_leaf_nodes=5, min_samples_split=3;, score=0.825 total time=   0.2s\n",
            "[CV 1/3] END max_depth=9, max_leaf_nodes=5, min_samples_split=4;, score=0.819 total time=   0.2s\n",
            "[CV 2/3] END max_depth=9, max_leaf_nodes=5, min_samples_split=4;, score=0.820 total time=   0.2s\n",
            "[CV 3/3] END max_depth=9, max_leaf_nodes=5, min_samples_split=4;, score=0.825 total time=   0.2s\n",
            "[CV 1/3] END max_depth=9, max_leaf_nodes=6, min_samples_split=2;, score=0.819 total time=   0.2s\n",
            "[CV 2/3] END max_depth=9, max_leaf_nodes=6, min_samples_split=2;, score=0.820 total time=   0.2s\n",
            "[CV 3/3] END max_depth=9, max_leaf_nodes=6, min_samples_split=2;, score=0.832 total time=   0.2s\n",
            "[CV 1/3] END max_depth=9, max_leaf_nodes=6, min_samples_split=3;, score=0.819 total time=   0.2s\n",
            "[CV 2/3] END max_depth=9, max_leaf_nodes=6, min_samples_split=3;, score=0.820 total time=   0.2s\n",
            "[CV 3/3] END max_depth=9, max_leaf_nodes=6, min_samples_split=3;, score=0.832 total time=   0.2s\n",
            "[CV 1/3] END max_depth=9, max_leaf_nodes=6, min_samples_split=4;, score=0.819 total time=   0.2s\n",
            "[CV 2/3] END max_depth=9, max_leaf_nodes=6, min_samples_split=4;, score=0.820 total time=   0.2s\n",
            "[CV 3/3] END max_depth=9, max_leaf_nodes=6, min_samples_split=4;, score=0.832 total time=   0.2s\n",
            "[CV 1/3] END max_depth=9, max_leaf_nodes=7, min_samples_split=2;, score=0.831 total time=   0.2s\n",
            "[CV 2/3] END max_depth=9, max_leaf_nodes=7, min_samples_split=2;, score=0.834 total time=   0.2s\n",
            "[CV 3/3] END max_depth=9, max_leaf_nodes=7, min_samples_split=2;, score=0.832 total time=   0.2s\n",
            "[CV 1/3] END max_depth=9, max_leaf_nodes=7, min_samples_split=3;, score=0.831 total time=   0.3s\n",
            "[CV 2/3] END max_depth=9, max_leaf_nodes=7, min_samples_split=3;, score=0.834 total time=   0.4s\n",
            "[CV 3/3] END max_depth=9, max_leaf_nodes=7, min_samples_split=3;, score=0.832 total time=   1.0s\n",
            "[CV 1/3] END max_depth=9, max_leaf_nodes=7, min_samples_split=4;, score=0.831 total time=   0.6s\n",
            "[CV 2/3] END max_depth=9, max_leaf_nodes=7, min_samples_split=4;, score=0.834 total time=   0.4s\n",
            "[CV 3/3] END max_depth=9, max_leaf_nodes=7, min_samples_split=4;, score=0.832 total time=   0.3s\n",
            "[CV 1/3] END max_depth=9, max_leaf_nodes=8, min_samples_split=2;, score=0.835 total time=   0.3s\n",
            "[CV 2/3] END max_depth=9, max_leaf_nodes=8, min_samples_split=2;, score=0.840 total time=   0.2s\n",
            "[CV 3/3] END max_depth=9, max_leaf_nodes=8, min_samples_split=2;, score=0.836 total time=   0.4s\n",
            "[CV 1/3] END max_depth=9, max_leaf_nodes=8, min_samples_split=3;, score=0.835 total time=   0.4s\n",
            "[CV 2/3] END max_depth=9, max_leaf_nodes=8, min_samples_split=3;, score=0.840 total time=   0.5s\n",
            "[CV 3/3] END max_depth=9, max_leaf_nodes=8, min_samples_split=3;, score=0.836 total time=   0.7s\n",
            "[CV 1/3] END max_depth=9, max_leaf_nodes=8, min_samples_split=4;, score=0.835 total time=   0.4s\n",
            "[CV 2/3] END max_depth=9, max_leaf_nodes=8, min_samples_split=4;, score=0.840 total time=   0.3s\n",
            "[CV 3/3] END max_depth=9, max_leaf_nodes=8, min_samples_split=4;, score=0.836 total time=   0.4s\n",
            "[CV 1/3] END max_depth=9, max_leaf_nodes=9, min_samples_split=2;, score=0.835 total time=   0.3s\n",
            "[CV 2/3] END max_depth=9, max_leaf_nodes=9, min_samples_split=2;, score=0.840 total time=   0.4s\n",
            "[CV 3/3] END max_depth=9, max_leaf_nodes=9, min_samples_split=2;, score=0.837 total time=   0.3s\n",
            "[CV 1/3] END max_depth=9, max_leaf_nodes=9, min_samples_split=3;, score=0.835 total time=   0.3s\n",
            "[CV 2/3] END max_depth=9, max_leaf_nodes=9, min_samples_split=3;, score=0.840 total time=   0.3s\n",
            "[CV 3/3] END max_depth=9, max_leaf_nodes=9, min_samples_split=3;, score=0.837 total time=   0.3s\n",
            "[CV 1/3] END max_depth=9, max_leaf_nodes=9, min_samples_split=4;, score=0.835 total time=   0.4s\n",
            "[CV 2/3] END max_depth=9, max_leaf_nodes=9, min_samples_split=4;, score=0.840 total time=   0.3s\n",
            "[CV 3/3] END max_depth=9, max_leaf_nodes=9, min_samples_split=4;, score=0.837 total time=   0.4s\n",
            "[CV 1/3] END max_depth=9, max_leaf_nodes=10, min_samples_split=2;, score=0.835 total time=   0.3s\n",
            "[CV 2/3] END max_depth=9, max_leaf_nodes=10, min_samples_split=2;, score=0.840 total time=   0.3s\n",
            "[CV 3/3] END max_depth=9, max_leaf_nodes=10, min_samples_split=2;, score=0.837 total time=   0.3s\n",
            "[CV 1/3] END max_depth=9, max_leaf_nodes=10, min_samples_split=3;, score=0.835 total time=   0.4s\n",
            "[CV 2/3] END max_depth=9, max_leaf_nodes=10, min_samples_split=3;, score=0.840 total time=   0.3s\n",
            "[CV 3/3] END max_depth=9, max_leaf_nodes=10, min_samples_split=3;, score=0.837 total time=   0.4s\n",
            "[CV 1/3] END max_depth=9, max_leaf_nodes=10, min_samples_split=4;, score=0.835 total time=   0.4s\n",
            "[CV 2/3] END max_depth=9, max_leaf_nodes=10, min_samples_split=4;, score=0.840 total time=   0.3s\n",
            "[CV 3/3] END max_depth=9, max_leaf_nodes=10, min_samples_split=4;, score=0.837 total time=   0.3s\n",
            "[CV 1/3] END max_depth=9, max_leaf_nodes=11, min_samples_split=2;, score=0.835 total time=   0.4s\n",
            "[CV 2/3] END max_depth=9, max_leaf_nodes=11, min_samples_split=2;, score=0.840 total time=   0.3s\n",
            "[CV 3/3] END max_depth=9, max_leaf_nodes=11, min_samples_split=2;, score=0.837 total time=   0.3s\n",
            "[CV 1/3] END max_depth=9, max_leaf_nodes=11, min_samples_split=3;, score=0.835 total time=   0.3s\n",
            "[CV 2/3] END max_depth=9, max_leaf_nodes=11, min_samples_split=3;, score=0.840 total time=   0.3s\n",
            "[CV 3/3] END max_depth=9, max_leaf_nodes=11, min_samples_split=3;, score=0.837 total time=   0.3s\n",
            "[CV 1/3] END max_depth=9, max_leaf_nodes=11, min_samples_split=4;, score=0.835 total time=   0.4s\n",
            "[CV 2/3] END max_depth=9, max_leaf_nodes=11, min_samples_split=4;, score=0.840 total time=   0.5s\n",
            "[CV 3/3] END max_depth=9, max_leaf_nodes=11, min_samples_split=4;, score=0.837 total time=   0.4s\n",
            "[CV 1/3] END max_depth=9, max_leaf_nodes=12, min_samples_split=2;, score=0.835 total time=   0.4s\n",
            "[CV 2/3] END max_depth=9, max_leaf_nodes=12, min_samples_split=2;, score=0.840 total time=   0.3s\n",
            "[CV 3/3] END max_depth=9, max_leaf_nodes=12, min_samples_split=2;, score=0.837 total time=   0.3s\n",
            "[CV 1/3] END max_depth=9, max_leaf_nodes=12, min_samples_split=3;, score=0.835 total time=   0.3s\n",
            "[CV 2/3] END max_depth=9, max_leaf_nodes=12, min_samples_split=3;, score=0.840 total time=   0.3s\n",
            "[CV 3/3] END max_depth=9, max_leaf_nodes=12, min_samples_split=3;, score=0.837 total time=   0.3s\n",
            "[CV 1/3] END max_depth=9, max_leaf_nodes=12, min_samples_split=4;, score=0.835 total time=   0.3s\n",
            "[CV 2/3] END max_depth=9, max_leaf_nodes=12, min_samples_split=4;, score=0.840 total time=   0.3s\n",
            "[CV 3/3] END max_depth=9, max_leaf_nodes=12, min_samples_split=4;, score=0.837 total time=   0.3s\n",
            "[CV 1/3] END max_depth=9, max_leaf_nodes=13, min_samples_split=2;, score=0.835 total time=   0.3s\n",
            "[CV 2/3] END max_depth=9, max_leaf_nodes=13, min_samples_split=2;, score=0.840 total time=   0.3s\n",
            "[CV 3/3] END max_depth=9, max_leaf_nodes=13, min_samples_split=2;, score=0.837 total time=   0.3s\n",
            "[CV 1/3] END max_depth=9, max_leaf_nodes=13, min_samples_split=3;, score=0.835 total time=   0.3s\n",
            "[CV 2/3] END max_depth=9, max_leaf_nodes=13, min_samples_split=3;, score=0.840 total time=   0.3s\n",
            "[CV 3/3] END max_depth=9, max_leaf_nodes=13, min_samples_split=3;, score=0.837 total time=   0.3s\n",
            "[CV 1/3] END max_depth=9, max_leaf_nodes=13, min_samples_split=4;, score=0.835 total time=   0.3s\n",
            "[CV 2/3] END max_depth=9, max_leaf_nodes=13, min_samples_split=4;, score=0.840 total time=   0.3s\n",
            "[CV 3/3] END max_depth=9, max_leaf_nodes=13, min_samples_split=4;, score=0.837 total time=   0.3s\n",
            "[CV 1/3] END max_depth=9, max_leaf_nodes=14, min_samples_split=2;, score=0.835 total time=   0.3s\n",
            "[CV 2/3] END max_depth=9, max_leaf_nodes=14, min_samples_split=2;, score=0.840 total time=   0.3s\n",
            "[CV 3/3] END max_depth=9, max_leaf_nodes=14, min_samples_split=2;, score=0.837 total time=   0.3s\n",
            "[CV 1/3] END max_depth=9, max_leaf_nodes=14, min_samples_split=3;, score=0.835 total time=   0.3s\n",
            "[CV 2/3] END max_depth=9, max_leaf_nodes=14, min_samples_split=3;, score=0.840 total time=   0.3s\n",
            "[CV 3/3] END max_depth=9, max_leaf_nodes=14, min_samples_split=3;, score=0.837 total time=   0.3s\n",
            "[CV 1/3] END max_depth=9, max_leaf_nodes=14, min_samples_split=4;, score=0.835 total time=   0.3s\n",
            "[CV 2/3] END max_depth=9, max_leaf_nodes=14, min_samples_split=4;, score=0.840 total time=   0.3s\n",
            "[CV 3/3] END max_depth=9, max_leaf_nodes=14, min_samples_split=4;, score=0.837 total time=   0.3s\n",
            "[CV 1/3] END max_depth=11, max_leaf_nodes=5, min_samples_split=2;, score=0.819 total time=   0.2s\n",
            "[CV 2/3] END max_depth=11, max_leaf_nodes=5, min_samples_split=2;, score=0.820 total time=   0.2s\n",
            "[CV 3/3] END max_depth=11, max_leaf_nodes=5, min_samples_split=2;, score=0.825 total time=   0.2s\n",
            "[CV 1/3] END max_depth=11, max_leaf_nodes=5, min_samples_split=3;, score=0.819 total time=   0.2s\n",
            "[CV 2/3] END max_depth=11, max_leaf_nodes=5, min_samples_split=3;, score=0.820 total time=   0.2s\n",
            "[CV 3/3] END max_depth=11, max_leaf_nodes=5, min_samples_split=3;, score=0.825 total time=   0.2s\n",
            "[CV 1/3] END max_depth=11, max_leaf_nodes=5, min_samples_split=4;, score=0.819 total time=   0.2s\n",
            "[CV 2/3] END max_depth=11, max_leaf_nodes=5, min_samples_split=4;, score=0.820 total time=   0.2s\n",
            "[CV 3/3] END max_depth=11, max_leaf_nodes=5, min_samples_split=4;, score=0.825 total time=   0.2s\n",
            "[CV 1/3] END max_depth=11, max_leaf_nodes=6, min_samples_split=2;, score=0.819 total time=   0.2s\n",
            "[CV 2/3] END max_depth=11, max_leaf_nodes=6, min_samples_split=2;, score=0.820 total time=   0.2s\n",
            "[CV 3/3] END max_depth=11, max_leaf_nodes=6, min_samples_split=2;, score=0.832 total time=   0.2s\n",
            "[CV 1/3] END max_depth=11, max_leaf_nodes=6, min_samples_split=3;, score=0.819 total time=   0.2s\n",
            "[CV 2/3] END max_depth=11, max_leaf_nodes=6, min_samples_split=3;, score=0.820 total time=   0.4s\n",
            "[CV 3/3] END max_depth=11, max_leaf_nodes=6, min_samples_split=3;, score=0.832 total time=   0.4s\n",
            "[CV 1/3] END max_depth=11, max_leaf_nodes=6, min_samples_split=4;, score=0.819 total time=   0.5s\n",
            "[CV 2/3] END max_depth=11, max_leaf_nodes=6, min_samples_split=4;, score=0.820 total time=   0.4s\n",
            "[CV 3/3] END max_depth=11, max_leaf_nodes=6, min_samples_split=4;, score=0.832 total time=   0.4s\n",
            "[CV 1/3] END max_depth=11, max_leaf_nodes=7, min_samples_split=2;, score=0.831 total time=   0.7s\n",
            "[CV 2/3] END max_depth=11, max_leaf_nodes=7, min_samples_split=2;, score=0.834 total time=   0.4s\n",
            "[CV 3/3] END max_depth=11, max_leaf_nodes=7, min_samples_split=2;, score=0.832 total time=   0.2s\n",
            "[CV 1/3] END max_depth=11, max_leaf_nodes=7, min_samples_split=3;, score=0.831 total time=   0.2s\n",
            "[CV 2/3] END max_depth=11, max_leaf_nodes=7, min_samples_split=3;, score=0.834 total time=   0.2s\n",
            "[CV 3/3] END max_depth=11, max_leaf_nodes=7, min_samples_split=3;, score=0.832 total time=   0.3s\n",
            "[CV 1/3] END max_depth=11, max_leaf_nodes=7, min_samples_split=4;, score=0.831 total time=   0.2s\n",
            "[CV 2/3] END max_depth=11, max_leaf_nodes=7, min_samples_split=4;, score=0.834 total time=   0.2s\n",
            "[CV 3/3] END max_depth=11, max_leaf_nodes=7, min_samples_split=4;, score=0.832 total time=   0.4s\n",
            "[CV 1/3] END max_depth=11, max_leaf_nodes=8, min_samples_split=2;, score=0.835 total time=   0.6s\n",
            "[CV 2/3] END max_depth=11, max_leaf_nodes=8, min_samples_split=2;, score=0.840 total time=   0.8s\n",
            "[CV 3/3] END max_depth=11, max_leaf_nodes=8, min_samples_split=2;, score=0.836 total time=   0.6s\n",
            "[CV 1/3] END max_depth=11, max_leaf_nodes=8, min_samples_split=3;, score=0.835 total time=   0.4s\n",
            "[CV 2/3] END max_depth=11, max_leaf_nodes=8, min_samples_split=3;, score=0.840 total time=   0.6s\n",
            "[CV 3/3] END max_depth=11, max_leaf_nodes=8, min_samples_split=3;, score=0.836 total time=   0.3s\n",
            "[CV 1/3] END max_depth=11, max_leaf_nodes=8, min_samples_split=4;, score=0.835 total time=   0.3s\n",
            "[CV 2/3] END max_depth=11, max_leaf_nodes=8, min_samples_split=4;, score=0.840 total time=   0.2s\n",
            "[CV 3/3] END max_depth=11, max_leaf_nodes=8, min_samples_split=4;, score=0.836 total time=   0.3s\n",
            "[CV 1/3] END max_depth=11, max_leaf_nodes=9, min_samples_split=2;, score=0.835 total time=   0.3s\n",
            "[CV 2/3] END max_depth=11, max_leaf_nodes=9, min_samples_split=2;, score=0.840 total time=   0.2s\n",
            "[CV 3/3] END max_depth=11, max_leaf_nodes=9, min_samples_split=2;, score=0.837 total time=   0.2s\n",
            "[CV 1/3] END max_depth=11, max_leaf_nodes=9, min_samples_split=3;, score=0.835 total time=   0.3s\n",
            "[CV 2/3] END max_depth=11, max_leaf_nodes=9, min_samples_split=3;, score=0.840 total time=   0.3s\n",
            "[CV 3/3] END max_depth=11, max_leaf_nodes=9, min_samples_split=3;, score=0.837 total time=   0.3s\n",
            "[CV 1/3] END max_depth=11, max_leaf_nodes=9, min_samples_split=4;, score=0.835 total time=   0.3s\n",
            "[CV 2/3] END max_depth=11, max_leaf_nodes=9, min_samples_split=4;, score=0.840 total time=   0.3s\n",
            "[CV 3/3] END max_depth=11, max_leaf_nodes=9, min_samples_split=4;, score=0.837 total time=   0.3s\n",
            "[CV 1/3] END max_depth=11, max_leaf_nodes=10, min_samples_split=2;, score=0.835 total time=   0.3s\n",
            "[CV 2/3] END max_depth=11, max_leaf_nodes=10, min_samples_split=2;, score=0.840 total time=   0.3s\n",
            "[CV 3/3] END max_depth=11, max_leaf_nodes=10, min_samples_split=2;, score=0.837 total time=   0.3s\n",
            "[CV 1/3] END max_depth=11, max_leaf_nodes=10, min_samples_split=3;, score=0.835 total time=   0.3s\n",
            "[CV 2/3] END max_depth=11, max_leaf_nodes=10, min_samples_split=3;, score=0.840 total time=   0.3s\n",
            "[CV 3/3] END max_depth=11, max_leaf_nodes=10, min_samples_split=3;, score=0.837 total time=   0.3s\n",
            "[CV 1/3] END max_depth=11, max_leaf_nodes=10, min_samples_split=4;, score=0.835 total time=   0.3s\n",
            "[CV 2/3] END max_depth=11, max_leaf_nodes=10, min_samples_split=4;, score=0.840 total time=   0.3s\n",
            "[CV 3/3] END max_depth=11, max_leaf_nodes=10, min_samples_split=4;, score=0.837 total time=   0.5s\n",
            "[CV 1/3] END max_depth=11, max_leaf_nodes=11, min_samples_split=2;, score=0.835 total time=   0.8s\n",
            "[CV 2/3] END max_depth=11, max_leaf_nodes=11, min_samples_split=2;, score=0.840 total time=   1.2s\n",
            "[CV 3/3] END max_depth=11, max_leaf_nodes=11, min_samples_split=2;, score=0.837 total time=   0.5s\n",
            "[CV 1/3] END max_depth=11, max_leaf_nodes=11, min_samples_split=3;, score=0.835 total time=   0.3s\n",
            "[CV 2/3] END max_depth=11, max_leaf_nodes=11, min_samples_split=3;, score=0.840 total time=   0.3s\n",
            "[CV 3/3] END max_depth=11, max_leaf_nodes=11, min_samples_split=3;, score=0.837 total time=   0.3s\n",
            "[CV 1/3] END max_depth=11, max_leaf_nodes=11, min_samples_split=4;, score=0.835 total time=   0.3s\n",
            "[CV 2/3] END max_depth=11, max_leaf_nodes=11, min_samples_split=4;, score=0.840 total time=   0.4s\n",
            "[CV 3/3] END max_depth=11, max_leaf_nodes=11, min_samples_split=4;, score=0.837 total time=   0.3s\n",
            "[CV 1/3] END max_depth=11, max_leaf_nodes=12, min_samples_split=2;, score=0.835 total time=   0.5s\n",
            "[CV 2/3] END max_depth=11, max_leaf_nodes=12, min_samples_split=2;, score=0.840 total time=   0.6s\n",
            "[CV 3/3] END max_depth=11, max_leaf_nodes=12, min_samples_split=2;, score=0.837 total time=   0.3s\n",
            "[CV 1/3] END max_depth=11, max_leaf_nodes=12, min_samples_split=3;, score=0.835 total time=   0.6s\n",
            "[CV 2/3] END max_depth=11, max_leaf_nodes=12, min_samples_split=3;, score=0.840 total time=   0.8s\n",
            "[CV 3/3] END max_depth=11, max_leaf_nodes=12, min_samples_split=3;, score=0.837 total time=   0.5s\n",
            "[CV 1/3] END max_depth=11, max_leaf_nodes=12, min_samples_split=4;, score=0.835 total time=   0.3s\n",
            "[CV 2/3] END max_depth=11, max_leaf_nodes=12, min_samples_split=4;, score=0.840 total time=   0.3s\n",
            "[CV 3/3] END max_depth=11, max_leaf_nodes=12, min_samples_split=4;, score=0.837 total time=   0.4s\n",
            "[CV 1/3] END max_depth=11, max_leaf_nodes=13, min_samples_split=2;, score=0.835 total time=   0.5s\n",
            "[CV 2/3] END max_depth=11, max_leaf_nodes=13, min_samples_split=2;, score=0.840 total time=   0.4s\n",
            "[CV 3/3] END max_depth=11, max_leaf_nodes=13, min_samples_split=2;, score=0.837 total time=   0.3s\n",
            "[CV 1/3] END max_depth=11, max_leaf_nodes=13, min_samples_split=3;, score=0.835 total time=   0.4s\n",
            "[CV 2/3] END max_depth=11, max_leaf_nodes=13, min_samples_split=3;, score=0.840 total time=   0.4s\n",
            "[CV 3/3] END max_depth=11, max_leaf_nodes=13, min_samples_split=3;, score=0.837 total time=   0.6s\n",
            "[CV 1/3] END max_depth=11, max_leaf_nodes=13, min_samples_split=4;, score=0.835 total time=   0.7s\n",
            "[CV 2/3] END max_depth=11, max_leaf_nodes=13, min_samples_split=4;, score=0.840 total time=   0.5s\n",
            "[CV 3/3] END max_depth=11, max_leaf_nodes=13, min_samples_split=4;, score=0.837 total time=   0.6s\n",
            "[CV 1/3] END max_depth=11, max_leaf_nodes=14, min_samples_split=2;, score=0.835 total time=   0.3s\n",
            "[CV 2/3] END max_depth=11, max_leaf_nodes=14, min_samples_split=2;, score=0.840 total time=   0.3s\n",
            "[CV 3/3] END max_depth=11, max_leaf_nodes=14, min_samples_split=2;, score=0.837 total time=   0.3s\n",
            "[CV 1/3] END max_depth=11, max_leaf_nodes=14, min_samples_split=3;, score=0.835 total time=   0.3s\n",
            "[CV 2/3] END max_depth=11, max_leaf_nodes=14, min_samples_split=3;, score=0.840 total time=   0.3s\n",
            "[CV 3/3] END max_depth=11, max_leaf_nodes=14, min_samples_split=3;, score=0.837 total time=   0.3s\n",
            "[CV 1/3] END max_depth=11, max_leaf_nodes=14, min_samples_split=4;, score=0.835 total time=   0.3s\n",
            "[CV 2/3] END max_depth=11, max_leaf_nodes=14, min_samples_split=4;, score=0.840 total time=   0.3s\n",
            "[CV 3/3] END max_depth=11, max_leaf_nodes=14, min_samples_split=4;, score=0.837 total time=   0.5s\n"
          ]
        },
        {
          "output_type": "execute_result",
          "data": {
            "text/plain": [
              "{'max_depth': 5, 'max_leaf_nodes': 9, 'min_samples_split': 2}"
            ]
          },
          "metadata": {},
          "execution_count": 73
        }
      ]
    },
    {
      "cell_type": "markdown",
      "source": [
        "1. Вычислите значение roc_auc для решающего дерева с гиперпараметрами, определёнными в качестве оптимальных. Ответ округлите до двух знаков после точки-разделителя."
      ],
      "metadata": {
        "id": "nTKSLOJTkjdw"
      }
    },
    {
      "cell_type": "code",
      "source": [
        "dt = tree.DecisionTreeClassifier(max_depth = 5, max_leaf_nodes = 9, min_samples_split = 2, random_state=42)\n",
        "dt.fit(X_train, Y_train)\n",
        "preds_train = dt.predict(X_train)\n",
        "preds_test = dt.predict(X_test)\n",
        "metrics.roc_auc_score(preds_test, Y_test)"
      ],
      "metadata": {
        "colab": {
          "base_uri": "https://localhost:8080/"
        },
        "id": "BwF9epcLkmNX",
        "outputId": "300919fb-8bc1-4e49-c00b-902247ab7e2c"
      },
      "execution_count": 77,
      "outputs": [
        {
          "output_type": "execute_result",
          "data": {
            "text/plain": [
              "0.7915660105378268"
            ]
          },
          "metadata": {},
          "execution_count": 77
        }
      ]
    },
    {
      "cell_type": "markdown",
      "source": [
        "2. Какие значения гиперпараметров были выбраны как оптимальные?"
      ],
      "metadata": {
        "id": "c8E0M9eCgnzT"
      }
    },
    {
      "cell_type": "code",
      "source": [
        "grid_search_cv.best_params_"
      ],
      "metadata": {
        "colab": {
          "base_uri": "https://localhost:8080/"
        },
        "id": "W1c1krgZgry6",
        "outputId": "31ad9479-f88b-4d66-94ca-25c35fe525d2"
      },
      "execution_count": 78,
      "outputs": [
        {
          "output_type": "execute_result",
          "data": {
            "text/plain": [
              "{'max_depth': 5, 'max_leaf_nodes': 9, 'min_samples_split': 2}"
            ]
          },
          "metadata": {},
          "execution_count": 78
        }
      ]
    },
    {
      "cell_type": "markdown",
      "source": [
        "##Задание 4.10\n",
        "\n",
        "К сожалению, деревья решений не помогли нам в улучшении качества модели, так что попробуем ещё уменьшить ошибку с помощью ансамблей.\n",
        "\n",
        "Теперь постройте случайный лес, включающий 100 деревьев. Задайте параметр random_state=31. Остальные параметры оставьте по умолчанию.\n",
        "\n",
        "Какой теперь будет метрика roc_auc на тестовой выборке? Ответ округлите до двух знаков после точки-разделителя."
      ],
      "metadata": {
        "id": "aOItY-vBgscF"
      }
    },
    {
      "cell_type": "code",
      "source": [
        "rf =  ensemble.RandomForestClassifier(n_estimators = 100, random_state=31)\n",
        "rf.fit(X_train, Y_train)\n",
        "preds_train = rf.predict(X_train)\n",
        "preds_test = rf.predict(X_test)\n",
        "metrics.roc_auc_score(preds_test, Y_test)"
      ],
      "metadata": {
        "colab": {
          "base_uri": "https://localhost:8080/"
        },
        "id": "PsPLhlVwgxM7",
        "outputId": "52dce661-9b6e-4c24-f9d2-dd96f83bd6b0"
      },
      "execution_count": 79,
      "outputs": [
        {
          "output_type": "execute_result",
          "data": {
            "text/plain": [
              "0.8215242568663885"
            ]
          },
          "metadata": {},
          "execution_count": 79
        }
      ]
    },
    {
      "cell_type": "markdown",
      "source": [
        "##Задание 4.11\n",
        "\n",
        "Основные параметры, которые отвечают за качество обучения в случайном лесе, следующие:'max_features', 'min_samples_leaf', 'max_depth'.\n",
        "\n",
        "Возьмите случайный лес из 100 деревьев и найдите оптимальную комбинацию этих трёх параметров. Сетка для перебора следующая:\n",
        "\n",
        "{'max_features': [ 4, 5, 6, 7], 'min_samples_leaf': [3, 5, 7, 9, 11], 'max_depth': [5, 10, 15]}\n",
        "\n",
        "Перебор осуществите с помощью GridSearchCV. Для параметра кросс-валидации cv задайте значение 3. Случайности фиксируйте параметром random_state = 31. Остальные значения оставьте по умолчанию.\n",
        "\n",
        "Какое значение roc_auc получилось для оптимальных гиперпараметров?"
      ],
      "metadata": {
        "id": "RhWaVIQmgzvA"
      }
    },
    {
      "cell_type": "code",
      "source": [
        "params = {'max_features': [ 4, 5, 6, 7], 'min_samples_leaf': [3, 5, 7, 9, 11], 'max_depth': [5, 10, 15]}\n",
        "grid_search_cv = model_selection.GridSearchCV(ensemble.RandomForestClassifier(random_state=31), params, verbose=3, cv=3)\n",
        "grid_search_cv.fit(X_train, Y_train)\n",
        "grid_search_cv.best_params_\n",
        "rf =  ensemble.RandomForestClassifier(n_estimators = 100, max_depth = 15, max_features = 7, min_samples_leaf = 3, random_state=31)\n",
        "rf.fit(X_train, Y_train)\n",
        "preds_train = rf.predict(X_train)\n",
        "preds_test = rf.predict(X_test)\n",
        "metrics.roc_auc_score(preds_test, Y_test)"
      ],
      "metadata": {
        "colab": {
          "base_uri": "https://localhost:8080/"
        },
        "id": "bOn7mzFPg1Kg",
        "outputId": "6439b150-b9c5-4033-85af-6026964b8079"
      },
      "execution_count": 81,
      "outputs": [
        {
          "output_type": "stream",
          "name": "stdout",
          "text": [
            "Fitting 3 folds for each of 60 candidates, totalling 180 fits\n",
            "[CV 1/3] END max_depth=5, max_features=4, min_samples_leaf=3;, score=0.776 total time=   1.4s\n",
            "[CV 2/3] END max_depth=5, max_features=4, min_samples_leaf=3;, score=0.775 total time=   1.7s\n",
            "[CV 3/3] END max_depth=5, max_features=4, min_samples_leaf=3;, score=0.775 total time=   1.4s\n",
            "[CV 1/3] END max_depth=5, max_features=4, min_samples_leaf=5;, score=0.776 total time=   1.4s\n",
            "[CV 2/3] END max_depth=5, max_features=4, min_samples_leaf=5;, score=0.775 total time=   1.4s\n",
            "[CV 3/3] END max_depth=5, max_features=4, min_samples_leaf=5;, score=0.775 total time=   1.4s\n",
            "[CV 1/3] END max_depth=5, max_features=4, min_samples_leaf=7;, score=0.776 total time=   1.4s\n",
            "[CV 2/3] END max_depth=5, max_features=4, min_samples_leaf=7;, score=0.775 total time=   1.4s\n",
            "[CV 3/3] END max_depth=5, max_features=4, min_samples_leaf=7;, score=0.775 total time=   1.4s\n",
            "[CV 1/3] END max_depth=5, max_features=4, min_samples_leaf=9;, score=0.776 total time=   1.3s\n",
            "[CV 2/3] END max_depth=5, max_features=4, min_samples_leaf=9;, score=0.775 total time=   1.4s\n",
            "[CV 3/3] END max_depth=5, max_features=4, min_samples_leaf=9;, score=0.775 total time=   1.4s\n",
            "[CV 1/3] END max_depth=5, max_features=4, min_samples_leaf=11;, score=0.776 total time=   1.4s\n",
            "[CV 2/3] END max_depth=5, max_features=4, min_samples_leaf=11;, score=0.775 total time=   1.4s\n",
            "[CV 3/3] END max_depth=5, max_features=4, min_samples_leaf=11;, score=0.775 total time=   1.4s\n",
            "[CV 1/3] END max_depth=5, max_features=5, min_samples_leaf=3;, score=0.782 total time=   1.5s\n",
            "[CV 2/3] END max_depth=5, max_features=5, min_samples_leaf=3;, score=0.780 total time=   1.5s\n",
            "[CV 3/3] END max_depth=5, max_features=5, min_samples_leaf=3;, score=0.781 total time=   1.6s\n",
            "[CV 1/3] END max_depth=5, max_features=5, min_samples_leaf=5;, score=0.781 total time=   1.7s\n",
            "[CV 2/3] END max_depth=5, max_features=5, min_samples_leaf=5;, score=0.781 total time=   1.6s\n",
            "[CV 3/3] END max_depth=5, max_features=5, min_samples_leaf=5;, score=0.781 total time=   1.5s\n",
            "[CV 1/3] END max_depth=5, max_features=5, min_samples_leaf=7;, score=0.782 total time=   2.1s\n",
            "[CV 2/3] END max_depth=5, max_features=5, min_samples_leaf=7;, score=0.780 total time=   2.3s\n",
            "[CV 3/3] END max_depth=5, max_features=5, min_samples_leaf=7;, score=0.782 total time=   1.6s\n",
            "[CV 1/3] END max_depth=5, max_features=5, min_samples_leaf=9;, score=0.782 total time=   1.9s\n",
            "[CV 2/3] END max_depth=5, max_features=5, min_samples_leaf=9;, score=0.779 total time=   2.6s\n",
            "[CV 3/3] END max_depth=5, max_features=5, min_samples_leaf=9;, score=0.781 total time=   1.8s\n",
            "[CV 1/3] END max_depth=5, max_features=5, min_samples_leaf=11;, score=0.784 total time=   1.5s\n",
            "[CV 2/3] END max_depth=5, max_features=5, min_samples_leaf=11;, score=0.781 total time=   1.5s\n",
            "[CV 3/3] END max_depth=5, max_features=5, min_samples_leaf=11;, score=0.783 total time=   1.6s\n",
            "[CV 1/3] END max_depth=5, max_features=6, min_samples_leaf=3;, score=0.795 total time=   1.7s\n",
            "[CV 2/3] END max_depth=5, max_features=6, min_samples_leaf=3;, score=0.793 total time=   1.8s\n",
            "[CV 3/3] END max_depth=5, max_features=6, min_samples_leaf=3;, score=0.796 total time=   1.8s\n",
            "[CV 1/3] END max_depth=5, max_features=6, min_samples_leaf=5;, score=0.793 total time=   1.7s\n",
            "[CV 2/3] END max_depth=5, max_features=6, min_samples_leaf=5;, score=0.792 total time=   2.9s\n",
            "[CV 3/3] END max_depth=5, max_features=6, min_samples_leaf=5;, score=0.795 total time=   2.9s\n",
            "[CV 1/3] END max_depth=5, max_features=6, min_samples_leaf=7;, score=0.798 total time=   1.7s\n",
            "[CV 2/3] END max_depth=5, max_features=6, min_samples_leaf=7;, score=0.794 total time=   1.7s\n",
            "[CV 3/3] END max_depth=5, max_features=6, min_samples_leaf=7;, score=0.795 total time=   1.7s\n",
            "[CV 1/3] END max_depth=5, max_features=6, min_samples_leaf=9;, score=0.796 total time=   1.7s\n",
            "[CV 2/3] END max_depth=5, max_features=6, min_samples_leaf=9;, score=0.795 total time=   1.6s\n",
            "[CV 3/3] END max_depth=5, max_features=6, min_samples_leaf=9;, score=0.795 total time=   1.7s\n",
            "[CV 1/3] END max_depth=5, max_features=6, min_samples_leaf=11;, score=0.795 total time=   1.7s\n",
            "[CV 2/3] END max_depth=5, max_features=6, min_samples_leaf=11;, score=0.798 total time=   1.6s\n",
            "[CV 3/3] END max_depth=5, max_features=6, min_samples_leaf=11;, score=0.795 total time=   1.7s\n",
            "[CV 1/3] END max_depth=5, max_features=7, min_samples_leaf=3;, score=0.798 total time=   1.8s\n",
            "[CV 2/3] END max_depth=5, max_features=7, min_samples_leaf=3;, score=0.801 total time=   1.8s\n",
            "[CV 3/3] END max_depth=5, max_features=7, min_samples_leaf=3;, score=0.794 total time=   1.8s\n",
            "[CV 1/3] END max_depth=5, max_features=7, min_samples_leaf=5;, score=0.798 total time=   1.8s\n",
            "[CV 2/3] END max_depth=5, max_features=7, min_samples_leaf=5;, score=0.801 total time=   1.8s\n",
            "[CV 3/3] END max_depth=5, max_features=7, min_samples_leaf=5;, score=0.797 total time=   1.8s\n",
            "[CV 1/3] END max_depth=5, max_features=7, min_samples_leaf=7;, score=0.794 total time=   1.8s\n",
            "[CV 2/3] END max_depth=5, max_features=7, min_samples_leaf=7;, score=0.800 total time=   1.8s\n",
            "[CV 3/3] END max_depth=5, max_features=7, min_samples_leaf=7;, score=0.795 total time=   1.8s\n",
            "[CV 1/3] END max_depth=5, max_features=7, min_samples_leaf=9;, score=0.796 total time=   1.8s\n",
            "[CV 2/3] END max_depth=5, max_features=7, min_samples_leaf=9;, score=0.800 total time=   1.8s\n",
            "[CV 3/3] END max_depth=5, max_features=7, min_samples_leaf=9;, score=0.795 total time=   1.8s\n",
            "[CV 1/3] END max_depth=5, max_features=7, min_samples_leaf=11;, score=0.796 total time=   1.8s\n",
            "[CV 2/3] END max_depth=5, max_features=7, min_samples_leaf=11;, score=0.803 total time=   1.8s\n",
            "[CV 3/3] END max_depth=5, max_features=7, min_samples_leaf=11;, score=0.795 total time=   1.8s\n",
            "[CV 1/3] END max_depth=10, max_features=4, min_samples_leaf=3;, score=0.810 total time=   2.2s\n",
            "[CV 2/3] END max_depth=10, max_features=4, min_samples_leaf=3;, score=0.815 total time=   2.2s\n",
            "[CV 3/3] END max_depth=10, max_features=4, min_samples_leaf=3;, score=0.813 total time=   2.3s\n",
            "[CV 1/3] END max_depth=10, max_features=4, min_samples_leaf=5;, score=0.812 total time=   2.2s\n",
            "[CV 2/3] END max_depth=10, max_features=4, min_samples_leaf=5;, score=0.811 total time=   2.2s\n",
            "[CV 3/3] END max_depth=10, max_features=4, min_samples_leaf=5;, score=0.813 total time=   2.2s\n",
            "[CV 1/3] END max_depth=10, max_features=4, min_samples_leaf=7;, score=0.811 total time=   2.2s\n",
            "[CV 2/3] END max_depth=10, max_features=4, min_samples_leaf=7;, score=0.812 total time=   2.2s\n",
            "[CV 3/3] END max_depth=10, max_features=4, min_samples_leaf=7;, score=0.812 total time=   2.2s\n",
            "[CV 1/3] END max_depth=10, max_features=4, min_samples_leaf=9;, score=0.809 total time=   2.1s\n",
            "[CV 2/3] END max_depth=10, max_features=4, min_samples_leaf=9;, score=0.812 total time=   2.1s\n",
            "[CV 3/3] END max_depth=10, max_features=4, min_samples_leaf=9;, score=0.811 total time=   2.2s\n",
            "[CV 1/3] END max_depth=10, max_features=4, min_samples_leaf=11;, score=0.813 total time=   2.1s\n",
            "[CV 2/3] END max_depth=10, max_features=4, min_samples_leaf=11;, score=0.812 total time=   2.1s\n",
            "[CV 3/3] END max_depth=10, max_features=4, min_samples_leaf=11;, score=0.813 total time=   2.2s\n",
            "[CV 1/3] END max_depth=10, max_features=5, min_samples_leaf=3;, score=0.819 total time=   2.4s\n",
            "[CV 2/3] END max_depth=10, max_features=5, min_samples_leaf=3;, score=0.826 total time=   2.9s\n",
            "[CV 3/3] END max_depth=10, max_features=5, min_samples_leaf=3;, score=0.820 total time=   2.4s\n",
            "[CV 1/3] END max_depth=10, max_features=5, min_samples_leaf=5;, score=0.821 total time=   2.4s\n",
            "[CV 2/3] END max_depth=10, max_features=5, min_samples_leaf=5;, score=0.826 total time=   2.5s\n",
            "[CV 3/3] END max_depth=10, max_features=5, min_samples_leaf=5;, score=0.820 total time=   2.5s\n",
            "[CV 1/3] END max_depth=10, max_features=5, min_samples_leaf=7;, score=0.820 total time=   2.4s\n",
            "[CV 2/3] END max_depth=10, max_features=5, min_samples_leaf=7;, score=0.819 total time=   2.4s\n",
            "[CV 3/3] END max_depth=10, max_features=5, min_samples_leaf=7;, score=0.820 total time=   2.4s\n",
            "[CV 1/3] END max_depth=10, max_features=5, min_samples_leaf=9;, score=0.819 total time=   2.4s\n",
            "[CV 2/3] END max_depth=10, max_features=5, min_samples_leaf=9;, score=0.824 total time=   2.4s\n",
            "[CV 3/3] END max_depth=10, max_features=5, min_samples_leaf=9;, score=0.816 total time=   2.4s\n",
            "[CV 1/3] END max_depth=10, max_features=5, min_samples_leaf=11;, score=0.822 total time=   3.2s\n",
            "[CV 2/3] END max_depth=10, max_features=5, min_samples_leaf=11;, score=0.826 total time=   2.4s\n",
            "[CV 3/3] END max_depth=10, max_features=5, min_samples_leaf=11;, score=0.817 total time=   2.4s\n",
            "[CV 1/3] END max_depth=10, max_features=6, min_samples_leaf=3;, score=0.832 total time=   2.7s\n",
            "[CV 2/3] END max_depth=10, max_features=6, min_samples_leaf=3;, score=0.834 total time=   2.7s\n",
            "[CV 3/3] END max_depth=10, max_features=6, min_samples_leaf=3;, score=0.830 total time=   2.8s\n",
            "[CV 1/3] END max_depth=10, max_features=6, min_samples_leaf=5;, score=0.829 total time=   2.7s\n",
            "[CV 2/3] END max_depth=10, max_features=6, min_samples_leaf=5;, score=0.835 total time=   2.7s\n",
            "[CV 3/3] END max_depth=10, max_features=6, min_samples_leaf=5;, score=0.828 total time=   2.8s\n",
            "[CV 1/3] END max_depth=10, max_features=6, min_samples_leaf=7;, score=0.831 total time=   2.7s\n",
            "[CV 2/3] END max_depth=10, max_features=6, min_samples_leaf=7;, score=0.835 total time=   2.7s\n",
            "[CV 3/3] END max_depth=10, max_features=6, min_samples_leaf=7;, score=0.831 total time=   2.7s\n",
            "[CV 1/3] END max_depth=10, max_features=6, min_samples_leaf=9;, score=0.830 total time=   2.7s\n",
            "[CV 2/3] END max_depth=10, max_features=6, min_samples_leaf=9;, score=0.835 total time=   2.7s\n",
            "[CV 3/3] END max_depth=10, max_features=6, min_samples_leaf=9;, score=0.831 total time=   2.8s\n",
            "[CV 1/3] END max_depth=10, max_features=6, min_samples_leaf=11;, score=0.831 total time=   2.7s\n",
            "[CV 2/3] END max_depth=10, max_features=6, min_samples_leaf=11;, score=0.835 total time=   2.7s\n",
            "[CV 3/3] END max_depth=10, max_features=6, min_samples_leaf=11;, score=0.827 total time=   2.7s\n",
            "[CV 1/3] END max_depth=10, max_features=7, min_samples_leaf=3;, score=0.833 total time=   3.1s\n",
            "[CV 2/3] END max_depth=10, max_features=7, min_samples_leaf=3;, score=0.839 total time=   3.1s\n",
            "[CV 3/3] END max_depth=10, max_features=7, min_samples_leaf=3;, score=0.831 total time=   3.0s\n",
            "[CV 1/3] END max_depth=10, max_features=7, min_samples_leaf=5;, score=0.834 total time=   3.0s\n",
            "[CV 2/3] END max_depth=10, max_features=7, min_samples_leaf=5;, score=0.838 total time=   3.0s\n",
            "[CV 3/3] END max_depth=10, max_features=7, min_samples_leaf=5;, score=0.832 total time=   3.1s\n",
            "[CV 1/3] END max_depth=10, max_features=7, min_samples_leaf=7;, score=0.831 total time=   3.0s\n",
            "[CV 2/3] END max_depth=10, max_features=7, min_samples_leaf=7;, score=0.838 total time=   3.0s\n",
            "[CV 3/3] END max_depth=10, max_features=7, min_samples_leaf=7;, score=0.829 total time=   3.0s\n",
            "[CV 1/3] END max_depth=10, max_features=7, min_samples_leaf=9;, score=0.833 total time=   3.0s\n",
            "[CV 2/3] END max_depth=10, max_features=7, min_samples_leaf=9;, score=0.838 total time=   3.5s\n",
            "[CV 3/3] END max_depth=10, max_features=7, min_samples_leaf=9;, score=0.831 total time=   4.5s\n",
            "[CV 1/3] END max_depth=10, max_features=7, min_samples_leaf=11;, score=0.834 total time=   3.0s\n",
            "[CV 2/3] END max_depth=10, max_features=7, min_samples_leaf=11;, score=0.837 total time=   2.9s\n",
            "[CV 3/3] END max_depth=10, max_features=7, min_samples_leaf=11;, score=0.828 total time=   2.9s\n",
            "[CV 1/3] END max_depth=15, max_features=4, min_samples_leaf=3;, score=0.829 total time=   2.8s\n",
            "[CV 2/3] END max_depth=15, max_features=4, min_samples_leaf=3;, score=0.836 total time=   2.8s\n",
            "[CV 3/3] END max_depth=15, max_features=4, min_samples_leaf=3;, score=0.829 total time=   2.9s\n",
            "[CV 1/3] END max_depth=15, max_features=4, min_samples_leaf=5;, score=0.828 total time=   2.8s\n",
            "[CV 2/3] END max_depth=15, max_features=4, min_samples_leaf=5;, score=0.834 total time=   2.8s\n",
            "[CV 3/3] END max_depth=15, max_features=4, min_samples_leaf=5;, score=0.829 total time=   2.9s\n",
            "[CV 1/3] END max_depth=15, max_features=4, min_samples_leaf=7;, score=0.828 total time=   2.8s\n",
            "[CV 2/3] END max_depth=15, max_features=4, min_samples_leaf=7;, score=0.832 total time=   2.7s\n",
            "[CV 3/3] END max_depth=15, max_features=4, min_samples_leaf=7;, score=0.827 total time=   2.8s\n",
            "[CV 1/3] END max_depth=15, max_features=4, min_samples_leaf=9;, score=0.825 total time=   2.7s\n",
            "[CV 2/3] END max_depth=15, max_features=4, min_samples_leaf=9;, score=0.832 total time=   2.7s\n",
            "[CV 3/3] END max_depth=15, max_features=4, min_samples_leaf=9;, score=0.824 total time=   2.7s\n",
            "[CV 1/3] END max_depth=15, max_features=4, min_samples_leaf=11;, score=0.826 total time=   2.7s\n",
            "[CV 2/3] END max_depth=15, max_features=4, min_samples_leaf=11;, score=0.831 total time=   2.7s\n",
            "[CV 3/3] END max_depth=15, max_features=4, min_samples_leaf=11;, score=0.824 total time=   2.7s\n",
            "[CV 1/3] END max_depth=15, max_features=5, min_samples_leaf=3;, score=0.832 total time=   3.3s\n",
            "[CV 2/3] END max_depth=15, max_features=5, min_samples_leaf=3;, score=0.843 total time=   3.2s\n",
            "[CV 3/3] END max_depth=15, max_features=5, min_samples_leaf=3;, score=0.833 total time=   3.2s\n",
            "[CV 1/3] END max_depth=15, max_features=5, min_samples_leaf=5;, score=0.835 total time=   3.1s\n",
            "[CV 2/3] END max_depth=15, max_features=5, min_samples_leaf=5;, score=0.843 total time=   3.2s\n",
            "[CV 3/3] END max_depth=15, max_features=5, min_samples_leaf=5;, score=0.834 total time=   3.2s\n",
            "[CV 1/3] END max_depth=15, max_features=5, min_samples_leaf=7;, score=0.834 total time=   3.1s\n",
            "[CV 2/3] END max_depth=15, max_features=5, min_samples_leaf=7;, score=0.839 total time=   3.1s\n",
            "[CV 3/3] END max_depth=15, max_features=5, min_samples_leaf=7;, score=0.830 total time=   3.1s\n",
            "[CV 1/3] END max_depth=15, max_features=5, min_samples_leaf=9;, score=0.832 total time=   3.1s\n",
            "[CV 2/3] END max_depth=15, max_features=5, min_samples_leaf=9;, score=0.838 total time=   3.1s\n",
            "[CV 3/3] END max_depth=15, max_features=5, min_samples_leaf=9;, score=0.831 total time=   3.2s\n",
            "[CV 1/3] END max_depth=15, max_features=5, min_samples_leaf=11;, score=0.834 total time=   3.1s\n",
            "[CV 2/3] END max_depth=15, max_features=5, min_samples_leaf=11;, score=0.838 total time=   3.1s\n",
            "[CV 3/3] END max_depth=15, max_features=5, min_samples_leaf=11;, score=0.831 total time=   3.1s\n",
            "[CV 1/3] END max_depth=15, max_features=6, min_samples_leaf=3;, score=0.841 total time=   3.7s\n",
            "[CV 2/3] END max_depth=15, max_features=6, min_samples_leaf=3;, score=0.847 total time=   3.6s\n",
            "[CV 3/3] END max_depth=15, max_features=6, min_samples_leaf=3;, score=0.840 total time=   3.7s\n",
            "[CV 1/3] END max_depth=15, max_features=6, min_samples_leaf=5;, score=0.842 total time=   3.5s\n",
            "[CV 2/3] END max_depth=15, max_features=6, min_samples_leaf=5;, score=0.847 total time=   3.5s\n",
            "[CV 3/3] END max_depth=15, max_features=6, min_samples_leaf=5;, score=0.839 total time=   3.7s\n",
            "[CV 1/3] END max_depth=15, max_features=6, min_samples_leaf=7;, score=0.842 total time=   3.6s\n",
            "[CV 2/3] END max_depth=15, max_features=6, min_samples_leaf=7;, score=0.845 total time=   3.6s\n",
            "[CV 3/3] END max_depth=15, max_features=6, min_samples_leaf=7;, score=0.841 total time=   3.5s\n",
            "[CV 1/3] END max_depth=15, max_features=6, min_samples_leaf=9;, score=0.840 total time=   3.6s\n",
            "[CV 2/3] END max_depth=15, max_features=6, min_samples_leaf=9;, score=0.845 total time=   3.6s\n",
            "[CV 3/3] END max_depth=15, max_features=6, min_samples_leaf=9;, score=0.837 total time=   4.0s\n",
            "[CV 1/3] END max_depth=15, max_features=6, min_samples_leaf=11;, score=0.840 total time=   4.9s\n",
            "[CV 2/3] END max_depth=15, max_features=6, min_samples_leaf=11;, score=0.846 total time=   3.4s\n",
            "[CV 3/3] END max_depth=15, max_features=6, min_samples_leaf=11;, score=0.838 total time=   3.4s\n",
            "[CV 1/3] END max_depth=15, max_features=7, min_samples_leaf=3;, score=0.845 total time=   4.2s\n",
            "[CV 2/3] END max_depth=15, max_features=7, min_samples_leaf=3;, score=0.850 total time=   4.1s\n",
            "[CV 3/3] END max_depth=15, max_features=7, min_samples_leaf=3;, score=0.845 total time=   4.0s\n",
            "[CV 1/3] END max_depth=15, max_features=7, min_samples_leaf=5;, score=0.844 total time=   4.0s\n",
            "[CV 2/3] END max_depth=15, max_features=7, min_samples_leaf=5;, score=0.849 total time=   4.0s\n",
            "[CV 3/3] END max_depth=15, max_features=7, min_samples_leaf=5;, score=0.844 total time=   4.0s\n",
            "[CV 1/3] END max_depth=15, max_features=7, min_samples_leaf=7;, score=0.842 total time=   4.1s\n",
            "[CV 2/3] END max_depth=15, max_features=7, min_samples_leaf=7;, score=0.850 total time=   4.0s\n",
            "[CV 3/3] END max_depth=15, max_features=7, min_samples_leaf=7;, score=0.841 total time=   3.9s\n",
            "[CV 1/3] END max_depth=15, max_features=7, min_samples_leaf=9;, score=0.842 total time=   3.9s\n",
            "[CV 2/3] END max_depth=15, max_features=7, min_samples_leaf=9;, score=0.848 total time=   3.9s\n",
            "[CV 3/3] END max_depth=15, max_features=7, min_samples_leaf=9;, score=0.841 total time=   3.9s\n",
            "[CV 1/3] END max_depth=15, max_features=7, min_samples_leaf=11;, score=0.840 total time=   3.8s\n",
            "[CV 2/3] END max_depth=15, max_features=7, min_samples_leaf=11;, score=0.847 total time=   3.7s\n",
            "[CV 3/3] END max_depth=15, max_features=7, min_samples_leaf=11;, score=0.840 total time=   3.7s\n"
          ]
        },
        {
          "output_type": "execute_result",
          "data": {
            "text/plain": [
              "0.8221378962697437"
            ]
          },
          "metadata": {},
          "execution_count": 81
        }
      ]
    },
    {
      "cell_type": "markdown",
      "source": [
        "##Задание 4.12\n",
        "\n",
        "Как мы говорили в предыдущем юните, благодаря случайному лесу можно узнать, какие признаки оказывают большее влияние на целевую переменную по сравнению с другими.\n",
        "\n",
        "Оцените значимость признаков. Отметьте три признака, которые дают наибольший вклад в целевую переменную:"
      ],
      "metadata": {
        "id": "sGcylpz6g8RW"
      }
    },
    {
      "cell_type": "code",
      "source": [
        "features = [x for x in df if x != 'RainTomorrow']\n",
        "pd.DataFrame({'feat': features,\n",
        "              'coef': rf.feature_importances_}).sort_values(by='coef', ascending=False)"
      ],
      "metadata": {
        "colab": {
          "base_uri": "https://localhost:8080/",
          "height": 424
        },
        "id": "Bcu_C4CPg-2k",
        "outputId": "3c33a765-ea6d-4795-b5d3-4d7660a3bcfa"
      },
      "execution_count": 83,
      "outputs": [
        {
          "output_type": "execute_result",
          "data": {
            "text/plain": [
              "                   feat      coef\n",
              "7           Humidity3pm  0.250783\n",
              "2              Rainfall  0.079757\n",
              "6           Humidity9am  0.070403\n",
              "10             Cloud9am  0.067092\n",
              "9           Pressure3pm  0.065272\n",
              "..                  ...       ...\n",
              "50   Location_Newcastle  0.000000\n",
              "62  Location_SalmonGums  0.000000\n",
              "51        Location_Nhil  0.000000\n",
              "52   Location_NorahHead  0.000000\n",
              "40   Location_GoldCoast  0.000000\n",
              "\n",
              "[123 rows x 2 columns]"
            ],
            "text/html": [
              "\n",
              "  <div id=\"df-766dd90b-bdc2-4b4d-bc6f-473e2b9d314f\">\n",
              "    <div class=\"colab-df-container\">\n",
              "      <div>\n",
              "<style scoped>\n",
              "    .dataframe tbody tr th:only-of-type {\n",
              "        vertical-align: middle;\n",
              "    }\n",
              "\n",
              "    .dataframe tbody tr th {\n",
              "        vertical-align: top;\n",
              "    }\n",
              "\n",
              "    .dataframe thead th {\n",
              "        text-align: right;\n",
              "    }\n",
              "</style>\n",
              "<table border=\"1\" class=\"dataframe\">\n",
              "  <thead>\n",
              "    <tr style=\"text-align: right;\">\n",
              "      <th></th>\n",
              "      <th>feat</th>\n",
              "      <th>coef</th>\n",
              "    </tr>\n",
              "  </thead>\n",
              "  <tbody>\n",
              "    <tr>\n",
              "      <th>7</th>\n",
              "      <td>Humidity3pm</td>\n",
              "      <td>0.250783</td>\n",
              "    </tr>\n",
              "    <tr>\n",
              "      <th>2</th>\n",
              "      <td>Rainfall</td>\n",
              "      <td>0.079757</td>\n",
              "    </tr>\n",
              "    <tr>\n",
              "      <th>6</th>\n",
              "      <td>Humidity9am</td>\n",
              "      <td>0.070403</td>\n",
              "    </tr>\n",
              "    <tr>\n",
              "      <th>10</th>\n",
              "      <td>Cloud9am</td>\n",
              "      <td>0.067092</td>\n",
              "    </tr>\n",
              "    <tr>\n",
              "      <th>9</th>\n",
              "      <td>Pressure3pm</td>\n",
              "      <td>0.065272</td>\n",
              "    </tr>\n",
              "    <tr>\n",
              "      <th>...</th>\n",
              "      <td>...</td>\n",
              "      <td>...</td>\n",
              "    </tr>\n",
              "    <tr>\n",
              "      <th>50</th>\n",
              "      <td>Location_Newcastle</td>\n",
              "      <td>0.000000</td>\n",
              "    </tr>\n",
              "    <tr>\n",
              "      <th>62</th>\n",
              "      <td>Location_SalmonGums</td>\n",
              "      <td>0.000000</td>\n",
              "    </tr>\n",
              "    <tr>\n",
              "      <th>51</th>\n",
              "      <td>Location_Nhil</td>\n",
              "      <td>0.000000</td>\n",
              "    </tr>\n",
              "    <tr>\n",
              "      <th>52</th>\n",
              "      <td>Location_NorahHead</td>\n",
              "      <td>0.000000</td>\n",
              "    </tr>\n",
              "    <tr>\n",
              "      <th>40</th>\n",
              "      <td>Location_GoldCoast</td>\n",
              "      <td>0.000000</td>\n",
              "    </tr>\n",
              "  </tbody>\n",
              "</table>\n",
              "<p>123 rows × 2 columns</p>\n",
              "</div>\n",
              "      <button class=\"colab-df-convert\" onclick=\"convertToInteractive('df-766dd90b-bdc2-4b4d-bc6f-473e2b9d314f')\"\n",
              "              title=\"Convert this dataframe to an interactive table.\"\n",
              "              style=\"display:none;\">\n",
              "        \n",
              "  <svg xmlns=\"http://www.w3.org/2000/svg\" height=\"24px\"viewBox=\"0 0 24 24\"\n",
              "       width=\"24px\">\n",
              "    <path d=\"M0 0h24v24H0V0z\" fill=\"none\"/>\n",
              "    <path d=\"M18.56 5.44l.94 2.06.94-2.06 2.06-.94-2.06-.94-.94-2.06-.94 2.06-2.06.94zm-11 1L8.5 8.5l.94-2.06 2.06-.94-2.06-.94L8.5 2.5l-.94 2.06-2.06.94zm10 10l.94 2.06.94-2.06 2.06-.94-2.06-.94-.94-2.06-.94 2.06-2.06.94z\"/><path d=\"M17.41 7.96l-1.37-1.37c-.4-.4-.92-.59-1.43-.59-.52 0-1.04.2-1.43.59L10.3 9.45l-7.72 7.72c-.78.78-.78 2.05 0 2.83L4 21.41c.39.39.9.59 1.41.59.51 0 1.02-.2 1.41-.59l7.78-7.78 2.81-2.81c.8-.78.8-2.07 0-2.86zM5.41 20L4 18.59l7.72-7.72 1.47 1.35L5.41 20z\"/>\n",
              "  </svg>\n",
              "      </button>\n",
              "      \n",
              "  <style>\n",
              "    .colab-df-container {\n",
              "      display:flex;\n",
              "      flex-wrap:wrap;\n",
              "      gap: 12px;\n",
              "    }\n",
              "\n",
              "    .colab-df-convert {\n",
              "      background-color: #E8F0FE;\n",
              "      border: none;\n",
              "      border-radius: 50%;\n",
              "      cursor: pointer;\n",
              "      display: none;\n",
              "      fill: #1967D2;\n",
              "      height: 32px;\n",
              "      padding: 0 0 0 0;\n",
              "      width: 32px;\n",
              "    }\n",
              "\n",
              "    .colab-df-convert:hover {\n",
              "      background-color: #E2EBFA;\n",
              "      box-shadow: 0px 1px 2px rgba(60, 64, 67, 0.3), 0px 1px 3px 1px rgba(60, 64, 67, 0.15);\n",
              "      fill: #174EA6;\n",
              "    }\n",
              "\n",
              "    [theme=dark] .colab-df-convert {\n",
              "      background-color: #3B4455;\n",
              "      fill: #D2E3FC;\n",
              "    }\n",
              "\n",
              "    [theme=dark] .colab-df-convert:hover {\n",
              "      background-color: #434B5C;\n",
              "      box-shadow: 0px 1px 3px 1px rgba(0, 0, 0, 0.15);\n",
              "      filter: drop-shadow(0px 1px 2px rgba(0, 0, 0, 0.3));\n",
              "      fill: #FFFFFF;\n",
              "    }\n",
              "  </style>\n",
              "\n",
              "      <script>\n",
              "        const buttonEl =\n",
              "          document.querySelector('#df-766dd90b-bdc2-4b4d-bc6f-473e2b9d314f button.colab-df-convert');\n",
              "        buttonEl.style.display =\n",
              "          google.colab.kernel.accessAllowed ? 'block' : 'none';\n",
              "\n",
              "        async function convertToInteractive(key) {\n",
              "          const element = document.querySelector('#df-766dd90b-bdc2-4b4d-bc6f-473e2b9d314f');\n",
              "          const dataTable =\n",
              "            await google.colab.kernel.invokeFunction('convertToInteractive',\n",
              "                                                     [key], {});\n",
              "          if (!dataTable) return;\n",
              "\n",
              "          const docLinkHtml = 'Like what you see? Visit the ' +\n",
              "            '<a target=\"_blank\" href=https://colab.research.google.com/notebooks/data_table.ipynb>data table notebook</a>'\n",
              "            + ' to learn more about interactive tables.';\n",
              "          element.innerHTML = '';\n",
              "          dataTable['output_type'] = 'display_data';\n",
              "          await google.colab.output.renderOutput(dataTable, element);\n",
              "          const docLink = document.createElement('div');\n",
              "          docLink.innerHTML = docLinkHtml;\n",
              "          element.appendChild(docLink);\n",
              "        }\n",
              "      </script>\n",
              "    </div>\n",
              "  </div>\n",
              "  "
            ]
          },
          "metadata": {},
          "execution_count": 83
        }
      ]
    }
  ]
}