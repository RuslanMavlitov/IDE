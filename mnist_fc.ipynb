{
  "cells": [
    {
      "cell_type": "code",
      "execution_count": 1,
      "metadata": {
        "id": "DWr6cvb9pS3J"
      },
      "outputs": [],
      "source": [
        "import torch\n",
        "import random\n",
        "import numpy as np\n",
        "\n",
        "random.seed(0)\n",
        "np.random.seed(0)\n",
        "torch.manual_seed(0)\n",
        "torch.cuda.manual_seed(0)\n",
        "torch.backends.cudnn.deterministic = True"
      ]
    },
    {
      "cell_type": "code",
      "execution_count": 2,
      "metadata": {
        "colab": {
          "base_uri": "https://localhost:8080/"
        },
        "id": "MqGQWTDIpS3R",
        "outputId": "d4c077b9-c6d8-4da6-8233-46d866c53360"
      },
      "outputs": [
        {
          "output_type": "stream",
          "name": "stdout",
          "text": [
            "Downloading http://yann.lecun.com/exdb/mnist/train-images-idx3-ubyte.gz\n",
            "Downloading http://yann.lecun.com/exdb/mnist/train-images-idx3-ubyte.gz to ./MNIST/raw/train-images-idx3-ubyte.gz\n"
          ]
        },
        {
          "output_type": "stream",
          "name": "stderr",
          "text": [
            "100%|██████████| 9912422/9912422 [00:00<00:00, 152899660.72it/s]"
          ]
        },
        {
          "output_type": "stream",
          "name": "stdout",
          "text": [
            "Extracting ./MNIST/raw/train-images-idx3-ubyte.gz to ./MNIST/raw\n"
          ]
        },
        {
          "output_type": "stream",
          "name": "stderr",
          "text": [
            "\n"
          ]
        },
        {
          "output_type": "stream",
          "name": "stdout",
          "text": [
            "\n",
            "Downloading http://yann.lecun.com/exdb/mnist/train-labels-idx1-ubyte.gz\n",
            "Downloading http://yann.lecun.com/exdb/mnist/train-labels-idx1-ubyte.gz to ./MNIST/raw/train-labels-idx1-ubyte.gz\n"
          ]
        },
        {
          "output_type": "stream",
          "name": "stderr",
          "text": [
            "100%|██████████| 28881/28881 [00:00<00:00, 22181961.88it/s]\n"
          ]
        },
        {
          "output_type": "stream",
          "name": "stdout",
          "text": [
            "Extracting ./MNIST/raw/train-labels-idx1-ubyte.gz to ./MNIST/raw\n",
            "\n",
            "Downloading http://yann.lecun.com/exdb/mnist/t10k-images-idx3-ubyte.gz\n",
            "Downloading http://yann.lecun.com/exdb/mnist/t10k-images-idx3-ubyte.gz to ./MNIST/raw/t10k-images-idx3-ubyte.gz\n"
          ]
        },
        {
          "output_type": "stream",
          "name": "stderr",
          "text": [
            "100%|██████████| 1648877/1648877 [00:00<00:00, 44529021.56it/s]"
          ]
        },
        {
          "output_type": "stream",
          "name": "stdout",
          "text": [
            "Extracting ./MNIST/raw/t10k-images-idx3-ubyte.gz to ./MNIST/raw\n"
          ]
        },
        {
          "output_type": "stream",
          "name": "stderr",
          "text": [
            "\n"
          ]
        },
        {
          "output_type": "stream",
          "name": "stdout",
          "text": [
            "\n",
            "Downloading http://yann.lecun.com/exdb/mnist/t10k-labels-idx1-ubyte.gz\n",
            "Downloading http://yann.lecun.com/exdb/mnist/t10k-labels-idx1-ubyte.gz to ./MNIST/raw/t10k-labels-idx1-ubyte.gz\n"
          ]
        },
        {
          "output_type": "stream",
          "name": "stderr",
          "text": [
            "100%|██████████| 4542/4542 [00:00<00:00, 17039828.95it/s]\n"
          ]
        },
        {
          "output_type": "stream",
          "name": "stdout",
          "text": [
            "Extracting ./MNIST/raw/t10k-labels-idx1-ubyte.gz to ./MNIST/raw\n",
            "\n"
          ]
        }
      ],
      "source": [
        "import torchvision.datasets\n",
        "MNIST_train = torchvision.datasets.MNIST('./', download=True, train=True)\n",
        "MNIST_test = torchvision.datasets.MNIST('./', download=True, train=False)"
      ]
    },
    {
      "cell_type": "code",
      "execution_count": 14,
      "metadata": {
        "colab": {
          "base_uri": "https://localhost:8080/"
        },
        "id": "vv_Lz7PYpS3U",
        "outputId": "c649f0bd-1026-4751-989e-640061822d1b"
      },
      "outputs": [
        {
          "output_type": "stream",
          "name": "stderr",
          "text": [
            "/usr/local/lib/python3.10/dist-packages/torchvision/datasets/mnist.py:75: UserWarning: train_data has been renamed data\n",
            "  warnings.warn(\"train_data has been renamed data\")\n",
            "/usr/local/lib/python3.10/dist-packages/torchvision/datasets/mnist.py:65: UserWarning: train_labels has been renamed targets\n",
            "  warnings.warn(\"train_labels has been renamed targets\")\n",
            "/usr/local/lib/python3.10/dist-packages/torchvision/datasets/mnist.py:80: UserWarning: test_data has been renamed data\n",
            "  warnings.warn(\"test_data has been renamed data\")\n",
            "/usr/local/lib/python3.10/dist-packages/torchvision/datasets/mnist.py:70: UserWarning: test_labels has been renamed targets\n",
            "  warnings.warn(\"test_labels has been renamed targets\")\n"
          ]
        }
      ],
      "source": [
        "X_train = MNIST_train.train_data\n",
        "y_train = MNIST_train.train_labels\n",
        "X_test = MNIST_test.test_data\n",
        "y_test = MNIST_test.test_labels"
      ]
    },
    {
      "cell_type": "code",
      "execution_count": 15,
      "metadata": {
        "colab": {
          "base_uri": "https://localhost:8080/"
        },
        "id": "hMhsAedlrQF5",
        "outputId": "0bd2b53c-e9d7-4d87-b813-d5ca8c9532b0"
      },
      "outputs": [
        {
          "output_type": "execute_result",
          "data": {
            "text/plain": [
              "(torch.uint8, torch.int64)"
            ]
          },
          "metadata": {},
          "execution_count": 15
        }
      ],
      "source": [
        "X_train.dtype, y_train.dtype"
      ]
    },
    {
      "cell_type": "code",
      "execution_count": 16,
      "metadata": {
        "id": "_yTaVOrPvap6"
      },
      "outputs": [],
      "source": [
        "X_train = X_train.float()\n",
        "X_test = X_test.float()"
      ]
    },
    {
      "cell_type": "code",
      "execution_count": 17,
      "metadata": {
        "colab": {
          "base_uri": "https://localhost:8080/"
        },
        "id": "_gfupg4kpS3X",
        "outputId": "b0807262-2ce7-4564-cead-28bb6c1df8f1"
      },
      "outputs": [
        {
          "output_type": "execute_result",
          "data": {
            "text/plain": [
              "(torch.Size([60000, 28, 28]), torch.Size([10000, 28, 28]))"
            ]
          },
          "metadata": {},
          "execution_count": 17
        }
      ],
      "source": [
        "X_train.shape, X_test.shape"
      ]
    },
    {
      "cell_type": "code",
      "execution_count": 25,
      "metadata": {
        "colab": {
          "base_uri": "https://localhost:8080/"
        },
        "id": "zEC1RXBEz_SW",
        "outputId": "1a3bd840-a067-4099-831a-006e182e354c"
      },
      "outputs": [
        {
          "output_type": "execute_result",
          "data": {
            "text/plain": [
              "(torch.Size([60000]), torch.Size([10000]))"
            ]
          },
          "metadata": {},
          "execution_count": 25
        }
      ],
      "source": [
        "y_train.shape, y_test.shape"
      ]
    },
    {
      "cell_type": "code",
      "execution_count": 8,
      "metadata": {
        "colab": {
          "base_uri": "https://localhost:8080/",
          "height": 448
        },
        "id": "Z1tFXMwJpS3e",
        "outputId": "6f474b40-a68b-4299-c296-e29b7b3e3589"
      },
      "outputs": [
        {
          "output_type": "display_data",
          "data": {
            "text/plain": [
              "<Figure size 640x480 with 1 Axes>"
            ],
            "image/png": "[encoded data removed]"
          },
          "metadata": {}
        },
        {
          "output_type": "stream",
          "name": "stdout",
          "text": [
            "tensor(5)\n"
          ]
        }
      ],
      "source": [
        "import matplotlib.pyplot as plt\n",
        "plt.imshow(X_train[0, :, :])\n",
        "plt.show()\n",
        "print(y_train[0])"
      ]
    },
    {
      "cell_type": "code",
      "execution_count": 26,
      "metadata": {
        "id": "IUZgNg7zpS3j"
      },
      "outputs": [],
      "source": [
        "X_train = X_train.reshape([-1, 28 * 28])\n",
        "X_test = X_test.reshape([-1, 28 * 28])"
      ]
    },
    {
      "cell_type": "code",
      "execution_count": 93,
      "metadata": {
        "id": "k7l65slppS3l"
      },
      "outputs": [],
      "source": [
        "class MNISTNet(torch.nn.Module):\n",
        "    def __init__(self, n_hidden_neurons):\n",
        "        super(MNISTNet, self).__init__()\n",
        "        self.fc1 = torch.nn.Linear(28 * 28, n_hidden_neurons)\n",
        "        self.ac1 = torch.nn.Sigmoid()\n",
        "        self.fc2 = torch.nn.Linear(n_hidden_neurons, 10) \n",
        "    \n",
        "    def forward(self, x):\n",
        "        x = self.fc1(x)\n",
        "        x = self.ac1(x)\n",
        "        x = self.fc2(x)\n",
        "        return x\n",
        "    \n",
        "mnist_net = MNISTNet(100)"
      ]
    },
    {
      "cell_type": "code",
      "execution_count": 30,
      "metadata": {
        "colab": {
          "base_uri": "https://localhost:8080/"
        },
        "id": "FJp7t3dR0pC5",
        "outputId": "620363ab-ce0f-49e5-8f1d-9561acb8ee66"
      },
      "outputs": [
        {
          "output_type": "execute_result",
          "data": {
            "text/plain": [
              "True"
            ]
          },
          "metadata": {},
          "execution_count": 30
        }
      ],
      "source": [
        "torch.cuda.is_available()"
      ]
    },
    {
      "cell_type": "code",
      "execution_count": 31,
      "metadata": {
        "colab": {
          "base_uri": "https://localhost:8080/"
        },
        "id": "ShQDv_w-0rz8",
        "outputId": "964cfe94-468f-4318-d0df-b0adb42071bc"
      },
      "outputs": [
        {
          "output_type": "stream",
          "name": "stdout",
          "text": [
            "Wed May 24 08:42:35 2023       \n",
            "+-----------------------------------------------------------------------------+\n",
            "| NVIDIA-SMI 525.85.12    Driver Version: 525.85.12    CUDA Version: 12.0     |\n",
            "|-------------------------------+----------------------+----------------------+\n",
            "| GPU  Name        Persistence-M| Bus-Id        Disp.A | Volatile Uncorr. ECC |\n",
            "| Fan  Temp  Perf  Pwr:Usage/Cap|         Memory-Usage | GPU-Util  Compute M. |\n",
            "|                               |                      |               MIG M. |\n",
            "|===============================+======================+======================|\n",
            "|   0  Tesla T4            Off  | 00000000:00:04.0 Off |                    0 |\n",
            "| N/A   36C    P8     9W /  70W |      3MiB / 15360MiB |      0%      Default |\n",
            "|                               |                      |                  N/A |\n",
            "+-------------------------------+----------------------+----------------------+\n",
            "                                                                               \n",
            "+-----------------------------------------------------------------------------+\n",
            "| Processes:                                                                  |\n",
            "|  GPU   GI   CI        PID   Type   Process name                  GPU Memory |\n",
            "|        ID   ID                                                   Usage      |\n",
            "|=============================================================================|\n",
            "|  No running processes found                                                 |\n",
            "+-----------------------------------------------------------------------------+\n"
          ]
        }
      ],
      "source": [
        "!nvidia-smi"
      ]
    },
    {
      "cell_type": "code",
      "execution_count": 94,
      "metadata": {
        "id": "iUHy-780po9d"
      },
      "outputs": [],
      "source": [
        "device = torch.device('cuda:0' if torch.cuda.is_available() else 'cpu')\n",
        "mnist_net = mnist_net.to(device)\n",
        "#list(mnist_net.parameters())"
      ]
    },
    {
      "cell_type": "code",
      "execution_count": 43,
      "metadata": {
        "id": "00_2j2igpS3o"
      },
      "outputs": [],
      "source": [
        "loss = torch.nn.CrossEntropyLoss()\n",
        "optimizer = torch.optim.Adam(mnist_net.parameters(), lr=1.0e-3)"
      ]
    },
    {
      "cell_type": "code",
      "execution_count": 95,
      "metadata": {
        "colab": {
          "base_uri": "https://localhost:8080/"
        },
        "id": "wZtqiGvfpS3r",
        "outputId": "1d9095c9-6d91-477e-ac52-2dd986e2cdfb"
      },
      "outputs": [
        {
          "output_type": "stream",
          "name": "stdout",
          "text": [
            "tensor(0.1117, device='cuda:0')\n",
            "tensor(0.1117, device='cuda:0')\n",
            "tensor(0.1117, device='cuda:0')\n",
            "tensor(0.1117, device='cuda:0')\n",
            "tensor(0.1117, device='cuda:0')\n",
            "tensor(0.1117, device='cuda:0')\n",
            "tensor(0.1117, device='cuda:0')\n",
            "tensor(0.1117, device='cuda:0')\n",
            "tensor(0.1117, device='cuda:0')\n",
            "tensor(0.1117, device='cuda:0')\n",
            "tensor(0.1117, device='cuda:0')\n",
            "tensor(0.1117, device='cuda:0')\n",
            "tensor(0.1117, device='cuda:0')\n",
            "tensor(0.1117, device='cuda:0')\n",
            "tensor(0.1117, device='cuda:0')\n",
            "tensor(0.1117, device='cuda:0')\n",
            "tensor(0.1117, device='cuda:0')\n",
            "tensor(0.1117, device='cuda:0')\n",
            "tensor(0.1117, device='cuda:0')\n",
            "tensor(0.1117, device='cuda:0')\n",
            "tensor(0.1117, device='cuda:0')\n",
            "tensor(0.1117, device='cuda:0')\n",
            "tensor(0.1117, device='cuda:0')\n",
            "tensor(0.1117, device='cuda:0')\n",
            "tensor(0.1117, device='cuda:0')\n",
            "tensor(0.1117, device='cuda:0')\n",
            "tensor(0.1117, device='cuda:0')\n",
            "tensor(0.1117, device='cuda:0')\n",
            "tensor(0.1117, device='cuda:0')\n",
            "tensor(0.1117, device='cuda:0')\n",
            "tensor(0.1117, device='cuda:0')\n",
            "tensor(0.1117, device='cuda:0')\n",
            "tensor(0.1117, device='cuda:0')\n",
            "tensor(0.1117, device='cuda:0')\n",
            "tensor(0.1117, device='cuda:0')\n",
            "tensor(0.1117, device='cuda:0')\n",
            "tensor(0.1117, device='cuda:0')\n",
            "tensor(0.1117, device='cuda:0')\n",
            "tensor(0.1117, device='cuda:0')\n",
            "tensor(0.1117, device='cuda:0')\n",
            "tensor(0.1117, device='cuda:0')\n",
            "tensor(0.1117, device='cuda:0')\n",
            "tensor(0.1117, device='cuda:0')\n",
            "tensor(0.1117, device='cuda:0')\n",
            "tensor(0.1117, device='cuda:0')\n",
            "tensor(0.1117, device='cuda:0')\n",
            "tensor(0.1117, device='cuda:0')\n",
            "tensor(0.1117, device='cuda:0')\n",
            "tensor(0.1117, device='cuda:0')\n",
            "tensor(0.1117, device='cuda:0')\n",
            "tensor(0.1117, device='cuda:0')\n",
            "tensor(0.1117, device='cuda:0')\n",
            "tensor(0.1117, device='cuda:0')\n",
            "tensor(0.1117, device='cuda:0')\n",
            "tensor(0.1117, device='cuda:0')\n",
            "tensor(0.1117, device='cuda:0')\n",
            "tensor(0.1117, device='cuda:0')\n",
            "tensor(0.1117, device='cuda:0')\n",
            "tensor(0.1117, device='cuda:0')\n",
            "tensor(0.1117, device='cuda:0')\n",
            "tensor(0.1117, device='cuda:0')\n",
            "tensor(0.1117, device='cuda:0')\n",
            "tensor(0.1117, device='cuda:0')\n",
            "tensor(0.1117, device='cuda:0')\n",
            "tensor(0.1117, device='cuda:0')\n",
            "tensor(0.1117, device='cuda:0')\n",
            "tensor(0.1117, device='cuda:0')\n",
            "tensor(0.1117, device='cuda:0')\n",
            "tensor(0.1117, device='cuda:0')\n",
            "tensor(0.1117, device='cuda:0')\n",
            "tensor(0.1117, device='cuda:0')\n",
            "tensor(0.1117, device='cuda:0')\n",
            "tensor(0.1117, device='cuda:0')\n",
            "tensor(0.1117, device='cuda:0')\n",
            "tensor(0.1117, device='cuda:0')\n",
            "tensor(0.1117, device='cuda:0')\n",
            "tensor(0.1117, device='cuda:0')\n",
            "tensor(0.1117, device='cuda:0')\n",
            "tensor(0.1117, device='cuda:0')\n",
            "tensor(0.1117, device='cuda:0')\n",
            "tensor(0.1117, device='cuda:0')\n",
            "tensor(0.1117, device='cuda:0')\n",
            "tensor(0.1117, device='cuda:0')\n",
            "tensor(0.1117, device='cuda:0')\n",
            "tensor(0.1117, device='cuda:0')\n",
            "tensor(0.1117, device='cuda:0')\n",
            "tensor(0.1117, device='cuda:0')\n",
            "tensor(0.1117, device='cuda:0')\n",
            "tensor(0.1117, device='cuda:0')\n",
            "tensor(0.1117, device='cuda:0')\n",
            "tensor(0.1117, device='cuda:0')\n",
            "tensor(0.1117, device='cuda:0')\n",
            "tensor(0.1117, device='cuda:0')\n",
            "tensor(0.1117, device='cuda:0')\n",
            "tensor(0.1117, device='cuda:0')\n",
            "tensor(0.1117, device='cuda:0')\n",
            "tensor(0.1117, device='cuda:0')\n",
            "tensor(0.1117, device='cuda:0')\n",
            "tensor(0.1117, device='cuda:0')\n",
            "tensor(0.1117, device='cuda:0')\n",
            "tensor(0.1117, device='cuda:0')\n",
            "tensor(0.1117, device='cuda:0')\n",
            "tensor(0.1117, device='cuda:0')\n",
            "tensor(0.1117, device='cuda:0')\n",
            "tensor(0.1117, device='cuda:0')\n",
            "tensor(0.1117, device='cuda:0')\n",
            "tensor(0.1117, device='cuda:0')\n",
            "tensor(0.1117, device='cuda:0')\n",
            "tensor(0.1117, device='cuda:0')\n",
            "tensor(0.1117, device='cuda:0')\n",
            "tensor(0.1117, device='cuda:0')\n",
            "tensor(0.1117, device='cuda:0')\n",
            "tensor(0.1117, device='cuda:0')\n",
            "tensor(0.1117, device='cuda:0')\n",
            "tensor(0.1117, device='cuda:0')\n",
            "tensor(0.1117, device='cuda:0')\n",
            "tensor(0.1117, device='cuda:0')\n",
            "tensor(0.1117, device='cuda:0')\n",
            "tensor(0.1117, device='cuda:0')\n",
            "tensor(0.1117, device='cuda:0')\n",
            "tensor(0.1117, device='cuda:0')\n",
            "tensor(0.1117, device='cuda:0')\n",
            "tensor(0.1117, device='cuda:0')\n",
            "tensor(0.1117, device='cuda:0')\n",
            "tensor(0.1117, device='cuda:0')\n",
            "tensor(0.1117, device='cuda:0')\n",
            "tensor(0.1117, device='cuda:0')\n",
            "tensor(0.1117, device='cuda:0')\n",
            "tensor(0.1117, device='cuda:0')\n",
            "tensor(0.1117, device='cuda:0')\n",
            "tensor(0.1117, device='cuda:0')\n",
            "tensor(0.1117, device='cuda:0')\n",
            "tensor(0.1117, device='cuda:0')\n",
            "tensor(0.1117, device='cuda:0')\n",
            "tensor(0.1117, device='cuda:0')\n",
            "tensor(0.1117, device='cuda:0')\n",
            "tensor(0.1117, device='cuda:0')\n",
            "tensor(0.1117, device='cuda:0')\n",
            "tensor(0.1117, device='cuda:0')\n",
            "tensor(0.1117, device='cuda:0')\n",
            "tensor(0.1117, device='cuda:0')\n",
            "tensor(0.1117, device='cuda:0')\n",
            "tensor(0.1117, device='cuda:0')\n",
            "tensor(0.1117, device='cuda:0')\n",
            "tensor(0.1117, device='cuda:0')\n",
            "tensor(0.1117, device='cuda:0')\n",
            "tensor(0.1117, device='cuda:0')\n",
            "tensor(0.1117, device='cuda:0')\n",
            "tensor(0.1117, device='cuda:0')\n",
            "tensor(0.1117, device='cuda:0')\n",
            "tensor(0.1117, device='cuda:0')\n",
            "tensor(0.1117, device='cuda:0')\n",
            "tensor(0.1117, device='cuda:0')\n",
            "tensor(0.1117, device='cuda:0')\n",
            "tensor(0.1117, device='cuda:0')\n",
            "tensor(0.1117, device='cuda:0')\n",
            "tensor(0.1117, device='cuda:0')\n",
            "tensor(0.1117, device='cuda:0')\n",
            "tensor(0.1117, device='cuda:0')\n",
            "tensor(0.1117, device='cuda:0')\n",
            "tensor(0.1117, device='cuda:0')\n",
            "tensor(0.1117, device='cuda:0')\n",
            "tensor(0.1117, device='cuda:0')\n",
            "tensor(0.1117, device='cuda:0')\n",
            "tensor(0.1117, device='cuda:0')\n",
            "tensor(0.1117, device='cuda:0')\n",
            "tensor(0.1117, device='cuda:0')\n",
            "tensor(0.1117, device='cuda:0')\n",
            "tensor(0.1117, device='cuda:0')\n",
            "tensor(0.1117, device='cuda:0')\n",
            "tensor(0.1117, device='cuda:0')\n",
            "tensor(0.1117, device='cuda:0')\n",
            "tensor(0.1117, device='cuda:0')\n",
            "tensor(0.1117, device='cuda:0')\n",
            "tensor(0.1117, device='cuda:0')\n",
            "tensor(0.1117, device='cuda:0')\n",
            "tensor(0.1117, device='cuda:0')\n",
            "tensor(0.1117, device='cuda:0')\n",
            "tensor(0.1117, device='cuda:0')\n",
            "tensor(0.1117, device='cuda:0')\n",
            "tensor(0.1117, device='cuda:0')\n",
            "tensor(0.1117, device='cuda:0')\n",
            "tensor(0.1117, device='cuda:0')\n",
            "tensor(0.1117, device='cuda:0')\n",
            "tensor(0.1117, device='cuda:0')\n",
            "tensor(0.1117, device='cuda:0')\n",
            "tensor(0.1117, device='cuda:0')\n",
            "tensor(0.1117, device='cuda:0')\n",
            "tensor(0.1117, device='cuda:0')\n",
            "tensor(0.1117, device='cuda:0')\n",
            "tensor(0.1117, device='cuda:0')\n",
            "tensor(0.1117, device='cuda:0')\n",
            "tensor(0.1117, device='cuda:0')\n",
            "tensor(0.1117, device='cuda:0')\n",
            "tensor(0.1117, device='cuda:0')\n",
            "tensor(0.1117, device='cuda:0')\n",
            "tensor(0.1117, device='cuda:0')\n",
            "tensor(0.1117, device='cuda:0')\n",
            "tensor(0.1117, device='cuda:0')\n",
            "tensor(0.1117, device='cuda:0')\n",
            "tensor(0.1117, device='cuda:0')\n",
            "tensor(0.1117, device='cuda:0')\n",
            "tensor(0.1117, device='cuda:0')\n",
            "tensor(0.1117, device='cuda:0')\n",
            "tensor(0.1117, device='cuda:0')\n",
            "tensor(0.1117, device='cuda:0')\n",
            "tensor(0.1117, device='cuda:0')\n",
            "tensor(0.1117, device='cuda:0')\n",
            "tensor(0.1117, device='cuda:0')\n",
            "tensor(0.1117, device='cuda:0')\n",
            "tensor(0.1117, device='cuda:0')\n",
            "tensor(0.1117, device='cuda:0')\n",
            "tensor(0.1117, device='cuda:0')\n",
            "tensor(0.1117, device='cuda:0')\n",
            "tensor(0.1117, device='cuda:0')\n",
            "tensor(0.1117, device='cuda:0')\n",
            "tensor(0.1117, device='cuda:0')\n",
            "tensor(0.1117, device='cuda:0')\n",
            "tensor(0.1117, device='cuda:0')\n",
            "tensor(0.1117, device='cuda:0')\n",
            "tensor(0.1117, device='cuda:0')\n",
            "tensor(0.1117, device='cuda:0')\n",
            "tensor(0.1117, device='cuda:0')\n",
            "tensor(0.1117, device='cuda:0')\n",
            "tensor(0.1117, device='cuda:0')\n",
            "tensor(0.1117, device='cuda:0')\n",
            "tensor(0.1117, device='cuda:0')\n",
            "tensor(0.1117, device='cuda:0')\n",
            "tensor(0.1117, device='cuda:0')\n",
            "tensor(0.1117, device='cuda:0')\n",
            "tensor(0.1117, device='cuda:0')\n",
            "tensor(0.1117, device='cuda:0')\n",
            "tensor(0.1117, device='cuda:0')\n",
            "tensor(0.1117, device='cuda:0')\n",
            "tensor(0.1117, device='cuda:0')\n",
            "tensor(0.1117, device='cuda:0')\n",
            "tensor(0.1117, device='cuda:0')\n",
            "tensor(0.1117, device='cuda:0')\n",
            "tensor(0.1117, device='cuda:0')\n",
            "tensor(0.1117, device='cuda:0')\n",
            "tensor(0.1117, device='cuda:0')\n",
            "tensor(0.1117, device='cuda:0')\n",
            "tensor(0.1117, device='cuda:0')\n",
            "tensor(0.1117, device='cuda:0')\n",
            "tensor(0.1117, device='cuda:0')\n",
            "tensor(0.1117, device='cuda:0')\n",
            "tensor(0.1117, device='cuda:0')\n",
            "tensor(0.1117, device='cuda:0')\n",
            "tensor(0.1117, device='cuda:0')\n",
            "tensor(0.1117, device='cuda:0')\n",
            "tensor(0.1117, device='cuda:0')\n",
            "tensor(0.1117, device='cuda:0')\n",
            "tensor(0.1117, device='cuda:0')\n",
            "tensor(0.1117, device='cuda:0')\n",
            "tensor(0.1117, device='cuda:0')\n",
            "tensor(0.1117, device='cuda:0')\n",
            "tensor(0.1117, device='cuda:0')\n",
            "tensor(0.1117, device='cuda:0')\n",
            "tensor(0.1117, device='cuda:0')\n",
            "tensor(0.1117, device='cuda:0')\n",
            "tensor(0.1117, device='cuda:0')\n",
            "tensor(0.1117, device='cuda:0')\n",
            "tensor(0.1117, device='cuda:0')\n",
            "tensor(0.1117, device='cuda:0')\n",
            "tensor(0.1117, device='cuda:0')\n",
            "tensor(0.1117, device='cuda:0')\n",
            "tensor(0.1117, device='cuda:0')\n",
            "tensor(0.1117, device='cuda:0')\n",
            "tensor(0.1117, device='cuda:0')\n",
            "tensor(0.1117, device='cuda:0')\n",
            "tensor(0.1117, device='cuda:0')\n",
            "tensor(0.1117, device='cuda:0')\n",
            "tensor(0.1117, device='cuda:0')\n",
            "tensor(0.1117, device='cuda:0')\n",
            "tensor(0.1117, device='cuda:0')\n",
            "tensor(0.1117, device='cuda:0')\n",
            "tensor(0.1117, device='cuda:0')\n",
            "tensor(0.1117, device='cuda:0')\n",
            "tensor(0.1117, device='cuda:0')\n",
            "tensor(0.1117, device='cuda:0')\n",
            "tensor(0.1117, device='cuda:0')\n",
            "tensor(0.1117, device='cuda:0')\n",
            "tensor(0.1117, device='cuda:0')\n",
            "tensor(0.1117, device='cuda:0')\n",
            "tensor(0.1117, device='cuda:0')\n",
            "tensor(0.1117, device='cuda:0')\n",
            "tensor(0.1117, device='cuda:0')\n",
            "tensor(0.1117, device='cuda:0')\n",
            "tensor(0.1117, device='cuda:0')\n",
            "tensor(0.1117, device='cuda:0')\n",
            "tensor(0.1117, device='cuda:0')\n",
            "tensor(0.1117, device='cuda:0')\n",
            "tensor(0.1117, device='cuda:0')\n",
            "tensor(0.1117, device='cuda:0')\n",
            "tensor(0.1117, device='cuda:0')\n",
            "tensor(0.1117, device='cuda:0')\n",
            "tensor(0.1117, device='cuda:0')\n",
            "tensor(0.1117, device='cuda:0')\n",
            "tensor(0.1117, device='cuda:0')\n",
            "tensor(0.1117, device='cuda:0')\n",
            "tensor(0.1117, device='cuda:0')\n",
            "tensor(0.1117, device='cuda:0')\n",
            "tensor(0.1117, device='cuda:0')\n",
            "tensor(0.1117, device='cuda:0')\n",
            "tensor(0.1117, device='cuda:0')\n",
            "tensor(0.1117, device='cuda:0')\n",
            "tensor(0.1117, device='cuda:0')\n",
            "tensor(0.1117, device='cuda:0')\n",
            "tensor(0.1117, device='cuda:0')\n",
            "tensor(0.1117, device='cuda:0')\n",
            "tensor(0.1117, device='cuda:0')\n",
            "tensor(0.1117, device='cuda:0')\n",
            "tensor(0.1117, device='cuda:0')\n",
            "tensor(0.1117, device='cuda:0')\n",
            "tensor(0.1117, device='cuda:0')\n",
            "tensor(0.1117, device='cuda:0')\n",
            "tensor(0.1117, device='cuda:0')\n",
            "tensor(0.1117, device='cuda:0')\n",
            "tensor(0.1117, device='cuda:0')\n",
            "tensor(0.1117, device='cuda:0')\n",
            "tensor(0.1117, device='cuda:0')\n",
            "tensor(0.1117, device='cuda:0')\n",
            "tensor(0.1117, device='cuda:0')\n",
            "tensor(0.1117, device='cuda:0')\n",
            "tensor(0.1117, device='cuda:0')\n",
            "tensor(0.1117, device='cuda:0')\n",
            "tensor(0.1117, device='cuda:0')\n",
            "tensor(0.1117, device='cuda:0')\n",
            "tensor(0.1117, device='cuda:0')\n",
            "tensor(0.1117, device='cuda:0')\n",
            "tensor(0.1117, device='cuda:0')\n",
            "tensor(0.1117, device='cuda:0')\n",
            "tensor(0.1117, device='cuda:0')\n",
            "tensor(0.1117, device='cuda:0')\n",
            "tensor(0.1117, device='cuda:0')\n",
            "tensor(0.1117, device='cuda:0')\n",
            "tensor(0.1117, device='cuda:0')\n",
            "tensor(0.1117, device='cuda:0')\n",
            "tensor(0.1117, device='cuda:0')\n",
            "tensor(0.1117, device='cuda:0')\n",
            "tensor(0.1117, device='cuda:0')\n",
            "tensor(0.1117, device='cuda:0')\n",
            "tensor(0.1117, device='cuda:0')\n",
            "tensor(0.1117, device='cuda:0')\n",
            "tensor(0.1117, device='cuda:0')\n",
            "tensor(0.1117, device='cuda:0')\n",
            "tensor(0.1117, device='cuda:0')\n",
            "tensor(0.1117, device='cuda:0')\n",
            "tensor(0.1117, device='cuda:0')\n",
            "tensor(0.1117, device='cuda:0')\n",
            "tensor(0.1117, device='cuda:0')\n",
            "tensor(0.1117, device='cuda:0')\n",
            "tensor(0.1117, device='cuda:0')\n",
            "tensor(0.1117, device='cuda:0')\n",
            "tensor(0.1117, device='cuda:0')\n",
            "tensor(0.1117, device='cuda:0')\n",
            "tensor(0.1117, device='cuda:0')\n",
            "tensor(0.1117, device='cuda:0')\n",
            "tensor(0.1117, device='cuda:0')\n",
            "tensor(0.1117, device='cuda:0')\n",
            "tensor(0.1117, device='cuda:0')\n",
            "tensor(0.1117, device='cuda:0')\n",
            "tensor(0.1117, device='cuda:0')\n",
            "tensor(0.1117, device='cuda:0')\n",
            "tensor(0.1117, device='cuda:0')\n",
            "tensor(0.1117, device='cuda:0')\n",
            "tensor(0.1117, device='cuda:0')\n",
            "tensor(0.1117, device='cuda:0')\n",
            "tensor(0.1117, device='cuda:0')\n",
            "tensor(0.1117, device='cuda:0')\n",
            "tensor(0.1117, device='cuda:0')\n",
            "tensor(0.1117, device='cuda:0')\n",
            "tensor(0.1117, device='cuda:0')\n",
            "tensor(0.1117, device='cuda:0')\n",
            "tensor(0.1117, device='cuda:0')\n",
            "tensor(0.1117, device='cuda:0')\n",
            "tensor(0.1117, device='cuda:0')\n",
            "tensor(0.1117, device='cuda:0')\n",
            "tensor(0.1117, device='cuda:0')\n",
            "tensor(0.1117, device='cuda:0')\n",
            "tensor(0.1117, device='cuda:0')\n",
            "tensor(0.1117, device='cuda:0')\n",
            "tensor(0.1117, device='cuda:0')\n",
            "tensor(0.1117, device='cuda:0')\n",
            "tensor(0.1117, device='cuda:0')\n",
            "tensor(0.1117, device='cuda:0')\n",
            "tensor(0.1117, device='cuda:0')\n",
            "tensor(0.1117, device='cuda:0')\n",
            "tensor(0.1117, device='cuda:0')\n",
            "tensor(0.1117, device='cuda:0')\n",
            "tensor(0.1117, device='cuda:0')\n",
            "tensor(0.1117, device='cuda:0')\n",
            "tensor(0.1117, device='cuda:0')\n",
            "tensor(0.1117, device='cuda:0')\n",
            "tensor(0.1117, device='cuda:0')\n",
            "tensor(0.1117, device='cuda:0')\n",
            "tensor(0.1117, device='cuda:0')\n",
            "tensor(0.1117, device='cuda:0')\n",
            "tensor(0.1117, device='cuda:0')\n",
            "tensor(0.1117, device='cuda:0')\n",
            "tensor(0.1117, device='cuda:0')\n",
            "tensor(0.1117, device='cuda:0')\n",
            "tensor(0.1117, device='cuda:0')\n",
            "tensor(0.1117, device='cuda:0')\n",
            "tensor(0.1117, device='cuda:0')\n",
            "tensor(0.1117, device='cuda:0')\n",
            "tensor(0.1117, device='cuda:0')\n",
            "tensor(0.1117, device='cuda:0')\n",
            "tensor(0.1117, device='cuda:0')\n",
            "tensor(0.1117, device='cuda:0')\n",
            "tensor(0.1117, device='cuda:0')\n",
            "tensor(0.1117, device='cuda:0')\n",
            "tensor(0.1117, device='cuda:0')\n",
            "tensor(0.1117, device='cuda:0')\n",
            "tensor(0.1117, device='cuda:0')\n",
            "tensor(0.1117, device='cuda:0')\n",
            "tensor(0.1117, device='cuda:0')\n",
            "tensor(0.1117, device='cuda:0')\n",
            "tensor(0.1117, device='cuda:0')\n",
            "tensor(0.1117, device='cuda:0')\n",
            "tensor(0.1117, device='cuda:0')\n",
            "tensor(0.1117, device='cuda:0')\n",
            "tensor(0.1117, device='cuda:0')\n",
            "tensor(0.1117, device='cuda:0')\n",
            "tensor(0.1117, device='cuda:0')\n",
            "tensor(0.1117, device='cuda:0')\n",
            "tensor(0.1117, device='cuda:0')\n",
            "tensor(0.1117, device='cuda:0')\n",
            "tensor(0.1117, device='cuda:0')\n",
            "tensor(0.1117, device='cuda:0')\n",
            "tensor(0.1117, device='cuda:0')\n",
            "tensor(0.1117, device='cuda:0')\n",
            "tensor(0.1117, device='cuda:0')\n",
            "tensor(0.1117, device='cuda:0')\n",
            "tensor(0.1117, device='cuda:0')\n",
            "tensor(0.1117, device='cuda:0')\n",
            "tensor(0.1117, device='cuda:0')\n",
            "tensor(0.1117, device='cuda:0')\n",
            "tensor(0.1117, device='cuda:0')\n",
            "tensor(0.1117, device='cuda:0')\n",
            "tensor(0.1117, device='cuda:0')\n",
            "tensor(0.1117, device='cuda:0')\n",
            "tensor(0.1117, device='cuda:0')\n",
            "tensor(0.1117, device='cuda:0')\n",
            "tensor(0.1117, device='cuda:0')\n",
            "tensor(0.1117, device='cuda:0')\n",
            "tensor(0.1117, device='cuda:0')\n",
            "tensor(0.1117, device='cuda:0')\n",
            "tensor(0.1117, device='cuda:0')\n",
            "tensor(0.1117, device='cuda:0')\n",
            "tensor(0.1117, device='cuda:0')\n",
            "tensor(0.1117, device='cuda:0')\n",
            "tensor(0.1117, device='cuda:0')\n",
            "tensor(0.1117, device='cuda:0')\n",
            "tensor(0.1117, device='cuda:0')\n",
            "tensor(0.1117, device='cuda:0')\n",
            "tensor(0.1117, device='cuda:0')\n",
            "tensor(0.1117, device='cuda:0')\n",
            "tensor(0.1117, device='cuda:0')\n",
            "tensor(0.1117, device='cuda:0')\n",
            "tensor(0.1117, device='cuda:0')\n",
            "tensor(0.1117, device='cuda:0')\n",
            "tensor(0.1117, device='cuda:0')\n",
            "tensor(0.1117, device='cuda:0')\n",
            "tensor(0.1117, device='cuda:0')\n",
            "tensor(0.1117, device='cuda:0')\n",
            "tensor(0.1117, device='cuda:0')\n",
            "tensor(0.1117, device='cuda:0')\n",
            "tensor(0.1117, device='cuda:0')\n",
            "tensor(0.1117, device='cuda:0')\n",
            "tensor(0.1117, device='cuda:0')\n",
            "tensor(0.1117, device='cuda:0')\n",
            "tensor(0.1117, device='cuda:0')\n",
            "tensor(0.1117, device='cuda:0')\n",
            "tensor(0.1117, device='cuda:0')\n",
            "tensor(0.1117, device='cuda:0')\n",
            "tensor(0.1117, device='cuda:0')\n",
            "tensor(0.1117, device='cuda:0')\n",
            "tensor(0.1117, device='cuda:0')\n",
            "tensor(0.1117, device='cuda:0')\n",
            "tensor(0.1117, device='cuda:0')\n",
            "tensor(0.1117, device='cuda:0')\n",
            "tensor(0.1117, device='cuda:0')\n",
            "tensor(0.1117, device='cuda:0')\n",
            "tensor(0.1117, device='cuda:0')\n",
            "tensor(0.1117, device='cuda:0')\n",
            "tensor(0.1117, device='cuda:0')\n",
            "tensor(0.1117, device='cuda:0')\n",
            "tensor(0.1117, device='cuda:0')\n",
            "tensor(0.1117, device='cuda:0')\n",
            "tensor(0.1117, device='cuda:0')\n",
            "tensor(0.1117, device='cuda:0')\n",
            "tensor(0.1117, device='cuda:0')\n",
            "tensor(0.1117, device='cuda:0')\n",
            "tensor(0.1117, device='cuda:0')\n",
            "tensor(0.1117, device='cuda:0')\n",
            "tensor(0.1117, device='cuda:0')\n",
            "tensor(0.1117, device='cuda:0')\n",
            "tensor(0.1117, device='cuda:0')\n",
            "tensor(0.1117, device='cuda:0')\n"
          ]
        }
      ],
      "source": [
        "batch_size = 100\n",
        "\n",
        "test_accuracy_history = []\n",
        "test_loss_history = []\n",
        "\n",
        "X_test = X_test.to(device)\n",
        "y_test = y_test.to(device)\n",
        "\n",
        "for epoch in range(500):\n",
        "    order = np.random.permutation(len(X_train))\n",
        "    \n",
        "    for start_index in range(0, len(X_train), batch_size):\n",
        "        optimizer.zero_grad()\n",
        "        \n",
        "        batch_indexes = order[start_index:start_index+batch_size]\n",
        "        \n",
        "        X_batch = X_train[batch_indexes].to(device)\n",
        "        y_batch = y_train[batch_indexes].to(device)\n",
        "        \n",
        "        preds = mnist_net.forward(X_batch) \n",
        "        \n",
        "        loss_value = loss(preds, y_batch)\n",
        "        loss_value.backward()\n",
        "        \n",
        "        optimizer.step()\n",
        "\n",
        "    test_preds = mnist_net.forward(X_test)\n",
        "    test_loss_history.append(loss(test_preds, y_test))\n",
        "    \n",
        "    accuracy = (test_preds.argmax(dim=1) == y_test).float().mean()\n",
        "    test_accuracy_history.append(accuracy)\n",
        "    print(accuracy)"
      ]
    },
    {
      "cell_type": "code",
      "source": [
        "for i in range(len(test_accuracy_history)):\n",
        "  test_accuracy_history[i] = test_accuracy_history[i].cpu()"
      ],
      "metadata": {
        "id": "fcAvrmrp-jmd"
      },
      "execution_count": 96,
      "outputs": []
    },
    {
      "cell_type": "code",
      "execution_count": 97,
      "metadata": {
        "id": "-nu1318JpS3y"
      },
      "outputs": [],
      "source": [
        "for i in range(len(test_loss_history)):\n",
        "  test_loss_history[i] = test_loss_history[i].cpu().detach().numpy()"
      ]
    },
    {
      "cell_type": "code",
      "execution_count": 98,
      "metadata": {
        "colab": {
          "base_uri": "https://localhost:8080/",
          "height": 430
        },
        "id": "kLnumX3SpS3u",
        "outputId": "b7c563ba-a5a0-461f-f2ad-2833b0f143a0"
      },
      "outputs": [
        {
          "output_type": "display_data",
          "data": {
            "text/plain": [
              "<Figure size 640x480 with 1 Axes>"
            ],
            "image/png": "[encoded data removed]"
          },
          "metadata": {}
        }
      ],
      "source": [
        "plt.plot(test_loss_history);"
      ]
    },
    {
      "cell_type": "code",
      "source": [
        "plt.plot(test_accuracy_history)"
      ],
      "metadata": {
        "id": "jkS7PsPGBCgc",
        "outputId": "2203941e-edda-44d4-ea56-432cbacac577",
        "colab": {
          "base_uri": "https://localhost:8080/",
          "height": 448
        }
      },
      "execution_count": 99,
      "outputs": [
        {
          "output_type": "execute_result",
          "data": {
            "text/plain": [
              "[<matplotlib.lines.Line2D at 0x7feaf47cd4e0>]"
            ]
          },
          "metadata": {},
          "execution_count": 99
        },
        {
          "output_type": "display_data",
          "data": {
            "text/plain": [
              "<Figure size 640x480 with 1 Axes>"
            ],
            "image/png": "[encoded data removed]"
          },
          "metadata": {}
        }
      ]
    }
  ],
  "metadata": {
    "accelerator": "GPU",
    "colab": {
      "name": "Lesson 5 Digits Recognition Video.ipynb",
      "provenance": []
    },
    "kernelspec": {
      "display_name": "Python 3",
      "language": "python",
      "name": "python3"
    },
    "language_info": {
      "codemirror_mode": {
        "name": "ipython",
        "version": 3
      },
      "file_extension": ".py",
      "mimetype": "text/x-python",
      "name": "python",
      "nbconvert_exporter": "python",
      "pygments_lexer": "ipython3",
      "version": "3.6.8"
    }
  },
  "nbformat": 4,
  "nbformat_minor": 0
}